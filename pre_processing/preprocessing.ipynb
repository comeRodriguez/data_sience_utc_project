{
 "cells": [
  {
   "cell_type": "code",
   "execution_count": 1,
   "id": "8918106b",
   "metadata": {
    "ExecuteTime": {
     "end_time": "2022-04-27T06:05:46.192194Z",
     "start_time": "2022-04-27T06:05:45.134335Z"
    }
   },
   "outputs": [],
   "source": [
    "import pandas as pd"
   ]
  },
  {
   "cell_type": "code",
   "execution_count": 18,
   "id": "614f003f",
   "metadata": {
    "ExecuteTime": {
     "end_time": "2022-04-27T06:07:25.214750Z",
     "start_time": "2022-04-27T06:07:25.049774Z"
    }
   },
   "outputs": [],
   "source": [
    "df = pd.read_csv(\"../data/survey.csv\")"
   ]
  },
  {
   "cell_type": "markdown",
   "id": "418e86ba",
   "metadata": {},
   "source": [
    "# Pre process how old are you (already done)"
   ]
  },
  {
   "cell_type": "code",
   "execution_count": 19,
   "id": "7b7b804f",
   "metadata": {
    "ExecuteTime": {
     "end_time": "2022-04-27T06:07:27.316618Z",
     "start_time": "2022-04-27T06:07:27.310495Z"
    }
   },
   "outputs": [
    {
     "data": {
      "text/plain": [
       "dtype('O')"
      ]
     },
     "execution_count": 19,
     "metadata": {},
     "output_type": "execute_result"
    }
   ],
   "source": [
    "df[\"how_old_are_you\"].dtype"
   ]
  },
  {
   "cell_type": "code",
   "execution_count": 5,
   "id": "97dd0eec",
   "metadata": {
    "ExecuteTime": {
     "end_time": "2022-04-27T06:05:58.529816Z",
     "start_time": "2022-04-27T06:05:58.517276Z"
    }
   },
   "outputs": [
    {
     "data": {
      "text/plain": [
       "7"
      ]
     },
     "execution_count": 5,
     "metadata": {},
     "output_type": "execute_result"
    }
   ],
   "source": [
    "df[\"how_old_are_you\"].nunique()"
   ]
  },
  {
   "cell_type": "code",
   "execution_count": 15,
   "id": "b5918c40",
   "metadata": {
    "ExecuteTime": {
     "end_time": "2022-04-27T06:07:03.001047Z",
     "start_time": "2022-04-27T06:07:02.988262Z"
    }
   },
   "outputs": [],
   "source": [
    "df[\"how_old_are_you\"] = pd.Categorical(\n",
    "    df[\"how_old_are_you\"],\n",
    "    ordered=True,\n",
    "    categories=[\n",
    "        \"under 18\",\n",
    "        \"18-24\",\n",
    "        \"25-34\",\n",
    "        \"35-44\",\n",
    "        \"45-54\",\n",
    "        \"55-64\",\n",
    "        \"65 or over\"\n",
    "    ]\n",
    ")"
   ]
  },
  {
   "cell_type": "code",
   "execution_count": 16,
   "id": "473cf2e0",
   "metadata": {
    "ExecuteTime": {
     "end_time": "2022-04-27T06:07:03.994269Z",
     "start_time": "2022-04-27T06:07:03.987697Z"
    }
   },
   "outputs": [
    {
     "data": {
      "text/plain": [
       "CategoricalDtype(categories=['under 18', '18-24', '25-34', '35-44', '45-54', '55-64',\n",
       "                  '65 or over'],\n",
       ", ordered=True)"
      ]
     },
     "execution_count": 16,
     "metadata": {},
     "output_type": "execute_result"
    }
   ],
   "source": [
    "df[\"how_old_are_you\"].dtype"
   ]
  },
  {
   "cell_type": "code",
   "execution_count": 17,
   "id": "b4b5925d",
   "metadata": {
    "ExecuteTime": {
     "end_time": "2022-04-27T06:07:19.511848Z",
     "start_time": "2022-04-27T06:07:19.060435Z"
    }
   },
   "outputs": [],
   "source": [
    "df.to_csv(\"../data/survey.csv\")"
   ]
  },
  {
   "cell_type": "markdown",
   "id": "a58c3446",
   "metadata": {},
   "source": [
    "# Pre process country (already done)"
   ]
  },
  {
   "cell_type": "code",
   "execution_count": 8,
   "id": "5ce3f513",
   "metadata": {
    "ExecuteTime": {
     "end_time": "2022-04-27T06:06:16.277826Z",
     "start_time": "2022-04-27T06:06:16.255583Z"
    }
   },
   "outputs": [],
   "source": [
    "def harmonize_usa_name(x):\n",
    "    particular_name = [\n",
    "        \"US\", \"usa\", \"us\", \"America\", \"US of A\", \"United Status\", \"The US\",\n",
    "        \"🇺🇸\", \"USaa\", \"USA, but for foreign gov't\", \"I work for a UAE-based organization, though I am personally in the US.\",\n",
    "        \"USA tomorrow\", \"USD\",\n",
    "        \"We don't get raises, we get quarterly bonuses, but they periodically asses income in the area you work, so I got a raise because a 3rd party assessment showed I was paid too little for the area we were located\",\n",
    "        \"Worldwide (based in US but short term trips aroudn the world)\",\n",
    "        \"U.S.A.\", \"USS\", \"U.S\", \"U.S.A\", \"bonus based on meeting yearly goals set w/ my supervisor\",\n",
    "        \"USA (company is based in a US territory, I work remote)\", \"USAB\", \"US govt employee overseas, country withheld\",\n",
    "        \"Usa\", \"United states\", \"ISA\", \"United State\", \"Us\", \"United Stated\", \"u.s.\",\n",
    "        \"UNITED STATES\", \"united States\", \"Contracts\", \"United Statws\", \"Unites States\", \"U. S.\",\n",
    "        \"United Sates\", \"Uniited States\", \"Unted States\", \"United Stattes\", \"United Statea\",\n",
    "        \"United Satees\", \"UNited States\", \"Uniyed states\", \"Uniyes States\", \"U.A.\", \"United Statees\",\n",
    "        \"Currently finance\", \"UXZ\", \"U.s.\", \"U.s.a.\", \"Uniteed States\", \"Hartford\", \"United Stares\",\n",
    "        \"I.S.\", \"Unites states\", \"Unite States\", \"IS\", \"UnitedStates\", \"United statew\", \"International\",\n",
    "        \"I earn commission on sales. If I meet quota, I'm guaranteed another 16k min. Last year i earned an additional 27k. It's not uncommon for people in my space to earn 100k+ after commission.\",\n",
    "        \"United Statues\", \"Untied States\", \"Unitied States\", \"United Sttes\", \"united stated\",\n",
    "        \"I was brought in on this salary to help with the EHR and very quickly was promoted to current position but compensation was not altered.\",\n",
    "        \"Uniter Statez\", \"U. S\", \"United Stateds\", \"U. S\", \"San Francisco\", \"Usat\", \"Unitef Stated\", \"UA\", \"United STates\",\n",
    "        \"uSA\", \"america\", \"Y\", \"United y\", \"California\", \"uS\", \"United Statss\", \"United states of america\",\n",
    "        \"UsA\", \"United  States\"\n",
    "    ]\n",
    "    other_particular_name = {\n",
    "        \"I am located in Canada but I work for a company in the US\": \"Canada\",\n",
    "        \"Canada and USA\": \"Canada\",\n",
    "        \"Austria, but I work remotely for a Dutch/British company\": \"Austria\",\n",
    "        \"Japan, US Gov position\": \"Japan\",\n",
    "        \"I work for an US based company but I'm from Argentina.\": \"Argentina\",\n",
    "        \"australia\": \"Australia\",\n",
    "        \"Australi\": \"Australia\",\n",
    "        \"Australian\": \"Australia\",\n",
    "        \"From Romania, but for an US based company\": \"Romania\",\n",
    "        \"UK for U.S. company\": \"United Kingdom\", \n",
    "        \"UK\": \"United Kingdom\",\n",
    "        \"The Netherlands\": \"Netherlands\",\n",
    "        \"England\": \"United Kingdom\",\n",
    "        \"finland\": \"Finland\",\n",
    "        \"Uk\": \"United Kingdom\",\n",
    "        \"canada\": \"Canada\",\n",
    "        \"Scotland\": \"United Kingdom\",\n",
    "        \"Great Britain\": \"United Kingdom\",\n",
    "        \"netherlands\": \"Netherlands\",\n",
    "        \"Northern Ireland\": \"United Kingdom\",\n",
    "        \"England/UK\": \"United Kingdom\",\n",
    "        \"England, UK.\": \"United Kingdom\",\n",
    "        \"Britain\": \"United Kingdom\",\n",
    "        \"Canada, Ottawa, ontario\": \"Canada\",\n",
    "        \"Global\": \"Canada\",\n",
    "        \"FRANCE\": \"France\",\n",
    "        \"United Kingdom (England)\": \"united Kingdom\",\n",
    "        \"CANADA\": \"Canada\",\n",
    "        \"Canadw\": \"Canada\",\n",
    "        \"ireland\": \"Ireland\",\n",
    "        \"germany\": \"Germany\",\n",
    "        \"United Kingdom.\": \"United Kingdom\",\n",
    "        \"United kingdom\": \"United Kingdom\",\n",
    "        \"Can\": \"Canada\",\n",
    "        \"united Kingdom\": \"United Kingdom\",\n",
    "        \"Czech republic\": \"Czech Republic\",\n",
    "        \"Czechia\": \"Czech Republic\",\n",
    "        \"U.K.\": \"United Kingdom\",\n",
    "        \"United Kindom\": \"United Kingdom\",\n",
    "        \"czech republic\": \"Czech Republic\",\n",
    "        \"England, UK\": \"United Kingdom\",\n",
    "        \"Canda\": \"Canada\",\n",
    "        \"Catalonia\": \"Spain\",\n",
    "        \"$2,175.84/year is deducted for benefits\": \"Canada\",\n",
    "        \"uk\": \"United Kingdom\",\n",
    "        \"Italy (South)\": \"Italy\",\n",
    "        \"Jersey, Channel islands\": \"United Kingdom\",\n",
    "        \"New Zealand Aotearoa\": \"New Zealand\",\n",
    "        \"Csnada\": \"Canada\",\n",
    "        \"New zealand\": \"New Zealand\",\n",
    "        \"Mainland China\": \"China\",\n",
    "        \"UK (Northern Ireland)\": \"United Kingdom\",\n",
    "        \"NZ\": \"New Zealand\",\n",
    "        \"Canad\": \"Canada\",\n",
    "        \"United Kingdomk\": \"United Kingdom\",\n",
    "        \"Cote d'Ivoire\": \"Ivory Coast\",\n",
    "        \"united kingdom\": \"United Kingdom\",\n",
    "        \"Wales (United Kingdom)\": \"United Kingdom\",\n",
    "        \"England, Gb\": \"United Kingdom\",\n",
    "        \"spain\": \"Spain\",\n",
    "        \"Danmark\": \"Denmark\",\n",
    "        \"U.K. (northern England)\": \"United Kingdom\",\n",
    "        \"U.K\": \"United Kingdom\",\n",
    "        \"NL\": \"Netherlands\",\n",
    "        \"the Netherlands\": \"Netherlands\",\n",
    "        \"Nederland\": \"Netherlands\",\n",
    "        \"England, United Kingdom\": \"United Kingdom\",\n",
    "        \"Englang\": \"United Kingdom\",\n",
    "        \"UAE\": \"United Arab Emirates\",\n",
    "        \"The Bahamas\": \"Bahamas\",\n",
    "        \"Wales\": \"United Kingdom\",\n",
    "        \"denmark\": \"Denmark\",\n",
    "        \"UK (England)\": \"United Kingdom\",\n",
    "        \"UK, remote\": \"United Kingdom\",\n",
    "        \"Scotland, UK\": \"United Kingdom\",\n",
    "        \"Remote (philippines)\": \"Philippines\",\n",
    "        \"Unites kingdom\": \"United Kingdom\",\n",
    "        \"South africa\": \"South Africa\",\n",
    "        \"england\": \"United Kingdom\",\n",
    "        \"SWITZERLAND\": \"Switzerland\",\n",
    "        \"Congo\": \"Democratic Republic Of Congo\",\n",
    "        \"Brasil\": \"Brazil\",\n",
    "        \"n/a (remote from wherever I want)\": \"France\",\n",
    "        \"singapore\": \"Singapore\",\n",
    "        \"new zealand\": \"New Zealand\",\n",
    "        \"Wales, UK\": \"United Kingdom\",\n",
    "        \"The netherlands\": \"Netherlands\",\n",
    "        \"switzerland\": \"Switzerland\",\n",
    "        \"From New Zealand but on projects across APAC\": \"New Zealand\",\n",
    "        \"Wales (UK)\": \"United Kingdom\",\n",
    "        \"Isle of Man\": \"United Kingdom\",\n",
    "        \"Northern Ireland, United Kingdom\": \"United Kingdom\",\n",
    "        \"europe\": \"Czech Republic\",\n",
    "        \"UK, but for globally fully remote company\": \"United Kingdom\",\n",
    "        \"México\": \"Mexico\",\n",
    "        \"the netherlands\": \"Netherlands\",\n",
    "        \"japan\": \"Japan\",\n",
    "        \"ARGENTINA BUT MY ORG IS IN THAILAND\": \"Argentina\",\n",
    "        \"france\": \"France\"\n",
    "    }\n",
    "    if x in particular_name :\n",
    "        return \"USA\"\n",
    "    elif x in other_particular_name.keys():\n",
    "        return other_particular_name[x]\n",
    "    elif (\"U.S\" in x and len(x) <=5):\n",
    "        return \"USA\"\n",
    "    elif \"united states\" in x or \"United States\" in x:\n",
    "        return \"USA\"\n",
    "    elif \"United\" in x and \"America\" in x:\n",
    "        return \"USA\"\n",
    "    elif \"USA--\" in x:\n",
    "        return \"USA\"\n",
    "    elif x==\"I am located in Canada but I work for a company in the US\":\n",
    "        return \"Canada\"\n",
    "    else:\n",
    "        return x"
   ]
  },
  {
   "cell_type": "code",
   "execution_count": 9,
   "id": "0fbe93ea",
   "metadata": {
    "ExecuteTime": {
     "end_time": "2022-04-27T06:06:18.375233Z",
     "start_time": "2022-04-27T06:06:18.370972Z"
    }
   },
   "outputs": [],
   "source": [
    "def change_remote(x, y):\n",
    "    if x == \"Remote\" and y == \"GBP\":\n",
    "        return \"United Kingdom\"\n",
    "    elif x == \"Remote\" and y == \"USD\":\n",
    "        return \"USA\"\n",
    "    else:\n",
    "        return x"
   ]
  },
  {
   "cell_type": "code",
   "execution_count": 94,
   "id": "b9b716f1",
   "metadata": {
    "ExecuteTime": {
     "end_time": "2022-04-03T22:13:55.829657Z",
     "start_time": "2022-04-03T22:13:55.694995Z"
    }
   },
   "outputs": [],
   "source": [
    "df[\"country\"] = df[\"country\"].apply(harmonize_usa_name)"
   ]
  },
  {
   "cell_type": "code",
   "execution_count": 108,
   "id": "40301657",
   "metadata": {
    "ExecuteTime": {
     "end_time": "2022-04-03T22:20:33.332629Z",
     "start_time": "2022-04-03T22:20:33.037420Z"
    }
   },
   "outputs": [],
   "source": [
    "df[\"country\"] = df.apply(lambda x: change_remote(x[\"country\"], x[\"currency\"]), axis=1)"
   ]
  },
  {
   "cell_type": "code",
   "execution_count": 10,
   "id": "a57a9ee8",
   "metadata": {
    "ExecuteTime": {
     "end_time": "2022-04-27T06:06:20.555373Z",
     "start_time": "2022-04-27T06:06:20.546307Z"
    }
   },
   "outputs": [
    {
     "data": {
      "text/plain": [
       "93"
      ]
     },
     "execution_count": 10,
     "metadata": {},
     "output_type": "execute_result"
    }
   ],
   "source": [
    "df[\"country\"].nunique()"
   ]
  },
  {
   "cell_type": "code",
   "execution_count": 11,
   "id": "f1883a78",
   "metadata": {
    "ExecuteTime": {
     "end_time": "2022-04-27T06:06:22.750831Z",
     "start_time": "2022-04-27T06:06:22.739716Z"
    }
   },
   "outputs": [
    {
     "data": {
      "text/plain": [
       "array(['USA', 'United Kingdom', 'Canada', 'Netherlands', 'Australia',\n",
       "       'Spain', 'Finland', 'France', 'Germany', 'Ireland', 'India',\n",
       "       'Argentina', 'Denmark', 'Switzerland', 'Bermuda', 'Malaysia',\n",
       "       'Mexico', 'South Africa', 'Belgium', 'Sweden', 'Hong Kong',\n",
       "       'Kuwait', 'Norway', 'Sri lanka', 'Greece', 'Japan', 'Austria',\n",
       "       'Brazil', 'Hungary', 'Luxembourg', 'Colombia', 'New Zealand',\n",
       "       'Trinidad and Tobago', 'Cayman Islands', 'Czech Republic',\n",
       "       'Latvia', 'Puerto Rico', 'Rwanda', 'United Arab Emirates',\n",
       "       'Bangladesh', 'Romania', 'Serbia', 'Philippines', 'Russia',\n",
       "       'Poland', 'Turkey', 'Italy', 'China', 'Virginia', 'Afghanistan',\n",
       "       'Israel', 'Taiwan', 'Cambodia', 'Vietnam', 'Singapore',\n",
       "       'South Korea', 'Thailand', 'Lithuania', 'Eritrea', 'Indonesia',\n",
       "       'Cuba', 'Slovenia', 'Ivory Coast', 'Somalia', 'Sri Lanka',\n",
       "       'Slovakia', 'Portugal', 'Sierra Leone', 'Bahamas', 'Costa Rica',\n",
       "       'Chile', 'Qatar', 'Nigeria', 'Panamá',\n",
       "       'Democratic Republic Of Congo', 'Uruguay', 'Pakistan', 'Uganda',\n",
       "       'Malta', 'Saudi Arabia', 'Bulgaria', 'Estonia', 'Morocco',\n",
       "       'Africa', 'Ecuador', 'Zimbabwe', 'Ghana', 'Luxemburg', 'Croatia',\n",
       "       'Ukraine', 'Jamaica', 'Kenya', 'Jordan'], dtype=object)"
      ]
     },
     "execution_count": 11,
     "metadata": {},
     "output_type": "execute_result"
    }
   ],
   "source": [
    "df[\"country\"].unique()"
   ]
  },
  {
   "cell_type": "code",
   "execution_count": 12,
   "id": "2bcd0d46",
   "metadata": {
    "ExecuteTime": {
     "end_time": "2022-04-27T06:06:31.722800Z",
     "start_time": "2022-04-27T06:06:31.347629Z"
    }
   },
   "outputs": [],
   "source": [
    "df.to_csv(\"../data/survey.csv\")"
   ]
  },
  {
   "cell_type": "markdown",
   "id": "88878804",
   "metadata": {},
   "source": [
    "# Preprocessing industry"
   ]
  },
  {
   "cell_type": "code",
   "execution_count": 21,
   "id": "3da96880",
   "metadata": {
    "ExecuteTime": {
     "end_time": "2022-04-27T06:09:05.942832Z",
     "start_time": "2022-04-27T06:09:05.932251Z"
    }
   },
   "outputs": [
    {
     "data": {
      "text/plain": [
       "21"
      ]
     },
     "execution_count": 21,
     "metadata": {},
     "output_type": "execute_result"
    }
   ],
   "source": [
    "df[\"industry cluster tf_idf_bigrams\"].nunique()"
   ]
  },
  {
   "cell_type": "markdown",
   "id": "c1a18aea",
   "metadata": {},
   "source": [
    "# Preprocess gender (already done)"
   ]
  },
  {
   "cell_type": "code",
   "execution_count": 14,
   "id": "34ec4f3e",
   "metadata": {
    "ExecuteTime": {
     "end_time": "2022-04-15T14:44:12.314112Z",
     "start_time": "2022-04-15T14:44:12.307033Z"
    }
   },
   "outputs": [
    {
     "data": {
      "text/plain": [
       "4"
      ]
     },
     "execution_count": 14,
     "metadata": {},
     "output_type": "execute_result"
    }
   ],
   "source": [
    "df[\"gender\"].nunique()"
   ]
  },
  {
   "cell_type": "code",
   "execution_count": 12,
   "id": "f749c2c4",
   "metadata": {
    "ExecuteTime": {
     "end_time": "2022-04-15T14:44:07.439189Z",
     "start_time": "2022-04-15T14:44:07.427663Z"
    }
   },
   "outputs": [],
   "source": [
    "df[\"gender\"] = df[\"gender\"].fillna(\"Prefer not to answer\")\n",
    "df[\"gender\"] = df[\"gender\"].apply(lambda x: \"Prefer not to answer\" if x == \"Other or prefer not to answer\" else x)"
   ]
  },
  {
   "cell_type": "code",
   "execution_count": 13,
   "id": "e2e043c9",
   "metadata": {
    "ExecuteTime": {
     "end_time": "2022-04-15T14:44:07.848268Z",
     "start_time": "2022-04-15T14:44:07.839614Z"
    }
   },
   "outputs": [
    {
     "data": {
      "text/plain": [
       "array(['Woman', 'Non-binary', 'Man', 'Prefer not to answer'], dtype=object)"
      ]
     },
     "execution_count": 13,
     "metadata": {},
     "output_type": "execute_result"
    }
   ],
   "source": [
    "df[\"gender\"].unique()"
   ]
  },
  {
   "cell_type": "code",
   "execution_count": 36,
   "id": "3a5c651a",
   "metadata": {
    "ExecuteTime": {
     "end_time": "2022-04-15T14:56:07.880661Z",
     "start_time": "2022-04-15T14:56:07.874218Z"
    }
   },
   "outputs": [],
   "source": [
    "df[\"gender\"] = pd.Categorical(df[\"gender\"], ordered=False)"
   ]
  },
  {
   "cell_type": "code",
   "execution_count": 37,
   "id": "a8c64e82",
   "metadata": {
    "ExecuteTime": {
     "end_time": "2022-04-15T14:56:08.637590Z",
     "start_time": "2022-04-15T14:56:08.627418Z"
    }
   },
   "outputs": [
    {
     "data": {
      "text/plain": [
       "['Woman', 'Non-binary', 'Man', 'Prefer not to answer']\n",
       "Categories (4, object): ['Man', 'Non-binary', 'Prefer not to answer', 'Woman']"
      ]
     },
     "execution_count": 37,
     "metadata": {},
     "output_type": "execute_result"
    }
   ],
   "source": [
    "df[\"gender\"].unique()"
   ]
  },
  {
   "cell_type": "code",
   "execution_count": 38,
   "id": "81897237",
   "metadata": {
    "ExecuteTime": {
     "end_time": "2022-04-15T14:56:11.327068Z",
     "start_time": "2022-04-15T14:56:11.096667Z"
    }
   },
   "outputs": [],
   "source": [
    "df.to_csv(\"survey.csv\")"
   ]
  },
  {
   "cell_type": "markdown",
   "id": "cdea4eb2",
   "metadata": {},
   "source": [
    "# Preprocess race"
   ]
  },
  {
   "cell_type": "code",
   "execution_count": 44,
   "id": "ddf78f1f",
   "metadata": {
    "ExecuteTime": {
     "end_time": "2022-04-27T06:18:46.300027Z",
     "start_time": "2022-04-27T06:18:46.292293Z"
    }
   },
   "outputs": [
    {
     "data": {
      "text/plain": [
       "6"
      ]
     },
     "execution_count": 44,
     "metadata": {},
     "output_type": "execute_result"
    }
   ],
   "source": [
    "df[\"race\"].nunique()"
   ]
  },
  {
   "cell_type": "code",
   "execution_count": 23,
   "id": "1691141d",
   "metadata": {
    "ExecuteTime": {
     "end_time": "2022-04-27T06:11:05.946621Z",
     "start_time": "2022-04-27T06:11:05.931626Z"
    }
   },
   "outputs": [],
   "source": [
    "df[\"race\"].fillna(\"Prefer not to answer\", inplace=True)"
   ]
  },
  {
   "cell_type": "code",
   "execution_count": 24,
   "id": "d466e957",
   "metadata": {
    "ExecuteTime": {
     "end_time": "2022-04-27T06:11:07.129345Z",
     "start_time": "2022-04-27T06:11:07.116399Z"
    }
   },
   "outputs": [],
   "source": [
    "df[\"race\"] = df[\"race\"].apply(lambda x: \"Prefer not to answer\" if \"prefer not to answer\" in x else x)"
   ]
  },
  {
   "cell_type": "code",
   "execution_count": 43,
   "id": "384e40ea",
   "metadata": {
    "ExecuteTime": {
     "end_time": "2022-04-27T06:18:44.008360Z",
     "start_time": "2022-04-27T06:18:43.958841Z"
    }
   },
   "outputs": [],
   "source": [
    "df[\"race\"].replace(\"Asian or Asian American\", \"Asian\", inplace=True)\n",
    "df[\"race\"].replace(\"Black or African American\", \"Black\", inplace=True)\n",
    "df[\"race\"].replace(\"Hispanic, Latino, or Spanish origin\", \"Hispanic\", inplace=True)\n",
    "df[\"race\"] = df[\"race\"].apply(lambda x: \"Prefer not to answer\" if \"Black\" in x and \"White\" in x else x)\n",
    "df[\"race\"] = df[\"race\"].apply(lambda x: \"Asian\" if x == \"Asian or Asian American, White\" and len(x.split(\"or \")) == 2 else x)\n",
    "df[\"race\"] = df[\"race\"].apply(lambda x: \"Hispanic\" if x == \"Hispanic, Latino, or Spanish origin, White\" and len(x.split(\"or \")) == 2 else x)\n",
    "df[\"race\"] = df[\"race\"].apply(lambda x: \"Arabic\" if x == \"Middle Eastern or Northern African, White\" or x == \"Middle Eastern or Northern African\" else x)\n",
    "df[\"race\"] = df[\"race\"].apply(lambda x: \"White\" if x == \"Native American or Alaska Native, White\" else x)\n",
    "df[\"race\"] = df[\"race\"].apply(lambda x: \"Prefer not to answer\" if len(x.split(\",\")) >= 2 or len(x.split(\"or \")) >= 2 else x)"
   ]
  },
  {
   "cell_type": "markdown",
   "id": "3c67f8fe",
   "metadata": {},
   "source": [
    "## groupby race to see the number of person"
   ]
  },
  {
   "cell_type": "code",
   "execution_count": 45,
   "id": "7a6d3e49",
   "metadata": {
    "ExecuteTime": {
     "end_time": "2022-04-27T06:18:48.137327Z",
     "start_time": "2022-04-27T06:18:48.123764Z"
    }
   },
   "outputs": [
    {
     "data": {
      "text/html": [
       "<div>\n",
       "<style scoped>\n",
       "    .dataframe tbody tr th:only-of-type {\n",
       "        vertical-align: middle;\n",
       "    }\n",
       "\n",
       "    .dataframe tbody tr th {\n",
       "        vertical-align: top;\n",
       "    }\n",
       "\n",
       "    .dataframe thead th {\n",
       "        text-align: right;\n",
       "    }\n",
       "</style>\n",
       "<table border=\"1\" class=\"dataframe\">\n",
       "  <thead>\n",
       "    <tr style=\"text-align: right;\">\n",
       "      <th></th>\n",
       "      <th>annual_salary</th>\n",
       "    </tr>\n",
       "    <tr>\n",
       "      <th>race</th>\n",
       "      <th></th>\n",
       "    </tr>\n",
       "  </thead>\n",
       "  <tbody>\n",
       "    <tr>\n",
       "      <th>White</th>\n",
       "      <td>21974</td>\n",
       "    </tr>\n",
       "    <tr>\n",
       "      <th>Asian</th>\n",
       "      <td>1544</td>\n",
       "    </tr>\n",
       "    <tr>\n",
       "      <th>Prefer not to answer</th>\n",
       "      <td>1091</td>\n",
       "    </tr>\n",
       "    <tr>\n",
       "      <th>Hispanic</th>\n",
       "      <td>872</td>\n",
       "    </tr>\n",
       "    <tr>\n",
       "      <th>Black</th>\n",
       "      <td>618</td>\n",
       "    </tr>\n",
       "    <tr>\n",
       "      <th>Arabic</th>\n",
       "      <td>133</td>\n",
       "    </tr>\n",
       "  </tbody>\n",
       "</table>\n",
       "</div>"
      ],
      "text/plain": [
       "                      annual_salary\n",
       "race                               \n",
       "White                         21974\n",
       "Asian                          1544\n",
       "Prefer not to answer           1091\n",
       "Hispanic                        872\n",
       "Black                           618\n",
       "Arabic                          133"
      ]
     },
     "execution_count": 45,
     "metadata": {},
     "output_type": "execute_result"
    }
   ],
   "source": [
    "race_groupby = df[[\"annual_salary\", \"race\"]].groupby(\"race\").count().sort_values(\"annual_salary\",ascending=False)\n",
    "race_groupby"
   ]
  },
  {
   "cell_type": "code",
   "execution_count": 62,
   "id": "57cfeb06",
   "metadata": {
    "ExecuteTime": {
     "end_time": "2022-04-15T15:11:28.363904Z",
     "start_time": "2022-04-15T15:11:28.357637Z"
    }
   },
   "outputs": [
    {
     "data": {
      "text/plain": [
       "(36, 1)"
      ]
     },
     "execution_count": 62,
     "metadata": {},
     "output_type": "execute_result"
    }
   ],
   "source": [
    "race_groupby.shape"
   ]
  },
  {
   "cell_type": "code",
   "execution_count": 32,
   "id": "72be869c",
   "metadata": {
    "ExecuteTime": {
     "end_time": "2022-04-27T06:14:49.270830Z",
     "start_time": "2022-04-27T06:14:49.264320Z"
    }
   },
   "outputs": [
    {
     "data": {
      "text/plain": [
       "['Asian or Asian American',\n",
       " ' Hispanic',\n",
       " ' Latino',\n",
       " ' or Spanish origin',\n",
       " ' Native American or Alaska Native',\n",
       " ' White']"
      ]
     },
     "execution_count": 32,
     "metadata": {},
     "output_type": "execute_result"
    }
   ],
   "source": [
    "test = \"Asian or Asian American, Hispanic, Latino, or Spanish origin, Native American or Alaska Native, White\"\n",
    "test.split(\",\")"
   ]
  },
  {
   "cell_type": "code",
   "execution_count": 49,
   "id": "520e9a41",
   "metadata": {
    "ExecuteTime": {
     "end_time": "2022-04-27T06:21:48.948809Z",
     "start_time": "2022-04-27T06:21:48.533785Z"
    }
   },
   "outputs": [],
   "source": [
    "df.to_csv(\"../data/survey.csv\")"
   ]
  },
  {
   "cell_type": "code",
   "execution_count": 48,
   "id": "af21df96",
   "metadata": {
    "ExecuteTime": {
     "end_time": "2022-04-27T06:21:46.315142Z",
     "start_time": "2022-04-27T06:21:46.304891Z"
    }
   },
   "outputs": [],
   "source": [
    "df.drop([\"Unnamed: 0\", \"Unnamed: 0.1\", \"Unnamed: 0.1.1\", \"Unnamed: 0.1.1.1\"], axis=1, inplace=True)"
   ]
  },
  {
   "cell_type": "markdown",
   "id": "2656e0ba",
   "metadata": {},
   "source": [
    "# Preprocess annual_salary based on currency"
   ]
  },
  {
   "cell_type": "markdown",
   "id": "a5e5b807",
   "metadata": {},
   "source": [
    "# Convert some object data type to categorical data type"
   ]
  },
  {
   "cell_type": "code",
   "execution_count": 50,
   "id": "751daeb8",
   "metadata": {
    "ExecuteTime": {
     "end_time": "2022-04-27T06:43:43.408128Z",
     "start_time": "2022-04-27T06:43:43.355866Z"
    }
   },
   "outputs": [],
   "source": [
    "df[\"how_old_are_you\"] = pd.Categorical(\n",
    "    df[\"how_old_are_you\"],\n",
    "    ordered=True,\n",
    "    categories=[\n",
    "        \"under 18\",\n",
    "        \"18-24\",\n",
    "        \"25-34\",\n",
    "        \"35-44\",\n",
    "        \"45-54\",\n",
    "        \"55-64\",\n",
    "        \"65 or over\"\n",
    "    ]\n",
    ")"
   ]
  },
  {
   "cell_type": "code",
   "execution_count": null,
   "id": "7bbe3f37",
   "metadata": {},
   "outputs": [],
   "source": [
    "df[\"overall_years_of_professional_experience\"] = pd.Categorical(\n",
    "    df[\"overall_years_of_professional_experience\"],\n",
    "    ordered=True,\n",
    "    categories=[\n",
    "        \"1 year or less\",\n",
    "        \"2 - 4 years\",\n",
    "        \"5-7 years\",\n",
    "        \"\"\n",
    "    ]\n",
    ")"
   ]
  }
 ],
 "metadata": {
  "hide_input": false,
  "kernelspec": {
   "display_name": "Python 3 (ipykernel)",
   "language": "python",
   "name": "python3"
  },
  "language_info": {
   "codemirror_mode": {
    "name": "ipython",
    "version": 3
   },
   "file_extension": ".py",
   "mimetype": "text/x-python",
   "name": "python",
   "nbconvert_exporter": "python",
   "pygments_lexer": "ipython3",
   "version": "3.9.8"
  },
  "latex_envs": {
   "LaTeX_envs_menu_present": true,
   "autoclose": false,
   "autocomplete": true,
   "bibliofile": "biblio.bib",
   "cite_by": "apalike",
   "current_citInitial": 1,
   "eqLabelWithNumbers": true,
   "eqNumInitial": 1,
   "hotkeys": {
    "equation": "Ctrl-E",
    "itemize": "Ctrl-I"
   },
   "labels_anchors": false,
   "latex_user_defs": false,
   "report_style_numbering": false,
   "user_envs_cfg": false
  },
  "toc": {
   "base_numbering": 1,
   "nav_menu": {},
   "number_sections": true,
   "sideBar": true,
   "skip_h1_title": false,
   "title_cell": "Table of Contents",
   "title_sidebar": "Contents",
   "toc_cell": false,
   "toc_position": {},
   "toc_section_display": true,
   "toc_window_display": false
  },
  "varInspector": {
   "cols": {
    "lenName": 16,
    "lenType": 16,
    "lenVar": 40
   },
   "kernels_config": {
    "python": {
     "delete_cmd_postfix": "",
     "delete_cmd_prefix": "del ",
     "library": "var_list.py",
     "varRefreshCmd": "print(var_dic_list())"
    },
    "r": {
     "delete_cmd_postfix": ") ",
     "delete_cmd_prefix": "rm(",
     "library": "var_list.r",
     "varRefreshCmd": "cat(var_dic_list()) "
    }
   },
   "types_to_exclude": [
    "module",
    "function",
    "builtin_function_or_method",
    "instance",
    "_Feature"
   ],
   "window_display": false
  }
 },
 "nbformat": 4,
 "nbformat_minor": 5
}
