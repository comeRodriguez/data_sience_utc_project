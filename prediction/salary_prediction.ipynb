{
 "cells": [
  {
   "cell_type": "code",
   "execution_count": 1,
   "id": "419ea08d",
   "metadata": {
    "ExecuteTime": {
     "end_time": "2022-05-27T08:30:34.677113Z",
     "start_time": "2022-05-27T08:30:32.862328Z"
    }
   },
   "outputs": [],
   "source": [
    "import pandas as pd\n",
    "import plotly.express as px\n",
    "import seaborn as sns\n",
    "import matplotlib.pyplot as plt\n",
    "from sklearn.metrics import plot_confusion_matrix\n",
    "from sklearn.metrics import confusion_matrix, plot_confusion_matrix\n",
    "from imblearn.under_sampling import TomekLinks, NearMiss\n",
    "from sklearn.model_selection import cross_val_score"
   ]
  },
  {
   "cell_type": "code",
   "execution_count": 2,
   "id": "fdbca5d8",
   "metadata": {
    "ExecuteTime": {
     "end_time": "2022-05-27T08:30:36.225672Z",
     "start_time": "2022-05-27T08:30:36.134861Z"
    },
    "scrolled": false
   },
   "outputs": [
    {
     "data": {
      "text/html": [
       "<div>\n",
       "<style scoped>\n",
       "    .dataframe tbody tr th:only-of-type {\n",
       "        vertical-align: middle;\n",
       "    }\n",
       "\n",
       "    .dataframe tbody tr th {\n",
       "        vertical-align: top;\n",
       "    }\n",
       "\n",
       "    .dataframe thead th {\n",
       "        text-align: right;\n",
       "    }\n",
       "</style>\n",
       "<table border=\"1\" class=\"dataframe\">\n",
       "  <thead>\n",
       "    <tr style=\"text-align: right;\">\n",
       "      <th></th>\n",
       "      <th>cluster</th>\n",
       "      <th>how_old_are_you</th>\n",
       "      <th>overall_years_of_professional_experience</th>\n",
       "      <th>years_of_experience_in_field</th>\n",
       "      <th>highest_level_of_education_completed</th>\n",
       "      <th>gender</th>\n",
       "      <th>industry</th>\n",
       "      <th>payed</th>\n",
       "      <th>harmonized_salary</th>\n",
       "      <th>adjusted_annual_salary</th>\n",
       "    </tr>\n",
       "  </thead>\n",
       "  <tbody>\n",
       "    <tr>\n",
       "      <th>0</th>\n",
       "      <td>0</td>\n",
       "      <td>25-34</td>\n",
       "      <td>5-7 years</td>\n",
       "      <td>5-7 years</td>\n",
       "      <td>Master's degree</td>\n",
       "      <td>Woman</td>\n",
       "      <td>Education</td>\n",
       "      <td>bad payed</td>\n",
       "      <td>55000.0</td>\n",
       "      <td>0.885018</td>\n",
       "    </tr>\n",
       "    <tr>\n",
       "      <th>1</th>\n",
       "      <td>4</td>\n",
       "      <td>25-34</td>\n",
       "      <td>8 - 10 years</td>\n",
       "      <td>5-7 years</td>\n",
       "      <td>College degree</td>\n",
       "      <td>Non-binary</td>\n",
       "      <td>Technology &amp; Science</td>\n",
       "      <td>well payed</td>\n",
       "      <td>68796.0</td>\n",
       "      <td>1.793468</td>\n",
       "    </tr>\n",
       "    <tr>\n",
       "      <th>2</th>\n",
       "      <td>2</td>\n",
       "      <td>25-34</td>\n",
       "      <td>2 - 4 years</td>\n",
       "      <td>2 - 4 years</td>\n",
       "      <td>College degree</td>\n",
       "      <td>Woman</td>\n",
       "      <td>Banking &amp; Insurance</td>\n",
       "      <td>bad payed</td>\n",
       "      <td>34000.0</td>\n",
       "      <td>0.547102</td>\n",
       "    </tr>\n",
       "    <tr>\n",
       "      <th>3</th>\n",
       "      <td>5</td>\n",
       "      <td>25-34</td>\n",
       "      <td>8 - 10 years</td>\n",
       "      <td>5-7 years</td>\n",
       "      <td>College degree</td>\n",
       "      <td>Woman</td>\n",
       "      <td>Non profit Organization</td>\n",
       "      <td>bad payed</td>\n",
       "      <td>62000.0</td>\n",
       "      <td>0.997657</td>\n",
       "    </tr>\n",
       "    <tr>\n",
       "      <th>4</th>\n",
       "      <td>5</td>\n",
       "      <td>25-34</td>\n",
       "      <td>8 - 10 years</td>\n",
       "      <td>5-7 years</td>\n",
       "      <td>College degree</td>\n",
       "      <td>Woman</td>\n",
       "      <td>Banking &amp; Insurance</td>\n",
       "      <td>bad payed</td>\n",
       "      <td>60000.0</td>\n",
       "      <td>0.965475</td>\n",
       "    </tr>\n",
       "    <tr>\n",
       "      <th>...</th>\n",
       "      <td>...</td>\n",
       "      <td>...</td>\n",
       "      <td>...</td>\n",
       "      <td>...</td>\n",
       "      <td>...</td>\n",
       "      <td>...</td>\n",
       "      <td>...</td>\n",
       "      <td>...</td>\n",
       "      <td>...</td>\n",
       "      <td>...</td>\n",
       "    </tr>\n",
       "    <tr>\n",
       "      <th>22883</th>\n",
       "      <td>5</td>\n",
       "      <td>25-34</td>\n",
       "      <td>5-7 years</td>\n",
       "      <td>5-7 years</td>\n",
       "      <td>College degree</td>\n",
       "      <td>Woman</td>\n",
       "      <td>Unidentified</td>\n",
       "      <td>well payed</td>\n",
       "      <td>85000.0</td>\n",
       "      <td>1.367756</td>\n",
       "    </tr>\n",
       "    <tr>\n",
       "      <th>22884</th>\n",
       "      <td>1</td>\n",
       "      <td>35-44</td>\n",
       "      <td>11 - 20 years</td>\n",
       "      <td>2 - 4 years</td>\n",
       "      <td>College degree</td>\n",
       "      <td>Woman</td>\n",
       "      <td>Non profit Organization</td>\n",
       "      <td>bad payed</td>\n",
       "      <td>40000.0</td>\n",
       "      <td>0.643650</td>\n",
       "    </tr>\n",
       "    <tr>\n",
       "      <th>22885</th>\n",
       "      <td>0</td>\n",
       "      <td>25-34</td>\n",
       "      <td>11 - 20 years</td>\n",
       "      <td>11 - 20 years</td>\n",
       "      <td>Master's degree</td>\n",
       "      <td>Woman</td>\n",
       "      <td>Technology &amp; Science</td>\n",
       "      <td>well payed</td>\n",
       "      <td>148000.0</td>\n",
       "      <td>2.381504</td>\n",
       "    </tr>\n",
       "    <tr>\n",
       "      <th>22886</th>\n",
       "      <td>2</td>\n",
       "      <td>25-34</td>\n",
       "      <td>2 - 4 years</td>\n",
       "      <td>2 - 4 years</td>\n",
       "      <td>College degree</td>\n",
       "      <td>Woman</td>\n",
       "      <td>Advertising</td>\n",
       "      <td>well payed</td>\n",
       "      <td>65000.0</td>\n",
       "      <td>1.045931</td>\n",
       "    </tr>\n",
       "    <tr>\n",
       "      <th>22887</th>\n",
       "      <td>0</td>\n",
       "      <td>35-44</td>\n",
       "      <td>11 - 20 years</td>\n",
       "      <td>8 - 10 years</td>\n",
       "      <td>Master's degree</td>\n",
       "      <td>Woman</td>\n",
       "      <td>Law</td>\n",
       "      <td>well payed</td>\n",
       "      <td>146192.0</td>\n",
       "      <td>2.352411</td>\n",
       "    </tr>\n",
       "  </tbody>\n",
       "</table>\n",
       "<p>22888 rows × 10 columns</p>\n",
       "</div>"
      ],
      "text/plain": [
       "       cluster how_old_are_you overall_years_of_professional_experience  \\\n",
       "0            0           25-34                                5-7 years   \n",
       "1            4           25-34                             8 - 10 years   \n",
       "2            2           25-34                              2 - 4 years   \n",
       "3            5           25-34                             8 - 10 years   \n",
       "4            5           25-34                             8 - 10 years   \n",
       "...        ...             ...                                      ...   \n",
       "22883        5           25-34                                5-7 years   \n",
       "22884        1           35-44                            11 - 20 years   \n",
       "22885        0           25-34                            11 - 20 years   \n",
       "22886        2           25-34                              2 - 4 years   \n",
       "22887        0           35-44                            11 - 20 years   \n",
       "\n",
       "      years_of_experience_in_field highest_level_of_education_completed  \\\n",
       "0                        5-7 years                      Master's degree   \n",
       "1                        5-7 years                       College degree   \n",
       "2                      2 - 4 years                       College degree   \n",
       "3                        5-7 years                       College degree   \n",
       "4                        5-7 years                       College degree   \n",
       "...                            ...                                  ...   \n",
       "22883                    5-7 years                       College degree   \n",
       "22884                  2 - 4 years                       College degree   \n",
       "22885                11 - 20 years                      Master's degree   \n",
       "22886                  2 - 4 years                       College degree   \n",
       "22887                 8 - 10 years                      Master's degree   \n",
       "\n",
       "           gender                 industry       payed  harmonized_salary  \\\n",
       "0           Woman                Education   bad payed            55000.0   \n",
       "1      Non-binary     Technology & Science  well payed            68796.0   \n",
       "2           Woman      Banking & Insurance   bad payed            34000.0   \n",
       "3           Woman  Non profit Organization   bad payed            62000.0   \n",
       "4           Woman      Banking & Insurance   bad payed            60000.0   \n",
       "...           ...                      ...         ...                ...   \n",
       "22883       Woman             Unidentified  well payed            85000.0   \n",
       "22884       Woman  Non profit Organization   bad payed            40000.0   \n",
       "22885       Woman     Technology & Science  well payed           148000.0   \n",
       "22886       Woman              Advertising  well payed            65000.0   \n",
       "22887       Woman                      Law  well payed           146192.0   \n",
       "\n",
       "       adjusted_annual_salary  \n",
       "0                    0.885018  \n",
       "1                    1.793468  \n",
       "2                    0.547102  \n",
       "3                    0.997657  \n",
       "4                    0.965475  \n",
       "...                       ...  \n",
       "22883                1.367756  \n",
       "22884                0.643650  \n",
       "22885                2.381504  \n",
       "22886                1.045931  \n",
       "22887                2.352411  \n",
       "\n",
       "[22888 rows x 10 columns]"
      ]
     },
     "execution_count": 2,
     "metadata": {},
     "output_type": "execute_result"
    }
   ],
   "source": [
    "df = pd.read_csv(\"../data/clean_data_final.csv\")\n",
    "df.drop([\"Unnamed: 0\"], axis=1, inplace=True)\n",
    "df"
   ]
  },
  {
   "cell_type": "code",
   "execution_count": 3,
   "id": "1b734bea",
   "metadata": {
    "ExecuteTime": {
     "end_time": "2022-05-27T08:30:39.416854Z",
     "start_time": "2022-05-27T08:30:39.081755Z"
    },
    "scrolled": false
   },
   "outputs": [
    {
     "data": {
      "text/plain": [
       "<AxesSubplot:xlabel='harmonized_salary', ylabel='Count'>"
      ]
     },
     "execution_count": 3,
     "metadata": {},
     "output_type": "execute_result"
    },
    {
     "data": {
      "image/png": "[encoded data removed]",
      "text/plain": [
       "<Figure size 432x288 with 1 Axes>"
      ]
     },
     "metadata": {
      "needs_background": "light"
     },
     "output_type": "display_data"
    }
   ],
   "source": [
    "sns.histplot(data=df, x=\"harmonized_salary\")"
   ]
  },
  {
   "cell_type": "code",
   "execution_count": 4,
   "id": "1c6ea1f5",
   "metadata": {
    "ExecuteTime": {
     "end_time": "2022-05-27T08:30:41.326633Z",
     "start_time": "2022-05-27T08:30:41.159484Z"
    }
   },
   "outputs": [
    {
     "data": {
      "text/plain": [
       "<AxesSubplot:xlabel='payed', ylabel='count'>"
      ]
     },
     "execution_count": 4,
     "metadata": {},
     "output_type": "execute_result"
    },
    {
     "data": {
      "image/png": "[encoded data removed]",
      "text/plain": [
       "<Figure size 432x288 with 1 Axes>"
      ]
     },
     "metadata": {
      "needs_background": "light"
     },
     "output_type": "display_data"
    }
   ],
   "source": [
    "sns.countplot(data=df, x=\"payed\")"
   ]
  },
  {
   "cell_type": "markdown",
   "id": "5186675b",
   "metadata": {},
   "source": [
    "# Try to predict salary without the results of unsupervised analysis"
   ]
  },
  {
   "cell_type": "code",
   "execution_count": 150,
   "id": "e3f1bcfd",
   "metadata": {
    "ExecuteTime": {
     "end_time": "2022-05-28T09:47:49.762819Z",
     "start_time": "2022-05-28T09:47:49.758244Z"
    }
   },
   "outputs": [],
   "source": [
    "from sklearn.linear_model import LinearRegression, Ridge, Lasso\n",
    "from sklearn.tree import DecisionTreeRegressor\n",
    "from sklearn.ensemble import RandomForestRegressor, AdaBoostRegressor\n",
    "from sklearn.neighbors import KNeighborsRegressor\n",
    "from sklearn.metrics import mean_squared_error, make_scorer\n",
    "from sklearn.model_selection import train_test_split, GridSearchCV"
   ]
  },
  {
   "cell_type": "code",
   "execution_count": 92,
   "id": "eec40ec7",
   "metadata": {
    "ExecuteTime": {
     "end_time": "2022-05-27T10:14:12.967366Z",
     "start_time": "2022-05-27T10:14:12.942977Z"
    }
   },
   "outputs": [],
   "source": [
    "df_used = df[\n",
    "        [\n",
    "            \"how_old_are_you\",\n",
    "            \"years_of_experience_in_field\",\n",
    "            \"highest_level_of_education_completed\",\n",
    "            \"gender\",\n",
    "            \"industry\",\n",
    "            \"cluster\",\n",
    "            \"payed\",\n",
    "            \"harmonized_salary\"\n",
    "        ]\n",
    "    ].copy()"
   ]
  },
  {
   "cell_type": "code",
   "execution_count": 93,
   "id": "36b17b99",
   "metadata": {
    "ExecuteTime": {
     "end_time": "2022-05-27T10:14:13.352693Z",
     "start_time": "2022-05-27T10:14:13.340406Z"
    }
   },
   "outputs": [
    {
     "data": {
      "text/plain": [
       "array([\"Master's degree\", 'College degree', 'PhD', 'Some college',\n",
       "       'High School', 'Professional degree (MD, JD, etc.)'], dtype=object)"
      ]
     },
     "execution_count": 93,
     "metadata": {},
     "output_type": "execute_result"
    }
   ],
   "source": [
    "df_used[\"highest_level_of_education_completed\"].unique()"
   ]
  },
  {
   "cell_type": "code",
   "execution_count": 94,
   "id": "7169d355",
   "metadata": {
    "ExecuteTime": {
     "end_time": "2022-05-27T10:14:13.822306Z",
     "start_time": "2022-05-27T10:14:13.806975Z"
    }
   },
   "outputs": [],
   "source": [
    "df_used[\"how_old_are_you\"] = df_used[\"how_old_are_you\"].apply(\n",
    "    lambda x:\n",
    "        1 if x==\"under 18\" else\n",
    "        2 if x==\"18-24\" else\n",
    "        3 if x==\"25-34\" else\n",
    "        4 if x==\"35-44\" else\n",
    "        5 if x==\"45-54\" else\n",
    "        6 if x==\"55-64\" else\n",
    "        7\n",
    ")"
   ]
  },
  {
   "cell_type": "code",
   "execution_count": 95,
   "id": "9eeac33c",
   "metadata": {
    "ExecuteTime": {
     "end_time": "2022-05-27T10:14:14.509067Z",
     "start_time": "2022-05-27T10:14:14.495087Z"
    }
   },
   "outputs": [],
   "source": [
    "df_used[\"years_of_experience_in_field\"] = df_used[\"years_of_experience_in_field\"].apply(\n",
    "    lambda x:\n",
    "        1 if x==\"1 year or less\" else\n",
    "        2 if x==\"2 - 4 years\" else\n",
    "        3 if x==\"5-7 years\" else\n",
    "        4 if x==\"8 - 10 years\" else\n",
    "        5 if x==\"11 - 20 years\" else\n",
    "        6 if x==\"21 - 30 years\" else\n",
    "        7 if x==\"31 - 40 years\" else\n",
    "        8\n",
    ")"
   ]
  },
  {
   "cell_type": "code",
   "execution_count": 96,
   "id": "a217fe21",
   "metadata": {
    "ExecuteTime": {
     "end_time": "2022-05-27T10:14:15.874198Z",
     "start_time": "2022-05-27T10:14:15.859493Z"
    }
   },
   "outputs": [],
   "source": [
    "df_used[\"highest_level_of_education_completed\"] = df_used[\"highest_level_of_education_completed\"].apply(\n",
    "    lambda x:\n",
    "        1 if x==\"High School\" else\n",
    "        2 if x==\"Some college\" else\n",
    "        3 if x==\"College degree\" else\n",
    "        4 if x==\"Master's degree\" else\n",
    "        5 if x==\"PhD\" else\n",
    "        6 \n",
    ")"
   ]
  },
  {
   "cell_type": "code",
   "execution_count": 91,
   "id": "c9701e21",
   "metadata": {
    "ExecuteTime": {
     "end_time": "2022-05-27T09:42:24.208163Z",
     "start_time": "2022-05-27T09:42:23.969715Z"
    }
   },
   "outputs": [
    {
     "data": {
      "image/png": "[encoded data removed]",
      "text/plain": [
       "<Figure size 576x576 with 2 Axes>"
      ]
     },
     "metadata": {
      "needs_background": "light"
     },
     "output_type": "display_data"
    }
   ],
   "source": [
    "plt.figure(figsize=(8, 8))\n",
    "sns.heatmap(df_used.corr())\n",
    "plt.show()"
   ]
  },
  {
   "cell_type": "code",
   "execution_count": 97,
   "id": "b3160de1",
   "metadata": {
    "ExecuteTime": {
     "end_time": "2022-05-27T10:14:22.297813Z",
     "start_time": "2022-05-27T10:14:22.293546Z"
    }
   },
   "outputs": [],
   "source": [
    "linear = LinearRegression()\n",
    "tree = DecisionTreeRegressor(random_state=29)\n",
    "randomf = RandomForestRegressor(random_state=29)"
   ]
  },
  {
   "cell_type": "code",
   "execution_count": 181,
   "id": "cca672eb",
   "metadata": {
    "ExecuteTime": {
     "end_time": "2022-05-28T10:13:19.858664Z",
     "start_time": "2022-05-28T10:13:19.828661Z"
    }
   },
   "outputs": [],
   "source": [
    "X_train, X_test, y_train, y_test = train_test_split(\n",
    "    df_used[\n",
    "        [\n",
    "            \"how_old_are_you\",\n",
    "            \"years_of_experience_in_field\",\n",
    "            \"highest_level_of_education_completed\",\n",
    "            \"gender\",\n",
    "            \"industry\",\n",
    "            \"cluster\",\n",
    "            #\"payed\"\n",
    "        ]\n",
    "    ],\n",
    "    df[\"harmonized_salary\"],\n",
    "    train_size=0.8,\n",
    "    random_state=29\n",
    ")"
   ]
  },
  {
   "cell_type": "code",
   "execution_count": 125,
   "id": "7676992d",
   "metadata": {
    "ExecuteTime": {
     "end_time": "2022-05-28T09:09:16.140934Z",
     "start_time": "2022-05-28T09:09:16.122658Z"
    }
   },
   "outputs": [
    {
     "data": {
      "text/html": [
       "<div>\n",
       "<style scoped>\n",
       "    .dataframe tbody tr th:only-of-type {\n",
       "        vertical-align: middle;\n",
       "    }\n",
       "\n",
       "    .dataframe tbody tr th {\n",
       "        vertical-align: top;\n",
       "    }\n",
       "\n",
       "    .dataframe thead th {\n",
       "        text-align: right;\n",
       "    }\n",
       "</style>\n",
       "<table border=\"1\" class=\"dataframe\">\n",
       "  <thead>\n",
       "    <tr style=\"text-align: right;\">\n",
       "      <th></th>\n",
       "      <th>how_old_are_you</th>\n",
       "      <th>years_of_experience_in_field</th>\n",
       "      <th>highest_level_of_education_completed</th>\n",
       "      <th>gender</th>\n",
       "      <th>industry</th>\n",
       "      <th>cluster</th>\n",
       "    </tr>\n",
       "  </thead>\n",
       "  <tbody>\n",
       "    <tr>\n",
       "      <th>3616</th>\n",
       "      <td>4</td>\n",
       "      <td>5</td>\n",
       "      <td>4</td>\n",
       "      <td>Man</td>\n",
       "      <td>Other</td>\n",
       "      <td>3</td>\n",
       "    </tr>\n",
       "    <tr>\n",
       "      <th>6461</th>\n",
       "      <td>3</td>\n",
       "      <td>4</td>\n",
       "      <td>3</td>\n",
       "      <td>Woman</td>\n",
       "      <td>Technology &amp; Science</td>\n",
       "      <td>0</td>\n",
       "    </tr>\n",
       "    <tr>\n",
       "      <th>22262</th>\n",
       "      <td>3</td>\n",
       "      <td>2</td>\n",
       "      <td>3</td>\n",
       "      <td>Woman</td>\n",
       "      <td>Public &amp; Government</td>\n",
       "      <td>2</td>\n",
       "    </tr>\n",
       "    <tr>\n",
       "      <th>6715</th>\n",
       "      <td>4</td>\n",
       "      <td>4</td>\n",
       "      <td>3</td>\n",
       "      <td>Woman</td>\n",
       "      <td>Consulting</td>\n",
       "      <td>1</td>\n",
       "    </tr>\n",
       "    <tr>\n",
       "      <th>7179</th>\n",
       "      <td>5</td>\n",
       "      <td>6</td>\n",
       "      <td>5</td>\n",
       "      <td>Woman</td>\n",
       "      <td>Education</td>\n",
       "      <td>3</td>\n",
       "    </tr>\n",
       "    <tr>\n",
       "      <th>...</th>\n",
       "      <td>...</td>\n",
       "      <td>...</td>\n",
       "      <td>...</td>\n",
       "      <td>...</td>\n",
       "      <td>...</td>\n",
       "      <td>...</td>\n",
       "    </tr>\n",
       "    <tr>\n",
       "      <th>10601</th>\n",
       "      <td>3</td>\n",
       "      <td>2</td>\n",
       "      <td>4</td>\n",
       "      <td>Woman</td>\n",
       "      <td>Health</td>\n",
       "      <td>2</td>\n",
       "    </tr>\n",
       "    <tr>\n",
       "      <th>864</th>\n",
       "      <td>3</td>\n",
       "      <td>1</td>\n",
       "      <td>3</td>\n",
       "      <td>Woman</td>\n",
       "      <td>Non profit Organization</td>\n",
       "      <td>5</td>\n",
       "    </tr>\n",
       "    <tr>\n",
       "      <th>808</th>\n",
       "      <td>4</td>\n",
       "      <td>5</td>\n",
       "      <td>5</td>\n",
       "      <td>Woman</td>\n",
       "      <td>Public &amp; Government</td>\n",
       "      <td>1</td>\n",
       "    </tr>\n",
       "    <tr>\n",
       "      <th>10749</th>\n",
       "      <td>3</td>\n",
       "      <td>4</td>\n",
       "      <td>3</td>\n",
       "      <td>Man</td>\n",
       "      <td>Industry</td>\n",
       "      <td>0</td>\n",
       "    </tr>\n",
       "    <tr>\n",
       "      <th>6380</th>\n",
       "      <td>4</td>\n",
       "      <td>5</td>\n",
       "      <td>4</td>\n",
       "      <td>Woman</td>\n",
       "      <td>Non profit Organization</td>\n",
       "      <td>3</td>\n",
       "    </tr>\n",
       "  </tbody>\n",
       "</table>\n",
       "<p>18310 rows × 6 columns</p>\n",
       "</div>"
      ],
      "text/plain": [
       "       how_old_are_you  years_of_experience_in_field  \\\n",
       "3616                 4                             5   \n",
       "6461                 3                             4   \n",
       "22262                3                             2   \n",
       "6715                 4                             4   \n",
       "7179                 5                             6   \n",
       "...                ...                           ...   \n",
       "10601                3                             2   \n",
       "864                  3                             1   \n",
       "808                  4                             5   \n",
       "10749                3                             4   \n",
       "6380                 4                             5   \n",
       "\n",
       "       highest_level_of_education_completed gender                 industry  \\\n",
       "3616                                      4    Man                    Other   \n",
       "6461                                      3  Woman     Technology & Science   \n",
       "22262                                     3  Woman      Public & Government   \n",
       "6715                                      3  Woman               Consulting   \n",
       "7179                                      5  Woman                Education   \n",
       "...                                     ...    ...                      ...   \n",
       "10601                                     4  Woman                   Health   \n",
       "864                                       3  Woman  Non profit Organization   \n",
       "808                                       5  Woman      Public & Government   \n",
       "10749                                     3    Man                 Industry   \n",
       "6380                                      4  Woman  Non profit Organization   \n",
       "\n",
       "       cluster  \n",
       "3616         3  \n",
       "6461         0  \n",
       "22262        2  \n",
       "6715         1  \n",
       "7179         3  \n",
       "...        ...  \n",
       "10601        2  \n",
       "864          5  \n",
       "808          1  \n",
       "10749        0  \n",
       "6380         3  \n",
       "\n",
       "[18310 rows x 6 columns]"
      ]
     },
     "execution_count": 125,
     "metadata": {},
     "output_type": "execute_result"
    }
   ],
   "source": [
    "X_train"
   ]
  },
  {
   "cell_type": "code",
   "execution_count": 153,
   "id": "54875da5",
   "metadata": {
    "ExecuteTime": {
     "end_time": "2022-05-28T09:49:09.431609Z",
     "start_time": "2022-05-28T09:49:09.412909Z"
    }
   },
   "outputs": [],
   "source": [
    "X_train_used = pd.get_dummies(X_train)\n",
    "X_test_used = pd.get_dummies(X_test)"
   ]
  },
  {
   "cell_type": "markdown",
   "id": "a5de228d",
   "metadata": {},
   "source": [
    "## Linear Regression"
   ]
  },
  {
   "cell_type": "code",
   "execution_count": 127,
   "id": "dd4c5809",
   "metadata": {
    "ExecuteTime": {
     "end_time": "2022-05-28T09:09:19.457340Z",
     "start_time": "2022-05-28T09:09:19.375302Z"
    }
   },
   "outputs": [
    {
     "name": "stdout",
     "output_type": "stream",
     "text": [
      "30326.463032043353\n"
     ]
    }
   ],
   "source": [
    "linear.fit(X_train_used, y_train)\n",
    "predictions = linear.predict(X_test_used)\n",
    "rmse = np.sqrt(mean_squared_error(y_true=y_test, y_pred=predictions))\n",
    "print(rmse)"
   ]
  },
  {
   "cell_type": "code",
   "execution_count": 10,
   "id": "849d66f3",
   "metadata": {
    "ExecuteTime": {
     "end_time": "2022-05-16T18:12:15.585153Z",
     "start_time": "2022-05-16T18:12:11.742633Z"
    }
   },
   "outputs": [
    {
     "data": {
      "text/plain": [
       "GridSearchCV(estimator=LinearRegression(),\n",
       "             param_grid={'fit_intercept': (True, False),\n",
       "                         'n_jobs': (None, 1, 2, 3, 4, 5),\n",
       "                         'positive': (True, False)})"
      ]
     },
     "execution_count": 10,
     "metadata": {},
     "output_type": "execute_result"
    }
   ],
   "source": [
    "#mse = make_scorer(mean_squared_error,greater_is_better=False)\n",
    "parameters = {\n",
    "    \"fit_intercept\": (True, False),\n",
    "    \"n_jobs\": (None, 1, 2, 3, 4, 5),\n",
    "    \"positive\": (True, False)\n",
    "}\n",
    "\n",
    "clf = GridSearchCV(linear, param_grid=parameters)\n",
    "clf.fit(X_train_used, y_train)"
   ]
  },
  {
   "cell_type": "code",
   "execution_count": 11,
   "id": "6e1c8aae",
   "metadata": {
    "ExecuteTime": {
     "end_time": "2022-05-16T18:12:16.603169Z",
     "start_time": "2022-05-16T18:12:16.596374Z"
    }
   },
   "outputs": [
    {
     "data": {
      "text/plain": [
       "LinearRegression(fit_intercept=False)"
      ]
     },
     "execution_count": 11,
     "metadata": {},
     "output_type": "execute_result"
    }
   ],
   "source": [
    "clf.best_estimator_"
   ]
  },
  {
   "cell_type": "code",
   "execution_count": 128,
   "id": "a2b2baee",
   "metadata": {
    "ExecuteTime": {
     "end_time": "2022-05-28T09:09:23.460164Z",
     "start_time": "2022-05-28T09:09:23.438392Z"
    }
   },
   "outputs": [
    {
     "name": "stdout",
     "output_type": "stream",
     "text": [
      "30326.463032043357\n"
     ]
    }
   ],
   "source": [
    "linear_model = LinearRegression(fit_intercept=False)\n",
    "linear_model.fit(X_train_used, y_train)\n",
    "predictions = linear_model.predict(X_test_used)\n",
    "rmse = np.sqrt(mean_squared_error(y_true=y_test, y_pred=predictions))\n",
    "print(rmse)"
   ]
  },
  {
   "cell_type": "code",
   "execution_count": 30,
   "id": "186128da",
   "metadata": {
    "ExecuteTime": {
     "end_time": "2022-05-27T08:42:39.672796Z",
     "start_time": "2022-05-27T08:42:39.460143Z"
    }
   },
   "outputs": [
    {
     "data": {
      "text/plain": [
       "<AxesSubplot:xlabel='harmonized_salary'>"
      ]
     },
     "execution_count": 30,
     "metadata": {},
     "output_type": "execute_result"
    },
    {
     "data": {
      "image/png": "[encoded data removed]",
      "text/plain": [
       "<Figure size 432x288 with 1 Axes>"
      ]
     },
     "metadata": {
      "needs_background": "light"
     },
     "output_type": "display_data"
    }
   ],
   "source": [
    "sns.scatterplot(x=y_test, y=predictions)"
   ]
  },
  {
   "cell_type": "markdown",
   "id": "afad45e0",
   "metadata": {},
   "source": [
    "## Decision Tree"
   ]
  },
  {
   "cell_type": "code",
   "execution_count": 129,
   "id": "bdd4cc5c",
   "metadata": {
    "ExecuteTime": {
     "end_time": "2022-05-28T09:09:27.366377Z",
     "start_time": "2022-05-28T09:09:27.092693Z"
    }
   },
   "outputs": [
    {
     "name": "stdout",
     "output_type": "stream",
     "text": [
      "31795.97645706781\n"
     ]
    }
   ],
   "source": [
    "tree.fit(X_train_used, y_train)\n",
    "predictions = tree.predict(X_test_used)\n",
    "rmse = np.sqrt(mean_squared_error(y_true=y_test, y_pred=predictions))\n",
    "print(rmse)"
   ]
  },
  {
   "cell_type": "code",
   "execution_count": 25,
   "id": "4c66157d",
   "metadata": {
    "ExecuteTime": {
     "end_time": "2022-05-16T19:46:44.133558Z",
     "start_time": "2022-05-16T19:46:44.127193Z"
    }
   },
   "outputs": [
    {
     "data": {
      "text/plain": [
       "DecisionTreeRegressor(max_features='auto', min_weight_fraction_leaf=0.001,\n",
       "                      random_state=29, splitter='random')"
      ]
     },
     "execution_count": 25,
     "metadata": {},
     "output_type": "execute_result"
    }
   ],
   "source": [
    "clf.best_estimator_"
   ]
  },
  {
   "cell_type": "code",
   "execution_count": 130,
   "id": "d5087a68",
   "metadata": {
    "ExecuteTime": {
     "end_time": "2022-05-28T09:09:30.339270Z",
     "start_time": "2022-05-28T09:09:30.307420Z"
    }
   },
   "outputs": [
    {
     "name": "stdout",
     "output_type": "stream",
     "text": [
      "30386.56844319158\n"
     ]
    }
   ],
   "source": [
    "tree_model = DecisionTreeRegressor(max_features='auto', min_weight_fraction_leaf=0.001,random_state=29, splitter='random')\n",
    "tree_model.fit(X_train_used, y_train)\n",
    "predictions = tree_model.predict(X_test_used)\n",
    "rmse = np.sqrt(mean_squared_error(y_true=y_test, y_pred=predictions))\n",
    "print(rmse)"
   ]
  },
  {
   "cell_type": "markdown",
   "id": "5b4801a9",
   "metadata": {},
   "source": [
    "## Random forest"
   ]
  },
  {
   "cell_type": "code",
   "execution_count": 131,
   "id": "7584bcc2",
   "metadata": {
    "ExecuteTime": {
     "end_time": "2022-05-28T09:09:35.111645Z",
     "start_time": "2022-05-28T09:09:32.955793Z"
    }
   },
   "outputs": [
    {
     "name": "stdout",
     "output_type": "stream",
     "text": [
      "30957.583103779038\n"
     ]
    }
   ],
   "source": [
    "randomf.fit(X_train_used, y_train)\n",
    "predictions = randomf.predict(X_test_used)\n",
    "rmse = np.sqrt(mean_squared_error(y_true=y_test, y_pred=predictions))\n",
    "print(rmse)"
   ]
  },
  {
   "cell_type": "code",
   "execution_count": 39,
   "id": "b79fe10e",
   "metadata": {
    "ExecuteTime": {
     "end_time": "2022-05-17T19:48:01.063403Z",
     "start_time": "2022-05-17T18:40:32.372032Z"
    }
   },
   "outputs": [
    {
     "data": {
      "text/plain": [
       "GridSearchCV(estimator=RandomForestRegressor(random_state=29),\n",
       "             param_grid={'criterion': ('squared_error', 'absolute_error',\n",
       "                                       'poisson'),\n",
       "                         'max_features': (None, 'sqrt', 'log2'),\n",
       "                         'n_estimators': (40, 50)})"
      ]
     },
     "execution_count": 39,
     "metadata": {},
     "output_type": "execute_result"
    }
   ],
   "source": [
    "parameters = {\n",
    "    \"n_estimators\": (40, 50),\n",
    "    \"criterion\": (\"squared_error\", \"absolute_error\", \"poisson\"),\n",
    "    \"max_features\": (None, \"sqrt\", \"log2\"),\n",
    "}\n",
    "\n",
    "clf = GridSearchCV(randomf, param_grid=parameters)\n",
    "clf.fit(X_train_used.values, y_train)"
   ]
  },
  {
   "cell_type": "code",
   "execution_count": 40,
   "id": "7fb4be0d",
   "metadata": {
    "ExecuteTime": {
     "end_time": "2022-05-17T19:48:12.357570Z",
     "start_time": "2022-05-17T19:48:12.346117Z"
    }
   },
   "outputs": [
    {
     "data": {
      "text/plain": [
       "RandomForestRegressor(criterion='absolute_error', max_features='log2',\n",
       "                      n_estimators=50, random_state=29)"
      ]
     },
     "execution_count": 40,
     "metadata": {},
     "output_type": "execute_result"
    }
   ],
   "source": [
    "clf.best_estimator_"
   ]
  },
  {
   "cell_type": "code",
   "execution_count": 132,
   "id": "82ff1fd9",
   "metadata": {
    "ExecuteTime": {
     "end_time": "2022-05-28T09:10:53.526547Z",
     "start_time": "2022-05-28T09:09:39.041700Z"
    },
    "scrolled": true
   },
   "outputs": [
    {
     "name": "stdout",
     "output_type": "stream",
     "text": [
      "30952.95341392667\n"
     ]
    }
   ],
   "source": [
    "randomf_model = RandomForestRegressor(criterion='absolute_error', max_features='log2',\n",
    "                      n_estimators=50, random_state=29)\n",
    "randomf_model.fit(X_train_used, y_train)\n",
    "predictions = randomf_model.predict(X_test_used)\n",
    "rmse = np.sqrt(mean_squared_error(y_true=y_test, y_pred=predictions))\n",
    "print(rmse)"
   ]
  },
  {
   "cell_type": "code",
   "execution_count": 182,
   "id": "e2a03a86",
   "metadata": {
    "ExecuteTime": {
     "end_time": "2022-05-28T10:24:11.010579Z",
     "start_time": "2022-05-28T10:13:26.923308Z"
    }
   },
   "outputs": [],
   "source": [
    "cross_linear = cross_val_score(linear_model, X_train_used, y_train, scoring=\"neg_root_mean_squared_error\", cv=10)\n",
    "cross_linear = np.abs(cross_linear)\n",
    "cross_tree = cross_val_score(tree_model, X_train_used, y_train, scoring=\"neg_root_mean_squared_error\", cv=10)\n",
    "cross_tree = np.abs(cross_tree)\n",
    "cross_random = cross_val_score(randomf_model, X_train_used, y_train, scoring=\"neg_root_mean_squared_error\", cv=10)\n",
    "cross_random = np.abs(cross_random)\n",
    "knn = KNeighborsRegressor()\n",
    "cross_knn = cross_val_score(knn, X_train_used, y_train, scoring=\"neg_root_mean_squared_error\", cv=10)\n",
    "cross_knn = np.abs(cross_knn)"
   ]
  },
  {
   "cell_type": "code",
   "execution_count": 183,
   "id": "7f21bcd3",
   "metadata": {
    "ExecuteTime": {
     "end_time": "2022-05-28T10:24:11.134424Z",
     "start_time": "2022-05-28T10:24:11.123279Z"
    }
   },
   "outputs": [
    {
     "data": {
      "text/html": [
       "<div>\n",
       "<style scoped>\n",
       "    .dataframe tbody tr th:only-of-type {\n",
       "        vertical-align: middle;\n",
       "    }\n",
       "\n",
       "    .dataframe tbody tr th {\n",
       "        vertical-align: top;\n",
       "    }\n",
       "\n",
       "    .dataframe thead th {\n",
       "        text-align: right;\n",
       "    }\n",
       "</style>\n",
       "<table border=\"1\" class=\"dataframe\">\n",
       "  <thead>\n",
       "    <tr style=\"text-align: right;\">\n",
       "      <th></th>\n",
       "      <th>linear_regression</th>\n",
       "      <th>decision_tree</th>\n",
       "      <th>random_forest</th>\n",
       "      <th>knn</th>\n",
       "    </tr>\n",
       "  </thead>\n",
       "  <tbody>\n",
       "    <tr>\n",
       "      <th>0</th>\n",
       "      <td>30951.580739</td>\n",
       "      <td>31175.052484</td>\n",
       "      <td>31743.449852</td>\n",
       "      <td>33400.549374</td>\n",
       "    </tr>\n",
       "    <tr>\n",
       "      <th>1</th>\n",
       "      <td>30156.556805</td>\n",
       "      <td>30710.791113</td>\n",
       "      <td>31367.878403</td>\n",
       "      <td>33313.307844</td>\n",
       "    </tr>\n",
       "    <tr>\n",
       "      <th>2</th>\n",
       "      <td>30499.539794</td>\n",
       "      <td>30864.248204</td>\n",
       "      <td>31288.129480</td>\n",
       "      <td>33618.561981</td>\n",
       "    </tr>\n",
       "    <tr>\n",
       "      <th>3</th>\n",
       "      <td>30600.886929</td>\n",
       "      <td>30229.501063</td>\n",
       "      <td>31015.468583</td>\n",
       "      <td>32597.855552</td>\n",
       "    </tr>\n",
       "    <tr>\n",
       "      <th>4</th>\n",
       "      <td>31176.484538</td>\n",
       "      <td>31065.753499</td>\n",
       "      <td>31568.641152</td>\n",
       "      <td>33563.669365</td>\n",
       "    </tr>\n",
       "    <tr>\n",
       "      <th>5</th>\n",
       "      <td>29344.085571</td>\n",
       "      <td>29122.459300</td>\n",
       "      <td>30216.365604</td>\n",
       "      <td>31691.379444</td>\n",
       "    </tr>\n",
       "    <tr>\n",
       "      <th>6</th>\n",
       "      <td>30577.777415</td>\n",
       "      <td>30446.131566</td>\n",
       "      <td>31244.997319</td>\n",
       "      <td>33072.310165</td>\n",
       "    </tr>\n",
       "    <tr>\n",
       "      <th>7</th>\n",
       "      <td>30453.755701</td>\n",
       "      <td>30471.645458</td>\n",
       "      <td>31574.935825</td>\n",
       "      <td>32515.288149</td>\n",
       "    </tr>\n",
       "    <tr>\n",
       "      <th>8</th>\n",
       "      <td>31066.303545</td>\n",
       "      <td>31159.741601</td>\n",
       "      <td>31291.452430</td>\n",
       "      <td>32905.047503</td>\n",
       "    </tr>\n",
       "    <tr>\n",
       "      <th>9</th>\n",
       "      <td>30544.272102</td>\n",
       "      <td>31070.186891</td>\n",
       "      <td>31588.532481</td>\n",
       "      <td>33333.524920</td>\n",
       "    </tr>\n",
       "  </tbody>\n",
       "</table>\n",
       "</div>"
      ],
      "text/plain": [
       "   linear_regression  decision_tree  random_forest           knn\n",
       "0       30951.580739   31175.052484   31743.449852  33400.549374\n",
       "1       30156.556805   30710.791113   31367.878403  33313.307844\n",
       "2       30499.539794   30864.248204   31288.129480  33618.561981\n",
       "3       30600.886929   30229.501063   31015.468583  32597.855552\n",
       "4       31176.484538   31065.753499   31568.641152  33563.669365\n",
       "5       29344.085571   29122.459300   30216.365604  31691.379444\n",
       "6       30577.777415   30446.131566   31244.997319  33072.310165\n",
       "7       30453.755701   30471.645458   31574.935825  32515.288149\n",
       "8       31066.303545   31159.741601   31291.452430  32905.047503\n",
       "9       30544.272102   31070.186891   31588.532481  33333.524920"
      ]
     },
     "execution_count": 183,
     "metadata": {},
     "output_type": "execute_result"
    }
   ],
   "source": [
    "cross_df = pd.DataFrame([cross_linear, cross_tree, cross_random, cross_knn]).T\n",
    "cross_df.columns = [\"linear_regression\", \"decision_tree\", \"random_forest\", \"knn\"]\n",
    "cross_df"
   ]
  },
  {
   "cell_type": "code",
   "execution_count": 184,
   "id": "9294dd85",
   "metadata": {
    "ExecuteTime": {
     "end_time": "2022-05-28T10:24:11.413293Z",
     "start_time": "2022-05-28T10:24:11.217551Z"
    }
   },
   "outputs": [
    {
     "data": {
      "text/plain": [
       "Text(0, 0.5, 'RMSE value')"
      ]
     },
     "execution_count": 184,
     "metadata": {},
     "output_type": "execute_result"
    },
    {
     "data": {
      "image/png": "[encoded data removed]",
      "text/plain": [
       "<Figure size 864x864 with 1 Axes>"
      ]
     },
     "metadata": {
      "needs_background": "light"
     },
     "output_type": "display_data"
    }
   ],
   "source": [
    "plt.figure(figsize=(12, 12))\n",
    "sns.boxplot(data=cross_df.melt(), x=\"variable\", y=\"value\", showmeans=True, meanprops={\"marker\":\"o\",\n",
    "                       \"markerfacecolor\":\"white\", \n",
    "                       \"markeredgecolor\":\"black\",\n",
    "                      \"markersize\":\"10\"})\n",
    "plt.xlabel(\"Regression Model\")\n",
    "plt.ylabel(\"RMSE value\")"
   ]
  },
  {
   "cell_type": "code",
   "execution_count": 77,
   "id": "a22addd2",
   "metadata": {
    "ExecuteTime": {
     "end_time": "2022-05-27T09:40:07.592106Z",
     "start_time": "2022-05-27T09:40:07.584209Z"
    }
   },
   "outputs": [
    {
     "data": {
      "text/plain": [
       "linear           30535.554359\n",
       "tree             30625.723800\n",
       "random_forest    31291.208117\n",
       "dtype: float64"
      ]
     },
     "execution_count": 77,
     "metadata": {},
     "output_type": "execute_result"
    }
   ],
   "source": [
    "cross_df.mean()"
   ]
  },
  {
   "cell_type": "code",
   "execution_count": 100,
   "id": "c0131846",
   "metadata": {
    "ExecuteTime": {
     "end_time": "2022-05-17T22:10:17.521398Z",
     "start_time": "2022-05-17T22:10:17.513854Z"
    }
   },
   "outputs": [
    {
     "data": {
      "text/plain": [
       "81548.19577464173"
      ]
     },
     "execution_count": 100,
     "metadata": {},
     "output_type": "execute_result"
    }
   ],
   "source": [
    "df[\"harmonized_salary\"].mean()"
   ]
  },
  {
   "cell_type": "code",
   "execution_count": 103,
   "id": "2303de56",
   "metadata": {
    "ExecuteTime": {
     "end_time": "2022-05-17T22:11:14.276800Z",
     "start_time": "2022-05-17T22:11:14.269592Z"
    }
   },
   "outputs": [
    {
     "data": {
      "text/plain": [
       "81759.70989295468"
      ]
     },
     "execution_count": 103,
     "metadata": {},
     "output_type": "execute_result"
    }
   ],
   "source": [
    "y_train.mean()"
   ]
  },
  {
   "cell_type": "markdown",
   "id": "e3eaea29",
   "metadata": {},
   "source": [
    "# Try to predict salary with results of unsupervised learning"
   ]
  },
  {
   "cell_type": "code",
   "execution_count": 40,
   "id": "baf90299",
   "metadata": {
    "ExecuteTime": {
     "end_time": "2022-05-27T08:45:20.330001Z",
     "start_time": "2022-05-27T08:45:20.321785Z"
    }
   },
   "outputs": [],
   "source": [
    "linear = LinearRegression()\n",
    "tree = DecisionTreeRegressor(random_state=29)\n",
    "randomf = RandomForestRegressor(random_state=29)"
   ]
  },
  {
   "cell_type": "code",
   "execution_count": 41,
   "id": "607a4b4d",
   "metadata": {
    "ExecuteTime": {
     "end_time": "2022-05-27T08:45:20.898612Z",
     "start_time": "2022-05-27T08:45:20.886544Z"
    }
   },
   "outputs": [],
   "source": [
    "X_train, X_test, y_train, y_test = train_test_split(\n",
    "    df[\n",
    "        [\n",
    "            \"how_old_are_you\",\n",
    "            \"years_of_experience_in_field\",\n",
    "            \"highest_level_of_education_completed\",\n",
    "            \"gender\",\n",
    "            \"industry\",\n",
    "            \"cluster\",\n",
    "            \"payed\",\n",
    "            #\"adjusted_annual_salary\"\n",
    "        ]\n",
    "    ],\n",
    "    df[\"harmonized_salary\"],\n",
    "    train_size=0.8,\n",
    "    random_state=29\n",
    ")"
   ]
  },
  {
   "cell_type": "code",
   "execution_count": 42,
   "id": "d785f340",
   "metadata": {
    "ExecuteTime": {
     "end_time": "2022-05-27T08:45:22.674193Z",
     "start_time": "2022-05-27T08:45:22.640914Z"
    }
   },
   "outputs": [],
   "source": [
    "X_train_used = pd.get_dummies(X_train)\n",
    "X_test_used = pd.get_dummies(X_test)"
   ]
  },
  {
   "cell_type": "markdown",
   "id": "06657a75",
   "metadata": {},
   "source": [
    "## Linear regression"
   ]
  },
  {
   "cell_type": "code",
   "execution_count": 43,
   "id": "68bf83b4",
   "metadata": {
    "ExecuteTime": {
     "end_time": "2022-05-27T08:45:24.715085Z",
     "start_time": "2022-05-27T08:45:24.678655Z"
    }
   },
   "outputs": [
    {
     "name": "stdout",
     "output_type": "stream",
     "text": [
      "25529.787430392167\n"
     ]
    }
   ],
   "source": [
    "linear.fit(X_train_used, y_train)\n",
    "predictions = linear.predict(X_test_used)\n",
    "rmse = np.sqrt(mean_squared_error(y_true=y_test, y_pred=predictions))\n",
    "print(rmse)"
   ]
  },
  {
   "cell_type": "code",
   "execution_count": 59,
   "id": "e3e0b02c",
   "metadata": {
    "ExecuteTime": {
     "end_time": "2022-05-17T20:06:18.399907Z",
     "start_time": "2022-05-17T20:06:13.761101Z"
    }
   },
   "outputs": [
    {
     "data": {
      "text/plain": [
       "GridSearchCV(estimator=LinearRegression(),\n",
       "             param_grid={'fit_intercept': (True, False),\n",
       "                         'n_jobs': (None, 1, 2, 3, 4, 5),\n",
       "                         'positive': (True, False)})"
      ]
     },
     "execution_count": 59,
     "metadata": {},
     "output_type": "execute_result"
    }
   ],
   "source": [
    "parameters = {\n",
    "    \"fit_intercept\": (True, False),\n",
    "    \"n_jobs\": (None, 1, 2, 3, 4, 5),\n",
    "    \"positive\": (True, False)\n",
    "}\n",
    "\n",
    "clf = GridSearchCV(linear, param_grid=parameters)\n",
    "clf.fit(X_train_used, y_train)"
   ]
  },
  {
   "cell_type": "code",
   "execution_count": 60,
   "id": "f58dc05a",
   "metadata": {
    "ExecuteTime": {
     "end_time": "2022-05-17T20:06:20.417388Z",
     "start_time": "2022-05-17T20:06:20.411276Z"
    }
   },
   "outputs": [
    {
     "data": {
      "text/plain": [
       "LinearRegression(fit_intercept=False, positive=True)"
      ]
     },
     "execution_count": 60,
     "metadata": {},
     "output_type": "execute_result"
    }
   ],
   "source": [
    "clf.best_estimator_"
   ]
  },
  {
   "cell_type": "code",
   "execution_count": 44,
   "id": "a619f273",
   "metadata": {
    "ExecuteTime": {
     "end_time": "2022-05-27T08:45:29.340466Z",
     "start_time": "2022-05-27T08:45:29.254313Z"
    }
   },
   "outputs": [
    {
     "name": "stdout",
     "output_type": "stream",
     "text": [
      "25532.868835258283\n"
     ]
    }
   ],
   "source": [
    "linear_model = LinearRegression(fit_intercept=False, positive=True)\n",
    "linear_model.fit(X_train_used, y_train)\n",
    "predictions = linear_model.predict(X_test_used)\n",
    "rmse = np.sqrt(mean_squared_error(y_true=y_test, y_pred=predictions))\n",
    "print(rmse)"
   ]
  },
  {
   "cell_type": "code",
   "execution_count": 45,
   "id": "5d9dbd89",
   "metadata": {
    "ExecuteTime": {
     "end_time": "2022-05-27T08:57:54.134325Z",
     "start_time": "2022-05-27T08:45:39.010281Z"
    }
   },
   "outputs": [],
   "source": [
    "cross_linear = cross_val_score(linear_model, X_train_used, y_train, scoring=\"neg_root_mean_squared_error\", cv=10)\n",
    "cross_tree = cross_val_score(tree_model, X_train_used, y_train, scoring=\"neg_root_mean_squared_error\", cv=10)\n",
    "cross_random = cross_val_score(randomf_model, X_train_used, y_train, scoring=\"neg_root_mean_squared_error\", cv=10)"
   ]
  },
  {
   "cell_type": "code",
   "execution_count": 46,
   "id": "342d9e28",
   "metadata": {
    "ExecuteTime": {
     "end_time": "2022-05-27T08:57:54.229576Z",
     "start_time": "2022-05-27T08:57:54.226568Z"
    }
   },
   "outputs": [],
   "source": [
    "cross_linear = np.abs(cross_linear)\n",
    "cross_tree = np.abs(cross_tree)\n",
    "cross_random = np.abs(cross_random)"
   ]
  },
  {
   "cell_type": "code",
   "execution_count": 47,
   "id": "a431479f",
   "metadata": {
    "ExecuteTime": {
     "end_time": "2022-05-27T08:57:54.317086Z",
     "start_time": "2022-05-27T08:57:54.305411Z"
    }
   },
   "outputs": [
    {
     "data": {
      "text/html": [
       "<div>\n",
       "<style scoped>\n",
       "    .dataframe tbody tr th:only-of-type {\n",
       "        vertical-align: middle;\n",
       "    }\n",
       "\n",
       "    .dataframe tbody tr th {\n",
       "        vertical-align: top;\n",
       "    }\n",
       "\n",
       "    .dataframe thead th {\n",
       "        text-align: right;\n",
       "    }\n",
       "</style>\n",
       "<table border=\"1\" class=\"dataframe\">\n",
       "  <thead>\n",
       "    <tr style=\"text-align: right;\">\n",
       "      <th></th>\n",
       "      <th>linear</th>\n",
       "      <th>tree</th>\n",
       "      <th>random_forest</th>\n",
       "    </tr>\n",
       "  </thead>\n",
       "  <tbody>\n",
       "    <tr>\n",
       "      <th>0</th>\n",
       "      <td>25318.448092</td>\n",
       "      <td>25298.258405</td>\n",
       "      <td>25790.039862</td>\n",
       "    </tr>\n",
       "    <tr>\n",
       "      <th>1</th>\n",
       "      <td>25205.670380</td>\n",
       "      <td>25188.893858</td>\n",
       "      <td>26000.103762</td>\n",
       "    </tr>\n",
       "    <tr>\n",
       "      <th>2</th>\n",
       "      <td>26172.254406</td>\n",
       "      <td>26090.675436</td>\n",
       "      <td>26301.746116</td>\n",
       "    </tr>\n",
       "    <tr>\n",
       "      <th>3</th>\n",
       "      <td>25884.451629</td>\n",
       "      <td>25458.554133</td>\n",
       "      <td>26092.692641</td>\n",
       "    </tr>\n",
       "    <tr>\n",
       "      <th>4</th>\n",
       "      <td>25899.052295</td>\n",
       "      <td>25414.312534</td>\n",
       "      <td>25835.273667</td>\n",
       "    </tr>\n",
       "    <tr>\n",
       "      <th>5</th>\n",
       "      <td>25262.929945</td>\n",
       "      <td>24793.763108</td>\n",
       "      <td>25683.132738</td>\n",
       "    </tr>\n",
       "    <tr>\n",
       "      <th>6</th>\n",
       "      <td>26044.187954</td>\n",
       "      <td>25685.758505</td>\n",
       "      <td>26212.434431</td>\n",
       "    </tr>\n",
       "    <tr>\n",
       "      <th>7</th>\n",
       "      <td>25980.525140</td>\n",
       "      <td>25792.304110</td>\n",
       "      <td>26935.147798</td>\n",
       "    </tr>\n",
       "    <tr>\n",
       "      <th>8</th>\n",
       "      <td>26063.689259</td>\n",
       "      <td>25752.175421</td>\n",
       "      <td>26191.739132</td>\n",
       "    </tr>\n",
       "    <tr>\n",
       "      <th>9</th>\n",
       "      <td>26322.069513</td>\n",
       "      <td>26273.032850</td>\n",
       "      <td>26561.738912</td>\n",
       "    </tr>\n",
       "  </tbody>\n",
       "</table>\n",
       "</div>"
      ],
      "text/plain": [
       "         linear          tree  random_forest\n",
       "0  25318.448092  25298.258405   25790.039862\n",
       "1  25205.670380  25188.893858   26000.103762\n",
       "2  26172.254406  26090.675436   26301.746116\n",
       "3  25884.451629  25458.554133   26092.692641\n",
       "4  25899.052295  25414.312534   25835.273667\n",
       "5  25262.929945  24793.763108   25683.132738\n",
       "6  26044.187954  25685.758505   26212.434431\n",
       "7  25980.525140  25792.304110   26935.147798\n",
       "8  26063.689259  25752.175421   26191.739132\n",
       "9  26322.069513  26273.032850   26561.738912"
      ]
     },
     "execution_count": 47,
     "metadata": {},
     "output_type": "execute_result"
    }
   ],
   "source": [
    "cross_df = pd.DataFrame([cross_linear, cross_tree, cross_random]).T\n",
    "cross_df.columns = [\"linear\", \"tree\", \"random_forest\"]\n",
    "cross_df"
   ]
  },
  {
   "cell_type": "code",
   "execution_count": 48,
   "id": "ee083040",
   "metadata": {
    "ExecuteTime": {
     "end_time": "2022-05-27T08:57:54.640888Z",
     "start_time": "2022-05-27T08:57:54.412966Z"
    }
   },
   "outputs": [
    {
     "data": {
      "image/png": "[encoded data removed]",
      "text/plain": [
       "<Figure size 1080x720 with 1 Axes>"
      ]
     },
     "metadata": {
      "needs_background": "light"
     },
     "output_type": "display_data"
    }
   ],
   "source": [
    "plt.figure(figsize=(15, 10))\n",
    "sns.lineplot(data=cross_df, x=cross_df.index, y=\"linear\", label=\"linear regression\")\n",
    "sns.lineplot(data=cross_df, x=cross_df.index, y=\"tree\", label=\"decision tree\")\n",
    "sns.lineplot(data=cross_df, x=cross_df.index, y=\"random_forest\", label=\"random forest\")\n",
    "plt.xlabel(\"Cross validation\")\n",
    "plt.ylabel(\"RMSE\")\n",
    "plt.show()"
   ]
  },
  {
   "cell_type": "code",
   "execution_count": 50,
   "id": "67224813",
   "metadata": {
    "ExecuteTime": {
     "end_time": "2022-05-27T09:25:11.214532Z",
     "start_time": "2022-05-27T09:25:11.209002Z"
    }
   },
   "outputs": [
    {
     "data": {
      "text/plain": [
       "25815.327861213118"
      ]
     },
     "execution_count": 50,
     "metadata": {},
     "output_type": "execute_result"
    }
   ],
   "source": [
    "cross_linear.mean()"
   ]
  },
  {
   "cell_type": "code",
   "execution_count": 51,
   "id": "0574bcf8",
   "metadata": {
    "ExecuteTime": {
     "end_time": "2022-05-27T09:25:20.067220Z",
     "start_time": "2022-05-27T09:25:20.060648Z"
    }
   },
   "outputs": [
    {
     "data": {
      "text/plain": [
       "25574.772835946045"
      ]
     },
     "execution_count": 51,
     "metadata": {},
     "output_type": "execute_result"
    }
   ],
   "source": [
    "cross_tree.mean()"
   ]
  },
  {
   "cell_type": "code",
   "execution_count": 49,
   "id": "5e2f25fe",
   "metadata": {
    "ExecuteTime": {
     "end_time": "2022-05-27T09:24:55.278657Z",
     "start_time": "2022-05-27T09:24:55.075502Z"
    }
   },
   "outputs": [
    {
     "data": {
      "text/plain": [
       "<AxesSubplot:xlabel='harmonized_salary'>"
      ]
     },
     "execution_count": 49,
     "metadata": {},
     "output_type": "execute_result"
    },
    {
     "data": {
      "image/png": "[encoded data removed]",
      "text/plain": [
       "<Figure size 432x288 with 1 Axes>"
      ]
     },
     "metadata": {
      "needs_background": "light"
     },
     "output_type": "display_data"
    }
   ],
   "source": [
    "sns.scatterplot(x=y_test, y=predictions)"
   ]
  },
  {
   "cell_type": "markdown",
   "id": "07f1c5fd",
   "metadata": {},
   "source": [
    "## Decision Tree"
   ]
  },
  {
   "cell_type": "code",
   "execution_count": 115,
   "id": "05b1f140",
   "metadata": {
    "ExecuteTime": {
     "end_time": "2022-05-17T22:31:16.546202Z",
     "start_time": "2022-05-17T22:31:16.474725Z"
    }
   },
   "outputs": [
    {
     "name": "stdout",
     "output_type": "stream",
     "text": [
      "31688.804015610756\n"
     ]
    }
   ],
   "source": [
    "tree.fit(X_train_used, y_train)\n",
    "predictions = tree.predict(X_test_used)\n",
    "rmse = np.sqrt(mean_squared_error(y_true=y_test, y_pred=predictions))\n",
    "print(rmse)"
   ]
  },
  {
   "cell_type": "code",
   "execution_count": 76,
   "id": "9bc40ae0",
   "metadata": {
    "ExecuteTime": {
     "end_time": "2022-05-17T20:49:11.262948Z",
     "start_time": "2022-05-17T20:44:27.558220Z"
    }
   },
   "outputs": [
    {
     "ename": "KeyboardInterrupt",
     "evalue": "",
     "output_type": "error",
     "traceback": [
      "\u001b[0;31m---------------------------------------------------------------------------\u001b[0m",
      "\u001b[0;31mKeyboardInterrupt\u001b[0m                         Traceback (most recent call last)",
      "\u001b[0;32m/var/folders/13/2bs52tzx5vb8jg2f094msm5h0000gn/T/ipykernel_75929/731400906.py\u001b[0m in \u001b[0;36m<module>\u001b[0;34m\u001b[0m\n\u001b[1;32m      7\u001b[0m \u001b[0;34m\u001b[0m\u001b[0m\n\u001b[1;32m      8\u001b[0m \u001b[0mclf\u001b[0m \u001b[0;34m=\u001b[0m \u001b[0mGridSearchCV\u001b[0m\u001b[0;34m(\u001b[0m\u001b[0mtree\u001b[0m\u001b[0;34m,\u001b[0m \u001b[0mparam_grid\u001b[0m\u001b[0;34m=\u001b[0m\u001b[0mparameters\u001b[0m\u001b[0;34m)\u001b[0m\u001b[0;34m\u001b[0m\u001b[0;34m\u001b[0m\u001b[0m\n\u001b[0;32m----> 9\u001b[0;31m \u001b[0mclf\u001b[0m\u001b[0;34m.\u001b[0m\u001b[0mfit\u001b[0m\u001b[0;34m(\u001b[0m\u001b[0mX_train_used\u001b[0m\u001b[0;34m,\u001b[0m \u001b[0my_train\u001b[0m\u001b[0;34m)\u001b[0m\u001b[0;34m\u001b[0m\u001b[0;34m\u001b[0m\u001b[0m\n\u001b[0m",
      "\u001b[0;32m/usr/local/lib/python3.9/site-packages/sklearn/model_selection/_search.py\u001b[0m in \u001b[0;36mfit\u001b[0;34m(self, X, y, groups, **fit_params)\u001b[0m\n\u001b[1;32m    889\u001b[0m                 \u001b[0;32mreturn\u001b[0m \u001b[0mresults\u001b[0m\u001b[0;34m\u001b[0m\u001b[0;34m\u001b[0m\u001b[0m\n\u001b[1;32m    890\u001b[0m \u001b[0;34m\u001b[0m\u001b[0m\n\u001b[0;32m--> 891\u001b[0;31m             \u001b[0mself\u001b[0m\u001b[0;34m.\u001b[0m\u001b[0m_run_search\u001b[0m\u001b[0;34m(\u001b[0m\u001b[0mevaluate_candidates\u001b[0m\u001b[0;34m)\u001b[0m\u001b[0;34m\u001b[0m\u001b[0;34m\u001b[0m\u001b[0m\n\u001b[0m\u001b[1;32m    892\u001b[0m \u001b[0;34m\u001b[0m\u001b[0m\n\u001b[1;32m    893\u001b[0m             \u001b[0;31m# multimetric is determined here because in the case of a callable\u001b[0m\u001b[0;34m\u001b[0m\u001b[0;34m\u001b[0m\u001b[0m\n",
      "\u001b[0;32m/usr/local/lib/python3.9/site-packages/sklearn/model_selection/_search.py\u001b[0m in \u001b[0;36m_run_search\u001b[0;34m(self, evaluate_candidates)\u001b[0m\n\u001b[1;32m   1390\u001b[0m     \u001b[0;32mdef\u001b[0m \u001b[0m_run_search\u001b[0m\u001b[0;34m(\u001b[0m\u001b[0mself\u001b[0m\u001b[0;34m,\u001b[0m \u001b[0mevaluate_candidates\u001b[0m\u001b[0;34m)\u001b[0m\u001b[0;34m:\u001b[0m\u001b[0;34m\u001b[0m\u001b[0;34m\u001b[0m\u001b[0m\n\u001b[1;32m   1391\u001b[0m         \u001b[0;34m\"\"\"Search all candidates in param_grid\"\"\"\u001b[0m\u001b[0;34m\u001b[0m\u001b[0;34m\u001b[0m\u001b[0m\n\u001b[0;32m-> 1392\u001b[0;31m         \u001b[0mevaluate_candidates\u001b[0m\u001b[0;34m(\u001b[0m\u001b[0mParameterGrid\u001b[0m\u001b[0;34m(\u001b[0m\u001b[0mself\u001b[0m\u001b[0;34m.\u001b[0m\u001b[0mparam_grid\u001b[0m\u001b[0;34m)\u001b[0m\u001b[0;34m)\u001b[0m\u001b[0;34m\u001b[0m\u001b[0;34m\u001b[0m\u001b[0m\n\u001b[0m\u001b[1;32m   1393\u001b[0m \u001b[0;34m\u001b[0m\u001b[0m\n\u001b[1;32m   1394\u001b[0m \u001b[0;34m\u001b[0m\u001b[0m\n",
      "\u001b[0;32m/usr/local/lib/python3.9/site-packages/sklearn/model_selection/_search.py\u001b[0m in \u001b[0;36mevaluate_candidates\u001b[0;34m(candidate_params, cv, more_results)\u001b[0m\n\u001b[1;32m    836\u001b[0m                     )\n\u001b[1;32m    837\u001b[0m \u001b[0;34m\u001b[0m\u001b[0m\n\u001b[0;32m--> 838\u001b[0;31m                 out = parallel(\n\u001b[0m\u001b[1;32m    839\u001b[0m                     delayed(_fit_and_score)(\n\u001b[1;32m    840\u001b[0m                         \u001b[0mclone\u001b[0m\u001b[0;34m(\u001b[0m\u001b[0mbase_estimator\u001b[0m\u001b[0;34m)\u001b[0m\u001b[0;34m,\u001b[0m\u001b[0;34m\u001b[0m\u001b[0;34m\u001b[0m\u001b[0m\n",
      "\u001b[0;32m/usr/local/lib/python3.9/site-packages/joblib/parallel.py\u001b[0m in \u001b[0;36m__call__\u001b[0;34m(self, iterable)\u001b[0m\n\u001b[1;32m   1044\u001b[0m                 \u001b[0mself\u001b[0m\u001b[0;34m.\u001b[0m\u001b[0m_iterating\u001b[0m \u001b[0;34m=\u001b[0m \u001b[0mself\u001b[0m\u001b[0;34m.\u001b[0m\u001b[0m_original_iterator\u001b[0m \u001b[0;32mis\u001b[0m \u001b[0;32mnot\u001b[0m \u001b[0;32mNone\u001b[0m\u001b[0;34m\u001b[0m\u001b[0;34m\u001b[0m\u001b[0m\n\u001b[1;32m   1045\u001b[0m \u001b[0;34m\u001b[0m\u001b[0m\n\u001b[0;32m-> 1046\u001b[0;31m             \u001b[0;32mwhile\u001b[0m \u001b[0mself\u001b[0m\u001b[0;34m.\u001b[0m\u001b[0mdispatch_one_batch\u001b[0m\u001b[0;34m(\u001b[0m\u001b[0miterator\u001b[0m\u001b[0;34m)\u001b[0m\u001b[0;34m:\u001b[0m\u001b[0;34m\u001b[0m\u001b[0;34m\u001b[0m\u001b[0m\n\u001b[0m\u001b[1;32m   1047\u001b[0m                 \u001b[0;32mpass\u001b[0m\u001b[0;34m\u001b[0m\u001b[0;34m\u001b[0m\u001b[0m\n\u001b[1;32m   1048\u001b[0m \u001b[0;34m\u001b[0m\u001b[0m\n",
      "\u001b[0;32m/usr/local/lib/python3.9/site-packages/joblib/parallel.py\u001b[0m in \u001b[0;36mdispatch_one_batch\u001b[0;34m(self, iterator)\u001b[0m\n\u001b[1;32m    859\u001b[0m                 \u001b[0;32mreturn\u001b[0m \u001b[0;32mFalse\u001b[0m\u001b[0;34m\u001b[0m\u001b[0;34m\u001b[0m\u001b[0m\n\u001b[1;32m    860\u001b[0m             \u001b[0;32melse\u001b[0m\u001b[0;34m:\u001b[0m\u001b[0;34m\u001b[0m\u001b[0;34m\u001b[0m\u001b[0m\n\u001b[0;32m--> 861\u001b[0;31m                 \u001b[0mself\u001b[0m\u001b[0;34m.\u001b[0m\u001b[0m_dispatch\u001b[0m\u001b[0;34m(\u001b[0m\u001b[0mtasks\u001b[0m\u001b[0;34m)\u001b[0m\u001b[0;34m\u001b[0m\u001b[0;34m\u001b[0m\u001b[0m\n\u001b[0m\u001b[1;32m    862\u001b[0m                 \u001b[0;32mreturn\u001b[0m \u001b[0;32mTrue\u001b[0m\u001b[0;34m\u001b[0m\u001b[0;34m\u001b[0m\u001b[0m\n\u001b[1;32m    863\u001b[0m \u001b[0;34m\u001b[0m\u001b[0m\n",
      "\u001b[0;32m/usr/local/lib/python3.9/site-packages/joblib/parallel.py\u001b[0m in \u001b[0;36m_dispatch\u001b[0;34m(self, batch)\u001b[0m\n\u001b[1;32m    777\u001b[0m         \u001b[0;32mwith\u001b[0m \u001b[0mself\u001b[0m\u001b[0;34m.\u001b[0m\u001b[0m_lock\u001b[0m\u001b[0;34m:\u001b[0m\u001b[0;34m\u001b[0m\u001b[0;34m\u001b[0m\u001b[0m\n\u001b[1;32m    778\u001b[0m             \u001b[0mjob_idx\u001b[0m \u001b[0;34m=\u001b[0m \u001b[0mlen\u001b[0m\u001b[0;34m(\u001b[0m\u001b[0mself\u001b[0m\u001b[0;34m.\u001b[0m\u001b[0m_jobs\u001b[0m\u001b[0;34m)\u001b[0m\u001b[0;34m\u001b[0m\u001b[0;34m\u001b[0m\u001b[0m\n\u001b[0;32m--> 779\u001b[0;31m             \u001b[0mjob\u001b[0m \u001b[0;34m=\u001b[0m \u001b[0mself\u001b[0m\u001b[0;34m.\u001b[0m\u001b[0m_backend\u001b[0m\u001b[0;34m.\u001b[0m\u001b[0mapply_async\u001b[0m\u001b[0;34m(\u001b[0m\u001b[0mbatch\u001b[0m\u001b[0;34m,\u001b[0m \u001b[0mcallback\u001b[0m\u001b[0;34m=\u001b[0m\u001b[0mcb\u001b[0m\u001b[0;34m)\u001b[0m\u001b[0;34m\u001b[0m\u001b[0;34m\u001b[0m\u001b[0m\n\u001b[0m\u001b[1;32m    780\u001b[0m             \u001b[0;31m# A job can complete so quickly than its callback is\u001b[0m\u001b[0;34m\u001b[0m\u001b[0;34m\u001b[0m\u001b[0m\n\u001b[1;32m    781\u001b[0m             \u001b[0;31m# called before we get here, causing self._jobs to\u001b[0m\u001b[0;34m\u001b[0m\u001b[0;34m\u001b[0m\u001b[0m\n",
      "\u001b[0;32m/usr/local/lib/python3.9/site-packages/joblib/_parallel_backends.py\u001b[0m in \u001b[0;36mapply_async\u001b[0;34m(self, func, callback)\u001b[0m\n\u001b[1;32m    206\u001b[0m     \u001b[0;32mdef\u001b[0m \u001b[0mapply_async\u001b[0m\u001b[0;34m(\u001b[0m\u001b[0mself\u001b[0m\u001b[0;34m,\u001b[0m \u001b[0mfunc\u001b[0m\u001b[0;34m,\u001b[0m \u001b[0mcallback\u001b[0m\u001b[0;34m=\u001b[0m\u001b[0;32mNone\u001b[0m\u001b[0;34m)\u001b[0m\u001b[0;34m:\u001b[0m\u001b[0;34m\u001b[0m\u001b[0;34m\u001b[0m\u001b[0m\n\u001b[1;32m    207\u001b[0m         \u001b[0;34m\"\"\"Schedule a func to be run\"\"\"\u001b[0m\u001b[0;34m\u001b[0m\u001b[0;34m\u001b[0m\u001b[0m\n\u001b[0;32m--> 208\u001b[0;31m         \u001b[0mresult\u001b[0m \u001b[0;34m=\u001b[0m \u001b[0mImmediateResult\u001b[0m\u001b[0;34m(\u001b[0m\u001b[0mfunc\u001b[0m\u001b[0;34m)\u001b[0m\u001b[0;34m\u001b[0m\u001b[0;34m\u001b[0m\u001b[0m\n\u001b[0m\u001b[1;32m    209\u001b[0m         \u001b[0;32mif\u001b[0m \u001b[0mcallback\u001b[0m\u001b[0;34m:\u001b[0m\u001b[0;34m\u001b[0m\u001b[0;34m\u001b[0m\u001b[0m\n\u001b[1;32m    210\u001b[0m             \u001b[0mcallback\u001b[0m\u001b[0;34m(\u001b[0m\u001b[0mresult\u001b[0m\u001b[0;34m)\u001b[0m\u001b[0;34m\u001b[0m\u001b[0;34m\u001b[0m\u001b[0m\n",
      "\u001b[0;32m/usr/local/lib/python3.9/site-packages/joblib/_parallel_backends.py\u001b[0m in \u001b[0;36m__init__\u001b[0;34m(self, batch)\u001b[0m\n\u001b[1;32m    570\u001b[0m         \u001b[0;31m# Don't delay the application, to avoid keeping the input\u001b[0m\u001b[0;34m\u001b[0m\u001b[0;34m\u001b[0m\u001b[0m\n\u001b[1;32m    571\u001b[0m         \u001b[0;31m# arguments in memory\u001b[0m\u001b[0;34m\u001b[0m\u001b[0;34m\u001b[0m\u001b[0m\n\u001b[0;32m--> 572\u001b[0;31m         \u001b[0mself\u001b[0m\u001b[0;34m.\u001b[0m\u001b[0mresults\u001b[0m \u001b[0;34m=\u001b[0m \u001b[0mbatch\u001b[0m\u001b[0;34m(\u001b[0m\u001b[0;34m)\u001b[0m\u001b[0;34m\u001b[0m\u001b[0;34m\u001b[0m\u001b[0m\n\u001b[0m\u001b[1;32m    573\u001b[0m \u001b[0;34m\u001b[0m\u001b[0m\n\u001b[1;32m    574\u001b[0m     \u001b[0;32mdef\u001b[0m \u001b[0mget\u001b[0m\u001b[0;34m(\u001b[0m\u001b[0mself\u001b[0m\u001b[0;34m)\u001b[0m\u001b[0;34m:\u001b[0m\u001b[0;34m\u001b[0m\u001b[0;34m\u001b[0m\u001b[0m\n",
      "\u001b[0;32m/usr/local/lib/python3.9/site-packages/joblib/parallel.py\u001b[0m in \u001b[0;36m__call__\u001b[0;34m(self)\u001b[0m\n\u001b[1;32m    260\u001b[0m         \u001b[0;31m# change the default number of processes to -1\u001b[0m\u001b[0;34m\u001b[0m\u001b[0;34m\u001b[0m\u001b[0m\n\u001b[1;32m    261\u001b[0m         \u001b[0;32mwith\u001b[0m \u001b[0mparallel_backend\u001b[0m\u001b[0;34m(\u001b[0m\u001b[0mself\u001b[0m\u001b[0;34m.\u001b[0m\u001b[0m_backend\u001b[0m\u001b[0;34m,\u001b[0m \u001b[0mn_jobs\u001b[0m\u001b[0;34m=\u001b[0m\u001b[0mself\u001b[0m\u001b[0;34m.\u001b[0m\u001b[0m_n_jobs\u001b[0m\u001b[0;34m)\u001b[0m\u001b[0;34m:\u001b[0m\u001b[0;34m\u001b[0m\u001b[0;34m\u001b[0m\u001b[0m\n\u001b[0;32m--> 262\u001b[0;31m             return [func(*args, **kwargs)\n\u001b[0m\u001b[1;32m    263\u001b[0m                     for func, args, kwargs in self.items]\n\u001b[1;32m    264\u001b[0m \u001b[0;34m\u001b[0m\u001b[0m\n",
      "\u001b[0;32m/usr/local/lib/python3.9/site-packages/joblib/parallel.py\u001b[0m in \u001b[0;36m<listcomp>\u001b[0;34m(.0)\u001b[0m\n\u001b[1;32m    260\u001b[0m         \u001b[0;31m# change the default number of processes to -1\u001b[0m\u001b[0;34m\u001b[0m\u001b[0;34m\u001b[0m\u001b[0m\n\u001b[1;32m    261\u001b[0m         \u001b[0;32mwith\u001b[0m \u001b[0mparallel_backend\u001b[0m\u001b[0;34m(\u001b[0m\u001b[0mself\u001b[0m\u001b[0;34m.\u001b[0m\u001b[0m_backend\u001b[0m\u001b[0;34m,\u001b[0m \u001b[0mn_jobs\u001b[0m\u001b[0;34m=\u001b[0m\u001b[0mself\u001b[0m\u001b[0;34m.\u001b[0m\u001b[0m_n_jobs\u001b[0m\u001b[0;34m)\u001b[0m\u001b[0;34m:\u001b[0m\u001b[0;34m\u001b[0m\u001b[0;34m\u001b[0m\u001b[0m\n\u001b[0;32m--> 262\u001b[0;31m             return [func(*args, **kwargs)\n\u001b[0m\u001b[1;32m    263\u001b[0m                     for func, args, kwargs in self.items]\n\u001b[1;32m    264\u001b[0m \u001b[0;34m\u001b[0m\u001b[0m\n",
      "\u001b[0;32m/usr/local/lib/python3.9/site-packages/sklearn/utils/fixes.py\u001b[0m in \u001b[0;36m__call__\u001b[0;34m(self, *args, **kwargs)\u001b[0m\n\u001b[1;32m    209\u001b[0m     \u001b[0;32mdef\u001b[0m \u001b[0m__call__\u001b[0m\u001b[0;34m(\u001b[0m\u001b[0mself\u001b[0m\u001b[0;34m,\u001b[0m \u001b[0;34m*\u001b[0m\u001b[0margs\u001b[0m\u001b[0;34m,\u001b[0m \u001b[0;34m**\u001b[0m\u001b[0mkwargs\u001b[0m\u001b[0;34m)\u001b[0m\u001b[0;34m:\u001b[0m\u001b[0;34m\u001b[0m\u001b[0;34m\u001b[0m\u001b[0m\n\u001b[1;32m    210\u001b[0m         \u001b[0;32mwith\u001b[0m \u001b[0mconfig_context\u001b[0m\u001b[0;34m(\u001b[0m\u001b[0;34m**\u001b[0m\u001b[0mself\u001b[0m\u001b[0;34m.\u001b[0m\u001b[0mconfig\u001b[0m\u001b[0;34m)\u001b[0m\u001b[0;34m:\u001b[0m\u001b[0;34m\u001b[0m\u001b[0;34m\u001b[0m\u001b[0m\n\u001b[0;32m--> 211\u001b[0;31m             \u001b[0;32mreturn\u001b[0m \u001b[0mself\u001b[0m\u001b[0;34m.\u001b[0m\u001b[0mfunction\u001b[0m\u001b[0;34m(\u001b[0m\u001b[0;34m*\u001b[0m\u001b[0margs\u001b[0m\u001b[0;34m,\u001b[0m \u001b[0;34m**\u001b[0m\u001b[0mkwargs\u001b[0m\u001b[0;34m)\u001b[0m\u001b[0;34m\u001b[0m\u001b[0;34m\u001b[0m\u001b[0m\n\u001b[0m\u001b[1;32m    212\u001b[0m \u001b[0;34m\u001b[0m\u001b[0m\n\u001b[1;32m    213\u001b[0m \u001b[0;34m\u001b[0m\u001b[0m\n",
      "\u001b[0;32m/usr/local/lib/python3.9/site-packages/sklearn/model_selection/_validation.py\u001b[0m in \u001b[0;36m_fit_and_score\u001b[0;34m(estimator, X, y, scorer, train, test, verbose, parameters, fit_params, return_train_score, return_parameters, return_n_test_samples, return_times, return_estimator, split_progress, candidate_progress, error_score)\u001b[0m\n\u001b[1;32m    679\u001b[0m             \u001b[0mestimator\u001b[0m\u001b[0;34m.\u001b[0m\u001b[0mfit\u001b[0m\u001b[0;34m(\u001b[0m\u001b[0mX_train\u001b[0m\u001b[0;34m,\u001b[0m \u001b[0;34m**\u001b[0m\u001b[0mfit_params\u001b[0m\u001b[0;34m)\u001b[0m\u001b[0;34m\u001b[0m\u001b[0;34m\u001b[0m\u001b[0m\n\u001b[1;32m    680\u001b[0m         \u001b[0;32melse\u001b[0m\u001b[0;34m:\u001b[0m\u001b[0;34m\u001b[0m\u001b[0;34m\u001b[0m\u001b[0m\n\u001b[0;32m--> 681\u001b[0;31m             \u001b[0mestimator\u001b[0m\u001b[0;34m.\u001b[0m\u001b[0mfit\u001b[0m\u001b[0;34m(\u001b[0m\u001b[0mX_train\u001b[0m\u001b[0;34m,\u001b[0m \u001b[0my_train\u001b[0m\u001b[0;34m,\u001b[0m \u001b[0;34m**\u001b[0m\u001b[0mfit_params\u001b[0m\u001b[0;34m)\u001b[0m\u001b[0;34m\u001b[0m\u001b[0;34m\u001b[0m\u001b[0m\n\u001b[0m\u001b[1;32m    682\u001b[0m \u001b[0;34m\u001b[0m\u001b[0m\n\u001b[1;32m    683\u001b[0m     \u001b[0;32mexcept\u001b[0m \u001b[0mException\u001b[0m\u001b[0;34m:\u001b[0m\u001b[0;34m\u001b[0m\u001b[0;34m\u001b[0m\u001b[0m\n",
      "\u001b[0;32m/usr/local/lib/python3.9/site-packages/sklearn/tree/_classes.py\u001b[0m in \u001b[0;36mfit\u001b[0;34m(self, X, y, sample_weight, check_input, X_idx_sorted)\u001b[0m\n\u001b[1;32m   1313\u001b[0m         \"\"\"\n\u001b[1;32m   1314\u001b[0m \u001b[0;34m\u001b[0m\u001b[0m\n\u001b[0;32m-> 1315\u001b[0;31m         super().fit(\n\u001b[0m\u001b[1;32m   1316\u001b[0m             \u001b[0mX\u001b[0m\u001b[0;34m,\u001b[0m\u001b[0;34m\u001b[0m\u001b[0;34m\u001b[0m\u001b[0m\n\u001b[1;32m   1317\u001b[0m             \u001b[0my\u001b[0m\u001b[0;34m,\u001b[0m\u001b[0;34m\u001b[0m\u001b[0;34m\u001b[0m\u001b[0m\n",
      "\u001b[0;32m/usr/local/lib/python3.9/site-packages/sklearn/tree/_classes.py\u001b[0m in \u001b[0;36mfit\u001b[0;34m(self, X, y, sample_weight, check_input, X_idx_sorted)\u001b[0m\n\u001b[1;32m    418\u001b[0m             )\n\u001b[1;32m    419\u001b[0m \u001b[0;34m\u001b[0m\u001b[0m\n\u001b[0;32m--> 420\u001b[0;31m         \u001b[0mbuilder\u001b[0m\u001b[0;34m.\u001b[0m\u001b[0mbuild\u001b[0m\u001b[0;34m(\u001b[0m\u001b[0mself\u001b[0m\u001b[0;34m.\u001b[0m\u001b[0mtree_\u001b[0m\u001b[0;34m,\u001b[0m \u001b[0mX\u001b[0m\u001b[0;34m,\u001b[0m \u001b[0my\u001b[0m\u001b[0;34m,\u001b[0m \u001b[0msample_weight\u001b[0m\u001b[0;34m)\u001b[0m\u001b[0;34m\u001b[0m\u001b[0;34m\u001b[0m\u001b[0m\n\u001b[0m\u001b[1;32m    421\u001b[0m \u001b[0;34m\u001b[0m\u001b[0m\n\u001b[1;32m    422\u001b[0m         \u001b[0;32mif\u001b[0m \u001b[0mself\u001b[0m\u001b[0;34m.\u001b[0m\u001b[0mn_outputs_\u001b[0m \u001b[0;34m==\u001b[0m \u001b[0;36m1\u001b[0m \u001b[0;32mand\u001b[0m \u001b[0mis_classifier\u001b[0m\u001b[0;34m(\u001b[0m\u001b[0mself\u001b[0m\u001b[0;34m)\u001b[0m\u001b[0;34m:\u001b[0m\u001b[0;34m\u001b[0m\u001b[0;34m\u001b[0m\u001b[0m\n",
      "\u001b[0;31mKeyboardInterrupt\u001b[0m: "
     ]
    }
   ],
   "source": [
    "parameters = {\n",
    "    \"criterion\": (\"squared_error\", \"friedman_mse\", \"absolute_error\", \"poisson\"),\n",
    "    \"splitter\": (\"best\", \"random\"),\n",
    "    \"min_weight_fraction_leaf\": (0, 0.0001, 0.001, 0.01, 0.1),\n",
    "    \"max_features\": (\"auto\", \"sqrt\", \"log2\"),\n",
    "}\n",
    "\n",
    "clf = GridSearchCV(tree, param_grid=parameters)\n",
    "clf.fit(X_train_used, y_train)"
   ]
  },
  {
   "cell_type": "markdown",
   "id": "1642d26f",
   "metadata": {},
   "source": [
    "# Predictions of salary level"
   ]
  },
  {
   "cell_type": "code",
   "execution_count": 170,
   "id": "4c612ba0",
   "metadata": {
    "ExecuteTime": {
     "end_time": "2022-05-28T10:09:44.750790Z",
     "start_time": "2022-05-28T10:09:44.722783Z"
    }
   },
   "outputs": [],
   "source": [
    "X_train, X_test, y_train, y_test = train_test_split(\n",
    "    df_used[\n",
    "        [\n",
    "            \"how_old_are_you\",\n",
    "            \"years_of_experience_in_field\",\n",
    "            \"highest_level_of_education_completed\",\n",
    "            \"gender\",\n",
    "            \"industry\",\n",
    "            \"cluster\",\n",
    "            #\"payed\",\n",
    "            #\"adjusted_annual_salary\"\n",
    "        ]\n",
    "    ],\n",
    "    df[\"payed\"],\n",
    "    train_size=0.8,\n",
    "    random_state=29\n",
    ")\n",
    "X_train_used = pd.get_dummies(X_train)\n",
    "X_test_used = pd.get_dummies(X_test)"
   ]
  },
  {
   "cell_type": "code",
   "execution_count": 160,
   "id": "44885e14",
   "metadata": {
    "ExecuteTime": {
     "end_time": "2022-05-28T09:52:21.548285Z",
     "start_time": "2022-05-28T09:52:21.545155Z"
    }
   },
   "outputs": [],
   "source": [
    "from sklearn.linear_model import LogisticRegression\n",
    "from sklearn.ensemble import RandomForestClassifier, AdaBoostClassifier\n",
    "from sklearn.tree import DecisionTreeClassifier\n",
    "from sklearn.neighbors import KNeighborsClassifier\n",
    "from sklearn.metrics import classification_report, confusion_matrix, ConfusionMatrixDisplay\n",
    "from sklearn.svm import SVC"
   ]
  },
  {
   "cell_type": "code",
   "execution_count": 113,
   "id": "713661b0",
   "metadata": {
    "ExecuteTime": {
     "end_time": "2022-05-27T12:44:34.553617Z",
     "start_time": "2022-05-27T12:44:17.609878Z"
    }
   },
   "outputs": [
    {
     "name": "stdout",
     "output_type": "stream",
     "text": [
      "              precision    recall  f1-score   support\n",
      "\n",
      "   bad payed       0.70      0.32      0.44      1404\n",
      "  well payed       0.76      0.94      0.84      3174\n",
      "\n",
      "    accuracy                           0.75      4578\n",
      "   macro avg       0.73      0.63      0.64      4578\n",
      "weighted avg       0.74      0.75      0.72      4578\n",
      "\n"
     ]
    },
    {
     "data": {
      "text/plain": [
       "<sklearn.metrics._plot.confusion_matrix.ConfusionMatrixDisplay at 0x1366b8070>"
      ]
     },
     "execution_count": 113,
     "metadata": {},
     "output_type": "execute_result"
    },
    {
     "data": {
      "image/png": "[encoded data removed]",
      "text/plain": [
       "<Figure size 432x288 with 2 Axes>"
      ]
     },
     "metadata": {
      "needs_background": "light"
     },
     "output_type": "display_data"
    }
   ],
   "source": [
    "svm = SVC()\n",
    "svm.fit(X_train_used, y_train)\n",
    "predictions = svm.predict(X_test_used)\n",
    "print(classification_report(y_true=y_test, y_pred=predictions))\n",
    "cm = confusion_matrix(y_true=y_test, y_pred=predictions, labels=svm.classes_)\n",
    "disp = ConfusionMatrixDisplay(cm, display_labels=svm.classes_)\n",
    "disp.plot()"
   ]
  },
  {
   "cell_type": "code",
   "execution_count": 171,
   "id": "f7140b5b",
   "metadata": {
    "ExecuteTime": {
     "end_time": "2022-05-28T10:09:55.153076Z",
     "start_time": "2022-05-28T10:09:54.661736Z"
    }
   },
   "outputs": [
    {
     "name": "stdout",
     "output_type": "stream",
     "text": [
      "              precision    recall  f1-score   support\n",
      "\n",
      "   bad payed       0.68      0.42      0.52      1404\n",
      "  well payed       0.78      0.91      0.84      3174\n",
      "\n",
      "    accuracy                           0.76      4578\n",
      "   macro avg       0.73      0.66      0.68      4578\n",
      "weighted avg       0.75      0.76      0.74      4578\n",
      "\n"
     ]
    },
    {
     "data": {
      "text/plain": [
       "<sklearn.metrics._plot.confusion_matrix.ConfusionMatrixDisplay at 0x1373bccd0>"
      ]
     },
     "execution_count": 171,
     "metadata": {},
     "output_type": "execute_result"
    },
    {
     "data": {
      "image/png": "[encoded data removed]",
      "text/plain": [
       "<Figure size 432x288 with 2 Axes>"
      ]
     },
     "metadata": {
      "needs_background": "light"
     },
     "output_type": "display_data"
    }
   ],
   "source": [
    "lr = LogisticRegression(max_iter=1000, multi_class='multinomial', solver='sag',\n",
    "                   tol=0.01)\n",
    "lr.fit(X_train_used, y_train)\n",
    "predictions = lr.predict(X_test_used)\n",
    "print(classification_report(y_true=y_test, y_pred=predictions))\n",
    "cm = confusion_matrix(y_true=y_test, y_pred=predictions, labels=lr.classes_)\n",
    "disp = ConfusionMatrixDisplay(cm, display_labels=lr.classes_)\n",
    "disp.plot()"
   ]
  },
  {
   "cell_type": "code",
   "execution_count": 172,
   "id": "453738ba",
   "metadata": {
    "ExecuteTime": {
     "end_time": "2022-05-28T10:10:00.528389Z",
     "start_time": "2022-05-28T10:10:00.511997Z"
    }
   },
   "outputs": [
    {
     "data": {
      "text/plain": [
       "well payed    3714\n",
       "bad payed      864\n",
       "dtype: int64"
      ]
     },
     "execution_count": 172,
     "metadata": {},
     "output_type": "execute_result"
    }
   ],
   "source": [
    "pd.Series(predictions).value_counts()"
   ]
  },
  {
   "cell_type": "code",
   "execution_count": 173,
   "id": "beabb173",
   "metadata": {
    "ExecuteTime": {
     "end_time": "2022-05-28T10:10:01.382873Z",
     "start_time": "2022-05-28T10:10:01.318547Z"
    }
   },
   "outputs": [
    {
     "name": "stdout",
     "output_type": "stream",
     "text": [
      "0.7545603495357728\n",
      "0.7601572739187418\n"
     ]
    }
   ],
   "source": [
    "print(lr.score(X_train_used, y_train))\n",
    "print(lr.score(X_test_used, y_test))"
   ]
  },
  {
   "cell_type": "code",
   "execution_count": 174,
   "id": "7cfdfb0d",
   "metadata": {
    "ExecuteTime": {
     "end_time": "2022-05-28T10:10:03.614145Z",
     "start_time": "2022-05-28T10:10:03.267339Z"
    }
   },
   "outputs": [
    {
     "name": "stdout",
     "output_type": "stream",
     "text": [
      "              precision    recall  f1-score   support\n",
      "\n",
      "   bad payed       0.59      0.48      0.53      1404\n",
      "  well payed       0.79      0.85      0.82      3174\n",
      "\n",
      "    accuracy                           0.74      4578\n",
      "   macro avg       0.69      0.67      0.68      4578\n",
      "weighted avg       0.73      0.74      0.73      4578\n",
      "\n"
     ]
    },
    {
     "data": {
      "text/plain": [
       "<sklearn.metrics._plot.confusion_matrix.ConfusionMatrixDisplay at 0x1373fb0a0>"
      ]
     },
     "execution_count": 174,
     "metadata": {},
     "output_type": "execute_result"
    },
    {
     "data": {
      "image/png": "[encoded data removed]",
      "text/plain": [
       "<Figure size 432x288 with 2 Axes>"
      ]
     },
     "metadata": {
      "needs_background": "light"
     },
     "output_type": "display_data"
    }
   ],
   "source": [
    "dtree = DecisionTreeClassifier()\n",
    "dtree.fit(X_train_used, y_train)\n",
    "predictions = dtree.predict(X_test_used)\n",
    "print(classification_report(y_true=y_test, y_pred=predictions))\n",
    "cm = confusion_matrix(y_true=y_test, y_pred=predictions, labels=lr.classes_)\n",
    "disp = ConfusionMatrixDisplay(cm, display_labels=lr.classes_)\n",
    "disp.plot()"
   ]
  },
  {
   "cell_type": "code",
   "execution_count": 175,
   "id": "703c1270",
   "metadata": {
    "ExecuteTime": {
     "end_time": "2022-05-28T10:10:06.952322Z",
     "start_time": "2022-05-28T10:10:06.632839Z"
    }
   },
   "outputs": [
    {
     "name": "stdout",
     "output_type": "stream",
     "text": [
      "              precision    recall  f1-score   support\n",
      "\n",
      "   bad payed       0.59      0.48      0.53      1404\n",
      "  well payed       0.79      0.85      0.82      3174\n",
      "\n",
      "    accuracy                           0.74      4578\n",
      "   macro avg       0.69      0.67      0.67      4578\n",
      "weighted avg       0.73      0.74      0.73      4578\n",
      "\n"
     ]
    },
    {
     "data": {
      "text/plain": [
       "<sklearn.metrics._plot.confusion_matrix.ConfusionMatrixDisplay at 0x1374dae50>"
      ]
     },
     "execution_count": 175,
     "metadata": {},
     "output_type": "execute_result"
    },
    {
     "data": {
      "image/png": "[encoded data removed]",
      "text/plain": [
       "<Figure size 432x288 with 2 Axes>"
      ]
     },
     "metadata": {
      "needs_background": "light"
     },
     "output_type": "display_data"
    }
   ],
   "source": [
    "rf = DecisionTreeClassifier()\n",
    "rf.fit(X_train_used, y_train)\n",
    "predictions = rf.predict(X_test_used)\n",
    "print(classification_report(y_true=y_test, y_pred=predictions))\n",
    "cm = confusion_matrix(y_true=y_test, y_pred=predictions, labels=lr.classes_)\n",
    "disp = ConfusionMatrixDisplay(cm, display_labels=lr.classes_)\n",
    "disp.plot()"
   ]
  },
  {
   "cell_type": "code",
   "execution_count": 176,
   "id": "bc7c7c42",
   "metadata": {
    "ExecuteTime": {
     "end_time": "2022-05-28T10:11:03.962016Z",
     "start_time": "2022-05-28T10:10:46.234577Z"
    }
   },
   "outputs": [],
   "source": [
    "cross_linear = cross_val_score(lr, X_train_used, y_train, cv=10, scoring=\"accuracy\")\n",
    "cross_tree = cross_val_score(dtree, X_train_used, y_train, cv=10, scoring=\"accuracy\")\n",
    "cross_random = cross_val_score(rf, X_train_used, y_train, cv=10, scoring=\"accuracy\")\n",
    "cross_knn = cross_val_score(KNeighborsClassifier(), X_train_used, y_train, cv=10, scoring=\"accuracy\")\n",
    "cross_ada = cross_val_score(AdaBoostClassifier(), X_train_used, y_train, cv=10, scoring=\"accuracy\")"
   ]
  },
  {
   "cell_type": "code",
   "execution_count": 177,
   "id": "ae2de64e",
   "metadata": {
    "ExecuteTime": {
     "end_time": "2022-05-28T10:11:04.090915Z",
     "start_time": "2022-05-28T10:11:04.083918Z"
    }
   },
   "outputs": [
    {
     "data": {
      "text/plain": [
       "0.7350081922446751"
      ]
     },
     "execution_count": 177,
     "metadata": {},
     "output_type": "execute_result"
    }
   ],
   "source": [
    "np.mean(cross_tree)"
   ]
  },
  {
   "cell_type": "code",
   "execution_count": 180,
   "id": "dc478abe",
   "metadata": {
    "ExecuteTime": {
     "end_time": "2022-05-28T10:12:43.447472Z",
     "start_time": "2022-05-28T10:12:43.221567Z"
    }
   },
   "outputs": [
    {
     "data": {
      "text/plain": [
       "Text(0, 0.5, 'Accuracy Score')"
      ]
     },
     "execution_count": 180,
     "metadata": {},
     "output_type": "execute_result"
    },
    {
     "data": {
      "image/png": "[encoded data removed]",
      "text/plain": [
       "<Figure size 864x864 with 1 Axes>"
      ]
     },
     "metadata": {
      "needs_background": "light"
     },
     "output_type": "display_data"
    }
   ],
   "source": [
    "cross_df = pd.DataFrame([cross_linear, cross_tree, cross_random, cross_knn]).T\n",
    "cross_df.columns = [\"logistic_regression\", \"decision_tree\", \"random_forest\", \"knn\"]\n",
    "plt.figure(figsize=(12, 12))\n",
    "sns.boxplot(data=cross_df.melt(), x=\"variable\", y=\"value\", showmeans=True, meanprops={\"marker\":\"o\",\n",
    "                       \"markerfacecolor\":\"white\", \n",
    "                       \"markeredgecolor\":\"black\",\n",
    "                      \"markersize\":\"10\"})\n",
    "plt.xlabel(\"Classification Model\")\n",
    "plt.ylabel(\"Accuracy Score\")"
   ]
  },
  {
   "cell_type": "code",
   "execution_count": 122,
   "id": "abd35f8c",
   "metadata": {
    "ExecuteTime": {
     "end_time": "2022-05-27T12:46:21.386838Z",
     "start_time": "2022-05-27T12:46:21.378769Z"
    }
   },
   "outputs": [
    {
     "data": {
      "text/plain": [
       "linear           0.752922\n",
       "tree             0.734298\n",
       "random_forest    0.734790\n",
       "dtype: float64"
      ]
     },
     "execution_count": 122,
     "metadata": {},
     "output_type": "execute_result"
    }
   ],
   "source": [
    "cross_df.mean()"
   ]
  },
  {
   "cell_type": "markdown",
   "id": "53acd7a8",
   "metadata": {
    "heading_collapsed": true
   },
   "source": [
    "## Choose best model"
   ]
  },
  {
   "cell_type": "code",
   "execution_count": 165,
   "id": "75607d44",
   "metadata": {
    "ExecuteTime": {
     "end_time": "2022-05-20T09:09:35.621823Z",
     "start_time": "2022-05-20T08:48:51.607373Z"
    },
    "hidden": true
   },
   "outputs": [
    {
     "name": "stderr",
     "output_type": "stream",
     "text": [
      "/usr/local/lib/python3.9/site-packages/sklearn/linear_model/_sag.py:352: ConvergenceWarning: The max_iter was reached which means the coef_ did not converge\n",
      "  warnings.warn(\n",
      "/usr/local/lib/python3.9/site-packages/sklearn/linear_model/_sag.py:352: ConvergenceWarning: The max_iter was reached which means the coef_ did not converge\n",
      "  warnings.warn(\n",
      "/usr/local/lib/python3.9/site-packages/sklearn/linear_model/_sag.py:352: ConvergenceWarning: The max_iter was reached which means the coef_ did not converge\n",
      "  warnings.warn(\n",
      "/usr/local/lib/python3.9/site-packages/sklearn/linear_model/_sag.py:352: ConvergenceWarning: The max_iter was reached which means the coef_ did not converge\n",
      "  warnings.warn(\n",
      "/usr/local/lib/python3.9/site-packages/sklearn/linear_model/_sag.py:352: ConvergenceWarning: The max_iter was reached which means the coef_ did not converge\n",
      "  warnings.warn(\n",
      "/usr/local/lib/python3.9/site-packages/sklearn/linear_model/_sag.py:352: ConvergenceWarning: The max_iter was reached which means the coef_ did not converge\n",
      "  warnings.warn(\n",
      "/usr/local/lib/python3.9/site-packages/sklearn/linear_model/_sag.py:352: ConvergenceWarning: The max_iter was reached which means the coef_ did not converge\n",
      "  warnings.warn(\n",
      "/usr/local/lib/python3.9/site-packages/sklearn/linear_model/_sag.py:352: ConvergenceWarning: The max_iter was reached which means the coef_ did not converge\n",
      "  warnings.warn(\n",
      "/usr/local/lib/python3.9/site-packages/sklearn/linear_model/_sag.py:352: ConvergenceWarning: The max_iter was reached which means the coef_ did not converge\n",
      "  warnings.warn(\n",
      "/usr/local/lib/python3.9/site-packages/sklearn/linear_model/_sag.py:352: ConvergenceWarning: The max_iter was reached which means the coef_ did not converge\n",
      "  warnings.warn(\n",
      "/usr/local/lib/python3.9/site-packages/sklearn/linear_model/_sag.py:352: ConvergenceWarning: The max_iter was reached which means the coef_ did not converge\n",
      "  warnings.warn(\n",
      "/usr/local/lib/python3.9/site-packages/sklearn/linear_model/_sag.py:352: ConvergenceWarning: The max_iter was reached which means the coef_ did not converge\n",
      "  warnings.warn(\n",
      "/usr/local/lib/python3.9/site-packages/sklearn/linear_model/_sag.py:352: ConvergenceWarning: The max_iter was reached which means the coef_ did not converge\n",
      "  warnings.warn(\n",
      "/usr/local/lib/python3.9/site-packages/sklearn/linear_model/_sag.py:352: ConvergenceWarning: The max_iter was reached which means the coef_ did not converge\n",
      "  warnings.warn(\n",
      "/usr/local/lib/python3.9/site-packages/sklearn/linear_model/_sag.py:352: ConvergenceWarning: The max_iter was reached which means the coef_ did not converge\n",
      "  warnings.warn(\n",
      "/usr/local/lib/python3.9/site-packages/sklearn/linear_model/_sag.py:352: ConvergenceWarning: The max_iter was reached which means the coef_ did not converge\n",
      "  warnings.warn(\n",
      "/usr/local/lib/python3.9/site-packages/sklearn/linear_model/_sag.py:352: ConvergenceWarning: The max_iter was reached which means the coef_ did not converge\n",
      "  warnings.warn(\n",
      "/usr/local/lib/python3.9/site-packages/sklearn/linear_model/_sag.py:352: ConvergenceWarning: The max_iter was reached which means the coef_ did not converge\n",
      "  warnings.warn(\n",
      "/usr/local/lib/python3.9/site-packages/sklearn/linear_model/_sag.py:352: ConvergenceWarning: The max_iter was reached which means the coef_ did not converge\n",
      "  warnings.warn(\n",
      "/usr/local/lib/python3.9/site-packages/sklearn/linear_model/_sag.py:352: ConvergenceWarning: The max_iter was reached which means the coef_ did not converge\n",
      "  warnings.warn(\n",
      "/usr/local/lib/python3.9/site-packages/sklearn/linear_model/_sag.py:352: ConvergenceWarning: The max_iter was reached which means the coef_ did not converge\n",
      "  warnings.warn(\n",
      "/usr/local/lib/python3.9/site-packages/sklearn/linear_model/_sag.py:352: ConvergenceWarning: The max_iter was reached which means the coef_ did not converge\n",
      "  warnings.warn(\n",
      "/usr/local/lib/python3.9/site-packages/sklearn/linear_model/_sag.py:352: ConvergenceWarning: The max_iter was reached which means the coef_ did not converge\n",
      "  warnings.warn(\n",
      "/usr/local/lib/python3.9/site-packages/sklearn/linear_model/_sag.py:352: ConvergenceWarning: The max_iter was reached which means the coef_ did not converge\n",
      "  warnings.warn(\n",
      "/usr/local/lib/python3.9/site-packages/sklearn/linear_model/_sag.py:352: ConvergenceWarning: The max_iter was reached which means the coef_ did not converge\n",
      "  warnings.warn(\n",
      "/usr/local/lib/python3.9/site-packages/sklearn/linear_model/_sag.py:352: ConvergenceWarning: The max_iter was reached which means the coef_ did not converge\n",
      "  warnings.warn(\n",
      "/usr/local/lib/python3.9/site-packages/sklearn/linear_model/_sag.py:352: ConvergenceWarning: The max_iter was reached which means the coef_ did not converge\n",
      "  warnings.warn(\n",
      "/usr/local/lib/python3.9/site-packages/sklearn/linear_model/_sag.py:352: ConvergenceWarning: The max_iter was reached which means the coef_ did not converge\n",
      "  warnings.warn(\n",
      "/usr/local/lib/python3.9/site-packages/sklearn/linear_model/_sag.py:352: ConvergenceWarning: The max_iter was reached which means the coef_ did not converge\n",
      "  warnings.warn(\n",
      "/usr/local/lib/python3.9/site-packages/sklearn/linear_model/_sag.py:352: ConvergenceWarning: The max_iter was reached which means the coef_ did not converge\n",
      "  warnings.warn(\n",
      "/usr/local/lib/python3.9/site-packages/sklearn/linear_model/_sag.py:352: ConvergenceWarning: The max_iter was reached which means the coef_ did not converge\n",
      "  warnings.warn(\n",
      "/usr/local/lib/python3.9/site-packages/sklearn/linear_model/_sag.py:352: ConvergenceWarning: The max_iter was reached which means the coef_ did not converge\n",
      "  warnings.warn(\n",
      "/usr/local/lib/python3.9/site-packages/sklearn/linear_model/_sag.py:352: ConvergenceWarning: The max_iter was reached which means the coef_ did not converge\n",
      "  warnings.warn(\n",
      "/usr/local/lib/python3.9/site-packages/sklearn/linear_model/_sag.py:352: ConvergenceWarning: The max_iter was reached which means the coef_ did not converge\n",
      "  warnings.warn(\n",
      "/usr/local/lib/python3.9/site-packages/sklearn/linear_model/_sag.py:352: ConvergenceWarning: The max_iter was reached which means the coef_ did not converge\n",
      "  warnings.warn(\n",
      "/usr/local/lib/python3.9/site-packages/sklearn/linear_model/_sag.py:352: ConvergenceWarning: The max_iter was reached which means the coef_ did not converge\n",
      "  warnings.warn(\n",
      "/usr/local/lib/python3.9/site-packages/sklearn/linear_model/_sag.py:352: ConvergenceWarning: The max_iter was reached which means the coef_ did not converge\n",
      "  warnings.warn(\n",
      "/usr/local/lib/python3.9/site-packages/sklearn/linear_model/_sag.py:352: ConvergenceWarning: The max_iter was reached which means the coef_ did not converge\n",
      "  warnings.warn(\n",
      "/usr/local/lib/python3.9/site-packages/sklearn/linear_model/_sag.py:352: ConvergenceWarning: The max_iter was reached which means the coef_ did not converge\n",
      "  warnings.warn(\n",
      "/usr/local/lib/python3.9/site-packages/sklearn/linear_model/_sag.py:352: ConvergenceWarning: The max_iter was reached which means the coef_ did not converge\n",
      "  warnings.warn(\n",
      "/usr/local/lib/python3.9/site-packages/sklearn/linear_model/_sag.py:352: ConvergenceWarning: The max_iter was reached which means the coef_ did not converge\n",
      "  warnings.warn(\n",
      "/usr/local/lib/python3.9/site-packages/sklearn/linear_model/_sag.py:352: ConvergenceWarning: The max_iter was reached which means the coef_ did not converge\n",
      "  warnings.warn(\n",
      "/usr/local/lib/python3.9/site-packages/sklearn/linear_model/_sag.py:352: ConvergenceWarning: The max_iter was reached which means the coef_ did not converge\n",
      "  warnings.warn(\n",
      "/usr/local/lib/python3.9/site-packages/sklearn/linear_model/_sag.py:352: ConvergenceWarning: The max_iter was reached which means the coef_ did not converge\n",
      "  warnings.warn(\n",
      "/usr/local/lib/python3.9/site-packages/sklearn/linear_model/_sag.py:352: ConvergenceWarning: The max_iter was reached which means the coef_ did not converge\n",
      "  warnings.warn(\n",
      "/usr/local/lib/python3.9/site-packages/sklearn/linear_model/_sag.py:352: ConvergenceWarning: The max_iter was reached which means the coef_ did not converge\n",
      "  warnings.warn(\n",
      "/usr/local/lib/python3.9/site-packages/sklearn/linear_model/_sag.py:352: ConvergenceWarning: The max_iter was reached which means the coef_ did not converge\n",
      "  warnings.warn(\n",
      "/usr/local/lib/python3.9/site-packages/sklearn/linear_model/_sag.py:352: ConvergenceWarning: The max_iter was reached which means the coef_ did not converge\n",
      "  warnings.warn(\n"
     ]
    },
    {
     "name": "stderr",
     "output_type": "stream",
     "text": [
      "/usr/local/lib/python3.9/site-packages/sklearn/linear_model/_sag.py:352: ConvergenceWarning: The max_iter was reached which means the coef_ did not converge\n",
      "  warnings.warn(\n",
      "/usr/local/lib/python3.9/site-packages/sklearn/linear_model/_sag.py:352: ConvergenceWarning: The max_iter was reached which means the coef_ did not converge\n",
      "  warnings.warn(\n",
      "/usr/local/lib/python3.9/site-packages/sklearn/linear_model/_sag.py:352: ConvergenceWarning: The max_iter was reached which means the coef_ did not converge\n",
      "  warnings.warn(\n",
      "/usr/local/lib/python3.9/site-packages/sklearn/linear_model/_sag.py:352: ConvergenceWarning: The max_iter was reached which means the coef_ did not converge\n",
      "  warnings.warn(\n",
      "/usr/local/lib/python3.9/site-packages/sklearn/linear_model/_sag.py:352: ConvergenceWarning: The max_iter was reached which means the coef_ did not converge\n",
      "  warnings.warn(\n",
      "/usr/local/lib/python3.9/site-packages/sklearn/linear_model/_sag.py:352: ConvergenceWarning: The max_iter was reached which means the coef_ did not converge\n",
      "  warnings.warn(\n",
      "/usr/local/lib/python3.9/site-packages/sklearn/linear_model/_sag.py:352: ConvergenceWarning: The max_iter was reached which means the coef_ did not converge\n",
      "  warnings.warn(\n",
      "/usr/local/lib/python3.9/site-packages/sklearn/linear_model/_sag.py:352: ConvergenceWarning: The max_iter was reached which means the coef_ did not converge\n",
      "  warnings.warn(\n",
      "/usr/local/lib/python3.9/site-packages/sklearn/linear_model/_sag.py:352: ConvergenceWarning: The max_iter was reached which means the coef_ did not converge\n",
      "  warnings.warn(\n",
      "/usr/local/lib/python3.9/site-packages/sklearn/linear_model/_sag.py:352: ConvergenceWarning: The max_iter was reached which means the coef_ did not converge\n",
      "  warnings.warn(\n",
      "/usr/local/lib/python3.9/site-packages/sklearn/linear_model/_sag.py:352: ConvergenceWarning: The max_iter was reached which means the coef_ did not converge\n",
      "  warnings.warn(\n",
      "/usr/local/lib/python3.9/site-packages/sklearn/linear_model/_sag.py:352: ConvergenceWarning: The max_iter was reached which means the coef_ did not converge\n",
      "  warnings.warn(\n",
      "/usr/local/lib/python3.9/site-packages/sklearn/linear_model/_sag.py:352: ConvergenceWarning: The max_iter was reached which means the coef_ did not converge\n",
      "  warnings.warn(\n",
      "/usr/local/lib/python3.9/site-packages/sklearn/linear_model/_sag.py:352: ConvergenceWarning: The max_iter was reached which means the coef_ did not converge\n",
      "  warnings.warn(\n",
      "/usr/local/lib/python3.9/site-packages/sklearn/linear_model/_sag.py:352: ConvergenceWarning: The max_iter was reached which means the coef_ did not converge\n",
      "  warnings.warn(\n",
      "/usr/local/lib/python3.9/site-packages/sklearn/linear_model/_sag.py:352: ConvergenceWarning: The max_iter was reached which means the coef_ did not converge\n",
      "  warnings.warn(\n",
      "/usr/local/lib/python3.9/site-packages/sklearn/linear_model/_sag.py:352: ConvergenceWarning: The max_iter was reached which means the coef_ did not converge\n",
      "  warnings.warn(\n",
      "/usr/local/lib/python3.9/site-packages/sklearn/linear_model/_sag.py:352: ConvergenceWarning: The max_iter was reached which means the coef_ did not converge\n",
      "  warnings.warn(\n",
      "/usr/local/lib/python3.9/site-packages/sklearn/linear_model/_sag.py:352: ConvergenceWarning: The max_iter was reached which means the coef_ did not converge\n",
      "  warnings.warn(\n",
      "/usr/local/lib/python3.9/site-packages/sklearn/linear_model/_sag.py:352: ConvergenceWarning: The max_iter was reached which means the coef_ did not converge\n",
      "  warnings.warn(\n",
      "/usr/local/lib/python3.9/site-packages/sklearn/linear_model/_sag.py:352: ConvergenceWarning: The max_iter was reached which means the coef_ did not converge\n",
      "  warnings.warn(\n",
      "/usr/local/lib/python3.9/site-packages/sklearn/model_selection/_validation.py:372: FitFailedWarning: \n",
      "3600 fits failed out of a total of 5400.\n",
      "The score on these train-test partitions for these parameters will be set to nan.\n",
      "If these failures are not expected, you can try to debug them by setting error_score='raise'.\n",
      "\n",
      "Below are more details about the failures:\n",
      "--------------------------------------------------------------------------------\n",
      "450 fits failed with the following error:\n",
      "Traceback (most recent call last):\n",
      "  File \"/usr/local/lib/python3.9/site-packages/sklearn/model_selection/_validation.py\", line 681, in _fit_and_score\n",
      "    estimator.fit(X_train, y_train, **fit_params)\n",
      "  File \"/usr/local/lib/python3.9/site-packages/sklearn/linear_model/_logistic.py\", line 1461, in fit\n",
      "    solver = _check_solver(self.solver, self.penalty, self.dual)\n",
      "  File \"/usr/local/lib/python3.9/site-packages/sklearn/linear_model/_logistic.py\", line 447, in _check_solver\n",
      "    raise ValueError(\n",
      "ValueError: Solver newton-cg supports only 'l2' or 'none' penalties, got l1 penalty.\n",
      "\n",
      "--------------------------------------------------------------------------------\n",
      "450 fits failed with the following error:\n",
      "Traceback (most recent call last):\n",
      "  File \"/usr/local/lib/python3.9/site-packages/sklearn/model_selection/_validation.py\", line 681, in _fit_and_score\n",
      "    estimator.fit(X_train, y_train, **fit_params)\n",
      "  File \"/usr/local/lib/python3.9/site-packages/sklearn/linear_model/_logistic.py\", line 1461, in fit\n",
      "    solver = _check_solver(self.solver, self.penalty, self.dual)\n",
      "  File \"/usr/local/lib/python3.9/site-packages/sklearn/linear_model/_logistic.py\", line 447, in _check_solver\n",
      "    raise ValueError(\n",
      "ValueError: Solver sag supports only 'l2' or 'none' penalties, got l1 penalty.\n",
      "\n",
      "--------------------------------------------------------------------------------\n",
      "450 fits failed with the following error:\n",
      "Traceback (most recent call last):\n",
      "  File \"/usr/local/lib/python3.9/site-packages/sklearn/model_selection/_validation.py\", line 681, in _fit_and_score\n",
      "    estimator.fit(X_train, y_train, **fit_params)\n",
      "  File \"/usr/local/lib/python3.9/site-packages/sklearn/linear_model/_logistic.py\", line 1461, in fit\n",
      "    solver = _check_solver(self.solver, self.penalty, self.dual)\n",
      "  File \"/usr/local/lib/python3.9/site-packages/sklearn/linear_model/_logistic.py\", line 447, in _check_solver\n",
      "    raise ValueError(\n",
      "ValueError: Solver newton-cg supports only 'l2' or 'none' penalties, got elasticnet penalty.\n",
      "\n",
      "--------------------------------------------------------------------------------\n",
      "450 fits failed with the following error:\n",
      "Traceback (most recent call last):\n",
      "  File \"/usr/local/lib/python3.9/site-packages/sklearn/model_selection/_validation.py\", line 681, in _fit_and_score\n",
      "    estimator.fit(X_train, y_train, **fit_params)\n",
      "  File \"/usr/local/lib/python3.9/site-packages/sklearn/linear_model/_logistic.py\", line 1461, in fit\n",
      "    solver = _check_solver(self.solver, self.penalty, self.dual)\n",
      "  File \"/usr/local/lib/python3.9/site-packages/sklearn/linear_model/_logistic.py\", line 447, in _check_solver\n",
      "    raise ValueError(\n",
      "ValueError: Solver sag supports only 'l2' or 'none' penalties, got elasticnet penalty.\n",
      "\n",
      "--------------------------------------------------------------------------------\n",
      "450 fits failed with the following error:\n",
      "Traceback (most recent call last):\n",
      "  File \"/usr/local/lib/python3.9/site-packages/sklearn/model_selection/_validation.py\", line 681, in _fit_and_score\n",
      "    estimator.fit(X_train, y_train, **fit_params)\n",
      "  File \"/usr/local/lib/python3.9/site-packages/sklearn/linear_model/_logistic.py\", line 1471, in fit\n",
      "    raise ValueError(\n",
      "ValueError: l1_ratio must be between 0 and 1; got (l1_ratio=None)\n",
      "\n",
      "--------------------------------------------------------------------------------\n",
      "1350 fits failed with the following error:\n",
      "Traceback (most recent call last):\n",
      "  File \"/usr/local/lib/python3.9/site-packages/sklearn/model_selection/_validation.py\", line 681, in _fit_and_score\n",
      "    estimator.fit(X_train, y_train, **fit_params)\n",
      "  File \"/usr/local/lib/python3.9/site-packages/sklearn/linear_model/_logistic.py\", line 1461, in fit\n",
      "    solver = _check_solver(self.solver, self.penalty, self.dual)\n",
      "  File \"/usr/local/lib/python3.9/site-packages/sklearn/linear_model/_logistic.py\", line 441, in _check_solver\n",
      "    raise ValueError(\n",
      "ValueError: Logistic Regression supports only penalties in ['l1', 'l2', 'elasticnet', 'none'], got None.\n",
      "\n",
      "  warnings.warn(some_fits_failed_message, FitFailedWarning)\n",
      "/usr/local/lib/python3.9/site-packages/sklearn/model_selection/_search.py:969: UserWarning: One or more of the test scores are non-finite: [nan nan nan ... nan nan nan]\n",
      "  warnings.warn(\n"
     ]
    },
    {
     "data": {
      "text/plain": [
       "GridSearchCV(estimator=LogisticRegression(),\n",
       "             param_grid={'fit_intercept': (True, False),\n",
       "                         'max_iter': (100, 1000, 10000),\n",
       "                         'multi_class': ('auto', 'ovr', 'multinomial'),\n",
       "                         'penalty': ('l1', 'l2', 'elasticnet', None),\n",
       "                         'solver': ('newton-cg', 'sag', 'saga'),\n",
       "                         'tol': (1e-05, 0.0001, 0.001, 0.01, 0.1)})"
      ]
     },
     "execution_count": 165,
     "metadata": {},
     "output_type": "execute_result"
    }
   ],
   "source": [
    "parameters = {\n",
    "    \"penalty\": (\"l1\", \"l2\", \"elasticnet\", None),\n",
    "    \"tol\": (0.00001, 0.0001, 0.001, 0.01, 0.1),\n",
    "    \"fit_intercept\": (True, False),\n",
    "    \"solver\": (\"newton-cg\", \"sag\", \"saga\"),\n",
    "    \"max_iter\": (100, 1000, 10000),\n",
    "    \"multi_class\": (\"auto\", \"ovr\", \"multinomial\"),\n",
    "}\n",
    "\n",
    "clf = GridSearchCV(lr, param_grid=parameters)\n",
    "clf.fit(X_train_used, y_train)"
   ]
  },
  {
   "cell_type": "code",
   "execution_count": 166,
   "id": "7e270cf4",
   "metadata": {
    "ExecuteTime": {
     "end_time": "2022-05-20T09:10:20.168731Z",
     "start_time": "2022-05-20T09:10:20.161544Z"
    },
    "hidden": true
   },
   "outputs": [
    {
     "data": {
      "text/plain": [
       "LogisticRegression(max_iter=1000, multi_class='multinomial', solver='sag',\n",
       "                   tol=0.01)"
      ]
     },
     "execution_count": 166,
     "metadata": {},
     "output_type": "execute_result"
    }
   ],
   "source": [
    "clf.best_estimator_"
   ]
  },
  {
   "cell_type": "code",
   "execution_count": 167,
   "id": "cec3f441",
   "metadata": {
    "ExecuteTime": {
     "end_time": "2022-05-20T09:10:46.497007Z",
     "start_time": "2022-05-20T09:10:45.232539Z"
    },
    "hidden": true
   },
   "outputs": [
    {
     "name": "stdout",
     "output_type": "stream",
     "text": [
      "                 precision    recall  f1-score   support\n",
      "\n",
      "      bad payed       0.65      0.46      0.54      1404\n",
      "very well payed       0.57      0.23      0.33       755\n",
      "     well payed       0.60      0.82      0.69      2419\n",
      "\n",
      "       accuracy                           0.61      4578\n",
      "      macro avg       0.61      0.50      0.52      4578\n",
      "   weighted avg       0.61      0.61      0.59      4578\n",
      "\n"
     ]
    },
    {
     "data": {
      "text/plain": [
       "<sklearn.metrics._plot.confusion_matrix.ConfusionMatrixDisplay at 0x136862a30>"
      ]
     },
     "execution_count": 167,
     "metadata": {},
     "output_type": "execute_result"
    },
    {
     "data": {
      "image/png": "[encoded data removed]",
      "text/plain": [
       "<Figure size 432x288 with 2 Axes>"
      ]
     },
     "metadata": {
      "needs_background": "light"
     },
     "output_type": "display_data"
    }
   ],
   "source": [
    "lr = LogisticRegression(max_iter=1000, multi_class='multinomial', solver='sag',\n",
    "                   tol=0.01)\n",
    "lr.fit(X_train_used, y_train)\n",
    "predictions = lr.predict(X_test_used)\n",
    "print(classification_report(y_true=y_test, y_pred=predictions))\n",
    "cm = confusion_matrix(y_true=y_test, y_pred=predictions, labels=lr.classes_)\n",
    "disp = ConfusionMatrixDisplay(cm, display_labels=lr.classes_)\n",
    "disp.plot()"
   ]
  },
  {
   "cell_type": "code",
   "execution_count": null,
   "id": "aa50305e",
   "metadata": {
    "hidden": true
   },
   "outputs": [],
   "source": []
  }
 ],
 "metadata": {
  "hide_input": false,
  "kernelspec": {
   "display_name": "Python 3 (ipykernel)",
   "language": "python",
   "name": "python3"
  },
  "language_info": {
   "codemirror_mode": {
    "name": "ipython",
    "version": 3
   },
   "file_extension": ".py",
   "mimetype": "text/x-python",
   "name": "python",
   "nbconvert_exporter": "python",
   "pygments_lexer": "ipython3",
   "version": "3.9.8"
  },
  "latex_envs": {
   "LaTeX_envs_menu_present": true,
   "autoclose": false,
   "autocomplete": true,
   "bibliofile": "biblio.bib",
   "cite_by": "apalike",
   "current_citInitial": 1,
   "eqLabelWithNumbers": true,
   "eqNumInitial": 1,
   "hotkeys": {
    "equation": "Ctrl-E",
    "itemize": "Ctrl-I"
   },
   "labels_anchors": false,
   "latex_user_defs": false,
   "report_style_numbering": false,
   "user_envs_cfg": false
  },
  "toc": {
   "base_numbering": 1,
   "nav_menu": {},
   "number_sections": true,
   "sideBar": true,
   "skip_h1_title": false,
   "title_cell": "Table of Contents",
   "title_sidebar": "Contents",
   "toc_cell": false,
   "toc_position": {},
   "toc_section_display": true,
   "toc_window_display": false
  },
  "varInspector": {
   "cols": {
    "lenName": 16,
    "lenType": 16,
    "lenVar": 40
   },
   "kernels_config": {
    "python": {
     "delete_cmd_postfix": "",
     "delete_cmd_prefix": "del ",
     "library": "var_list.py",
     "varRefreshCmd": "print(var_dic_list())"
    },
    "r": {
     "delete_cmd_postfix": ") ",
     "delete_cmd_prefix": "rm(",
     "library": "var_list.r",
     "varRefreshCmd": "cat(var_dic_list()) "
    }
   },
   "position": {
    "height": "762.847px",
    "left": "1492.66px",
    "right": "20px",
    "top": "120px",
    "width": "354.002px"
   },
   "types_to_exclude": [
    "module",
    "function",
    "builtin_function_or_method",
    "instance",
    "_Feature"
   ],
   "window_display": false
  }
 },
 "nbformat": 4,
 "nbformat_minor": 5
}
