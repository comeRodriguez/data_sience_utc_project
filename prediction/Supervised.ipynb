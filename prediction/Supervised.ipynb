{
 "cells": [
  {
   "cell_type": "code",
   "execution_count": 43,
   "metadata": {},
   "outputs": [],
   "source": [
    "import seaborn as sns\n",
    "import matplotlib.pyplot as plt\n",
    "import pandas as pd\n",
    "import numpy as np\n",
    "import pandas as pd\n",
    "import numpy as np\n",
    "import copy\n",
    "import bisect\n",
    "from scipy import optimize as opt\n",
    "from sklearn.linear_model import LinearRegression\n",
    "from math import *\n",
    "from sklearn.ensemble import RandomForestRegressor, RandomForestClassifier\n",
    "from sklearn.neighbors import KNeighborsClassifier, KNeighborsRegressor\n",
    "from sklearn.linear_model import LogisticRegression, LogisticRegressionCV\n",
    "from sklearn.tree import DecisionTreeClassifier\n",
    "from sklearn.model_selection import train_test_split\n",
    "from sklearn.metrics import accuracy_score, mean_squared_error, ConfusionMatrixDisplay, confusion_matrix"
   ]
  },
  {
   "cell_type": "code",
   "execution_count": 135,
   "metadata": {},
   "outputs": [
    {
     "data": {
      "text/html": [
       "<div>\n",
       "<style scoped>\n",
       "    .dataframe tbody tr th:only-of-type {\n",
       "        vertical-align: middle;\n",
       "    }\n",
       "\n",
       "    .dataframe tbody tr th {\n",
       "        vertical-align: top;\n",
       "    }\n",
       "\n",
       "    .dataframe thead th {\n",
       "        text-align: right;\n",
       "    }\n",
       "</style>\n",
       "<table border=\"1\" class=\"dataframe\">\n",
       "  <thead>\n",
       "    <tr style=\"text-align: right;\">\n",
       "      <th></th>\n",
       "      <th>how_old_are_you</th>\n",
       "      <th>adjusted_annual_salary</th>\n",
       "      <th>annual_salary</th>\n",
       "      <th>overall_years_of_professional_experience</th>\n",
       "      <th>years_of_experience_in_field</th>\n",
       "      <th>highest_level_of_education_completed</th>\n",
       "      <th>gender</th>\n",
       "      <th>industry</th>\n",
       "      <th>harmonized_salary</th>\n",
       "    </tr>\n",
       "  </thead>\n",
       "  <tbody>\n",
       "    <tr>\n",
       "      <th>0</th>\n",
       "      <td>25-34</td>\n",
       "      <td>0.885018</td>\n",
       "      <td>55000.0</td>\n",
       "      <td>5-7 years</td>\n",
       "      <td>5-7 years</td>\n",
       "      <td>Master's degree</td>\n",
       "      <td>Woman</td>\n",
       "      <td>Education</td>\n",
       "      <td>55000.0</td>\n",
       "    </tr>\n",
       "    <tr>\n",
       "      <th>1</th>\n",
       "      <td>25-34</td>\n",
       "      <td>1.793468</td>\n",
       "      <td>54600.0</td>\n",
       "      <td>8 - 10 years</td>\n",
       "      <td>5-7 years</td>\n",
       "      <td>College degree</td>\n",
       "      <td>Non-binary</td>\n",
       "      <td>Technology &amp; Science</td>\n",
       "      <td>68796.0</td>\n",
       "    </tr>\n",
       "    <tr>\n",
       "      <th>2</th>\n",
       "      <td>25-34</td>\n",
       "      <td>0.547102</td>\n",
       "      <td>34000.0</td>\n",
       "      <td>2 - 4 years</td>\n",
       "      <td>2 - 4 years</td>\n",
       "      <td>College degree</td>\n",
       "      <td>Woman</td>\n",
       "      <td>Banking &amp; Insurance</td>\n",
       "      <td>34000.0</td>\n",
       "    </tr>\n",
       "    <tr>\n",
       "      <th>3</th>\n",
       "      <td>25-34</td>\n",
       "      <td>0.997657</td>\n",
       "      <td>62000.0</td>\n",
       "      <td>8 - 10 years</td>\n",
       "      <td>5-7 years</td>\n",
       "      <td>College degree</td>\n",
       "      <td>Woman</td>\n",
       "      <td>Non profit Organization</td>\n",
       "      <td>62000.0</td>\n",
       "    </tr>\n",
       "    <tr>\n",
       "      <th>4</th>\n",
       "      <td>25-34</td>\n",
       "      <td>0.965475</td>\n",
       "      <td>60000.0</td>\n",
       "      <td>8 - 10 years</td>\n",
       "      <td>5-7 years</td>\n",
       "      <td>College degree</td>\n",
       "      <td>Woman</td>\n",
       "      <td>Banking &amp; Insurance</td>\n",
       "      <td>60000.0</td>\n",
       "    </tr>\n",
       "    <tr>\n",
       "      <th>...</th>\n",
       "      <td>...</td>\n",
       "      <td>...</td>\n",
       "      <td>...</td>\n",
       "      <td>...</td>\n",
       "      <td>...</td>\n",
       "      <td>...</td>\n",
       "      <td>...</td>\n",
       "      <td>...</td>\n",
       "      <td>...</td>\n",
       "    </tr>\n",
       "    <tr>\n",
       "      <th>22883</th>\n",
       "      <td>25-34</td>\n",
       "      <td>1.367756</td>\n",
       "      <td>85000.0</td>\n",
       "      <td>5-7 years</td>\n",
       "      <td>5-7 years</td>\n",
       "      <td>College degree</td>\n",
       "      <td>Woman</td>\n",
       "      <td>Unidentified</td>\n",
       "      <td>85000.0</td>\n",
       "    </tr>\n",
       "    <tr>\n",
       "      <th>22884</th>\n",
       "      <td>35-44</td>\n",
       "      <td>0.643650</td>\n",
       "      <td>40000.0</td>\n",
       "      <td>11 - 20 years</td>\n",
       "      <td>2 - 4 years</td>\n",
       "      <td>College degree</td>\n",
       "      <td>Woman</td>\n",
       "      <td>Non profit Organization</td>\n",
       "      <td>40000.0</td>\n",
       "    </tr>\n",
       "    <tr>\n",
       "      <th>22885</th>\n",
       "      <td>25-34</td>\n",
       "      <td>2.381504</td>\n",
       "      <td>148000.0</td>\n",
       "      <td>11 - 20 years</td>\n",
       "      <td>11 - 20 years</td>\n",
       "      <td>Master's degree</td>\n",
       "      <td>Woman</td>\n",
       "      <td>Technology &amp; Science</td>\n",
       "      <td>148000.0</td>\n",
       "    </tr>\n",
       "    <tr>\n",
       "      <th>22886</th>\n",
       "      <td>25-34</td>\n",
       "      <td>1.045931</td>\n",
       "      <td>65000.0</td>\n",
       "      <td>2 - 4 years</td>\n",
       "      <td>2 - 4 years</td>\n",
       "      <td>College degree</td>\n",
       "      <td>Woman</td>\n",
       "      <td>Advertising</td>\n",
       "      <td>65000.0</td>\n",
       "    </tr>\n",
       "    <tr>\n",
       "      <th>22887</th>\n",
       "      <td>35-44</td>\n",
       "      <td>2.352411</td>\n",
       "      <td>146192.0</td>\n",
       "      <td>11 - 20 years</td>\n",
       "      <td>8 - 10 years</td>\n",
       "      <td>Master's degree</td>\n",
       "      <td>Woman</td>\n",
       "      <td>Law</td>\n",
       "      <td>146192.0</td>\n",
       "    </tr>\n",
       "  </tbody>\n",
       "</table>\n",
       "<p>22888 rows × 9 columns</p>\n",
       "</div>"
      ],
      "text/plain": [
       "      how_old_are_you  adjusted_annual_salary  annual_salary  \\\n",
       "0               25-34                0.885018        55000.0   \n",
       "1               25-34                1.793468        54600.0   \n",
       "2               25-34                0.547102        34000.0   \n",
       "3               25-34                0.997657        62000.0   \n",
       "4               25-34                0.965475        60000.0   \n",
       "...               ...                     ...            ...   \n",
       "22883           25-34                1.367756        85000.0   \n",
       "22884           35-44                0.643650        40000.0   \n",
       "22885           25-34                2.381504       148000.0   \n",
       "22886           25-34                1.045931        65000.0   \n",
       "22887           35-44                2.352411       146192.0   \n",
       "\n",
       "      overall_years_of_professional_experience years_of_experience_in_field  \\\n",
       "0                                    5-7 years                    5-7 years   \n",
       "1                                 8 - 10 years                    5-7 years   \n",
       "2                                  2 - 4 years                  2 - 4 years   \n",
       "3                                 8 - 10 years                    5-7 years   \n",
       "4                                 8 - 10 years                    5-7 years   \n",
       "...                                        ...                          ...   \n",
       "22883                                5-7 years                    5-7 years   \n",
       "22884                            11 - 20 years                  2 - 4 years   \n",
       "22885                            11 - 20 years                11 - 20 years   \n",
       "22886                              2 - 4 years                  2 - 4 years   \n",
       "22887                            11 - 20 years                 8 - 10 years   \n",
       "\n",
       "      highest_level_of_education_completed      gender  \\\n",
       "0                          Master's degree       Woman   \n",
       "1                           College degree  Non-binary   \n",
       "2                           College degree       Woman   \n",
       "3                           College degree       Woman   \n",
       "4                           College degree       Woman   \n",
       "...                                    ...         ...   \n",
       "22883                       College degree       Woman   \n",
       "22884                       College degree       Woman   \n",
       "22885                      Master's degree       Woman   \n",
       "22886                       College degree       Woman   \n",
       "22887                      Master's degree       Woman   \n",
       "\n",
       "                      industry  harmonized_salary  \n",
       "0                    Education            55000.0  \n",
       "1         Technology & Science            68796.0  \n",
       "2          Banking & Insurance            34000.0  \n",
       "3      Non profit Organization            62000.0  \n",
       "4          Banking & Insurance            60000.0  \n",
       "...                        ...                ...  \n",
       "22883             Unidentified            85000.0  \n",
       "22884  Non profit Organization            40000.0  \n",
       "22885     Technology & Science           148000.0  \n",
       "22886              Advertising            65000.0  \n",
       "22887                      Law           146192.0  \n",
       "\n",
       "[22888 rows x 9 columns]"
      ]
     },
     "execution_count": 135,
     "metadata": {},
     "output_type": "execute_result"
    }
   ],
   "source": [
    "#df = pd.read_csv(\"data_final.csv\")\n",
    "df = pd.read_csv(\"clean_data_2.csv\")\n",
    "df = df.drop(\n",
    "        \"Unnamed: 0\",\n",
    "    axis=1\n",
    ")\n",
    "df"
   ]
  },
  {
   "cell_type": "code",
   "execution_count": 136,
   "metadata": {},
   "outputs": [
    {
     "data": {
      "text/html": [
       "<div>\n",
       "<style scoped>\n",
       "    .dataframe tbody tr th:only-of-type {\n",
       "        vertical-align: middle;\n",
       "    }\n",
       "\n",
       "    .dataframe tbody tr th {\n",
       "        vertical-align: top;\n",
       "    }\n",
       "\n",
       "    .dataframe thead th {\n",
       "        text-align: right;\n",
       "    }\n",
       "</style>\n",
       "<table border=\"1\" class=\"dataframe\">\n",
       "  <thead>\n",
       "    <tr style=\"text-align: right;\">\n",
       "      <th></th>\n",
       "      <th>adjusted_annual_salary</th>\n",
       "      <th>annual_salary</th>\n",
       "      <th>harmonized_salary</th>\n",
       "    </tr>\n",
       "  </thead>\n",
       "  <tbody>\n",
       "    <tr>\n",
       "      <th>count</th>\n",
       "      <td>22888.000000</td>\n",
       "      <td>22888.000000</td>\n",
       "      <td>22888.000000</td>\n",
       "    </tr>\n",
       "    <tr>\n",
       "      <th>mean</th>\n",
       "      <td>1.427152</td>\n",
       "      <td>82259.401870</td>\n",
       "      <td>81548.195775</td>\n",
       "    </tr>\n",
       "    <tr>\n",
       "      <th>std</th>\n",
       "      <td>1.529510</td>\n",
       "      <td>36869.915141</td>\n",
       "      <td>36441.294843</td>\n",
       "    </tr>\n",
       "    <tr>\n",
       "      <th>min</th>\n",
       "      <td>0.000000</td>\n",
       "      <td>10000.000000</td>\n",
       "      <td>12084.000000</td>\n",
       "    </tr>\n",
       "    <tr>\n",
       "      <th>25%</th>\n",
       "      <td>0.933292</td>\n",
       "      <td>54499.000000</td>\n",
       "      <td>54000.000000</td>\n",
       "    </tr>\n",
       "    <tr>\n",
       "      <th>50%</th>\n",
       "      <td>1.284867</td>\n",
       "      <td>75000.000000</td>\n",
       "      <td>74000.000000</td>\n",
       "    </tr>\n",
       "    <tr>\n",
       "      <th>75%</th>\n",
       "      <td>1.757164</td>\n",
       "      <td>104000.000000</td>\n",
       "      <td>102700.000000</td>\n",
       "    </tr>\n",
       "    <tr>\n",
       "      <th>max</th>\n",
       "      <td>130.616510</td>\n",
       "      <td>188000.000000</td>\n",
       "      <td>233100.000000</td>\n",
       "    </tr>\n",
       "  </tbody>\n",
       "</table>\n",
       "</div>"
      ],
      "text/plain": [
       "       adjusted_annual_salary  annual_salary  harmonized_salary\n",
       "count            22888.000000   22888.000000       22888.000000\n",
       "mean                 1.427152   82259.401870       81548.195775\n",
       "std                  1.529510   36869.915141       36441.294843\n",
       "min                  0.000000   10000.000000       12084.000000\n",
       "25%                  0.933292   54499.000000       54000.000000\n",
       "50%                  1.284867   75000.000000       74000.000000\n",
       "75%                  1.757164  104000.000000      102700.000000\n",
       "max                130.616510  188000.000000      233100.000000"
      ]
     },
     "execution_count": 136,
     "metadata": {},
     "output_type": "execute_result"
    }
   ],
   "source": [
    "df.describe()"
   ]
  },
  {
   "cell_type": "code",
   "execution_count": 46,
   "metadata": {},
   "outputs": [],
   "source": [
    "#df.harmonized_salary.quantile([0.33,0.66])"
   ]
  },
  {
   "cell_type": "code",
   "execution_count": 137,
   "metadata": {},
   "outputs": [],
   "source": [
    "df['real_label']= 0\n",
    "#mask_label = df['harmonized_salary'] > 75000\n",
    "mask_label = df['adjusted_annual_salary'] > 1\n",
    "df.loc[mask_label, 'real_label'] = 1"
   ]
  },
  {
   "cell_type": "code",
   "execution_count": 138,
   "metadata": {},
   "outputs": [
    {
     "data": {
      "text/html": [
       "<div>\n",
       "<style scoped>\n",
       "    .dataframe tbody tr th:only-of-type {\n",
       "        vertical-align: middle;\n",
       "    }\n",
       "\n",
       "    .dataframe tbody tr th {\n",
       "        vertical-align: top;\n",
       "    }\n",
       "\n",
       "    .dataframe thead th {\n",
       "        text-align: right;\n",
       "    }\n",
       "</style>\n",
       "<table border=\"1\" class=\"dataframe\">\n",
       "  <thead>\n",
       "    <tr style=\"text-align: right;\">\n",
       "      <th></th>\n",
       "      <th>how_old_are_you</th>\n",
       "      <th>adjusted_annual_salary</th>\n",
       "      <th>annual_salary</th>\n",
       "      <th>overall_years_of_professional_experience</th>\n",
       "      <th>years_of_experience_in_field</th>\n",
       "      <th>highest_level_of_education_completed</th>\n",
       "      <th>gender</th>\n",
       "      <th>industry</th>\n",
       "      <th>harmonized_salary</th>\n",
       "      <th>real_label</th>\n",
       "    </tr>\n",
       "  </thead>\n",
       "  <tbody>\n",
       "    <tr>\n",
       "      <th>0</th>\n",
       "      <td>25-34</td>\n",
       "      <td>0.885018</td>\n",
       "      <td>55000.0</td>\n",
       "      <td>5-7 years</td>\n",
       "      <td>5-7 years</td>\n",
       "      <td>Master's degree</td>\n",
       "      <td>Woman</td>\n",
       "      <td>Education</td>\n",
       "      <td>55000.0</td>\n",
       "      <td>0</td>\n",
       "    </tr>\n",
       "    <tr>\n",
       "      <th>1</th>\n",
       "      <td>25-34</td>\n",
       "      <td>1.793468</td>\n",
       "      <td>54600.0</td>\n",
       "      <td>8 - 10 years</td>\n",
       "      <td>5-7 years</td>\n",
       "      <td>College degree</td>\n",
       "      <td>Non-binary</td>\n",
       "      <td>Technology &amp; Science</td>\n",
       "      <td>68796.0</td>\n",
       "      <td>1</td>\n",
       "    </tr>\n",
       "    <tr>\n",
       "      <th>2</th>\n",
       "      <td>25-34</td>\n",
       "      <td>0.547102</td>\n",
       "      <td>34000.0</td>\n",
       "      <td>2 - 4 years</td>\n",
       "      <td>2 - 4 years</td>\n",
       "      <td>College degree</td>\n",
       "      <td>Woman</td>\n",
       "      <td>Banking &amp; Insurance</td>\n",
       "      <td>34000.0</td>\n",
       "      <td>0</td>\n",
       "    </tr>\n",
       "    <tr>\n",
       "      <th>3</th>\n",
       "      <td>25-34</td>\n",
       "      <td>0.997657</td>\n",
       "      <td>62000.0</td>\n",
       "      <td>8 - 10 years</td>\n",
       "      <td>5-7 years</td>\n",
       "      <td>College degree</td>\n",
       "      <td>Woman</td>\n",
       "      <td>Non profit Organization</td>\n",
       "      <td>62000.0</td>\n",
       "      <td>0</td>\n",
       "    </tr>\n",
       "    <tr>\n",
       "      <th>4</th>\n",
       "      <td>25-34</td>\n",
       "      <td>0.965475</td>\n",
       "      <td>60000.0</td>\n",
       "      <td>8 - 10 years</td>\n",
       "      <td>5-7 years</td>\n",
       "      <td>College degree</td>\n",
       "      <td>Woman</td>\n",
       "      <td>Banking &amp; Insurance</td>\n",
       "      <td>60000.0</td>\n",
       "      <td>0</td>\n",
       "    </tr>\n",
       "    <tr>\n",
       "      <th>...</th>\n",
       "      <td>...</td>\n",
       "      <td>...</td>\n",
       "      <td>...</td>\n",
       "      <td>...</td>\n",
       "      <td>...</td>\n",
       "      <td>...</td>\n",
       "      <td>...</td>\n",
       "      <td>...</td>\n",
       "      <td>...</td>\n",
       "      <td>...</td>\n",
       "    </tr>\n",
       "    <tr>\n",
       "      <th>22883</th>\n",
       "      <td>25-34</td>\n",
       "      <td>1.367756</td>\n",
       "      <td>85000.0</td>\n",
       "      <td>5-7 years</td>\n",
       "      <td>5-7 years</td>\n",
       "      <td>College degree</td>\n",
       "      <td>Woman</td>\n",
       "      <td>Unidentified</td>\n",
       "      <td>85000.0</td>\n",
       "      <td>1</td>\n",
       "    </tr>\n",
       "    <tr>\n",
       "      <th>22884</th>\n",
       "      <td>35-44</td>\n",
       "      <td>0.643650</td>\n",
       "      <td>40000.0</td>\n",
       "      <td>11 - 20 years</td>\n",
       "      <td>2 - 4 years</td>\n",
       "      <td>College degree</td>\n",
       "      <td>Woman</td>\n",
       "      <td>Non profit Organization</td>\n",
       "      <td>40000.0</td>\n",
       "      <td>0</td>\n",
       "    </tr>\n",
       "    <tr>\n",
       "      <th>22885</th>\n",
       "      <td>25-34</td>\n",
       "      <td>2.381504</td>\n",
       "      <td>148000.0</td>\n",
       "      <td>11 - 20 years</td>\n",
       "      <td>11 - 20 years</td>\n",
       "      <td>Master's degree</td>\n",
       "      <td>Woman</td>\n",
       "      <td>Technology &amp; Science</td>\n",
       "      <td>148000.0</td>\n",
       "      <td>1</td>\n",
       "    </tr>\n",
       "    <tr>\n",
       "      <th>22886</th>\n",
       "      <td>25-34</td>\n",
       "      <td>1.045931</td>\n",
       "      <td>65000.0</td>\n",
       "      <td>2 - 4 years</td>\n",
       "      <td>2 - 4 years</td>\n",
       "      <td>College degree</td>\n",
       "      <td>Woman</td>\n",
       "      <td>Advertising</td>\n",
       "      <td>65000.0</td>\n",
       "      <td>1</td>\n",
       "    </tr>\n",
       "    <tr>\n",
       "      <th>22887</th>\n",
       "      <td>35-44</td>\n",
       "      <td>2.352411</td>\n",
       "      <td>146192.0</td>\n",
       "      <td>11 - 20 years</td>\n",
       "      <td>8 - 10 years</td>\n",
       "      <td>Master's degree</td>\n",
       "      <td>Woman</td>\n",
       "      <td>Law</td>\n",
       "      <td>146192.0</td>\n",
       "      <td>1</td>\n",
       "    </tr>\n",
       "  </tbody>\n",
       "</table>\n",
       "<p>22888 rows × 10 columns</p>\n",
       "</div>"
      ],
      "text/plain": [
       "      how_old_are_you  adjusted_annual_salary  annual_salary  \\\n",
       "0               25-34                0.885018        55000.0   \n",
       "1               25-34                1.793468        54600.0   \n",
       "2               25-34                0.547102        34000.0   \n",
       "3               25-34                0.997657        62000.0   \n",
       "4               25-34                0.965475        60000.0   \n",
       "...               ...                     ...            ...   \n",
       "22883           25-34                1.367756        85000.0   \n",
       "22884           35-44                0.643650        40000.0   \n",
       "22885           25-34                2.381504       148000.0   \n",
       "22886           25-34                1.045931        65000.0   \n",
       "22887           35-44                2.352411       146192.0   \n",
       "\n",
       "      overall_years_of_professional_experience years_of_experience_in_field  \\\n",
       "0                                    5-7 years                    5-7 years   \n",
       "1                                 8 - 10 years                    5-7 years   \n",
       "2                                  2 - 4 years                  2 - 4 years   \n",
       "3                                 8 - 10 years                    5-7 years   \n",
       "4                                 8 - 10 years                    5-7 years   \n",
       "...                                        ...                          ...   \n",
       "22883                                5-7 years                    5-7 years   \n",
       "22884                            11 - 20 years                  2 - 4 years   \n",
       "22885                            11 - 20 years                11 - 20 years   \n",
       "22886                              2 - 4 years                  2 - 4 years   \n",
       "22887                            11 - 20 years                 8 - 10 years   \n",
       "\n",
       "      highest_level_of_education_completed      gender  \\\n",
       "0                          Master's degree       Woman   \n",
       "1                           College degree  Non-binary   \n",
       "2                           College degree       Woman   \n",
       "3                           College degree       Woman   \n",
       "4                           College degree       Woman   \n",
       "...                                    ...         ...   \n",
       "22883                       College degree       Woman   \n",
       "22884                       College degree       Woman   \n",
       "22885                      Master's degree       Woman   \n",
       "22886                       College degree       Woman   \n",
       "22887                      Master's degree       Woman   \n",
       "\n",
       "                      industry  harmonized_salary  real_label  \n",
       "0                    Education            55000.0           0  \n",
       "1         Technology & Science            68796.0           1  \n",
       "2          Banking & Insurance            34000.0           0  \n",
       "3      Non profit Organization            62000.0           0  \n",
       "4          Banking & Insurance            60000.0           0  \n",
       "...                        ...                ...         ...  \n",
       "22883             Unidentified            85000.0           1  \n",
       "22884  Non profit Organization            40000.0           0  \n",
       "22885     Technology & Science           148000.0           1  \n",
       "22886              Advertising            65000.0           1  \n",
       "22887                      Law           146192.0           1  \n",
       "\n",
       "[22888 rows x 10 columns]"
      ]
     },
     "execution_count": 138,
     "metadata": {},
     "output_type": "execute_result"
    }
   ],
   "source": [
    "df"
   ]
  },
  {
   "cell_type": "code",
   "execution_count": 139,
   "metadata": {},
   "outputs": [],
   "source": [
    "mask_18 = df['how_old_are_you'] == 'under 18'\n",
    "mask_21 = df['how_old_are_you'] == '18-24'\n",
    "mask_30 = df['how_old_are_you'] == '25-34'\n",
    "mask_40 = df['how_old_are_you'] == '35-44'\n",
    "mask_50 = df['how_old_are_you'] == '45-54'\n",
    "mask_60 = df['how_old_are_you'] == '55-64'\n",
    "mask_65 = df['how_old_are_you'] == '65 or over'\n",
    "df.loc[mask_18, 'how_old_are_you'] = 1\n",
    "df.loc[mask_21, 'how_old_are_you'] = 2\n",
    "df.loc[mask_30, 'how_old_are_you'] = 3\n",
    "df.loc[mask_40, 'how_old_are_you'] = 4\n",
    "df.loc[mask_50, 'how_old_are_you'] = 5\n",
    "df.loc[mask_60, 'how_old_are_you'] = 6\n",
    "df.loc[mask_65, 'how_old_are_you'] = 7\n",
    "df['how_old_are_you'] = pd.to_numeric(df['how_old_are_you'], errors='coerce')\n",
    "\n",
    "mask_1 = df['overall_years_of_professional_experience'] == '1 year or less'\n",
    "mask_3 = df['overall_years_of_professional_experience'] == '2 - 4 years'\n",
    "mask_6 = df['overall_years_of_professional_experience'] == '5-7 years'\n",
    "mask_9 = df['overall_years_of_professional_experience'] == '8 - 10 years'\n",
    "mask_15 = df['overall_years_of_professional_experience'] == '11 - 20 years'\n",
    "mask_25 = df['overall_years_of_professional_experience'] == '21 - 30 years'\n",
    "mask_35 = df['overall_years_of_professional_experience'] == '31 - 40 years'\n",
    "mask_41 = df['overall_years_of_professional_experience'] == '41 years or more'\n",
    "df.loc[mask_1, 'overall_years_of_professional_experience'] = 1\n",
    "df.loc[mask_3, 'overall_years_of_professional_experience'] = 2\n",
    "df.loc[mask_6, 'overall_years_of_professional_experience'] = 3\n",
    "df.loc[mask_9, 'overall_years_of_professional_experience'] = 4\n",
    "df.loc[mask_15, 'overall_years_of_professional_experience'] = 5\n",
    "df.loc[mask_25, 'overall_years_of_professional_experience'] = 6\n",
    "df.loc[mask_35, 'overall_years_of_professional_experience'] = 7\n",
    "df.loc[mask_41, 'overall_years_of_professional_experience'] = 8\n",
    "df['overall_years_of_professional_experience'] = pd.to_numeric(df['overall_years_of_professional_experience'], errors='coerce')\n",
    "\n",
    "mask_1 = df['years_of_experience_in_field'] == '1 year or less'\n",
    "mask_3 = df['years_of_experience_in_field'] == '2 - 4 years'\n",
    "mask_6 = df['years_of_experience_in_field'] == '5-7 years'\n",
    "mask_9 = df['years_of_experience_in_field'] == '8 - 10 years'\n",
    "mask_15 = df['years_of_experience_in_field'] == '11 - 20 years'\n",
    "mask_25 = df['years_of_experience_in_field'] == '21 - 30 years'\n",
    "mask_35 = df['years_of_experience_in_field'] == '31 - 40 years'\n",
    "mask_41 = df['years_of_experience_in_field'] == '41 years or more'\n",
    "df.loc[mask_1, 'years_of_experience_in_field'] = 1\n",
    "df.loc[mask_3, 'years_of_experience_in_field'] = 2\n",
    "df.loc[mask_6, 'years_of_experience_in_field'] = 3\n",
    "df.loc[mask_9, 'years_of_experience_in_field'] = 4\n",
    "df.loc[mask_15, 'years_of_experience_in_field'] = 5\n",
    "df.loc[mask_25, 'years_of_experience_in_field'] = 6\n",
    "df.loc[mask_35, 'years_of_experience_in_field'] = 7\n",
    "df.loc[mask_41, 'years_of_experience_in_field'] = 8\n",
    "df['years_of_experience_in_field'] = pd.to_numeric(df['years_of_experience_in_field'], errors='coerce')\n",
    "\n",
    "mask_5 = df['highest_level_of_education_completed'] == 'High School'\n",
    "mask_10 = df['highest_level_of_education_completed'] == 'Some college'\n",
    "mask_15 = df['highest_level_of_education_completed'] == 'College degree'\n",
    "mask_20 = df['highest_level_of_education_completed'] == 'Professional degree (MD, JD, etc.)'\n",
    "mask_25 = df['highest_level_of_education_completed'] == \"Master's degree\"\n",
    "mask_30 = df['highest_level_of_education_completed'] == 'PhD'\n",
    "mask_nan = df['highest_level_of_education_completed'] == 'Unknown'\n",
    "df.loc[mask_5, 'highest_level_of_education_completed'] = 1\n",
    "df.loc[mask_10, 'highest_level_of_education_completed'] = 2\n",
    "df.loc[mask_15, 'highest_level_of_education_completed'] = 3\n",
    "df.loc[mask_20, 'highest_level_of_education_completed'] = 4\n",
    "df.loc[mask_25, 'highest_level_of_education_completed'] = 5\n",
    "df.loc[mask_30, 'highest_level_of_education_completed'] = 6\n",
    "df.loc[mask_nan, 'highest_level_of_education_completed'] =  float(\"NaN\")\n",
    "df['highest_level_of_education_completed'] = pd.to_numeric(df['highest_level_of_education_completed'], errors='coerce')"
   ]
  },
  {
   "cell_type": "code",
   "execution_count": 140,
   "metadata": {},
   "outputs": [
    {
     "data": {
      "text/plain": [
       "<matplotlib.axes._subplots.AxesSubplot at 0x26af3bb1688>"
      ]
     },
     "execution_count": 140,
     "metadata": {},
     "output_type": "execute_result"
    },
    {
     "data": {
      "image/png": "[encoded data removed]",
      "text/plain": [
       "<Figure size 432x288 with 2 Axes>"
      ]
     },
     "metadata": {
      "needs_background": "light"
     },
     "output_type": "display_data"
    }
   ],
   "source": [
    "corr = df.corr()\n",
    "sns.heatmap(corr, annot=True)"
   ]
  },
  {
   "cell_type": "code",
   "execution_count": 144,
   "metadata": {},
   "outputs": [],
   "source": [
    "def float_format (value) :\n",
    "    formatted_string = \"{:.6f}\".format(value)\n",
    "    float_value = float(formatted_string)\n",
    "    return float_value"
   ]
  },
  {
   "cell_type": "code",
   "execution_count": 145,
   "metadata": {},
   "outputs": [],
   "source": [
    "def construct_precentage_cm (cm, X_test) :\n",
    "    TN = float(\"{:.4f}\".format(cm[0][0]/np.shape(X_test)[0]*100))\n",
    "    TP = float(\"{:.4f}\".format(cm[1][1]/np.shape(X_test)[0]*100))\n",
    "    FP = float(\"{:.4f}\".format(cm[0][1]/np.shape(X_test)[0]*100))\n",
    "    FN = float(\"{:.4f}\".format(cm[1][0]/np.shape(X_test)[0]*100))\n",
    "    \n",
    "    percentage_list = [[TN, FP], [FN, TP]]\n",
    "    \n",
    "    return np.array(percentage_list)"
   ]
  },
  {
   "cell_type": "code",
   "execution_count": 147,
   "metadata": {},
   "outputs": [],
   "source": [
    "train_features, test_features, train_labels, test_labels = train_test_split(\n",
    "    df[[\"industry\", \n",
    "        \"overall_years_of_professional_experience\",\n",
    "        \"years_of_experience_in_field\", \n",
    "        \"highest_level_of_education_completed\",\n",
    "        \"gender\", \n",
    "        \"how_old_are_you\"\n",
    "       ]],\n",
    "    df[\"real_label\"],\n",
    "    test_size = 0.25,\n",
    "    random_state = 1234\n",
    ")\n",
    "\n",
    "dummy_train_features = pd.get_dummies(train_features)\n",
    "dummy_test_features = pd.get_dummies(test_features)"
   ]
  },
  {
   "cell_type": "code",
   "execution_count": 148,
   "metadata": {},
   "outputs": [],
   "source": [
    "X_test = test_features"
   ]
  },
  {
   "cell_type": "markdown",
   "metadata": {},
   "source": [
    "## Random forest"
   ]
  },
  {
   "cell_type": "code",
   "execution_count": 149,
   "metadata": {},
   "outputs": [
    {
     "name": "stdout",
     "output_type": "stream",
     "text": [
      "Accuracy : 73.89 %\n"
     ]
    },
    {
     "data": {
      "text/plain": [
       "<sklearn.metrics._plot.confusion_matrix.ConfusionMatrixDisplay at 0x26af4da3708>"
      ]
     },
     "execution_count": 149,
     "metadata": {},
     "output_type": "execute_result"
    },
    {
     "data": {
      "image/png": "[encoded data removed]",
      "text/plain": [
       "<Figure size 432x288 with 2 Axes>"
      ]
     },
     "metadata": {
      "needs_background": "light"
     },
     "output_type": "display_data"
    }
   ],
   "source": [
    "rf = RandomForestClassifier(n_estimators=100, criterion='gini')\n",
    "rf.fit(dummy_train_features, train_labels)\n",
    "predictions = rf.predict(dummy_test_features)\n",
    "print('Accuracy :', round(accuracy_score(test_labels, predictions),4)*100,'%')\n",
    "\n",
    "rf_cm = confusion_matrix(test_labels, predictions, labels=rf.classes_)\n",
    "percentage_cm = construct_precentage_cm (rf_cm, X_test)\n",
    "disp = ConfusionMatrixDisplay(confusion_matrix=percentage_cm, display_labels=rf.classes_)\n",
    "disp.plot()"
   ]
  },
  {
   "cell_type": "markdown",
   "metadata": {},
   "source": [
    "## KNN"
   ]
  },
  {
   "cell_type": "code",
   "execution_count": 152,
   "metadata": {},
   "outputs": [
    {
     "name": "stdout",
     "output_type": "stream",
     "text": [
      "Accuracy : 74.82 %\n"
     ]
    },
    {
     "data": {
      "text/plain": [
       "<sklearn.metrics._plot.confusion_matrix.ConfusionMatrixDisplay at 0x26af5141a48>"
      ]
     },
     "execution_count": 152,
     "metadata": {},
     "output_type": "execute_result"
    },
    {
     "data": {
      "image/png": "[encoded data removed]",
      "text/plain": [
       "<Figure size 432x288 with 2 Axes>"
      ]
     },
     "metadata": {
      "needs_background": "light"
     },
     "output_type": "display_data"
    }
   ],
   "source": [
    "knn = KNeighborsClassifier(70) #floor(sqrt(np.shape(df)[0])\n",
    "knn.fit(dummy_train_features, train_labels)\n",
    "predictions = knn.predict(dummy_test_features)\n",
    "print('Accuracy :', round(accuracy_score(test_labels, predictions),4)*100,'%')\n",
    "\n",
    "knn_cm = confusion_matrix(test_labels, predictions, labels=knn.classes_)\n",
    "percentage_cm = construct_precentage_cm (knn_cm, X_test)\n",
    "disp = ConfusionMatrixDisplay(confusion_matrix=percentage_cm, display_labels=knn.classes_)\n",
    "disp.plot()"
   ]
  },
  {
   "cell_type": "code",
   "execution_count": 153,
   "metadata": {},
   "outputs": [
    {
     "data": {
      "text/plain": [
       "0.7390772457182804"
      ]
     },
     "execution_count": 153,
     "metadata": {},
     "output_type": "execute_result"
    }
   ],
   "source": [
    "# KNN with scaled data\n",
    "from sklearn.pipeline import make_pipeline\n",
    "from sklearn.preprocessing import StandardScaler\n",
    "\n",
    "dummy_train_features = pd.get_dummies(train_features)\n",
    "dummy_test_features = pd.get_dummies(test_features)\n",
    "\n",
    "y_train = train_labels\n",
    "X_train = dummy_train_features\n",
    "y_test = test_labels\n",
    "X_test = dummy_test_features\n",
    "\n",
    "\n",
    "\n",
    "pipe = make_pipeline(StandardScaler(), KNeighborsClassifier(50))\n",
    "pipe.fit(X_train, y_train)  # apply scaling on training data\n",
    "\n",
    "pipe.score(X_test, y_test)\n"
   ]
  },
  {
   "cell_type": "markdown",
   "metadata": {},
   "source": [
    "## Logistic regression"
   ]
  },
  {
   "cell_type": "code",
   "execution_count": 154,
   "metadata": {},
   "outputs": [
    {
     "name": "stdout",
     "output_type": "stream",
     "text": [
      "Accuracy : 74.71 %\n"
     ]
    },
    {
     "name": "stderr",
     "output_type": "stream",
     "text": [
      "C:\\Users\\assil\\anaconda3\\lib\\site-packages\\sklearn\\linear_model\\_logistic.py:940: ConvergenceWarning: lbfgs failed to converge (status=1):\n",
      "STOP: TOTAL NO. of ITERATIONS REACHED LIMIT.\n",
      "\n",
      "Increase the number of iterations (max_iter) or scale the data as shown in:\n",
      "    https://scikit-learn.org/stable/modules/preprocessing.html\n",
      "Please also refer to the documentation for alternative solver options:\n",
      "    https://scikit-learn.org/stable/modules/linear_model.html#logistic-regression\n",
      "  extra_warning_msg=_LOGISTIC_SOLVER_CONVERGENCE_MSG)\n"
     ]
    },
    {
     "data": {
      "text/plain": [
       "<sklearn.metrics._plot.confusion_matrix.ConfusionMatrixDisplay at 0x26af51fcb88>"
      ]
     },
     "execution_count": 154,
     "metadata": {},
     "output_type": "execute_result"
    },
    {
     "data": {
      "image/png": "[encoded data removed]",
      "text/plain": [
       "<Figure size 432x288 with 2 Axes>"
      ]
     },
     "metadata": {
      "needs_background": "light"
     },
     "output_type": "display_data"
    }
   ],
   "source": [
    "lr = LogisticRegression()\n",
    "lr.fit(dummy_train_features, train_labels)\n",
    "predictions = lr.predict(dummy_test_features)\n",
    "print('Accuracy :', round(accuracy_score(test_labels, predictions),4)*100,'%')\n",
    "\n",
    "lr_cm = confusion_matrix(test_labels, predictions, labels=lr.classes_)\n",
    "percentage_cm = construct_precentage_cm (lr_cm, X_test)\n",
    "disp = ConfusionMatrixDisplay(confusion_matrix=percentage_cm, display_labels=lr.classes_)\n",
    "disp.plot()"
   ]
  },
  {
   "cell_type": "markdown",
   "metadata": {},
   "source": [
    "## Fully corrective binning"
   ]
  },
  {
   "cell_type": "code",
   "execution_count": 155,
   "metadata": {},
   "outputs": [],
   "source": [
    "def MSE(theta, Z, Y, intercept) :\n",
    "    return np.square(np.subtract(Y,np.dot(Z, theta)+intercept)).mean()"
   ]
  },
  {
   "cell_type": "code",
   "execution_count": 156,
   "metadata": {},
   "outputs": [],
   "source": [
    "def construct_Z(X, selected_bins) :\n",
    "    \n",
    "    N = np.shape(X)[0]\n",
    "    p = np.shape(X)[1]\n",
    "    \n",
    "    size = 0\n",
    "    for j in range(p):\n",
    "        size = size + len(selected_bins[j]) - 1\n",
    "            \n",
    "    Z = np.zeros((N, size))\n",
    "    \n",
    "    for i in range(N):\n",
    "        ind = 0\n",
    "        for j in range(p):\n",
    "            for l_prime in range(len(selected_bins[j])-1):\n",
    "                \n",
    "                l = selected_bins[j][l_prime]\n",
    "                u = selected_bins[j][l_prime+1]\n",
    "                \n",
    "                if l < X[i,j] and X[i,j] < u :\n",
    "                    Z[i,ind] = 1\n",
    "                    \n",
    "                ind = ind + 1\n",
    "    \n",
    "    return Z"
   ]
  },
  {
   "cell_type": "code",
   "execution_count": 157,
   "metadata": {},
   "outputs": [],
   "source": [
    "# The Fully Corrective Binning\n",
    "# input : \n",
    "#  --> (X, Y) les entrées/sorties d'entrainement\n",
    "#  --> T le nombre d'itérations\n",
    "#  --> K le nombre de bacs (\"bins\") (<T)\n",
    "#  --> R la fonction de coût à minimiser (de paramètre theta, Z et Y)\n",
    "#  --> le nombre de bins généré aléatoirement à tester\n",
    "# output : [theta, selected_features]\n",
    "#  --> theta, le vecteur de dimensions de qui correspond au modèle de score (tel que Z*theta = Y)\n",
    "#  --> selected_bins les valeurs des bacs sélectionnées\n",
    "\n",
    "\n",
    "#créer un objet reg lin\n",
    "modeleReg=LinearRegression()\n",
    "\n",
    "\n",
    "def FCB(X, Y, T, K):\n",
    "    \n",
    "    if (K>T):\n",
    "        print(\"Erreur : K>T\")\n",
    "        return \n",
    "    \n",
    "    mse_list = []\n",
    "    \n",
    "    N = np.shape(X)[0]\n",
    "    p = np.shape(X)[1]\n",
    "    \n",
    "    if (K<p):\n",
    "        print(\"Erreur : K>p\")\n",
    "        return \n",
    "    \n",
    "    # X_{i,j} \\in  [-Omega ; Omega] \n",
    "    Omega = np.zeros((p,2), dtype=float) \n",
    "    for i in range(p):\n",
    "        Omega[i] = (np.min(X[:,i]), np.max(X[:,i]))\n",
    "    \n",
    "    selected_bins = []\n",
    "    for i in range(p):\n",
    "        selected_bins.append([])\n",
    "        selected_bins[i].append(Omega[i][0])\n",
    "        selected_bins[i].append(Omega[i][1])\n",
    "    \n",
    "    Z = construct_Z(X, selected_bins)\n",
    "    \n",
    "    reg = modeleReg.fit(Z,Y)\n",
    "    theta = reg.coef_\n",
    "    \n",
    "    mse_list.append(((Y-modeleReg.predict(Z))**2).sum()/len(Y))\n",
    "    \n",
    "    # T itérations\n",
    "    for t in range(T):\n",
    "\n",
    "        mini = 10e12\n",
    "        argmin = (0, 0, 0, 0) # (j, l, u, r)\n",
    "        for j in range(p):\n",
    "            size = len(selected_bins[j])\n",
    "            for l_prime in range(size-1):\n",
    "                \n",
    "                l = selected_bins[j][l_prime]\n",
    "                u = selected_bins[j][l_prime+1]\n",
    "                    \n",
    "                r = (l+u)/2\n",
    "                \n",
    "                try_bins = copy.deepcopy(selected_bins)\n",
    "                bisect.insort(try_bins[j], r)\n",
    "                Z = construct_Z(X, try_bins)\n",
    "                \n",
    "                reg = modeleReg.fit(Z,Y)\n",
    "                mse = ((Y-modeleReg.predict(Z))**2).sum()/len(Y)\n",
    "                theta = reg.coef_\n",
    "                \n",
    "                if mse < mini :\n",
    "                    mini = mse\n",
    "                    argmin = (j, l, u, r)\n",
    "        \n",
    "        \n",
    "        bisect.insort(selected_bins[argmin[0]], argmin[3])\n",
    "        \n",
    "        Z = construct_Z(X, selected_bins)\n",
    "        \n",
    "        reg = modeleReg.fit(Z,Y)\n",
    "        theta = reg.coef_\n",
    "        \n",
    "        # K bacs\n",
    "        if(t > K-p-1):\n",
    "            \n",
    "            mini = 10e12\n",
    "            argmin = (0, 0) # (j, l)\n",
    "            for j in range(p):\n",
    "                size = len(selected_bins[j])\n",
    "                for l_prime in range(size-1):                \n",
    "\n",
    "                    res = abs(theta[l_prime] - theta[l_prime+1])\n",
    "                    if res < mini:\n",
    "                        mini = res\n",
    "                        argmin = (j, l_prime)       \n",
    "                        \n",
    "            del selected_bins[argmin[0]][max(0, argmin[1])]\n",
    "        \n",
    "            Z = construct_Z(X, selected_bins)\n",
    "            \n",
    "            reg = modeleReg.fit(Z,Y)\n",
    "            theta = reg.coef_\n",
    "            \n",
    "        mse_list.append(((Y-modeleReg.predict(Z))**2).sum()/len(Y))\n",
    "        \n",
    "    plt.plot(mse_list)\n",
    "    if (T> K-p-1):\n",
    "        plt.axvline(x = K, ymin = 0, ymax  = max(mse_list), color = 'green', alpha = 0.5, linestyle = '--', linewidth = 4)\n",
    "    \n",
    "    return [theta, selected_bins, reg.intercept_]"
   ]
  },
  {
   "cell_type": "code",
   "execution_count": 192,
   "metadata": {},
   "outputs": [],
   "source": [
    "train_features, test_features, train_labels, test_labels = train_test_split(\n",
    "    df[[\"years_of_experience_in_field\", \n",
    "        \"overall_years_of_professional_experience\", \n",
    "        \"how_old_are_you\", \n",
    "        \"highest_level_of_education_completed\", \n",
    "        #\"harmonized_salary\",\n",
    "        \"adjusted_annual_salary\"\n",
    "       ]],\n",
    "    df[\"real_label\"],\n",
    "    test_size = 0.25,\n",
    "    random_state = 1234\n",
    ")"
   ]
  },
  {
   "cell_type": "code",
   "execution_count": 193,
   "metadata": {},
   "outputs": [],
   "source": [
    "# harmonized_salary\n",
    "Y_train = train_features[\"adjusted_annual_salary\"]\n",
    "X_train = train_features.loc[:,train_features.columns!=\"adjusted_annual_salary\"]\n",
    "X_train = X_train.to_numpy()\n",
    "Y_train = Y_train.to_numpy()"
   ]
  },
  {
   "cell_type": "code",
   "execution_count": 194,
   "metadata": {},
   "outputs": [
    {
     "data": {
      "text/plain": [
       "2.5324365187893947"
      ]
     },
     "execution_count": 194,
     "metadata": {},
     "output_type": "execute_result"
    },
    {
     "data": {
      "image/png": "[encoded data removed]",
      "text/plain": [
       "<Figure size 432x288 with 1 Axes>"
      ]
     },
     "metadata": {
      "needs_background": "light"
     },
     "output_type": "display_data"
    }
   ],
   "source": [
    "[theta, selected_bins, intercept] = FCB(X_train, Y_train, 15 , 11)\n",
    "Z_train = construct_Z(X_train, selected_bins)\n",
    "MSE(theta, Z_train, Y_train, intercept)"
   ]
  },
  {
   "cell_type": "code",
   "execution_count": 195,
   "metadata": {},
   "outputs": [
    {
     "data": {
      "text/plain": [
       "[[1.0, 3.625, 4.5, 5.375, 6.25, 8.0],\n",
       " [1.0, 8.0],\n",
       " [1.0, 7.0],\n",
       " [1.0, 2.25, 3.5, 4.75, 6.0]]"
      ]
     },
     "execution_count": 195,
     "metadata": {},
     "output_type": "execute_result"
    }
   ],
   "source": [
    "selected_bins"
   ]
  },
  {
   "cell_type": "code",
   "execution_count": 196,
   "metadata": {},
   "outputs": [
    {
     "data": {
      "text/plain": [
       "array([ 0.2222496 ,  0.4086389 ,  0.54828328,  0.66664362,  0.78437594,\n",
       "       -0.00675681,  0.1760343 , -0.33770166, -0.14648418,  0.20261128,\n",
       "       -0.05699424])"
      ]
     },
     "execution_count": 196,
     "metadata": {},
     "output_type": "execute_result"
    }
   ],
   "source": [
    "theta"
   ]
  },
  {
   "cell_type": "code",
   "execution_count": 197,
   "metadata": {},
   "outputs": [],
   "source": [
    "# harmonized_salary\n",
    "X_test = test_features.loc[:,test_features.columns!=\"adjusted_annual_salary\"]\n",
    "X_test = X_test.to_numpy()"
   ]
  },
  {
   "cell_type": "code",
   "execution_count": 198,
   "metadata": {},
   "outputs": [],
   "source": [
    "Z_test = construct_Z(X_test, selected_bins)"
   ]
  },
  {
   "cell_type": "code",
   "execution_count": 199,
   "metadata": {},
   "outputs": [],
   "source": [
    "pred = np.dot(Z_test, theta) + intercept"
   ]
  },
  {
   "cell_type": "code",
   "execution_count": 200,
   "metadata": {},
   "outputs": [],
   "source": [
    "# harmonized_salary\n",
    "predicted_data = {'predicted_adjusted_salary': pred, 'real_label':test_labels, 'predicted_label': 0}\n",
    "predicted_df = pd.DataFrame(data=predicted_data)\n",
    "mask_pred_label = predicted_df['predicted_adjusted_salary'] > 1\n",
    "predicted_df.loc[mask_pred_label, 'predicted_label'] = 1"
   ]
  },
  {
   "cell_type": "code",
   "execution_count": 201,
   "metadata": {},
   "outputs": [
    {
     "data": {
      "text/html": [
       "<div>\n",
       "<style scoped>\n",
       "    .dataframe tbody tr th:only-of-type {\n",
       "        vertical-align: middle;\n",
       "    }\n",
       "\n",
       "    .dataframe tbody tr th {\n",
       "        vertical-align: top;\n",
       "    }\n",
       "\n",
       "    .dataframe thead th {\n",
       "        text-align: right;\n",
       "    }\n",
       "</style>\n",
       "<table border=\"1\" class=\"dataframe\">\n",
       "  <thead>\n",
       "    <tr style=\"text-align: right;\">\n",
       "      <th></th>\n",
       "      <th>predicted_adjusted_salary</th>\n",
       "      <th>real_label</th>\n",
       "      <th>predicted_label</th>\n",
       "    </tr>\n",
       "  </thead>\n",
       "  <tbody>\n",
       "    <tr>\n",
       "      <th>8457</th>\n",
       "      <td>1.597916</td>\n",
       "      <td>1</td>\n",
       "      <td>1</td>\n",
       "    </tr>\n",
       "    <tr>\n",
       "      <th>10497</th>\n",
       "      <td>1.810947</td>\n",
       "      <td>1</td>\n",
       "      <td>1</td>\n",
       "    </tr>\n",
       "    <tr>\n",
       "      <th>4682</th>\n",
       "      <td>1.435210</td>\n",
       "      <td>1</td>\n",
       "      <td>1</td>\n",
       "    </tr>\n",
       "    <tr>\n",
       "      <th>13638</th>\n",
       "      <td>1.057603</td>\n",
       "      <td>1</td>\n",
       "      <td>1</td>\n",
       "    </tr>\n",
       "    <tr>\n",
       "      <th>9814</th>\n",
       "      <td>1.810947</td>\n",
       "      <td>1</td>\n",
       "      <td>1</td>\n",
       "    </tr>\n",
       "    <tr>\n",
       "      <th>...</th>\n",
       "      <td>...</td>\n",
       "      <td>...</td>\n",
       "      <td>...</td>\n",
       "    </tr>\n",
       "    <tr>\n",
       "      <th>19005</th>\n",
       "      <td>1.338310</td>\n",
       "      <td>0</td>\n",
       "      <td>1</td>\n",
       "    </tr>\n",
       "    <tr>\n",
       "      <th>12481</th>\n",
       "      <td>1.338310</td>\n",
       "      <td>0</td>\n",
       "      <td>1</td>\n",
       "    </tr>\n",
       "    <tr>\n",
       "      <th>19946</th>\n",
       "      <td>1.574854</td>\n",
       "      <td>1</td>\n",
       "      <td>1</td>\n",
       "    </tr>\n",
       "    <tr>\n",
       "      <th>9429</th>\n",
       "      <td>1.810947</td>\n",
       "      <td>1</td>\n",
       "      <td>1</td>\n",
       "    </tr>\n",
       "    <tr>\n",
       "      <th>2878</th>\n",
       "      <td>1.664344</td>\n",
       "      <td>1</td>\n",
       "      <td>1</td>\n",
       "    </tr>\n",
       "  </tbody>\n",
       "</table>\n",
       "<p>5722 rows × 3 columns</p>\n",
       "</div>"
      ],
      "text/plain": [
       "       predicted_adjusted_salary  real_label  predicted_label\n",
       "8457                    1.597916           1                1\n",
       "10497                   1.810947           1                1\n",
       "4682                    1.435210           1                1\n",
       "13638                   1.057603           1                1\n",
       "9814                    1.810947           1                1\n",
       "...                          ...         ...              ...\n",
       "19005                   1.338310           0                1\n",
       "12481                   1.338310           0                1\n",
       "19946                   1.574854           1                1\n",
       "9429                    1.810947           1                1\n",
       "2878                    1.664344           1                1\n",
       "\n",
       "[5722 rows x 3 columns]"
      ]
     },
     "execution_count": 201,
     "metadata": {},
     "output_type": "execute_result"
    }
   ],
   "source": [
    "predicted_df"
   ]
  },
  {
   "cell_type": "code",
   "execution_count": 234,
   "metadata": {},
   "outputs": [
    {
     "name": "stdout",
     "output_type": "stream",
     "text": [
      "Accuracy : 69.61 %\n"
     ]
    },
    {
     "data": {
      "text/plain": [
       "<sklearn.metrics._plot.confusion_matrix.ConfusionMatrixDisplay at 0x26af29d7a88>"
      ]
     },
     "execution_count": 234,
     "metadata": {},
     "output_type": "execute_result"
    },
    {
     "data": {
      "image/png": "[encoded data removed]",
      "text/plain": [
       "<Figure size 432x288 with 2 Axes>"
      ]
     },
     "metadata": {
      "needs_background": "light"
     },
     "output_type": "display_data"
    }
   ],
   "source": [
    "print('Accuracy :', round(accuracy_score(test_labels, predicted_df['predicted_label'].to_numpy()),4)*100,'%')\n",
    "\n",
    "scoring_cm = confusion_matrix(test_labels, predicted_df['predicted_label'].to_numpy(), \n",
    "                              labels=predicted_df['real_label'].unique())\n",
    "\n",
    "percentage_cm = construct_precentage_cm (scoring_cm, X_test)\n",
    "disp = ConfusionMatrixDisplay(confusion_matrix=percentage_cm, display_labels=lr.classes_)\n",
    "disp.plot()"
   ]
  },
  {
   "cell_type": "markdown",
   "metadata": {},
   "source": [
    "# Regression for classification"
   ]
  },
  {
   "cell_type": "markdown",
   "metadata": {},
   "source": [
    "## Gradient boosting without monotonicity constraints"
   ]
  },
  {
   "cell_type": "code",
   "execution_count": 204,
   "metadata": {},
   "outputs": [],
   "source": [
    "# harmonized_salary\n",
    "train_features, test_features, train_target, test_target = train_test_split(\n",
    "    df[[\"industry\", \n",
    "        \"overall_years_of_professional_experience\",\n",
    "        \"years_of_experience_in_field\", \n",
    "        \"highest_level_of_education_completed\",\n",
    "        \"gender\", \n",
    "        \"how_old_are_you\"\n",
    "       ]],\n",
    "    df[\"adjusted_annual_salary\"],\n",
    "    test_size = 0.25,\n",
    "    random_state = 42\n",
    ")"
   ]
  },
  {
   "cell_type": "code",
   "execution_count": 205,
   "metadata": {},
   "outputs": [],
   "source": [
    "dummy_train_features = pd.get_dummies(train_features)\n",
    "dummy_test_features = pd.get_dummies(test_features)"
   ]
  },
  {
   "cell_type": "code",
   "execution_count": 206,
   "metadata": {},
   "outputs": [
    {
     "data": {
      "text/plain": [
       "LGBMRegressor(boosting_type='gbdt', class_weight=None, colsample_bytree=1.0,\n",
       "              importance_type='split', learning_rate=0.1, max_depth=-1,\n",
       "              min_child_samples=5, min_child_weight=0.001, min_split_gain=0.0,\n",
       "              n_estimators=100, n_jobs=-1, num_leaves=31, objective=None,\n",
       "              random_state=None, reg_alpha=0.0, reg_lambda=0.0, silent='warn',\n",
       "              subsample=1.0, subsample_for_bin=200000, subsample_freq=0)"
      ]
     },
     "execution_count": 206,
     "metadata": {},
     "output_type": "execute_result"
    }
   ],
   "source": [
    "#pip install lightgbm#\n",
    "import lightgbm as lgb\n",
    "basic_model = lgb.LGBMRegressor(min_child_samples=5)\n",
    "basic_model.fit(dummy_train_features, train_target)"
   ]
  },
  {
   "cell_type": "code",
   "execution_count": 207,
   "metadata": {},
   "outputs": [],
   "source": [
    "#predicted output from the model from the same input\n",
    "prediction = basic_model.predict(dummy_test_features)"
   ]
  },
  {
   "cell_type": "code",
   "execution_count": 208,
   "metadata": {},
   "outputs": [
    {
     "data": {
      "text/plain": [
       "<matplotlib.collections.PathCollection at 0x26af2931f08>"
      ]
     },
     "execution_count": 208,
     "metadata": {},
     "output_type": "execute_result"
    },
    {
     "data": {
      "text/plain": [
       "<Figure size 1200x1200 with 0 Axes>"
      ]
     },
     "metadata": {},
     "output_type": "display_data"
    },
    {
     "data": {
      "image/png": "[encoded data removed]",
      "text/plain": [
       "<Figure size 432x288 with 1 Axes>"
      ]
     },
     "metadata": {
      "needs_background": "light"
     },
     "output_type": "display_data"
    }
   ],
   "source": [
    "from matplotlib.pyplot import figure\n",
    "figure(figsize=(15, 15), dpi=80)\n",
    "fig, ax = plt.subplots()\n",
    "ax.plot([0,1],[0,1], transform=ax.transAxes)\n",
    "ax.scatter(prediction, test_target, s=1)"
   ]
  },
  {
   "cell_type": "code",
   "execution_count": 209,
   "metadata": {},
   "outputs": [],
   "source": [
    "from sklearn.metrics import mean_squared_error as mse\n",
    "basic_mse = mse(test_target, prediction)"
   ]
  },
  {
   "cell_type": "code",
   "execution_count": 211,
   "metadata": {},
   "outputs": [
    {
     "data": {
      "text/plain": [
       "1.3907372961317317"
      ]
     },
     "execution_count": 211,
     "metadata": {},
     "output_type": "execute_result"
    }
   ],
   "source": [
    "sqrt(basic_mse)"
   ]
  },
  {
   "cell_type": "markdown",
   "metadata": {},
   "source": [
    "## Gradient boosting with monotonicity constraints"
   ]
  },
  {
   "cell_type": "code",
   "execution_count": 225,
   "metadata": {},
   "outputs": [],
   "source": [
    "# harmonized_salary\n",
    "train_features, test_features, train_target, test_target = train_test_split(\n",
    "    df[[\"how_old_are_you\", \n",
    "        \"overall_years_of_professional_experience\",\n",
    "        \"years_of_experience_in_field\", \n",
    "        \"highest_level_of_education_completed\",\n",
    "        \"industry\",\n",
    "        \"gender\"\n",
    "       ]],\n",
    "    df[\"adjusted_annual_salary\"],\n",
    "    test_size = 0.25,\n",
    "    random_state = 42\n",
    ")"
   ]
  },
  {
   "cell_type": "code",
   "execution_count": 226,
   "metadata": {},
   "outputs": [],
   "source": [
    "dummy_train_features = pd.get_dummies(train_features)\n",
    "dummy_test_features = pd.get_dummies(test_features)"
   ]
  },
  {
   "cell_type": "code",
   "execution_count": 227,
   "metadata": {},
   "outputs": [
    {
     "data": {
      "text/plain": [
       "LGBMRegressor(boosting_type='gbdt', class_weight=None, colsample_bytree=1.0,\n",
       "              importance_type='split', learning_rate=0.1, max_depth=-1,\n",
       "              mc=(1, 1, 1, 1, 0, 0, 0, 0, 0, 0, 0, 0, 0, 0, 0, 0, 0, 0, 0, 0,\n",
       "                  0),\n",
       "              mc_method='advanced', min_child_samples=5, min_child_weight=0.001,\n",
       "              min_split_gain=0.0, n_estimators=100, n_jobs=-1, num_leaves=31,\n",
       "              objective=None, random_state=None, reg_alpha=0.0, reg_lambda=0.0,\n",
       "              silent='warn', subsample=1.0, subsample_for_bin=200000,\n",
       "              subsample_freq=0)"
      ]
     },
     "execution_count": 227,
     "metadata": {},
     "output_type": "execute_result"
    }
   ],
   "source": [
    "monotone_model = lgb.LGBMRegressor(min_child_samples=5, mc = (1,1,1,1,\n",
    "                                                              0,0,0,0,0,0,0,0,0,0,\n",
    "                                                              0,0,0,0,0,0,0\n",
    "                                                              ), mc_method='advanced')\n",
    "monotone_model.fit(dummy_train_features, train_target)"
   ]
  },
  {
   "cell_type": "code",
   "execution_count": 228,
   "metadata": {},
   "outputs": [],
   "source": [
    "monotone_prediction = monotone_model.predict(dummy_test_features)"
   ]
  },
  {
   "cell_type": "code",
   "execution_count": 229,
   "metadata": {},
   "outputs": [],
   "source": [
    "monotone_mse = mse(test_target, monotone_prediction)"
   ]
  },
  {
   "cell_type": "code",
   "execution_count": 230,
   "metadata": {},
   "outputs": [
    {
     "data": {
      "text/plain": [
       "1.3632742065269914"
      ]
     },
     "execution_count": 230,
     "metadata": {},
     "output_type": "execute_result"
    }
   ],
   "source": [
    "sqrt(monotone_mse)"
   ]
  },
  {
   "cell_type": "code",
   "execution_count": 232,
   "metadata": {},
   "outputs": [
    {
     "data": {
      "text/html": [
       "<div>\n",
       "<style scoped>\n",
       "    .dataframe tbody tr th:only-of-type {\n",
       "        vertical-align: middle;\n",
       "    }\n",
       "\n",
       "    .dataframe tbody tr th {\n",
       "        vertical-align: top;\n",
       "    }\n",
       "\n",
       "    .dataframe thead th {\n",
       "        text-align: right;\n",
       "    }\n",
       "</style>\n",
       "<table border=\"1\" class=\"dataframe\">\n",
       "  <thead>\n",
       "    <tr style=\"text-align: right;\">\n",
       "      <th></th>\n",
       "      <th>predicted_adjusted_salary</th>\n",
       "      <th>real_label</th>\n",
       "      <th>predicted_label</th>\n",
       "    </tr>\n",
       "  </thead>\n",
       "  <tbody>\n",
       "    <tr>\n",
       "      <th>8457</th>\n",
       "      <td>1.448150</td>\n",
       "      <td>1</td>\n",
       "      <td>1</td>\n",
       "    </tr>\n",
       "    <tr>\n",
       "      <th>10497</th>\n",
       "      <td>1.352783</td>\n",
       "      <td>1</td>\n",
       "      <td>1</td>\n",
       "    </tr>\n",
       "    <tr>\n",
       "      <th>4682</th>\n",
       "      <td>1.370803</td>\n",
       "      <td>1</td>\n",
       "      <td>1</td>\n",
       "    </tr>\n",
       "    <tr>\n",
       "      <th>13638</th>\n",
       "      <td>1.202161</td>\n",
       "      <td>1</td>\n",
       "      <td>1</td>\n",
       "    </tr>\n",
       "    <tr>\n",
       "      <th>9814</th>\n",
       "      <td>1.365909</td>\n",
       "      <td>1</td>\n",
       "      <td>1</td>\n",
       "    </tr>\n",
       "    <tr>\n",
       "      <th>...</th>\n",
       "      <td>...</td>\n",
       "      <td>...</td>\n",
       "      <td>...</td>\n",
       "    </tr>\n",
       "    <tr>\n",
       "      <th>19005</th>\n",
       "      <td>1.689182</td>\n",
       "      <td>0</td>\n",
       "      <td>1</td>\n",
       "    </tr>\n",
       "    <tr>\n",
       "      <th>12481</th>\n",
       "      <td>1.824856</td>\n",
       "      <td>0</td>\n",
       "      <td>1</td>\n",
       "    </tr>\n",
       "    <tr>\n",
       "      <th>19946</th>\n",
       "      <td>1.039379</td>\n",
       "      <td>1</td>\n",
       "      <td>1</td>\n",
       "    </tr>\n",
       "    <tr>\n",
       "      <th>9429</th>\n",
       "      <td>0.937806</td>\n",
       "      <td>1</td>\n",
       "      <td>0</td>\n",
       "    </tr>\n",
       "    <tr>\n",
       "      <th>2878</th>\n",
       "      <td>0.838600</td>\n",
       "      <td>1</td>\n",
       "      <td>0</td>\n",
       "    </tr>\n",
       "  </tbody>\n",
       "</table>\n",
       "<p>5722 rows × 3 columns</p>\n",
       "</div>"
      ],
      "text/plain": [
       "       predicted_adjusted_salary  real_label  predicted_label\n",
       "8457                    1.448150           1                1\n",
       "10497                   1.352783           1                1\n",
       "4682                    1.370803           1                1\n",
       "13638                   1.202161           1                1\n",
       "9814                    1.365909           1                1\n",
       "...                          ...         ...              ...\n",
       "19005                   1.689182           0                1\n",
       "12481                   1.824856           0                1\n",
       "19946                   1.039379           1                1\n",
       "9429                    0.937806           1                0\n",
       "2878                    0.838600           1                0\n",
       "\n",
       "[5722 rows x 3 columns]"
      ]
     },
     "execution_count": 232,
     "metadata": {},
     "output_type": "execute_result"
    }
   ],
   "source": [
    "# harmonized_salary\n",
    "monotone_predicted_data = {'predicted_adjusted_salary': monotone_prediction, 'real_label':test_labels, 'predicted_label': 0}\n",
    "monotone_predicted_df = pd.DataFrame(data=monotone_predicted_data)\n",
    "mask_pred_label = monotone_predicted_df['predicted_adjusted_salary'] > 1\n",
    "monotone_predicted_df.loc[mask_pred_label, 'predicted_label'] = 1\n",
    "monotone_predicted_df"
   ]
  },
  {
   "cell_type": "code",
   "execution_count": 233,
   "metadata": {},
   "outputs": [
    {
     "name": "stdout",
     "output_type": "stream",
     "text": [
      "Accuracy : 64.61 %\n"
     ]
    }
   ],
   "source": [
    "print('Accuracy :', round(accuracy_score(test_labels, monotone_predicted_df['predicted_label'].to_numpy()),4)*100,'%')"
   ]
  },
  {
   "cell_type": "code",
   "execution_count": 235,
   "metadata": {},
   "outputs": [
    {
     "data": {
      "text/plain": [
       "<sklearn.metrics._plot.confusion_matrix.ConfusionMatrixDisplay at 0x26af29ab388>"
      ]
     },
     "execution_count": 235,
     "metadata": {},
     "output_type": "execute_result"
    },
    {
     "data": {
      "image/png": "[encoded data removed]",
      "text/plain": [
       "<Figure size 432x288 with 2 Axes>"
      ]
     },
     "metadata": {
      "needs_background": "light"
     },
     "output_type": "display_data"
    }
   ],
   "source": [
    "monotone_gb_cm = confusion_matrix(test_labels, monotone_predicted_df['predicted_label'].to_numpy(), \n",
    "                              labels=predicted_df['real_label'].unique())\n",
    "\n",
    "percentage_cm = construct_precentage_cm (monotone_gb_cm, X_test)\n",
    "disp = ConfusionMatrixDisplay(confusion_matrix=percentage_cm, display_labels=lr.classes_)\n",
    "disp.plot()"
   ]
  }
 ],
 "metadata": {
  "kernelspec": {
   "display_name": "Python 3",
   "language": "python",
   "name": "python3"
  },
  "language_info": {
   "codemirror_mode": {
    "name": "ipython",
    "version": 3
   },
   "file_extension": ".py",
   "mimetype": "text/x-python",
   "name": "python",
   "nbconvert_exporter": "python",
   "pygments_lexer": "ipython3",
   "version": "3.7.6"
  }
 },
 "nbformat": 4,
 "nbformat_minor": 4
}
