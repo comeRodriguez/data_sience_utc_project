{
 "cells": [
  {
   "cell_type": "code",
   "execution_count": 50,
   "metadata": {},
   "outputs": [],
   "source": [
    "import numpy as np\n",
    "from math import *\n",
    "from scipy import optimize as opt\n",
    "import bisect\n",
    "import copy\n",
    "import pandas as pd\n",
    "import seaborn as sns\n",
    "import matplotlib.pyplot as plt"
   ]
  },
  {
   "cell_type": "code",
   "execution_count": 51,
   "metadata": {},
   "outputs": [],
   "source": [
    "df = pd.read_csv(\"clean_data.csv\")"
   ]
  },
  {
   "cell_type": "code",
   "execution_count": 52,
   "metadata": {},
   "outputs": [
    {
     "data": {
      "text/html": [
       "<div>\n",
       "<style scoped>\n",
       "    .dataframe tbody tr th:only-of-type {\n",
       "        vertical-align: middle;\n",
       "    }\n",
       "\n",
       "    .dataframe tbody tr th {\n",
       "        vertical-align: top;\n",
       "    }\n",
       "\n",
       "    .dataframe thead th {\n",
       "        text-align: right;\n",
       "    }\n",
       "</style>\n",
       "<table border=\"1\" class=\"dataframe\">\n",
       "  <thead>\n",
       "    <tr style=\"text-align: right;\">\n",
       "      <th></th>\n",
       "      <th>how_old_are_you</th>\n",
       "      <th>adjusted_annual_salary</th>\n",
       "      <th>annual_salary</th>\n",
       "      <th>currency</th>\n",
       "      <th>country</th>\n",
       "      <th>overall_years_of_professional_experience</th>\n",
       "      <th>years_of_experience_in_field</th>\n",
       "      <th>highest_level_of_education_completed</th>\n",
       "      <th>gender</th>\n",
       "      <th>race</th>\n",
       "      <th>industry</th>\n",
       "    </tr>\n",
       "  </thead>\n",
       "  <tbody>\n",
       "    <tr>\n",
       "      <th>0</th>\n",
       "      <td>25-34</td>\n",
       "      <td>0.885018</td>\n",
       "      <td>55000.0</td>\n",
       "      <td>USD</td>\n",
       "      <td>USA</td>\n",
       "      <td>5-7 years</td>\n",
       "      <td>5-7 years</td>\n",
       "      <td>Master's degree</td>\n",
       "      <td>Woman</td>\n",
       "      <td>White</td>\n",
       "      <td>Education</td>\n",
       "    </tr>\n",
       "    <tr>\n",
       "      <th>1</th>\n",
       "      <td>25-34</td>\n",
       "      <td>1.527665</td>\n",
       "      <td>54600.0</td>\n",
       "      <td>GBP</td>\n",
       "      <td>United Kingdom</td>\n",
       "      <td>8 - 10 years</td>\n",
       "      <td>5-7 years</td>\n",
       "      <td>College degree</td>\n",
       "      <td>Non-binary</td>\n",
       "      <td>White</td>\n",
       "      <td>Technology &amp; Science</td>\n",
       "    </tr>\n",
       "    <tr>\n",
       "      <th>2</th>\n",
       "      <td>25-34</td>\n",
       "      <td>0.547102</td>\n",
       "      <td>34000.0</td>\n",
       "      <td>USD</td>\n",
       "      <td>USA</td>\n",
       "      <td>2 - 4 years</td>\n",
       "      <td>2 - 4 years</td>\n",
       "      <td>College degree</td>\n",
       "      <td>Woman</td>\n",
       "      <td>White</td>\n",
       "      <td>Banking &amp; Insurance</td>\n",
       "    </tr>\n",
       "    <tr>\n",
       "      <th>3</th>\n",
       "      <td>25-34</td>\n",
       "      <td>1.045931</td>\n",
       "      <td>62000.0</td>\n",
       "      <td>USD</td>\n",
       "      <td>USA</td>\n",
       "      <td>8 - 10 years</td>\n",
       "      <td>5-7 years</td>\n",
       "      <td>College degree</td>\n",
       "      <td>Woman</td>\n",
       "      <td>White</td>\n",
       "      <td>Non profit Organization</td>\n",
       "    </tr>\n",
       "    <tr>\n",
       "      <th>4</th>\n",
       "      <td>25-34</td>\n",
       "      <td>1.078113</td>\n",
       "      <td>60000.0</td>\n",
       "      <td>USD</td>\n",
       "      <td>USA</td>\n",
       "      <td>8 - 10 years</td>\n",
       "      <td>5-7 years</td>\n",
       "      <td>College degree</td>\n",
       "      <td>Woman</td>\n",
       "      <td>White</td>\n",
       "      <td>Banking &amp; Insurance</td>\n",
       "    </tr>\n",
       "    <tr>\n",
       "      <th>...</th>\n",
       "      <td>...</td>\n",
       "      <td>...</td>\n",
       "      <td>...</td>\n",
       "      <td>...</td>\n",
       "      <td>...</td>\n",
       "      <td>...</td>\n",
       "      <td>...</td>\n",
       "      <td>...</td>\n",
       "      <td>...</td>\n",
       "      <td>...</td>\n",
       "      <td>...</td>\n",
       "    </tr>\n",
       "    <tr>\n",
       "      <th>25115</th>\n",
       "      <td>25-34</td>\n",
       "      <td>1.399938</td>\n",
       "      <td>85000.0</td>\n",
       "      <td>USD</td>\n",
       "      <td>USA</td>\n",
       "      <td>5-7 years</td>\n",
       "      <td>5-7 years</td>\n",
       "      <td>College degree</td>\n",
       "      <td>Woman</td>\n",
       "      <td>White</td>\n",
       "      <td>Unidentified</td>\n",
       "    </tr>\n",
       "    <tr>\n",
       "      <th>25116</th>\n",
       "      <td>35-44</td>\n",
       "      <td>0.643650</td>\n",
       "      <td>40000.0</td>\n",
       "      <td>USD</td>\n",
       "      <td>USA</td>\n",
       "      <td>11 - 20 years</td>\n",
       "      <td>2 - 4 years</td>\n",
       "      <td>College degree</td>\n",
       "      <td>Woman</td>\n",
       "      <td>Asian or Asian American</td>\n",
       "      <td>Non profit Organization</td>\n",
       "    </tr>\n",
       "    <tr>\n",
       "      <th>25117</th>\n",
       "      <td>25-34</td>\n",
       "      <td>2.848150</td>\n",
       "      <td>148000.0</td>\n",
       "      <td>USD</td>\n",
       "      <td>USA</td>\n",
       "      <td>11 - 20 years</td>\n",
       "      <td>11 - 20 years</td>\n",
       "      <td>Master's degree</td>\n",
       "      <td>Woman</td>\n",
       "      <td>White</td>\n",
       "      <td>Technology &amp; Science</td>\n",
       "    </tr>\n",
       "    <tr>\n",
       "      <th>25118</th>\n",
       "      <td>25-34</td>\n",
       "      <td>1.126387</td>\n",
       "      <td>65000.0</td>\n",
       "      <td>USD</td>\n",
       "      <td>USA</td>\n",
       "      <td>2 - 4 years</td>\n",
       "      <td>2 - 4 years</td>\n",
       "      <td>College degree</td>\n",
       "      <td>Woman</td>\n",
       "      <td>White</td>\n",
       "      <td>Advertising</td>\n",
       "    </tr>\n",
       "    <tr>\n",
       "      <th>25119</th>\n",
       "      <td>35-44</td>\n",
       "      <td>2.414362</td>\n",
       "      <td>146192.0</td>\n",
       "      <td>USD</td>\n",
       "      <td>USA</td>\n",
       "      <td>11 - 20 years</td>\n",
       "      <td>8 - 10 years</td>\n",
       "      <td>Master's degree</td>\n",
       "      <td>Woman</td>\n",
       "      <td>White</td>\n",
       "      <td>Law</td>\n",
       "    </tr>\n",
       "  </tbody>\n",
       "</table>\n",
       "<p>25120 rows × 11 columns</p>\n",
       "</div>"
      ],
      "text/plain": [
       "      how_old_are_you  adjusted_annual_salary  annual_salary currency  \\\n",
       "0               25-34                0.885018        55000.0      USD   \n",
       "1               25-34                1.527665        54600.0      GBP   \n",
       "2               25-34                0.547102        34000.0      USD   \n",
       "3               25-34                1.045931        62000.0      USD   \n",
       "4               25-34                1.078113        60000.0      USD   \n",
       "...               ...                     ...            ...      ...   \n",
       "25115           25-34                1.399938        85000.0      USD   \n",
       "25116           35-44                0.643650        40000.0      USD   \n",
       "25117           25-34                2.848150       148000.0      USD   \n",
       "25118           25-34                1.126387        65000.0      USD   \n",
       "25119           35-44                2.414362       146192.0      USD   \n",
       "\n",
       "              country overall_years_of_professional_experience  \\\n",
       "0                 USA                                5-7 years   \n",
       "1      United Kingdom                             8 - 10 years   \n",
       "2                 USA                              2 - 4 years   \n",
       "3                 USA                             8 - 10 years   \n",
       "4                 USA                             8 - 10 years   \n",
       "...               ...                                      ...   \n",
       "25115             USA                                5-7 years   \n",
       "25116             USA                            11 - 20 years   \n",
       "25117             USA                            11 - 20 years   \n",
       "25118             USA                              2 - 4 years   \n",
       "25119             USA                            11 - 20 years   \n",
       "\n",
       "      years_of_experience_in_field highest_level_of_education_completed  \\\n",
       "0                        5-7 years                      Master's degree   \n",
       "1                        5-7 years                       College degree   \n",
       "2                      2 - 4 years                       College degree   \n",
       "3                        5-7 years                       College degree   \n",
       "4                        5-7 years                       College degree   \n",
       "...                            ...                                  ...   \n",
       "25115                    5-7 years                       College degree   \n",
       "25116                  2 - 4 years                       College degree   \n",
       "25117                11 - 20 years                      Master's degree   \n",
       "25118                  2 - 4 years                       College degree   \n",
       "25119                 8 - 10 years                      Master's degree   \n",
       "\n",
       "           gender                     race                 industry  \n",
       "0           Woman                    White                Education  \n",
       "1      Non-binary                    White     Technology & Science  \n",
       "2           Woman                    White      Banking & Insurance  \n",
       "3           Woman                    White  Non profit Organization  \n",
       "4           Woman                    White      Banking & Insurance  \n",
       "...           ...                      ...                      ...  \n",
       "25115       Woman                    White             Unidentified  \n",
       "25116       Woman  Asian or Asian American  Non profit Organization  \n",
       "25117       Woman                    White     Technology & Science  \n",
       "25118       Woman                    White              Advertising  \n",
       "25119       Woman                    White                      Law  \n",
       "\n",
       "[25120 rows x 11 columns]"
      ]
     },
     "execution_count": 52,
     "metadata": {},
     "output_type": "execute_result"
    }
   ],
   "source": [
    "df"
   ]
  },
  {
   "cell_type": "markdown",
   "metadata": {},
   "source": [
    "# Ordinal data processing"
   ]
  },
  {
   "cell_type": "code",
   "execution_count": 53,
   "metadata": {},
   "outputs": [
    {
     "data": {
      "text/plain": [
       "array(['25-34', '45-54', '35-44', '18-24', '65 or over', '55-64',\n",
       "       'under 18'], dtype=object)"
      ]
     },
     "execution_count": 53,
     "metadata": {},
     "output_type": "execute_result"
    }
   ],
   "source": [
    "df['how_old_are_you'].unique()"
   ]
  },
  {
   "cell_type": "code",
   "execution_count": 54,
   "metadata": {},
   "outputs": [
    {
     "data": {
      "text/plain": [
       "array(['5-7 years', '8 - 10 years', '2 - 4 years', '21 - 30 years',\n",
       "       '11 - 20 years', '1 year or less', '41 years or more',\n",
       "       '31 - 40 years'], dtype=object)"
      ]
     },
     "execution_count": 54,
     "metadata": {},
     "output_type": "execute_result"
    }
   ],
   "source": [
    "df['overall_years_of_professional_experience'].unique()"
   ]
  },
  {
   "cell_type": "code",
   "execution_count": 55,
   "metadata": {},
   "outputs": [
    {
     "data": {
      "text/plain": [
       "array(['5-7 years', '2 - 4 years', '21 - 30 years', '11 - 20 years',\n",
       "       '1 year or less', '8 - 10 years', '31 - 40 years',\n",
       "       '41 years or more'], dtype=object)"
      ]
     },
     "execution_count": 55,
     "metadata": {},
     "output_type": "execute_result"
    }
   ],
   "source": [
    "df['years_of_experience_in_field'].unique()"
   ]
  },
  {
   "cell_type": "code",
   "execution_count": 56,
   "metadata": {},
   "outputs": [
    {
     "data": {
      "text/plain": [
       "array([\"Master's degree\", 'College degree', 'PhD', 'Unknown',\n",
       "       'Some college', 'High School',\n",
       "       'Professional degree (MD, JD, etc.)'], dtype=object)"
      ]
     },
     "execution_count": 56,
     "metadata": {},
     "output_type": "execute_result"
    }
   ],
   "source": [
    "df['highest_level_of_education_completed'].unique()"
   ]
  },
  {
   "cell_type": "code",
   "execution_count": 57,
   "metadata": {},
   "outputs": [],
   "source": [
    "mask_18 = df['how_old_are_you'] == 'under 18'\n",
    "mask_21 = df['how_old_are_you'] == '18-24'\n",
    "mask_30 = df['how_old_are_you'] == '25-34'\n",
    "mask_40 = df['how_old_are_you'] == '35-44'\n",
    "mask_50 = df['how_old_are_you'] == '45-54'\n",
    "mask_60 = df['how_old_are_you'] == '55-64'\n",
    "mask_65 = df['how_old_are_you'] == '65 or over'\n",
    "df.loc[mask_18, 'how_old_are_you'] = 1\n",
    "df.loc[mask_21, 'how_old_are_you'] = 2\n",
    "df.loc[mask_30, 'how_old_are_you'] = 3\n",
    "df.loc[mask_40, 'how_old_are_you'] = 4\n",
    "df.loc[mask_50, 'how_old_are_you'] = 5\n",
    "df.loc[mask_60, 'how_old_are_you'] = 6\n",
    "df.loc[mask_65, 'how_old_are_you'] = 7\n",
    "df['how_old_are_you'] = pd.to_numeric(df['how_old_are_you'], errors='coerce')"
   ]
  },
  {
   "cell_type": "code",
   "execution_count": 58,
   "metadata": {},
   "outputs": [],
   "source": [
    "mask_1 = df['overall_years_of_professional_experience'] == '1 year or less'\n",
    "mask_3 = df['overall_years_of_professional_experience'] == '2 - 4 years'\n",
    "mask_6 = df['overall_years_of_professional_experience'] == '5-7 years'\n",
    "mask_9 = df['overall_years_of_professional_experience'] == '8 - 10 years'\n",
    "mask_15 = df['overall_years_of_professional_experience'] == '11 - 20 years'\n",
    "mask_25 = df['overall_years_of_professional_experience'] == '21 - 30 years'\n",
    "mask_35 = df['overall_years_of_professional_experience'] == '31 - 40 years'\n",
    "mask_41 = df['overall_years_of_professional_experience'] == '41 years or more'\n",
    "df.loc[mask_1, 'overall_years_of_professional_experience'] = 1\n",
    "df.loc[mask_3, 'overall_years_of_professional_experience'] = 2\n",
    "df.loc[mask_6, 'overall_years_of_professional_experience'] = 3\n",
    "df.loc[mask_9, 'overall_years_of_professional_experience'] = 4\n",
    "df.loc[mask_15, 'overall_years_of_professional_experience'] = 5\n",
    "df.loc[mask_25, 'overall_years_of_professional_experience'] = 6\n",
    "df.loc[mask_35, 'overall_years_of_professional_experience'] = 7\n",
    "df.loc[mask_41, 'overall_years_of_professional_experience'] = 8\n",
    "df['overall_years_of_professional_experience'] = pd.to_numeric(df['overall_years_of_professional_experience'], errors='coerce')"
   ]
  },
  {
   "cell_type": "code",
   "execution_count": 59,
   "metadata": {},
   "outputs": [],
   "source": [
    "mask_1 = df['years_of_experience_in_field'] == '1 year or less'\n",
    "mask_3 = df['years_of_experience_in_field'] == '2 - 4 years'\n",
    "mask_6 = df['years_of_experience_in_field'] == '5-7 years'\n",
    "mask_9 = df['years_of_experience_in_field'] == '8 - 10 years'\n",
    "mask_15 = df['years_of_experience_in_field'] == '11 - 20 years'\n",
    "mask_25 = df['years_of_experience_in_field'] == '21 - 30 years'\n",
    "mask_35 = df['years_of_experience_in_field'] == '31 - 40 years'\n",
    "mask_41 = df['years_of_experience_in_field'] == '41 years or more'\n",
    "df.loc[mask_1, 'years_of_experience_in_field'] = 1\n",
    "df.loc[mask_3, 'years_of_experience_in_field'] = 2\n",
    "df.loc[mask_6, 'years_of_experience_in_field'] = 3\n",
    "df.loc[mask_9, 'years_of_experience_in_field'] = 4\n",
    "df.loc[mask_15, 'years_of_experience_in_field'] = 5\n",
    "df.loc[mask_25, 'years_of_experience_in_field'] = 6\n",
    "df.loc[mask_35, 'years_of_experience_in_field'] = 7\n",
    "df.loc[mask_41, 'years_of_experience_in_field'] = 8\n",
    "df['years_of_experience_in_field'] = pd.to_numeric(df['years_of_experience_in_field'], errors='coerce')"
   ]
  },
  {
   "cell_type": "code",
   "execution_count": 60,
   "metadata": {},
   "outputs": [],
   "source": [
    "mask_5 = df['highest_level_of_education_completed'] == 'High School'\n",
    "mask_10 = df['highest_level_of_education_completed'] == 'Some college'\n",
    "mask_15 = df['highest_level_of_education_completed'] == 'College degree'\n",
    "mask_20 = df['highest_level_of_education_completed'] == 'Professional degree (MD, JD, etc.)'\n",
    "mask_25 = df['highest_level_of_education_completed'] == \"Master's degree\"\n",
    "mask_30 = df['highest_level_of_education_completed'] == 'PhD'\n",
    "mask_nan = df['highest_level_of_education_completed'] == 'Unknown'\n",
    "df.loc[mask_5, 'highest_level_of_education_completed'] = 1\n",
    "df.loc[mask_10, 'highest_level_of_education_completed'] = 2\n",
    "df.loc[mask_15, 'highest_level_of_education_completed'] = 3\n",
    "df.loc[mask_20, 'highest_level_of_education_completed'] = 4\n",
    "df.loc[mask_25, 'highest_level_of_education_completed'] = 5\n",
    "df.loc[mask_30, 'highest_level_of_education_completed'] = 6\n",
    "df.loc[mask_nan, 'highest_level_of_education_completed'] =  float(\"NaN\")\n",
    "df['highest_level_of_education_completed'] = pd.to_numeric(df['highest_level_of_education_completed'], errors='coerce')"
   ]
  },
  {
   "cell_type": "code",
   "execution_count": 61,
   "metadata": {},
   "outputs": [
    {
     "data": {
      "text/plain": [
       "how_old_are_you                               0\n",
       "adjusted_annual_salary                        0\n",
       "annual_salary                                 0\n",
       "currency                                      0\n",
       "country                                       0\n",
       "overall_years_of_professional_experience      0\n",
       "years_of_experience_in_field                  0\n",
       "highest_level_of_education_completed        182\n",
       "gender                                        0\n",
       "race                                          0\n",
       "industry                                      0\n",
       "dtype: int64"
      ]
     },
     "execution_count": 61,
     "metadata": {},
     "output_type": "execute_result"
    }
   ],
   "source": [
    "df.isna().sum()"
   ]
  },
  {
   "cell_type": "code",
   "execution_count": 62,
   "metadata": {},
   "outputs": [],
   "source": [
    "df_clean = df.dropna()"
   ]
  },
  {
   "cell_type": "code",
   "execution_count": 63,
   "metadata": {},
   "outputs": [
    {
     "data": {
      "text/html": [
       "<div>\n",
       "<style scoped>\n",
       "    .dataframe tbody tr th:only-of-type {\n",
       "        vertical-align: middle;\n",
       "    }\n",
       "\n",
       "    .dataframe tbody tr th {\n",
       "        vertical-align: top;\n",
       "    }\n",
       "\n",
       "    .dataframe thead th {\n",
       "        text-align: right;\n",
       "    }\n",
       "</style>\n",
       "<table border=\"1\" class=\"dataframe\">\n",
       "  <thead>\n",
       "    <tr style=\"text-align: right;\">\n",
       "      <th></th>\n",
       "      <th>how_old_are_you</th>\n",
       "      <th>annual_salary</th>\n",
       "      <th>overall_years_of_professional_experience</th>\n",
       "      <th>years_of_experience_in_field</th>\n",
       "      <th>highest_level_of_education_completed</th>\n",
       "    </tr>\n",
       "  </thead>\n",
       "  <tbody>\n",
       "    <tr>\n",
       "      <th>0</th>\n",
       "      <td>3</td>\n",
       "      <td>55000.0</td>\n",
       "      <td>3</td>\n",
       "      <td>3</td>\n",
       "      <td>5.0</td>\n",
       "    </tr>\n",
       "    <tr>\n",
       "      <th>1</th>\n",
       "      <td>3</td>\n",
       "      <td>54600.0</td>\n",
       "      <td>4</td>\n",
       "      <td>3</td>\n",
       "      <td>3.0</td>\n",
       "    </tr>\n",
       "    <tr>\n",
       "      <th>2</th>\n",
       "      <td>3</td>\n",
       "      <td>34000.0</td>\n",
       "      <td>2</td>\n",
       "      <td>2</td>\n",
       "      <td>3.0</td>\n",
       "    </tr>\n",
       "    <tr>\n",
       "      <th>3</th>\n",
       "      <td>3</td>\n",
       "      <td>62000.0</td>\n",
       "      <td>4</td>\n",
       "      <td>3</td>\n",
       "      <td>3.0</td>\n",
       "    </tr>\n",
       "    <tr>\n",
       "      <th>4</th>\n",
       "      <td>3</td>\n",
       "      <td>60000.0</td>\n",
       "      <td>4</td>\n",
       "      <td>3</td>\n",
       "      <td>3.0</td>\n",
       "    </tr>\n",
       "    <tr>\n",
       "      <th>...</th>\n",
       "      <td>...</td>\n",
       "      <td>...</td>\n",
       "      <td>...</td>\n",
       "      <td>...</td>\n",
       "      <td>...</td>\n",
       "    </tr>\n",
       "    <tr>\n",
       "      <th>25115</th>\n",
       "      <td>3</td>\n",
       "      <td>85000.0</td>\n",
       "      <td>3</td>\n",
       "      <td>3</td>\n",
       "      <td>3.0</td>\n",
       "    </tr>\n",
       "    <tr>\n",
       "      <th>25116</th>\n",
       "      <td>4</td>\n",
       "      <td>40000.0</td>\n",
       "      <td>5</td>\n",
       "      <td>2</td>\n",
       "      <td>3.0</td>\n",
       "    </tr>\n",
       "    <tr>\n",
       "      <th>25117</th>\n",
       "      <td>3</td>\n",
       "      <td>148000.0</td>\n",
       "      <td>5</td>\n",
       "      <td>5</td>\n",
       "      <td>5.0</td>\n",
       "    </tr>\n",
       "    <tr>\n",
       "      <th>25118</th>\n",
       "      <td>3</td>\n",
       "      <td>65000.0</td>\n",
       "      <td>2</td>\n",
       "      <td>2</td>\n",
       "      <td>3.0</td>\n",
       "    </tr>\n",
       "    <tr>\n",
       "      <th>25119</th>\n",
       "      <td>4</td>\n",
       "      <td>146192.0</td>\n",
       "      <td>5</td>\n",
       "      <td>4</td>\n",
       "      <td>5.0</td>\n",
       "    </tr>\n",
       "  </tbody>\n",
       "</table>\n",
       "<p>24938 rows × 5 columns</p>\n",
       "</div>"
      ],
      "text/plain": [
       "       how_old_are_you  annual_salary  \\\n",
       "0                    3        55000.0   \n",
       "1                    3        54600.0   \n",
       "2                    3        34000.0   \n",
       "3                    3        62000.0   \n",
       "4                    3        60000.0   \n",
       "...                ...            ...   \n",
       "25115                3        85000.0   \n",
       "25116                4        40000.0   \n",
       "25117                3       148000.0   \n",
       "25118                3        65000.0   \n",
       "25119                4       146192.0   \n",
       "\n",
       "       overall_years_of_professional_experience  years_of_experience_in_field  \\\n",
       "0                                             3                             3   \n",
       "1                                             4                             3   \n",
       "2                                             2                             2   \n",
       "3                                             4                             3   \n",
       "4                                             4                             3   \n",
       "...                                         ...                           ...   \n",
       "25115                                         3                             3   \n",
       "25116                                         5                             2   \n",
       "25117                                         5                             5   \n",
       "25118                                         2                             2   \n",
       "25119                                         5                             4   \n",
       "\n",
       "       highest_level_of_education_completed  \n",
       "0                                       5.0  \n",
       "1                                       3.0  \n",
       "2                                       3.0  \n",
       "3                                       3.0  \n",
       "4                                       3.0  \n",
       "...                                     ...  \n",
       "25115                                   3.0  \n",
       "25116                                   3.0  \n",
       "25117                                   5.0  \n",
       "25118                                   3.0  \n",
       "25119                                   5.0  \n",
       "\n",
       "[24938 rows x 5 columns]"
      ]
     },
     "execution_count": 63,
     "metadata": {},
     "output_type": "execute_result"
    }
   ],
   "source": [
    "df_clean = df_clean.drop([\"adjusted_annual_salary\", \"currency\", \"country\", \"gender\", \"race\", \"industry\"], axis=1)\n",
    "df_clean"
   ]
  },
  {
   "cell_type": "code",
   "execution_count": 64,
   "metadata": {},
   "outputs": [
    {
     "data": {
      "text/plain": [
       "<matplotlib.axes._subplots.AxesSubplot at 0x1eaf01ed308>"
      ]
     },
     "execution_count": 64,
     "metadata": {},
     "output_type": "execute_result"
    },
    {
     "data": {
      "image/png": "[encoded data removed]",
      "text/plain": [
       "<Figure size 432x288 with 2 Axes>"
      ]
     },
     "metadata": {
      "needs_background": "light"
     },
     "output_type": "display_data"
    }
   ],
   "source": [
    "corr = df_clean.corr()\n",
    "sns.heatmap(corr, annot=True)"
   ]
  },
  {
   "cell_type": "markdown",
   "metadata": {},
   "source": [
    "# Fully Corrective Binning "
   ]
  },
  {
   "cell_type": "code",
   "execution_count": 65,
   "metadata": {},
   "outputs": [],
   "source": [
    "Y = df_clean[\"annual_salary\"]\n",
    "X = df_clean.loc[:,df_clean.columns!=\"annual_salary\"]\n",
    "X = X.to_numpy()\n",
    "Y = Y.to_numpy()"
   ]
  },
  {
   "cell_type": "code",
   "execution_count": 66,
   "metadata": {},
   "outputs": [],
   "source": [
    "def R_hinge_loss(theta, Z, Y) :\n",
    "    \n",
    "    s = 0\n",
    "    for j in range(N):\n",
    "        s += max(0, 1 - np.dot(theta * Z[j], Y[j,]) )\n",
    "    \n",
    "    return s\n",
    "\n",
    "\n",
    "def MSE(theta, Z, Y) :\n",
    "    return np.square(np.subtract(Y,np.dot(Z, theta))).mean()\n",
    "\n",
    "def construct_Z(X, selected_bins) :\n",
    "    \n",
    "    N = np.shape(X)[0]\n",
    "    p = np.shape(X)[1]\n",
    "    \n",
    "    size = 0\n",
    "    for j in range(p):\n",
    "        size = size + len(selected_bins[j]) - 1\n",
    "            \n",
    "    Z = np.zeros((N, size))\n",
    "    \n",
    "    for i in range(N):\n",
    "        ind = 0\n",
    "        for j in range(p):\n",
    "            for l_prime in range(len(selected_bins[j])-1):\n",
    "                \n",
    "                l = selected_bins[j][l_prime]\n",
    "                u = selected_bins[j][l_prime+1]\n",
    "                \n",
    "                if l < X[i,j] and X[i,j] < u :\n",
    "                    Z[i,ind] = 1\n",
    "                    \n",
    "                ind = ind + 1\n",
    "    \n",
    "    return Z\n",
    "\n",
    "# The Simple Corrective Binning\n",
    "# input : \n",
    "#  --> (X, Y) les entrées/sorties d'entrainement\n",
    "#  --> T le nombre d'itérations\n",
    "#  --> K le nombre de bacs (\"bins\")\n",
    "#  --> R la fonction de coût à minimiser (de paramètre theta, Z et Y)\n",
    "#  --> le nombre de bins généré aléatoirement à tester\n",
    "# output : [theta, selected_features]\n",
    "#  --> theta, le vecteur de dimensions de qui correspond au modèle de score (tel que Z*theta = Y)\n",
    "#  --> selected_bins les valeurs des bacs sélectionnées\n",
    "\n",
    "def TSB(X, Y, T, K, R):\n",
    "    \n",
    "    N = np.shape(X)[0]\n",
    "    p = np.shape(X)[1]\n",
    "    \n",
    "    if (K < p) :\n",
    "        return \n",
    "    \n",
    "    # X_{i,j} \\in  [-Omega ; Omega] \n",
    "    Omega = np.zeros((p,2), dtype=float) \n",
    "    for i in range(p):\n",
    "        Omega[i] = (np.min(X[:,i]), np.max(X[:,i]))\n",
    "    \n",
    "    selected_bins = []\n",
    "    for i in range(p):\n",
    "        selected_bins.append([])\n",
    "        selected_bins[i].append(Omega[i][0])\n",
    "        selected_bins[i].append(Omega[i][1])\n",
    "    \n",
    "    Z = construct_Z(X, selected_bins)\n",
    "    theta = np.zeros(len(Z[0])) \n",
    "    theta = opt.minimize(MSE, x0=theta, args=(Z, Y)).x\n",
    "    \n",
    "    \n",
    "    # T itérations\n",
    "    for t in range(T):\n",
    "\n",
    "        mini = 10e12\n",
    "        argmin = (0, 0, 0, 0) # (j, l, u, r)\n",
    "        for j in range(p):\n",
    "            size = len(selected_bins[j])\n",
    "            for l_prime in range(size-1):\n",
    "                \n",
    "                l = selected_bins[j][l_prime]\n",
    "                u = selected_bins[j][l_prime+1]\n",
    "                    \n",
    "                r = (l+u)/2\n",
    "                \n",
    "                try_bins = copy.deepcopy(selected_bins)\n",
    "                bisect.insort(try_bins[j], r)\n",
    "                Z = construct_Z(X, try_bins)\n",
    "                theta = np.zeros(len(Z[0])) \n",
    "                theta = opt.minimize(MSE, x0=theta, args=(Z, Y)).x\n",
    "                   \n",
    "                mse = MSE(theta, Z, Y) \n",
    "                    \n",
    "                if mse < mini :\n",
    "                    mini = mse\n",
    "                    argmin = (j, l, u, r)\n",
    "        \n",
    "        \n",
    "        bisect.insort(selected_bins[argmin[0]], argmin[3])\n",
    "        \n",
    "        Z = construct_Z(X, selected_bins)\n",
    "        theta = np.zeros(len(Z[0])) \n",
    "        theta = opt.minimize(MSE, x0=theta, args=(Z, Y)).x\n",
    "        \n",
    "        # K bacs\n",
    "        if(t > K):\n",
    "            \n",
    "            mini = 10e12\n",
    "            argmin = (0, 0, 0, 0) # (j, l, u, q)\n",
    "            sum_size = 0\n",
    "            for j in range(p):\n",
    "                size = len(selected_bins[j])\n",
    "                for l_prime in range(size-1):\n",
    "\n",
    "                    l = sum_size + l_prime\n",
    "                    u = sum_size + l_prime + 1\n",
    "                    \n",
    "                    sum_size = sum_size + size\n",
    "                        \n",
    "                    res = abs(theta[l] - theta[u])\n",
    "                    if res < mini:\n",
    "                        mini = res\n",
    "                        argmin = (j, l, u, q)       \n",
    "                        \n",
    "            selected_bins[argmin[0]] = np.delete(selected_bins[argmin[0]], argmin[1])\n",
    "            selected_bins[argmin[0]] = np.delete(selected_bins[argmin[0]], argmin[2])\n",
    "            \n",
    "        \n",
    "            Z = construct_Z(X, selected_bins)\n",
    "            theta = np.zeros(len(Z[0])) \n",
    "            theta = opt.minimize(MSE, x0=theta, args=(Z, Y)).x\n",
    "\n",
    "    \n",
    "    return [theta, selected_bins]"
   ]
  },
  {
   "cell_type": "code",
   "execution_count": 67,
   "metadata": {},
   "outputs": [
    {
     "name": "stderr",
     "output_type": "stream",
     "text": [
      "C:\\Users\\assil\\anaconda3\\lib\\site-packages\\scipy\\optimize\\optimize.py:1058: RuntimeWarning: divide by zero encountered in double_scalars\n",
      "  rhok = 1.0 / (numpy.dot(yk, sk))\n",
      "C:\\Users\\assil\\anaconda3\\lib\\site-packages\\scipy\\optimize\\optimize.py:1058: RuntimeWarning: divide by zero encountered in double_scalars\n",
      "  rhok = 1.0 / (numpy.dot(yk, sk))\n"
     ]
    },
    {
     "data": {
      "text/plain": [
       "1254869258.9690025"
      ]
     },
     "execution_count": 67,
     "metadata": {},
     "output_type": "execute_result"
    }
   ],
   "source": [
    "[theta, selected_bins] = TSB(X, Y, 10 , 10, R_hinge_loss)\n",
    "Z = construct_Z(X, selected_bins)\n",
    "MSE(theta, Z, Y)"
   ]
  },
  {
   "cell_type": "code",
   "execution_count": 68,
   "metadata": {},
   "outputs": [
    {
     "data": {
      "text/plain": [
       "array([1., 1., 0., 0., 0., 1., 0., 0., 0., 0., 0., 0., 0., 1.])"
      ]
     },
     "execution_count": 68,
     "metadata": {},
     "output_type": "execute_result"
    }
   ],
   "source": [
    "Z[0]"
   ]
  },
  {
   "cell_type": "code",
   "execution_count": 69,
   "metadata": {},
   "outputs": [
    {
     "data": {
      "text/plain": [
       "array([ 57127.01019535,   3000.66051405,   4600.86306015,  -3606.59967358,\n",
       "         9321.30885671,  19386.8758204 ,  27479.0003399 ,  34652.64711569,\n",
       "        44392.38818762,  51294.90447002, -16177.1627237 ,  -3377.75147583,\n",
       "        20784.95119735,  -1672.00540582])"
      ]
     },
     "execution_count": 69,
     "metadata": {},
     "output_type": "execute_result"
    }
   ],
   "source": [
    "theta"
   ]
  },
  {
   "cell_type": "code",
   "execution_count": 70,
   "metadata": {},
   "outputs": [
    {
     "data": {
      "text/plain": [
       "[[1.0, 7.0],\n",
       " [1.0, 4.5, 6.25, 8.0],\n",
       " [1.0, 2.75, 3.625, 4.5, 5.375, 6.25, 8.0],\n",
       " [1.0, 2.25, 3.5, 4.75, 6.0]]"
      ]
     },
     "execution_count": 70,
     "metadata": {},
     "output_type": "execute_result"
    }
   ],
   "source": [
    "selected_bins"
   ]
  },
  {
   "cell_type": "code",
   "execution_count": 71,
   "metadata": {},
   "outputs": [
    {
     "data": {
      "text/plain": [
       "array([77842.54112397, 76136.79505397, 66071.22809028, ...,\n",
       "       94708.51496536, 66071.22809028, 87534.86818957])"
      ]
     },
     "execution_count": 71,
     "metadata": {},
     "output_type": "execute_result"
    }
   ],
   "source": [
    "scoring = np.dot(Z, theta)\n",
    "scoring"
   ]
  },
  {
   "cell_type": "code",
   "execution_count": 72,
   "metadata": {},
   "outputs": [
    {
     "data": {
      "text/html": [
       "<div>\n",
       "<style scoped>\n",
       "    .dataframe tbody tr th:only-of-type {\n",
       "        vertical-align: middle;\n",
       "    }\n",
       "\n",
       "    .dataframe tbody tr th {\n",
       "        vertical-align: top;\n",
       "    }\n",
       "\n",
       "    .dataframe thead th {\n",
       "        text-align: right;\n",
       "    }\n",
       "</style>\n",
       "<table border=\"1\" class=\"dataframe\">\n",
       "  <thead>\n",
       "    <tr style=\"text-align: right;\">\n",
       "      <th></th>\n",
       "      <th>how_old_are_you</th>\n",
       "      <th>annual_salary</th>\n",
       "      <th>overall_years_of_professional_experience</th>\n",
       "      <th>years_of_experience_in_field</th>\n",
       "      <th>highest_level_of_education_completed</th>\n",
       "    </tr>\n",
       "  </thead>\n",
       "  <tbody>\n",
       "    <tr>\n",
       "      <th>count</th>\n",
       "      <td>24938.000000</td>\n",
       "      <td>24938.000000</td>\n",
       "      <td>24938.000000</td>\n",
       "      <td>24938.000000</td>\n",
       "      <td>24938.000000</td>\n",
       "    </tr>\n",
       "    <tr>\n",
       "      <th>mean</th>\n",
       "      <td>3.658593</td>\n",
       "      <td>81301.167335</td>\n",
       "      <td>4.276085</td>\n",
       "      <td>3.575427</td>\n",
       "      <td>3.729329</td>\n",
       "    </tr>\n",
       "    <tr>\n",
       "      <th>std</th>\n",
       "      <td>0.884501</td>\n",
       "      <td>37678.094467</td>\n",
       "      <td>1.370730</td>\n",
       "      <td>1.422281</td>\n",
       "      <td>1.196347</td>\n",
       "    </tr>\n",
       "    <tr>\n",
       "      <th>min</th>\n",
       "      <td>1.000000</td>\n",
       "      <td>0.000000</td>\n",
       "      <td>1.000000</td>\n",
       "      <td>1.000000</td>\n",
       "      <td>1.000000</td>\n",
       "    </tr>\n",
       "    <tr>\n",
       "      <th>25%</th>\n",
       "      <td>3.000000</td>\n",
       "      <td>53000.000000</td>\n",
       "      <td>3.000000</td>\n",
       "      <td>2.000000</td>\n",
       "      <td>3.000000</td>\n",
       "    </tr>\n",
       "    <tr>\n",
       "      <th>50%</th>\n",
       "      <td>4.000000</td>\n",
       "      <td>75000.000000</td>\n",
       "      <td>5.000000</td>\n",
       "      <td>3.000000</td>\n",
       "      <td>3.000000</td>\n",
       "    </tr>\n",
       "    <tr>\n",
       "      <th>75%</th>\n",
       "      <td>4.000000</td>\n",
       "      <td>103000.000000</td>\n",
       "      <td>5.000000</td>\n",
       "      <td>5.000000</td>\n",
       "      <td>5.000000</td>\n",
       "    </tr>\n",
       "    <tr>\n",
       "      <th>max</th>\n",
       "      <td>7.000000</td>\n",
       "      <td>194000.000000</td>\n",
       "      <td>8.000000</td>\n",
       "      <td>8.000000</td>\n",
       "      <td>6.000000</td>\n",
       "    </tr>\n",
       "  </tbody>\n",
       "</table>\n",
       "</div>"
      ],
      "text/plain": [
       "       how_old_are_you  annual_salary  \\\n",
       "count     24938.000000   24938.000000   \n",
       "mean          3.658593   81301.167335   \n",
       "std           0.884501   37678.094467   \n",
       "min           1.000000       0.000000   \n",
       "25%           3.000000   53000.000000   \n",
       "50%           4.000000   75000.000000   \n",
       "75%           4.000000  103000.000000   \n",
       "max           7.000000  194000.000000   \n",
       "\n",
       "       overall_years_of_professional_experience  years_of_experience_in_field  \\\n",
       "count                              24938.000000                  24938.000000   \n",
       "mean                                   4.276085                      3.575427   \n",
       "std                                    1.370730                      1.422281   \n",
       "min                                    1.000000                      1.000000   \n",
       "25%                                    3.000000                      2.000000   \n",
       "50%                                    5.000000                      3.000000   \n",
       "75%                                    5.000000                      5.000000   \n",
       "max                                    8.000000                      8.000000   \n",
       "\n",
       "       highest_level_of_education_completed  \n",
       "count                          24938.000000  \n",
       "mean                               3.729329  \n",
       "std                                1.196347  \n",
       "min                                1.000000  \n",
       "25%                                3.000000  \n",
       "50%                                3.000000  \n",
       "75%                                5.000000  \n",
       "max                                6.000000  "
      ]
     },
     "execution_count": 72,
     "metadata": {},
     "output_type": "execute_result"
    }
   ],
   "source": [
    "df_clean.describe()"
   ]
  },
  {
   "cell_type": "code",
   "execution_count": 73,
   "metadata": {},
   "outputs": [],
   "source": [
    "median_salary = 75000"
   ]
  }
 ],
 "metadata": {
  "hide_input": false,
  "kernelspec": {
   "display_name": "Python 3 (ipykernel)",
   "language": "python",
   "name": "python3"
  },
  "language_info": {
   "codemirror_mode": {
    "name": "ipython",
    "version": 3
   },
   "file_extension": ".py",
   "mimetype": "text/x-python",
   "name": "python",
   "nbconvert_exporter": "python",
   "pygments_lexer": "ipython3",
   "version": "3.9.8"
  },
  "latex_envs": {
   "LaTeX_envs_menu_present": true,
   "autoclose": false,
   "autocomplete": true,
   "bibliofile": "biblio.bib",
   "cite_by": "apalike",
   "current_citInitial": 1,
   "eqLabelWithNumbers": true,
   "eqNumInitial": 1,
   "hotkeys": {
    "equation": "Ctrl-E",
    "itemize": "Ctrl-I"
   },
   "labels_anchors": false,
   "latex_user_defs": false,
   "report_style_numbering": false,
   "user_envs_cfg": false
  },
  "toc": {
   "base_numbering": 1,
   "nav_menu": {},
   "number_sections": true,
   "sideBar": true,
   "skip_h1_title": false,
   "title_cell": "Table of Contents",
   "title_sidebar": "Contents",
   "toc_cell": false,
   "toc_position": {},
   "toc_section_display": true,
   "toc_window_display": false
  },
  "varInspector": {
   "cols": {
    "lenName": 16,
    "lenType": 16,
    "lenVar": 40
   },
   "kernels_config": {
    "python": {
     "delete_cmd_postfix": "",
     "delete_cmd_prefix": "del ",
     "library": "var_list.py",
     "varRefreshCmd": "print(var_dic_list())"
    },
    "r": {
     "delete_cmd_postfix": ") ",
     "delete_cmd_prefix": "rm(",
     "library": "var_list.r",
     "varRefreshCmd": "cat(var_dic_list()) "
    }
   },
   "types_to_exclude": [
    "module",
    "function",
    "builtin_function_or_method",
    "instance",
    "_Feature"
   ],
   "window_display": false
  }
 },
 "nbformat": 4,
 "nbformat_minor": 4
}
