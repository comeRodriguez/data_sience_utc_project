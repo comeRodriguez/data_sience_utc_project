{
 "cells": [
  {
   "cell_type": "code",
   "execution_count": 1,
   "metadata": {
    "ExecuteTime": {
     "end_time": "2022-05-27T08:01:29.485450Z",
     "start_time": "2022-05-27T08:01:26.928640Z"
    }
   },
   "outputs": [],
   "source": [
    "import seaborn as sns\n",
    "import matplotlib.pyplot as plt\n",
    "import pandas as pd\n",
    "import numpy as np\n",
    "import pandas as pd\n",
    "import numpy as np\n",
    "import copy\n",
    "from kmodes.kmodes import KModes\n",
    "from kmodes.kprototypes import KPrototypes\n",
    "%matplotlib inline"
   ]
  },
  {
   "cell_type": "code",
   "execution_count": 2,
   "metadata": {
    "ExecuteTime": {
     "end_time": "2022-05-27T08:01:33.877223Z",
     "start_time": "2022-05-27T08:01:31.085624Z"
    }
   },
   "outputs": [],
   "source": [
    "df = pd.read_csv(\"old_data/survey_without_extreme_values.csv\")"
   ]
  },
  {
   "cell_type": "code",
   "execution_count": 3,
   "metadata": {
    "ExecuteTime": {
     "end_time": "2022-05-27T08:01:36.090550Z",
     "start_time": "2022-05-27T08:01:35.622900Z"
    }
   },
   "outputs": [],
   "source": [
    "wage_data = pd.read_csv(\"old_data/avg_wage.csv\", sep =';')"
   ]
  },
  {
   "cell_type": "code",
   "execution_count": 4,
   "metadata": {
    "ExecuteTime": {
     "end_time": "2022-05-27T08:01:36.692087Z",
     "start_time": "2022-05-27T08:01:36.687643Z"
    }
   },
   "outputs": [],
   "source": [
    "empty = np.zeros(df.shape[0])"
   ]
  },
  {
   "cell_type": "code",
   "execution_count": 5,
   "metadata": {
    "ExecuteTime": {
     "end_time": "2022-05-27T08:01:38.313819Z",
     "start_time": "2022-05-27T08:01:38.308502Z"
    }
   },
   "outputs": [],
   "source": [
    "df.insert(5, \"adjusted_annual_salary\",empty)"
   ]
  },
  {
   "cell_type": "code",
   "execution_count": 6,
   "metadata": {
    "ExecuteTime": {
     "end_time": "2022-05-27T08:01:41.936192Z",
     "start_time": "2022-05-27T08:01:41.932003Z"
    }
   },
   "outputs": [],
   "source": [
    "def create_wage_dict(wage_data):\n",
    "    wage_dict = {}\n",
    "    for i in range(wage_data.shape[0]) :\n",
    "        wage_dict.update({wage_data['country'].iloc[i]:wage_data['avg_annual_wage'].iloc[i]})\n",
    "    \n",
    "    return wage_dict"
   ]
  },
  {
   "cell_type": "code",
   "execution_count": 7,
   "metadata": {
    "ExecuteTime": {
     "end_time": "2022-05-27T08:01:42.336290Z",
     "start_time": "2022-05-27T08:01:42.330398Z"
    }
   },
   "outputs": [],
   "source": [
    "wage_dict = create_wage_dict(wage_data)"
   ]
  },
  {
   "cell_type": "code",
   "execution_count": 8,
   "metadata": {
    "ExecuteTime": {
     "end_time": "2022-05-27T08:01:45.754511Z",
     "start_time": "2022-05-27T08:01:45.737878Z"
    }
   },
   "outputs": [],
   "source": [
    "df = df.dropna(axis = 0, subset=['harmonized_salary'])"
   ]
  },
  {
   "cell_type": "code",
   "execution_count": 9,
   "metadata": {
    "ExecuteTime": {
     "end_time": "2022-05-27T08:01:49.615350Z",
     "start_time": "2022-05-27T08:01:49.610503Z"
    }
   },
   "outputs": [],
   "source": [
    "def adjust_wage (df, wage_dict):\n",
    "    df['other_monetary_comp'] = df['other_monetary_comp'].fillna(0)\n",
    "    for i in range (df.shape[0]) :\n",
    "        if (df['country'].iloc[i] in wage_dict) :\n",
    "            df['adjusted_annual_salary'].iloc[i] = df['harmonized_salary'].iloc[i] / wage_dict[df['country'].iloc[i]] \n",
    "                                                   # df['other_monetary_comp'].iloc[i])/ wage_dict[df['country'].iloc[i]]\n",
    "    return df"
   ]
  },
  {
   "cell_type": "code",
   "execution_count": 10,
   "metadata": {
    "ExecuteTime": {
     "end_time": "2022-05-27T08:01:59.344764Z",
     "start_time": "2022-05-27T08:01:51.555570Z"
    }
   },
   "outputs": [
    {
     "name": "stderr",
     "output_type": "stream",
     "text": [
      "/usr/local/lib/python3.9/site-packages/pandas/core/indexing.py:1732: SettingWithCopyWarning: \n",
      "A value is trying to be set on a copy of a slice from a DataFrame\n",
      "\n",
      "See the caveats in the documentation: https://pandas.pydata.org/pandas-docs/stable/user_guide/indexing.html#returning-a-view-versus-a-copy\n",
      "  self._setitem_single_block(indexer, value, name)\n"
     ]
    },
    {
     "data": {
      "text/html": [
       "<div>\n",
       "<style scoped>\n",
       "    .dataframe tbody tr th:only-of-type {\n",
       "        vertical-align: middle;\n",
       "    }\n",
       "\n",
       "    .dataframe tbody tr th {\n",
       "        vertical-align: top;\n",
       "    }\n",
       "\n",
       "    .dataframe thead th {\n",
       "        text-align: right;\n",
       "    }\n",
       "</style>\n",
       "<table border=\"1\" class=\"dataframe\">\n",
       "  <thead>\n",
       "    <tr style=\"text-align: right;\">\n",
       "      <th></th>\n",
       "      <th>Unnamed: 0</th>\n",
       "      <th>Unnamed: 0.1</th>\n",
       "      <th>timestamp</th>\n",
       "      <th>how_old_are_you</th>\n",
       "      <th>industry</th>\n",
       "      <th>adjusted_annual_salary</th>\n",
       "      <th>job_title</th>\n",
       "      <th>additional_context_on_job_title</th>\n",
       "      <th>annual_salary</th>\n",
       "      <th>other_monetary_comp</th>\n",
       "      <th>...</th>\n",
       "      <th>city</th>\n",
       "      <th>overall_years_of_professional_experience</th>\n",
       "      <th>years_of_experience_in_field</th>\n",
       "      <th>highest_level_of_education_completed</th>\n",
       "      <th>gender</th>\n",
       "      <th>race</th>\n",
       "      <th>industry cluster</th>\n",
       "      <th>industry cluster tf_idf</th>\n",
       "      <th>industry cluster tf_idf_bigrams</th>\n",
       "      <th>harmonized_salary</th>\n",
       "    </tr>\n",
       "  </thead>\n",
       "  <tbody>\n",
       "    <tr>\n",
       "      <th>0</th>\n",
       "      <td>0</td>\n",
       "      <td>0</td>\n",
       "      <td>4/27/2021 11:02:10</td>\n",
       "      <td>25-34</td>\n",
       "      <td>Education (Higher Education)</td>\n",
       "      <td>0.885018</td>\n",
       "      <td>Research and Instruction Librarian</td>\n",
       "      <td>NaN</td>\n",
       "      <td>55000</td>\n",
       "      <td>0.0</td>\n",
       "      <td>...</td>\n",
       "      <td>Boston</td>\n",
       "      <td>5-7 years</td>\n",
       "      <td>5-7 years</td>\n",
       "      <td>Master's degree</td>\n",
       "      <td>Woman</td>\n",
       "      <td>White</td>\n",
       "      <td>Education</td>\n",
       "      <td>Education</td>\n",
       "      <td>Education</td>\n",
       "      <td>55000.0</td>\n",
       "    </tr>\n",
       "    <tr>\n",
       "      <th>1</th>\n",
       "      <td>1</td>\n",
       "      <td>1</td>\n",
       "      <td>4/27/2021 11:02:22</td>\n",
       "      <td>25-34</td>\n",
       "      <td>Computing or Tech</td>\n",
       "      <td>1.793468</td>\n",
       "      <td>Change &amp; Internal Communications Manager</td>\n",
       "      <td>NaN</td>\n",
       "      <td>54600</td>\n",
       "      <td>4000.0</td>\n",
       "      <td>...</td>\n",
       "      <td>Cambridge</td>\n",
       "      <td>8 - 10 years</td>\n",
       "      <td>5-7 years</td>\n",
       "      <td>College degree</td>\n",
       "      <td>Non-binary</td>\n",
       "      <td>White</td>\n",
       "      <td>Technology &amp; Science</td>\n",
       "      <td>Technology &amp; Science</td>\n",
       "      <td>Technology &amp; Science</td>\n",
       "      <td>68796.0</td>\n",
       "    </tr>\n",
       "    <tr>\n",
       "      <th>2</th>\n",
       "      <td>2</td>\n",
       "      <td>2</td>\n",
       "      <td>4/27/2021 11:02:38</td>\n",
       "      <td>25-34</td>\n",
       "      <td>Accounting, Banking &amp; Finance</td>\n",
       "      <td>0.547102</td>\n",
       "      <td>Marketing Specialist</td>\n",
       "      <td>NaN</td>\n",
       "      <td>34000</td>\n",
       "      <td>0.0</td>\n",
       "      <td>...</td>\n",
       "      <td>Chattanooga</td>\n",
       "      <td>2 - 4 years</td>\n",
       "      <td>2 - 4 years</td>\n",
       "      <td>College degree</td>\n",
       "      <td>Woman</td>\n",
       "      <td>White</td>\n",
       "      <td>Banking &amp; Insurance</td>\n",
       "      <td>Banking &amp; Insurance</td>\n",
       "      <td>Banking &amp; Insurance</td>\n",
       "      <td>34000.0</td>\n",
       "    </tr>\n",
       "    <tr>\n",
       "      <th>3</th>\n",
       "      <td>3</td>\n",
       "      <td>3</td>\n",
       "      <td>4/27/2021 11:02:41</td>\n",
       "      <td>25-34</td>\n",
       "      <td>Nonprofits</td>\n",
       "      <td>0.997657</td>\n",
       "      <td>Program Manager</td>\n",
       "      <td>NaN</td>\n",
       "      <td>62000</td>\n",
       "      <td>3000.0</td>\n",
       "      <td>...</td>\n",
       "      <td>Milwaukee</td>\n",
       "      <td>8 - 10 years</td>\n",
       "      <td>5-7 years</td>\n",
       "      <td>College degree</td>\n",
       "      <td>Woman</td>\n",
       "      <td>White</td>\n",
       "      <td>Non Profit Organization</td>\n",
       "      <td>Non profit Organization</td>\n",
       "      <td>Non profit Organization</td>\n",
       "      <td>62000.0</td>\n",
       "    </tr>\n",
       "    <tr>\n",
       "      <th>4</th>\n",
       "      <td>4</td>\n",
       "      <td>4</td>\n",
       "      <td>4/27/2021 11:02:42</td>\n",
       "      <td>25-34</td>\n",
       "      <td>Accounting, Banking &amp; Finance</td>\n",
       "      <td>0.965475</td>\n",
       "      <td>Accounting Manager</td>\n",
       "      <td>NaN</td>\n",
       "      <td>60000</td>\n",
       "      <td>7000.0</td>\n",
       "      <td>...</td>\n",
       "      <td>Greenville</td>\n",
       "      <td>8 - 10 years</td>\n",
       "      <td>5-7 years</td>\n",
       "      <td>College degree</td>\n",
       "      <td>Woman</td>\n",
       "      <td>White</td>\n",
       "      <td>Banking &amp; Insurance</td>\n",
       "      <td>Banking &amp; Insurance</td>\n",
       "      <td>Banking &amp; Insurance</td>\n",
       "      <td>60000.0</td>\n",
       "    </tr>\n",
       "    <tr>\n",
       "      <th>...</th>\n",
       "      <td>...</td>\n",
       "      <td>...</td>\n",
       "      <td>...</td>\n",
       "      <td>...</td>\n",
       "      <td>...</td>\n",
       "      <td>...</td>\n",
       "      <td>...</td>\n",
       "      <td>...</td>\n",
       "      <td>...</td>\n",
       "      <td>...</td>\n",
       "      <td>...</td>\n",
       "      <td>...</td>\n",
       "      <td>...</td>\n",
       "      <td>...</td>\n",
       "      <td>...</td>\n",
       "      <td>...</td>\n",
       "      <td>...</td>\n",
       "      <td>...</td>\n",
       "      <td>...</td>\n",
       "      <td>...</td>\n",
       "      <td>...</td>\n",
       "    </tr>\n",
       "    <tr>\n",
       "      <th>25829</th>\n",
       "      <td>26227</td>\n",
       "      <td>26227</td>\n",
       "      <td>5/17/2021 17:42:33</td>\n",
       "      <td>25-34</td>\n",
       "      <td>Media &amp; Digital</td>\n",
       "      <td>1.367756</td>\n",
       "      <td>Senior Reporter</td>\n",
       "      <td>Trade publication</td>\n",
       "      <td>85000</td>\n",
       "      <td>2000.0</td>\n",
       "      <td>...</td>\n",
       "      <td>New York City</td>\n",
       "      <td>5-7 years</td>\n",
       "      <td>5-7 years</td>\n",
       "      <td>College degree</td>\n",
       "      <td>Woman</td>\n",
       "      <td>White</td>\n",
       "      <td>Unidentified</td>\n",
       "      <td>Unidentified</td>\n",
       "      <td>Unidentified</td>\n",
       "      <td>85000.0</td>\n",
       "    </tr>\n",
       "    <tr>\n",
       "      <th>25830</th>\n",
       "      <td>26228</td>\n",
       "      <td>26228</td>\n",
       "      <td>5/17/2021 17:46:38</td>\n",
       "      <td>35-44</td>\n",
       "      <td>Nonprofits</td>\n",
       "      <td>0.643650</td>\n",
       "      <td>Production and Workflow Manager</td>\n",
       "      <td>NaN</td>\n",
       "      <td>40000</td>\n",
       "      <td>0.0</td>\n",
       "      <td>...</td>\n",
       "      <td>Pittsburgh</td>\n",
       "      <td>11 - 20 years</td>\n",
       "      <td>2 - 4 years</td>\n",
       "      <td>College degree</td>\n",
       "      <td>Woman</td>\n",
       "      <td>Asian</td>\n",
       "      <td>Non Profit Organization</td>\n",
       "      <td>Non profit Organization</td>\n",
       "      <td>Non profit Organization</td>\n",
       "      <td>40000.0</td>\n",
       "    </tr>\n",
       "    <tr>\n",
       "      <th>25831</th>\n",
       "      <td>26229</td>\n",
       "      <td>26229</td>\n",
       "      <td>5/17/2021 17:47:30</td>\n",
       "      <td>25-34</td>\n",
       "      <td>Computing or Tech</td>\n",
       "      <td>2.381504</td>\n",
       "      <td>Chief of Staff</td>\n",
       "      <td>NaN</td>\n",
       "      <td>148000</td>\n",
       "      <td>29000.0</td>\n",
       "      <td>...</td>\n",
       "      <td>Bay Area</td>\n",
       "      <td>11 - 20 years</td>\n",
       "      <td>11 - 20 years</td>\n",
       "      <td>Master's degree</td>\n",
       "      <td>Woman</td>\n",
       "      <td>White</td>\n",
       "      <td>Technology &amp; Science</td>\n",
       "      <td>Technology &amp; Science</td>\n",
       "      <td>Technology &amp; Science</td>\n",
       "      <td>148000.0</td>\n",
       "    </tr>\n",
       "    <tr>\n",
       "      <th>25832</th>\n",
       "      <td>26230</td>\n",
       "      <td>26230</td>\n",
       "      <td>5/17/2021 18:20:07</td>\n",
       "      <td>25-34</td>\n",
       "      <td>Marketing, Advertising &amp; PR</td>\n",
       "      <td>1.045931</td>\n",
       "      <td>Digital Marketing Manager</td>\n",
       "      <td>Small agency. I manage a team of ~15 people, b...</td>\n",
       "      <td>65000</td>\n",
       "      <td>5000.0</td>\n",
       "      <td>...</td>\n",
       "      <td>Seattle</td>\n",
       "      <td>2 - 4 years</td>\n",
       "      <td>2 - 4 years</td>\n",
       "      <td>College degree</td>\n",
       "      <td>Woman</td>\n",
       "      <td>White</td>\n",
       "      <td>Advertising</td>\n",
       "      <td>Advertising</td>\n",
       "      <td>Advertising</td>\n",
       "      <td>65000.0</td>\n",
       "    </tr>\n",
       "    <tr>\n",
       "      <th>25833</th>\n",
       "      <td>26231</td>\n",
       "      <td>26231</td>\n",
       "      <td>5/17/2021 19:48:52</td>\n",
       "      <td>35-44</td>\n",
       "      <td>Law</td>\n",
       "      <td>2.352411</td>\n",
       "      <td>Knowledge Management Manager</td>\n",
       "      <td>NaN</td>\n",
       "      <td>146192</td>\n",
       "      <td>3850.0</td>\n",
       "      <td>...</td>\n",
       "      <td>Troy</td>\n",
       "      <td>11 - 20 years</td>\n",
       "      <td>8 - 10 years</td>\n",
       "      <td>Master's degree</td>\n",
       "      <td>Woman</td>\n",
       "      <td>White</td>\n",
       "      <td>Law</td>\n",
       "      <td>Law</td>\n",
       "      <td>Law</td>\n",
       "      <td>146192.0</td>\n",
       "    </tr>\n",
       "  </tbody>\n",
       "</table>\n",
       "<p>25834 rows × 25 columns</p>\n",
       "</div>"
      ],
      "text/plain": [
       "       Unnamed: 0  Unnamed: 0.1           timestamp how_old_are_you  \\\n",
       "0               0             0  4/27/2021 11:02:10           25-34   \n",
       "1               1             1  4/27/2021 11:02:22           25-34   \n",
       "2               2             2  4/27/2021 11:02:38           25-34   \n",
       "3               3             3  4/27/2021 11:02:41           25-34   \n",
       "4               4             4  4/27/2021 11:02:42           25-34   \n",
       "...           ...           ...                 ...             ...   \n",
       "25829       26227         26227  5/17/2021 17:42:33           25-34   \n",
       "25830       26228         26228  5/17/2021 17:46:38           35-44   \n",
       "25831       26229         26229  5/17/2021 17:47:30           25-34   \n",
       "25832       26230         26230  5/17/2021 18:20:07           25-34   \n",
       "25833       26231         26231  5/17/2021 19:48:52           35-44   \n",
       "\n",
       "                            industry  adjusted_annual_salary  \\\n",
       "0       Education (Higher Education)                0.885018   \n",
       "1                  Computing or Tech                1.793468   \n",
       "2      Accounting, Banking & Finance                0.547102   \n",
       "3                         Nonprofits                0.997657   \n",
       "4      Accounting, Banking & Finance                0.965475   \n",
       "...                              ...                     ...   \n",
       "25829                Media & Digital                1.367756   \n",
       "25830                     Nonprofits                0.643650   \n",
       "25831              Computing or Tech                2.381504   \n",
       "25832    Marketing, Advertising & PR                1.045931   \n",
       "25833                            Law                2.352411   \n",
       "\n",
       "                                      job_title  \\\n",
       "0            Research and Instruction Librarian   \n",
       "1      Change & Internal Communications Manager   \n",
       "2                          Marketing Specialist   \n",
       "3                               Program Manager   \n",
       "4                            Accounting Manager   \n",
       "...                                         ...   \n",
       "25829                           Senior Reporter   \n",
       "25830           Production and Workflow Manager   \n",
       "25831                            Chief of Staff   \n",
       "25832                 Digital Marketing Manager   \n",
       "25833              Knowledge Management Manager   \n",
       "\n",
       "                         additional_context_on_job_title  annual_salary  \\\n",
       "0                                                    NaN          55000   \n",
       "1                                                    NaN          54600   \n",
       "2                                                    NaN          34000   \n",
       "3                                                    NaN          62000   \n",
       "4                                                    NaN          60000   \n",
       "...                                                  ...            ...   \n",
       "25829                                  Trade publication          85000   \n",
       "25830                                                NaN          40000   \n",
       "25831                                                NaN         148000   \n",
       "25832  Small agency. I manage a team of ~15 people, b...          65000   \n",
       "25833                                                NaN         146192   \n",
       "\n",
       "       other_monetary_comp  ...           city  \\\n",
       "0                      0.0  ...         Boston   \n",
       "1                   4000.0  ...      Cambridge   \n",
       "2                      0.0  ...    Chattanooga   \n",
       "3                   3000.0  ...      Milwaukee   \n",
       "4                   7000.0  ...     Greenville   \n",
       "...                    ...  ...            ...   \n",
       "25829               2000.0  ...  New York City   \n",
       "25830                  0.0  ...     Pittsburgh   \n",
       "25831              29000.0  ...       Bay Area   \n",
       "25832               5000.0  ...        Seattle   \n",
       "25833               3850.0  ...           Troy   \n",
       "\n",
       "      overall_years_of_professional_experience years_of_experience_in_field  \\\n",
       "0                                    5-7 years                    5-7 years   \n",
       "1                                 8 - 10 years                    5-7 years   \n",
       "2                                  2 - 4 years                  2 - 4 years   \n",
       "3                                 8 - 10 years                    5-7 years   \n",
       "4                                 8 - 10 years                    5-7 years   \n",
       "...                                        ...                          ...   \n",
       "25829                                5-7 years                    5-7 years   \n",
       "25830                            11 - 20 years                  2 - 4 years   \n",
       "25831                            11 - 20 years                11 - 20 years   \n",
       "25832                              2 - 4 years                  2 - 4 years   \n",
       "25833                            11 - 20 years                 8 - 10 years   \n",
       "\n",
       "      highest_level_of_education_completed      gender   race  \\\n",
       "0                          Master's degree       Woman  White   \n",
       "1                           College degree  Non-binary  White   \n",
       "2                           College degree       Woman  White   \n",
       "3                           College degree       Woman  White   \n",
       "4                           College degree       Woman  White   \n",
       "...                                    ...         ...    ...   \n",
       "25829                       College degree       Woman  White   \n",
       "25830                       College degree       Woman  Asian   \n",
       "25831                      Master's degree       Woman  White   \n",
       "25832                       College degree       Woman  White   \n",
       "25833                      Master's degree       Woman  White   \n",
       "\n",
       "              industry cluster  industry cluster tf_idf  \\\n",
       "0                    Education                Education   \n",
       "1         Technology & Science     Technology & Science   \n",
       "2          Banking & Insurance      Banking & Insurance   \n",
       "3      Non Profit Organization  Non profit Organization   \n",
       "4          Banking & Insurance      Banking & Insurance   \n",
       "...                        ...                      ...   \n",
       "25829             Unidentified             Unidentified   \n",
       "25830  Non Profit Organization  Non profit Organization   \n",
       "25831     Technology & Science     Technology & Science   \n",
       "25832              Advertising              Advertising   \n",
       "25833                      Law                      Law   \n",
       "\n",
       "      industry cluster tf_idf_bigrams harmonized_salary  \n",
       "0                           Education           55000.0  \n",
       "1                Technology & Science           68796.0  \n",
       "2                 Banking & Insurance           34000.0  \n",
       "3             Non profit Organization           62000.0  \n",
       "4                 Banking & Insurance           60000.0  \n",
       "...                               ...               ...  \n",
       "25829                    Unidentified           85000.0  \n",
       "25830         Non profit Organization           40000.0  \n",
       "25831            Technology & Science          148000.0  \n",
       "25832                     Advertising           65000.0  \n",
       "25833                             Law          146192.0  \n",
       "\n",
       "[25834 rows x 25 columns]"
      ]
     },
     "execution_count": 10,
     "metadata": {},
     "output_type": "execute_result"
    }
   ],
   "source": [
    "adjust_wage (df, wage_dict)"
   ]
  },
  {
   "cell_type": "code",
   "execution_count": 11,
   "metadata": {
    "ExecuteTime": {
     "end_time": "2022-05-27T08:02:04.962431Z",
     "start_time": "2022-05-27T08:02:04.956073Z"
    }
   },
   "outputs": [],
   "source": [
    "def drop_outliers(df):\n",
    "    for x in ['annual_salary']:\n",
    "        q75,q25 = np.percentile(df.loc[:,x],[75,25])\n",
    "        intr_qr = q75-q25\n",
    "\n",
    "        max = q75+(1.5*intr_qr)\n",
    "        min = q25-(1.5*intr_qr)\n",
    "\n",
    "        df.loc[df[x] < min,x] = np.nan\n",
    "        df.loc[df[x] > max,x] = np.nan\n",
    "    return df"
   ]
  },
  {
   "cell_type": "code",
   "execution_count": 12,
   "metadata": {
    "ExecuteTime": {
     "end_time": "2022-05-27T08:02:05.431826Z",
     "start_time": "2022-05-27T08:02:05.416828Z"
    }
   },
   "outputs": [],
   "source": [
    "drop_outliers(df)\n",
    "df = df.dropna(axis = 0, subset=['annual_salary'])"
   ]
  },
  {
   "cell_type": "code",
   "execution_count": 13,
   "metadata": {
    "ExecuteTime": {
     "end_time": "2022-05-27T08:02:06.818219Z",
     "start_time": "2022-05-27T08:02:06.798786Z"
    }
   },
   "outputs": [
    {
     "name": "stderr",
     "output_type": "stream",
     "text": [
      "/usr/local/lib/python3.9/site-packages/pandas/core/frame.py:4906: SettingWithCopyWarning: \n",
      "A value is trying to be set on a copy of a slice from a DataFrame\n",
      "\n",
      "See the caveats in the documentation: https://pandas.pydata.org/pandas-docs/stable/user_guide/indexing.html#returning-a-view-versus-a-copy\n",
      "  return super().drop(\n"
     ]
    }
   ],
   "source": [
    "df.drop(columns=['Unnamed: 0', \"Unnamed: 0.1\", 'timestamp', 'job_title', 'additional_context_on_job_title',\n",
    "                 'additional_context_on_income', 'other_monetary_comp', 'currency_other',\n",
    "                 'state', 'city', 'industry', 'industry cluster tf_idf', 'industry cluster', \"currency\", \"country\"], inplace = True)"
   ]
  },
  {
   "cell_type": "code",
   "execution_count": 14,
   "metadata": {
    "ExecuteTime": {
     "end_time": "2022-05-27T08:02:11.666822Z",
     "start_time": "2022-05-27T08:02:11.657318Z"
    }
   },
   "outputs": [
    {
     "name": "stderr",
     "output_type": "stream",
     "text": [
      "/usr/local/lib/python3.9/site-packages/pandas/core/frame.py:4906: SettingWithCopyWarning: \n",
      "A value is trying to be set on a copy of a slice from a DataFrame\n",
      "\n",
      "See the caveats in the documentation: https://pandas.pydata.org/pandas-docs/stable/user_guide/indexing.html#returning-a-view-versus-a-copy\n",
      "  return super().drop(\n"
     ]
    }
   ],
   "source": [
    "df.drop(\"race\", axis=1, inplace=True)"
   ]
  },
  {
   "cell_type": "code",
   "execution_count": 15,
   "metadata": {
    "ExecuteTime": {
     "end_time": "2022-05-27T08:02:14.140410Z",
     "start_time": "2022-05-27T08:02:14.128984Z"
    }
   },
   "outputs": [
    {
     "name": "stderr",
     "output_type": "stream",
     "text": [
      "/usr/local/lib/python3.9/site-packages/pandas/core/frame.py:5039: SettingWithCopyWarning: \n",
      "A value is trying to be set on a copy of a slice from a DataFrame\n",
      "\n",
      "See the caveats in the documentation: https://pandas.pydata.org/pandas-docs/stable/user_guide/indexing.html#returning-a-view-versus-a-copy\n",
      "  return super().rename(\n"
     ]
    }
   ],
   "source": [
    "df.rename(columns={\"industry cluster tf_idf_bigrams\": \"industry\"}, inplace= True)"
   ]
  },
  {
   "cell_type": "code",
   "execution_count": 16,
   "metadata": {
    "ExecuteTime": {
     "end_time": "2022-05-27T08:02:15.298956Z",
     "start_time": "2022-05-27T08:02:15.277825Z"
    }
   },
   "outputs": [
    {
     "data": {
      "text/html": [
       "<div>\n",
       "<style scoped>\n",
       "    .dataframe tbody tr th:only-of-type {\n",
       "        vertical-align: middle;\n",
       "    }\n",
       "\n",
       "    .dataframe tbody tr th {\n",
       "        vertical-align: top;\n",
       "    }\n",
       "\n",
       "    .dataframe thead th {\n",
       "        text-align: right;\n",
       "    }\n",
       "</style>\n",
       "<table border=\"1\" class=\"dataframe\">\n",
       "  <thead>\n",
       "    <tr style=\"text-align: right;\">\n",
       "      <th></th>\n",
       "      <th>how_old_are_you</th>\n",
       "      <th>adjusted_annual_salary</th>\n",
       "      <th>annual_salary</th>\n",
       "      <th>overall_years_of_professional_experience</th>\n",
       "      <th>years_of_experience_in_field</th>\n",
       "      <th>highest_level_of_education_completed</th>\n",
       "      <th>gender</th>\n",
       "      <th>industry</th>\n",
       "      <th>harmonized_salary</th>\n",
       "    </tr>\n",
       "  </thead>\n",
       "  <tbody>\n",
       "    <tr>\n",
       "      <th>0</th>\n",
       "      <td>25-34</td>\n",
       "      <td>0.885018</td>\n",
       "      <td>55000.0</td>\n",
       "      <td>5-7 years</td>\n",
       "      <td>5-7 years</td>\n",
       "      <td>Master's degree</td>\n",
       "      <td>Woman</td>\n",
       "      <td>Education</td>\n",
       "      <td>55000.0</td>\n",
       "    </tr>\n",
       "    <tr>\n",
       "      <th>1</th>\n",
       "      <td>25-34</td>\n",
       "      <td>1.793468</td>\n",
       "      <td>54600.0</td>\n",
       "      <td>8 - 10 years</td>\n",
       "      <td>5-7 years</td>\n",
       "      <td>College degree</td>\n",
       "      <td>Non-binary</td>\n",
       "      <td>Technology &amp; Science</td>\n",
       "      <td>68796.0</td>\n",
       "    </tr>\n",
       "    <tr>\n",
       "      <th>2</th>\n",
       "      <td>25-34</td>\n",
       "      <td>0.547102</td>\n",
       "      <td>34000.0</td>\n",
       "      <td>2 - 4 years</td>\n",
       "      <td>2 - 4 years</td>\n",
       "      <td>College degree</td>\n",
       "      <td>Woman</td>\n",
       "      <td>Banking &amp; Insurance</td>\n",
       "      <td>34000.0</td>\n",
       "    </tr>\n",
       "    <tr>\n",
       "      <th>3</th>\n",
       "      <td>25-34</td>\n",
       "      <td>0.997657</td>\n",
       "      <td>62000.0</td>\n",
       "      <td>8 - 10 years</td>\n",
       "      <td>5-7 years</td>\n",
       "      <td>College degree</td>\n",
       "      <td>Woman</td>\n",
       "      <td>Non profit Organization</td>\n",
       "      <td>62000.0</td>\n",
       "    </tr>\n",
       "    <tr>\n",
       "      <th>4</th>\n",
       "      <td>25-34</td>\n",
       "      <td>0.965475</td>\n",
       "      <td>60000.0</td>\n",
       "      <td>8 - 10 years</td>\n",
       "      <td>5-7 years</td>\n",
       "      <td>College degree</td>\n",
       "      <td>Woman</td>\n",
       "      <td>Banking &amp; Insurance</td>\n",
       "      <td>60000.0</td>\n",
       "    </tr>\n",
       "    <tr>\n",
       "      <th>...</th>\n",
       "      <td>...</td>\n",
       "      <td>...</td>\n",
       "      <td>...</td>\n",
       "      <td>...</td>\n",
       "      <td>...</td>\n",
       "      <td>...</td>\n",
       "      <td>...</td>\n",
       "      <td>...</td>\n",
       "      <td>...</td>\n",
       "    </tr>\n",
       "    <tr>\n",
       "      <th>25829</th>\n",
       "      <td>25-34</td>\n",
       "      <td>1.367756</td>\n",
       "      <td>85000.0</td>\n",
       "      <td>5-7 years</td>\n",
       "      <td>5-7 years</td>\n",
       "      <td>College degree</td>\n",
       "      <td>Woman</td>\n",
       "      <td>Unidentified</td>\n",
       "      <td>85000.0</td>\n",
       "    </tr>\n",
       "    <tr>\n",
       "      <th>25830</th>\n",
       "      <td>35-44</td>\n",
       "      <td>0.643650</td>\n",
       "      <td>40000.0</td>\n",
       "      <td>11 - 20 years</td>\n",
       "      <td>2 - 4 years</td>\n",
       "      <td>College degree</td>\n",
       "      <td>Woman</td>\n",
       "      <td>Non profit Organization</td>\n",
       "      <td>40000.0</td>\n",
       "    </tr>\n",
       "    <tr>\n",
       "      <th>25831</th>\n",
       "      <td>25-34</td>\n",
       "      <td>2.381504</td>\n",
       "      <td>148000.0</td>\n",
       "      <td>11 - 20 years</td>\n",
       "      <td>11 - 20 years</td>\n",
       "      <td>Master's degree</td>\n",
       "      <td>Woman</td>\n",
       "      <td>Technology &amp; Science</td>\n",
       "      <td>148000.0</td>\n",
       "    </tr>\n",
       "    <tr>\n",
       "      <th>25832</th>\n",
       "      <td>25-34</td>\n",
       "      <td>1.045931</td>\n",
       "      <td>65000.0</td>\n",
       "      <td>2 - 4 years</td>\n",
       "      <td>2 - 4 years</td>\n",
       "      <td>College degree</td>\n",
       "      <td>Woman</td>\n",
       "      <td>Advertising</td>\n",
       "      <td>65000.0</td>\n",
       "    </tr>\n",
       "    <tr>\n",
       "      <th>25833</th>\n",
       "      <td>35-44</td>\n",
       "      <td>2.352411</td>\n",
       "      <td>146192.0</td>\n",
       "      <td>11 - 20 years</td>\n",
       "      <td>8 - 10 years</td>\n",
       "      <td>Master's degree</td>\n",
       "      <td>Woman</td>\n",
       "      <td>Law</td>\n",
       "      <td>146192.0</td>\n",
       "    </tr>\n",
       "  </tbody>\n",
       "</table>\n",
       "<p>24820 rows × 9 columns</p>\n",
       "</div>"
      ],
      "text/plain": [
       "      how_old_are_you  adjusted_annual_salary  annual_salary  \\\n",
       "0               25-34                0.885018        55000.0   \n",
       "1               25-34                1.793468        54600.0   \n",
       "2               25-34                0.547102        34000.0   \n",
       "3               25-34                0.997657        62000.0   \n",
       "4               25-34                0.965475        60000.0   \n",
       "...               ...                     ...            ...   \n",
       "25829           25-34                1.367756        85000.0   \n",
       "25830           35-44                0.643650        40000.0   \n",
       "25831           25-34                2.381504       148000.0   \n",
       "25832           25-34                1.045931        65000.0   \n",
       "25833           35-44                2.352411       146192.0   \n",
       "\n",
       "      overall_years_of_professional_experience years_of_experience_in_field  \\\n",
       "0                                    5-7 years                    5-7 years   \n",
       "1                                 8 - 10 years                    5-7 years   \n",
       "2                                  2 - 4 years                  2 - 4 years   \n",
       "3                                 8 - 10 years                    5-7 years   \n",
       "4                                 8 - 10 years                    5-7 years   \n",
       "...                                        ...                          ...   \n",
       "25829                                5-7 years                    5-7 years   \n",
       "25830                            11 - 20 years                  2 - 4 years   \n",
       "25831                            11 - 20 years                11 - 20 years   \n",
       "25832                              2 - 4 years                  2 - 4 years   \n",
       "25833                            11 - 20 years                 8 - 10 years   \n",
       "\n",
       "      highest_level_of_education_completed      gender  \\\n",
       "0                          Master's degree       Woman   \n",
       "1                           College degree  Non-binary   \n",
       "2                           College degree       Woman   \n",
       "3                           College degree       Woman   \n",
       "4                           College degree       Woman   \n",
       "...                                    ...         ...   \n",
       "25829                       College degree       Woman   \n",
       "25830                       College degree       Woman   \n",
       "25831                      Master's degree       Woman   \n",
       "25832                       College degree       Woman   \n",
       "25833                      Master's degree       Woman   \n",
       "\n",
       "                      industry  harmonized_salary  \n",
       "0                    Education            55000.0  \n",
       "1         Technology & Science            68796.0  \n",
       "2          Banking & Insurance            34000.0  \n",
       "3      Non profit Organization            62000.0  \n",
       "4          Banking & Insurance            60000.0  \n",
       "...                        ...                ...  \n",
       "25829             Unidentified            85000.0  \n",
       "25830  Non profit Organization            40000.0  \n",
       "25831     Technology & Science           148000.0  \n",
       "25832              Advertising            65000.0  \n",
       "25833                      Law           146192.0  \n",
       "\n",
       "[24820 rows x 9 columns]"
      ]
     },
     "execution_count": 16,
     "metadata": {},
     "output_type": "execute_result"
    }
   ],
   "source": [
    "df"
   ]
  },
  {
   "cell_type": "code",
   "execution_count": 17,
   "metadata": {
    "ExecuteTime": {
     "end_time": "2022-05-27T08:02:30.952532Z",
     "start_time": "2022-05-27T08:02:30.933380Z"
    }
   },
   "outputs": [
    {
     "name": "stdout",
     "output_type": "stream",
     "text": [
      "<class 'pandas.core.frame.DataFrame'>\n",
      "Int64Index: 24820 entries, 0 to 25833\n",
      "Data columns (total 9 columns):\n",
      " #   Column                                    Non-Null Count  Dtype  \n",
      "---  ------                                    --------------  -----  \n",
      " 0   how_old_are_you                           24820 non-null  object \n",
      " 1   adjusted_annual_salary                    24820 non-null  float64\n",
      " 2   annual_salary                             24820 non-null  float64\n",
      " 3   overall_years_of_professional_experience  24820 non-null  object \n",
      " 4   years_of_experience_in_field              24820 non-null  object \n",
      " 5   highest_level_of_education_completed      24644 non-null  object \n",
      " 6   gender                                    24820 non-null  object \n",
      " 7   industry                                  24820 non-null  object \n",
      " 8   harmonized_salary                         24820 non-null  float64\n",
      "dtypes: float64(3), object(6)\n",
      "memory usage: 1.9+ MB\n"
     ]
    }
   ],
   "source": [
    "df.info()"
   ]
  },
  {
   "cell_type": "code",
   "execution_count": 18,
   "metadata": {
    "ExecuteTime": {
     "end_time": "2022-05-27T08:02:31.611655Z",
     "start_time": "2022-05-27T08:02:31.603650Z"
    }
   },
   "outputs": [
    {
     "name": "stderr",
     "output_type": "stream",
     "text": [
      "/var/folders/13/2bs52tzx5vb8jg2f094msm5h0000gn/T/ipykernel_4437/652388023.py:1: SettingWithCopyWarning: \n",
      "A value is trying to be set on a copy of a slice from a DataFrame.\n",
      "Try using .loc[row_indexer,col_indexer] = value instead\n",
      "\n",
      "See the caveats in the documentation: https://pandas.pydata.org/pandas-docs/stable/user_guide/indexing.html#returning-a-view-versus-a-copy\n",
      "  df['how_old_are_you'] = pd.Categorical(\n"
     ]
    }
   ],
   "source": [
    "df['how_old_are_you'] = pd.Categorical(\n",
    "    df['how_old_are_you'],\n",
    "    ordered=True,\n",
    "    categories=[\n",
    "        \"under 18\",\n",
    "        \"18-24\",\n",
    "        \"25-34\",\n",
    "        \"35-44\",\n",
    "        \"45-54\",\n",
    "        \"55-64\",\n",
    "        \"65 or over\"\n",
    "    ]\n",
    ")"
   ]
  },
  {
   "cell_type": "code",
   "execution_count": 19,
   "metadata": {
    "ExecuteTime": {
     "end_time": "2022-05-27T08:02:32.189288Z",
     "start_time": "2022-05-27T08:02:32.178860Z"
    }
   },
   "outputs": [
    {
     "name": "stderr",
     "output_type": "stream",
     "text": [
      "/var/folders/13/2bs52tzx5vb8jg2f094msm5h0000gn/T/ipykernel_4437/4115056020.py:1: SettingWithCopyWarning: \n",
      "A value is trying to be set on a copy of a slice from a DataFrame.\n",
      "Try using .loc[row_indexer,col_indexer] = value instead\n",
      "\n",
      "See the caveats in the documentation: https://pandas.pydata.org/pandas-docs/stable/user_guide/indexing.html#returning-a-view-versus-a-copy\n",
      "  df['gender'] = pd.Categorical(df['gender'], ordered=False)\n"
     ]
    }
   ],
   "source": [
    "df['gender'] = pd.Categorical(df['gender'], ordered=False)"
   ]
  },
  {
   "cell_type": "code",
   "execution_count": 20,
   "metadata": {
    "ExecuteTime": {
     "end_time": "2022-05-27T08:02:32.890897Z",
     "start_time": "2022-05-27T08:02:32.881647Z"
    }
   },
   "outputs": [
    {
     "name": "stderr",
     "output_type": "stream",
     "text": [
      "/var/folders/13/2bs52tzx5vb8jg2f094msm5h0000gn/T/ipykernel_4437/1355963409.py:1: SettingWithCopyWarning: \n",
      "A value is trying to be set on a copy of a slice from a DataFrame.\n",
      "Try using .loc[row_indexer,col_indexer] = value instead\n",
      "\n",
      "See the caveats in the documentation: https://pandas.pydata.org/pandas-docs/stable/user_guide/indexing.html#returning-a-view-versus-a-copy\n",
      "  df['industry'] = pd.Categorical(df['industry'], ordered=False)\n"
     ]
    }
   ],
   "source": [
    "df['industry'] = pd.Categorical(df['industry'], ordered=False)"
   ]
  },
  {
   "cell_type": "code",
   "execution_count": 21,
   "metadata": {
    "ExecuteTime": {
     "end_time": "2022-05-27T08:02:33.596440Z",
     "start_time": "2022-05-27T08:02:33.588315Z"
    }
   },
   "outputs": [
    {
     "name": "stderr",
     "output_type": "stream",
     "text": [
      "/var/folders/13/2bs52tzx5vb8jg2f094msm5h0000gn/T/ipykernel_4437/2871961291.py:1: SettingWithCopyWarning: \n",
      "A value is trying to be set on a copy of a slice from a DataFrame.\n",
      "Try using .loc[row_indexer,col_indexer] = value instead\n",
      "\n",
      "See the caveats in the documentation: https://pandas.pydata.org/pandas-docs/stable/user_guide/indexing.html#returning-a-view-versus-a-copy\n",
      "  df['overall_years_of_professional_experience'] = pd.Categorical(\n"
     ]
    }
   ],
   "source": [
    "df['overall_years_of_professional_experience'] = pd.Categorical(\n",
    "    df['overall_years_of_professional_experience'],\n",
    "    ordered=True,\n",
    "    categories=[\n",
    "        \"1 year or less\",\n",
    "        \"2 - 4 years\",\n",
    "        \"5-7 years\",\n",
    "        \"8 - 10 years\",\n",
    "        \"11 - 20 years\",\n",
    "        \"21 - 30 years\",\n",
    "        \"31 - 40 years\",\n",
    "        \"41 years or more\"\n",
    "    ]\n",
    ")"
   ]
  },
  {
   "cell_type": "code",
   "execution_count": 22,
   "metadata": {
    "ExecuteTime": {
     "end_time": "2022-05-27T08:02:34.478286Z",
     "start_time": "2022-05-27T08:02:34.460619Z"
    }
   },
   "outputs": [
    {
     "name": "stderr",
     "output_type": "stream",
     "text": [
      "/var/folders/13/2bs52tzx5vb8jg2f094msm5h0000gn/T/ipykernel_4437/1248987801.py:1: SettingWithCopyWarning: \n",
      "A value is trying to be set on a copy of a slice from a DataFrame.\n",
      "Try using .loc[row_indexer,col_indexer] = value instead\n",
      "\n",
      "See the caveats in the documentation: https://pandas.pydata.org/pandas-docs/stable/user_guide/indexing.html#returning-a-view-versus-a-copy\n",
      "  df['years_of_experience_in_field'] = pd.Categorical(\n"
     ]
    }
   ],
   "source": [
    "df['years_of_experience_in_field'] = pd.Categorical(\n",
    "    df['years_of_experience_in_field'],\n",
    "    ordered=True,\n",
    "    categories=[\n",
    "        \"1 year or less\",\n",
    "        \"2 - 4 years\",\n",
    "        \"5-7 years\",\n",
    "        \"8 - 10 years\",\n",
    "        \"11 - 20 years\",\n",
    "        \"21 - 30 years\",\n",
    "        \"31 - 40 years\",\n",
    "        \"41 years or more\"\n",
    "    ]\n",
    ")"
   ]
  },
  {
   "cell_type": "code",
   "execution_count": 23,
   "metadata": {
    "ExecuteTime": {
     "end_time": "2022-05-27T08:02:35.876716Z",
     "start_time": "2022-05-27T08:02:35.868149Z"
    }
   },
   "outputs": [
    {
     "name": "stderr",
     "output_type": "stream",
     "text": [
      "/var/folders/13/2bs52tzx5vb8jg2f094msm5h0000gn/T/ipykernel_4437/3256007866.py:1: SettingWithCopyWarning: \n",
      "A value is trying to be set on a copy of a slice from a DataFrame.\n",
      "Try using .loc[row_indexer,col_indexer] = value instead\n",
      "\n",
      "See the caveats in the documentation: https://pandas.pydata.org/pandas-docs/stable/user_guide/indexing.html#returning-a-view-versus-a-copy\n",
      "  df['highest_level_of_education_completed'] = pd.Categorical(\n"
     ]
    }
   ],
   "source": [
    "df['highest_level_of_education_completed'] = pd.Categorical(\n",
    "    df['highest_level_of_education_completed'],\n",
    "    ordered=True,\n",
    "    categories=[\n",
    "        #\"Unknown\",\n",
    "        \"High School\",\n",
    "        \"Some college\",\n",
    "        \"College degree\",\n",
    "        \"Professional degree (MD, JD, etc.)\",\n",
    "        \"Master's degree\",\n",
    "        \"PhD\"\n",
    "    ]\n",
    ")\n",
    "#df['highest_level_of_education_completed'] = df['highest_level_of_education_completed'].fillna('Unknown')"
   ]
  },
  {
   "cell_type": "code",
   "execution_count": 24,
   "metadata": {
    "ExecuteTime": {
     "end_time": "2022-05-27T08:02:36.607176Z",
     "start_time": "2022-05-27T08:02:36.581788Z"
    }
   },
   "outputs": [
    {
     "name": "stdout",
     "output_type": "stream",
     "text": [
      "<class 'pandas.core.frame.DataFrame'>\n",
      "Int64Index: 24644 entries, 0 to 25833\n",
      "Data columns (total 9 columns):\n",
      " #   Column                                    Non-Null Count  Dtype   \n",
      "---  ------                                    --------------  -----   \n",
      " 0   how_old_are_you                           24644 non-null  category\n",
      " 1   adjusted_annual_salary                    24644 non-null  float64 \n",
      " 2   annual_salary                             24644 non-null  float64 \n",
      " 3   overall_years_of_professional_experience  24644 non-null  category\n",
      " 4   years_of_experience_in_field              24644 non-null  category\n",
      " 5   highest_level_of_education_completed      24644 non-null  category\n",
      " 6   gender                                    24644 non-null  category\n",
      " 7   industry                                  24644 non-null  category\n",
      " 8   harmonized_salary                         24644 non-null  float64 \n",
      "dtypes: category(6), float64(3)\n",
      "memory usage: 916.7 KB\n"
     ]
    },
    {
     "name": "stderr",
     "output_type": "stream",
     "text": [
      "/usr/local/lib/python3.9/site-packages/pandas/util/_decorators.py:311: SettingWithCopyWarning: \n",
      "A value is trying to be set on a copy of a slice from a DataFrame\n",
      "\n",
      "See the caveats in the documentation: https://pandas.pydata.org/pandas-docs/stable/user_guide/indexing.html#returning-a-view-versus-a-copy\n",
      "  return func(*args, **kwargs)\n"
     ]
    }
   ],
   "source": [
    "df.dropna(inplace=True)\n",
    "df.info()"
   ]
  },
  {
   "cell_type": "code",
   "execution_count": 25,
   "metadata": {
    "ExecuteTime": {
     "end_time": "2022-05-27T08:02:40.356705Z",
     "start_time": "2022-05-27T08:02:40.335266Z"
    }
   },
   "outputs": [
    {
     "data": {
      "text/html": [
       "<div>\n",
       "<style scoped>\n",
       "    .dataframe tbody tr th:only-of-type {\n",
       "        vertical-align: middle;\n",
       "    }\n",
       "\n",
       "    .dataframe tbody tr th {\n",
       "        vertical-align: top;\n",
       "    }\n",
       "\n",
       "    .dataframe thead th {\n",
       "        text-align: right;\n",
       "    }\n",
       "</style>\n",
       "<table border=\"1\" class=\"dataframe\">\n",
       "  <thead>\n",
       "    <tr style=\"text-align: right;\">\n",
       "      <th></th>\n",
       "      <th>how_old_are_you</th>\n",
       "      <th>adjusted_annual_salary</th>\n",
       "      <th>annual_salary</th>\n",
       "      <th>overall_years_of_professional_experience</th>\n",
       "      <th>years_of_experience_in_field</th>\n",
       "      <th>highest_level_of_education_completed</th>\n",
       "      <th>gender</th>\n",
       "      <th>industry</th>\n",
       "      <th>harmonized_salary</th>\n",
       "    </tr>\n",
       "  </thead>\n",
       "  <tbody>\n",
       "    <tr>\n",
       "      <th>0</th>\n",
       "      <td>25-34</td>\n",
       "      <td>0.885018</td>\n",
       "      <td>55000.0</td>\n",
       "      <td>5-7 years</td>\n",
       "      <td>5-7 years</td>\n",
       "      <td>Master's degree</td>\n",
       "      <td>Woman</td>\n",
       "      <td>Education</td>\n",
       "      <td>55000.0</td>\n",
       "    </tr>\n",
       "    <tr>\n",
       "      <th>1</th>\n",
       "      <td>25-34</td>\n",
       "      <td>1.793468</td>\n",
       "      <td>54600.0</td>\n",
       "      <td>8 - 10 years</td>\n",
       "      <td>5-7 years</td>\n",
       "      <td>College degree</td>\n",
       "      <td>Non-binary</td>\n",
       "      <td>Technology &amp; Science</td>\n",
       "      <td>68796.0</td>\n",
       "    </tr>\n",
       "    <tr>\n",
       "      <th>2</th>\n",
       "      <td>25-34</td>\n",
       "      <td>0.547102</td>\n",
       "      <td>34000.0</td>\n",
       "      <td>2 - 4 years</td>\n",
       "      <td>2 - 4 years</td>\n",
       "      <td>College degree</td>\n",
       "      <td>Woman</td>\n",
       "      <td>Banking &amp; Insurance</td>\n",
       "      <td>34000.0</td>\n",
       "    </tr>\n",
       "    <tr>\n",
       "      <th>3</th>\n",
       "      <td>25-34</td>\n",
       "      <td>0.997657</td>\n",
       "      <td>62000.0</td>\n",
       "      <td>8 - 10 years</td>\n",
       "      <td>5-7 years</td>\n",
       "      <td>College degree</td>\n",
       "      <td>Woman</td>\n",
       "      <td>Non profit Organization</td>\n",
       "      <td>62000.0</td>\n",
       "    </tr>\n",
       "    <tr>\n",
       "      <th>4</th>\n",
       "      <td>25-34</td>\n",
       "      <td>0.965475</td>\n",
       "      <td>60000.0</td>\n",
       "      <td>8 - 10 years</td>\n",
       "      <td>5-7 years</td>\n",
       "      <td>College degree</td>\n",
       "      <td>Woman</td>\n",
       "      <td>Banking &amp; Insurance</td>\n",
       "      <td>60000.0</td>\n",
       "    </tr>\n",
       "    <tr>\n",
       "      <th>...</th>\n",
       "      <td>...</td>\n",
       "      <td>...</td>\n",
       "      <td>...</td>\n",
       "      <td>...</td>\n",
       "      <td>...</td>\n",
       "      <td>...</td>\n",
       "      <td>...</td>\n",
       "      <td>...</td>\n",
       "      <td>...</td>\n",
       "    </tr>\n",
       "    <tr>\n",
       "      <th>25829</th>\n",
       "      <td>25-34</td>\n",
       "      <td>1.367756</td>\n",
       "      <td>85000.0</td>\n",
       "      <td>5-7 years</td>\n",
       "      <td>5-7 years</td>\n",
       "      <td>College degree</td>\n",
       "      <td>Woman</td>\n",
       "      <td>Unidentified</td>\n",
       "      <td>85000.0</td>\n",
       "    </tr>\n",
       "    <tr>\n",
       "      <th>25830</th>\n",
       "      <td>35-44</td>\n",
       "      <td>0.643650</td>\n",
       "      <td>40000.0</td>\n",
       "      <td>11 - 20 years</td>\n",
       "      <td>2 - 4 years</td>\n",
       "      <td>College degree</td>\n",
       "      <td>Woman</td>\n",
       "      <td>Non profit Organization</td>\n",
       "      <td>40000.0</td>\n",
       "    </tr>\n",
       "    <tr>\n",
       "      <th>25831</th>\n",
       "      <td>25-34</td>\n",
       "      <td>2.381504</td>\n",
       "      <td>148000.0</td>\n",
       "      <td>11 - 20 years</td>\n",
       "      <td>11 - 20 years</td>\n",
       "      <td>Master's degree</td>\n",
       "      <td>Woman</td>\n",
       "      <td>Technology &amp; Science</td>\n",
       "      <td>148000.0</td>\n",
       "    </tr>\n",
       "    <tr>\n",
       "      <th>25832</th>\n",
       "      <td>25-34</td>\n",
       "      <td>1.045931</td>\n",
       "      <td>65000.0</td>\n",
       "      <td>2 - 4 years</td>\n",
       "      <td>2 - 4 years</td>\n",
       "      <td>College degree</td>\n",
       "      <td>Woman</td>\n",
       "      <td>Advertising</td>\n",
       "      <td>65000.0</td>\n",
       "    </tr>\n",
       "    <tr>\n",
       "      <th>25833</th>\n",
       "      <td>35-44</td>\n",
       "      <td>2.352411</td>\n",
       "      <td>146192.0</td>\n",
       "      <td>11 - 20 years</td>\n",
       "      <td>8 - 10 years</td>\n",
       "      <td>Master's degree</td>\n",
       "      <td>Woman</td>\n",
       "      <td>Law</td>\n",
       "      <td>146192.0</td>\n",
       "    </tr>\n",
       "  </tbody>\n",
       "</table>\n",
       "<p>24644 rows × 9 columns</p>\n",
       "</div>"
      ],
      "text/plain": [
       "      how_old_are_you  adjusted_annual_salary  annual_salary  \\\n",
       "0               25-34                0.885018        55000.0   \n",
       "1               25-34                1.793468        54600.0   \n",
       "2               25-34                0.547102        34000.0   \n",
       "3               25-34                0.997657        62000.0   \n",
       "4               25-34                0.965475        60000.0   \n",
       "...               ...                     ...            ...   \n",
       "25829           25-34                1.367756        85000.0   \n",
       "25830           35-44                0.643650        40000.0   \n",
       "25831           25-34                2.381504       148000.0   \n",
       "25832           25-34                1.045931        65000.0   \n",
       "25833           35-44                2.352411       146192.0   \n",
       "\n",
       "      overall_years_of_professional_experience years_of_experience_in_field  \\\n",
       "0                                    5-7 years                    5-7 years   \n",
       "1                                 8 - 10 years                    5-7 years   \n",
       "2                                  2 - 4 years                  2 - 4 years   \n",
       "3                                 8 - 10 years                    5-7 years   \n",
       "4                                 8 - 10 years                    5-7 years   \n",
       "...                                        ...                          ...   \n",
       "25829                                5-7 years                    5-7 years   \n",
       "25830                            11 - 20 years                  2 - 4 years   \n",
       "25831                            11 - 20 years                11 - 20 years   \n",
       "25832                              2 - 4 years                  2 - 4 years   \n",
       "25833                            11 - 20 years                 8 - 10 years   \n",
       "\n",
       "      highest_level_of_education_completed      gender  \\\n",
       "0                          Master's degree       Woman   \n",
       "1                           College degree  Non-binary   \n",
       "2                           College degree       Woman   \n",
       "3                           College degree       Woman   \n",
       "4                           College degree       Woman   \n",
       "...                                    ...         ...   \n",
       "25829                       College degree       Woman   \n",
       "25830                       College degree       Woman   \n",
       "25831                      Master's degree       Woman   \n",
       "25832                       College degree       Woman   \n",
       "25833                      Master's degree       Woman   \n",
       "\n",
       "                      industry  harmonized_salary  \n",
       "0                    Education            55000.0  \n",
       "1         Technology & Science            68796.0  \n",
       "2          Banking & Insurance            34000.0  \n",
       "3      Non profit Organization            62000.0  \n",
       "4          Banking & Insurance            60000.0  \n",
       "...                        ...                ...  \n",
       "25829             Unidentified            85000.0  \n",
       "25830  Non profit Organization            40000.0  \n",
       "25831     Technology & Science           148000.0  \n",
       "25832              Advertising            65000.0  \n",
       "25833                      Law           146192.0  \n",
       "\n",
       "[24644 rows x 9 columns]"
      ]
     },
     "execution_count": 25,
     "metadata": {},
     "output_type": "execute_result"
    }
   ],
   "source": [
    "df"
   ]
  },
  {
   "cell_type": "code",
   "execution_count": 26,
   "metadata": {
    "ExecuteTime": {
     "end_time": "2022-05-27T08:02:40.960878Z",
     "start_time": "2022-05-27T08:02:40.951155Z"
    }
   },
   "outputs": [
    {
     "data": {
      "text/plain": [
       "Technology & Science       4396\n",
       "Education                  3076\n",
       "Non profit Organization    2282\n",
       "Banking & Insurance        2081\n",
       "Health                     1974\n",
       "Public & Government        1792\n",
       "Industry                   1775\n",
       "Other                      1082\n",
       "Advertising                1021\n",
       "Unidentified                936\n",
       "Culture                     877\n",
       "Law                         866\n",
       "Consulting                  730\n",
       "Retail                      444\n",
       "Human Ressources            416\n",
       "Construction                383\n",
       "Social                      255\n",
       "Agriculture & Food          123\n",
       "Energy                       54\n",
       "Ecology & Environment        41\n",
       "Security & Defense           40\n",
       "Name: industry, dtype: int64"
      ]
     },
     "execution_count": 26,
     "metadata": {},
     "output_type": "execute_result"
    }
   ],
   "source": [
    "counts = df['industry'].value_counts()\n",
    "counts"
   ]
  },
  {
   "cell_type": "code",
   "execution_count": 27,
   "metadata": {
    "ExecuteTime": {
     "end_time": "2022-05-27T08:02:44.526622Z",
     "start_time": "2022-05-27T08:02:44.503107Z"
    }
   },
   "outputs": [
    {
     "data": {
      "text/html": [
       "<div>\n",
       "<style scoped>\n",
       "    .dataframe tbody tr th:only-of-type {\n",
       "        vertical-align: middle;\n",
       "    }\n",
       "\n",
       "    .dataframe tbody tr th {\n",
       "        vertical-align: top;\n",
       "    }\n",
       "\n",
       "    .dataframe thead th {\n",
       "        text-align: right;\n",
       "    }\n",
       "</style>\n",
       "<table border=\"1\" class=\"dataframe\">\n",
       "  <thead>\n",
       "    <tr style=\"text-align: right;\">\n",
       "      <th></th>\n",
       "      <th>how_old_are_you</th>\n",
       "      <th>adjusted_annual_salary</th>\n",
       "      <th>annual_salary</th>\n",
       "      <th>overall_years_of_professional_experience</th>\n",
       "      <th>years_of_experience_in_field</th>\n",
       "      <th>highest_level_of_education_completed</th>\n",
       "      <th>gender</th>\n",
       "      <th>industry</th>\n",
       "      <th>harmonized_salary</th>\n",
       "    </tr>\n",
       "  </thead>\n",
       "  <tbody>\n",
       "    <tr>\n",
       "      <th>0</th>\n",
       "      <td>25-34</td>\n",
       "      <td>0.885018</td>\n",
       "      <td>55000.0</td>\n",
       "      <td>5-7 years</td>\n",
       "      <td>5-7 years</td>\n",
       "      <td>Master's degree</td>\n",
       "      <td>Woman</td>\n",
       "      <td>Education</td>\n",
       "      <td>55000.0</td>\n",
       "    </tr>\n",
       "    <tr>\n",
       "      <th>1</th>\n",
       "      <td>25-34</td>\n",
       "      <td>1.793468</td>\n",
       "      <td>54600.0</td>\n",
       "      <td>8 - 10 years</td>\n",
       "      <td>5-7 years</td>\n",
       "      <td>College degree</td>\n",
       "      <td>Non-binary</td>\n",
       "      <td>Technology &amp; Science</td>\n",
       "      <td>68796.0</td>\n",
       "    </tr>\n",
       "    <tr>\n",
       "      <th>2</th>\n",
       "      <td>25-34</td>\n",
       "      <td>0.547102</td>\n",
       "      <td>34000.0</td>\n",
       "      <td>2 - 4 years</td>\n",
       "      <td>2 - 4 years</td>\n",
       "      <td>College degree</td>\n",
       "      <td>Woman</td>\n",
       "      <td>Banking &amp; Insurance</td>\n",
       "      <td>34000.0</td>\n",
       "    </tr>\n",
       "    <tr>\n",
       "      <th>3</th>\n",
       "      <td>25-34</td>\n",
       "      <td>0.997657</td>\n",
       "      <td>62000.0</td>\n",
       "      <td>8 - 10 years</td>\n",
       "      <td>5-7 years</td>\n",
       "      <td>College degree</td>\n",
       "      <td>Woman</td>\n",
       "      <td>Non profit Organization</td>\n",
       "      <td>62000.0</td>\n",
       "    </tr>\n",
       "    <tr>\n",
       "      <th>4</th>\n",
       "      <td>25-34</td>\n",
       "      <td>0.965475</td>\n",
       "      <td>60000.0</td>\n",
       "      <td>8 - 10 years</td>\n",
       "      <td>5-7 years</td>\n",
       "      <td>College degree</td>\n",
       "      <td>Woman</td>\n",
       "      <td>Banking &amp; Insurance</td>\n",
       "      <td>60000.0</td>\n",
       "    </tr>\n",
       "    <tr>\n",
       "      <th>...</th>\n",
       "      <td>...</td>\n",
       "      <td>...</td>\n",
       "      <td>...</td>\n",
       "      <td>...</td>\n",
       "      <td>...</td>\n",
       "      <td>...</td>\n",
       "      <td>...</td>\n",
       "      <td>...</td>\n",
       "      <td>...</td>\n",
       "    </tr>\n",
       "    <tr>\n",
       "      <th>25829</th>\n",
       "      <td>25-34</td>\n",
       "      <td>1.367756</td>\n",
       "      <td>85000.0</td>\n",
       "      <td>5-7 years</td>\n",
       "      <td>5-7 years</td>\n",
       "      <td>College degree</td>\n",
       "      <td>Woman</td>\n",
       "      <td>Unidentified</td>\n",
       "      <td>85000.0</td>\n",
       "    </tr>\n",
       "    <tr>\n",
       "      <th>25830</th>\n",
       "      <td>35-44</td>\n",
       "      <td>0.643650</td>\n",
       "      <td>40000.0</td>\n",
       "      <td>11 - 20 years</td>\n",
       "      <td>2 - 4 years</td>\n",
       "      <td>College degree</td>\n",
       "      <td>Woman</td>\n",
       "      <td>Non profit Organization</td>\n",
       "      <td>40000.0</td>\n",
       "    </tr>\n",
       "    <tr>\n",
       "      <th>25831</th>\n",
       "      <td>25-34</td>\n",
       "      <td>2.381504</td>\n",
       "      <td>148000.0</td>\n",
       "      <td>11 - 20 years</td>\n",
       "      <td>11 - 20 years</td>\n",
       "      <td>Master's degree</td>\n",
       "      <td>Woman</td>\n",
       "      <td>Technology &amp; Science</td>\n",
       "      <td>148000.0</td>\n",
       "    </tr>\n",
       "    <tr>\n",
       "      <th>25832</th>\n",
       "      <td>25-34</td>\n",
       "      <td>1.045931</td>\n",
       "      <td>65000.0</td>\n",
       "      <td>2 - 4 years</td>\n",
       "      <td>2 - 4 years</td>\n",
       "      <td>College degree</td>\n",
       "      <td>Woman</td>\n",
       "      <td>Advertising</td>\n",
       "      <td>65000.0</td>\n",
       "    </tr>\n",
       "    <tr>\n",
       "      <th>25833</th>\n",
       "      <td>35-44</td>\n",
       "      <td>2.352411</td>\n",
       "      <td>146192.0</td>\n",
       "      <td>11 - 20 years</td>\n",
       "      <td>8 - 10 years</td>\n",
       "      <td>Master's degree</td>\n",
       "      <td>Woman</td>\n",
       "      <td>Law</td>\n",
       "      <td>146192.0</td>\n",
       "    </tr>\n",
       "  </tbody>\n",
       "</table>\n",
       "<p>22888 rows × 9 columns</p>\n",
       "</div>"
      ],
      "text/plain": [
       "      how_old_are_you  adjusted_annual_salary  annual_salary  \\\n",
       "0               25-34                0.885018        55000.0   \n",
       "1               25-34                1.793468        54600.0   \n",
       "2               25-34                0.547102        34000.0   \n",
       "3               25-34                0.997657        62000.0   \n",
       "4               25-34                0.965475        60000.0   \n",
       "...               ...                     ...            ...   \n",
       "25829           25-34                1.367756        85000.0   \n",
       "25830           35-44                0.643650        40000.0   \n",
       "25831           25-34                2.381504       148000.0   \n",
       "25832           25-34                1.045931        65000.0   \n",
       "25833           35-44                2.352411       146192.0   \n",
       "\n",
       "      overall_years_of_professional_experience years_of_experience_in_field  \\\n",
       "0                                    5-7 years                    5-7 years   \n",
       "1                                 8 - 10 years                    5-7 years   \n",
       "2                                  2 - 4 years                  2 - 4 years   \n",
       "3                                 8 - 10 years                    5-7 years   \n",
       "4                                 8 - 10 years                    5-7 years   \n",
       "...                                        ...                          ...   \n",
       "25829                                5-7 years                    5-7 years   \n",
       "25830                            11 - 20 years                  2 - 4 years   \n",
       "25831                            11 - 20 years                11 - 20 years   \n",
       "25832                              2 - 4 years                  2 - 4 years   \n",
       "25833                            11 - 20 years                 8 - 10 years   \n",
       "\n",
       "      highest_level_of_education_completed      gender  \\\n",
       "0                          Master's degree       Woman   \n",
       "1                           College degree  Non-binary   \n",
       "2                           College degree       Woman   \n",
       "3                           College degree       Woman   \n",
       "4                           College degree       Woman   \n",
       "...                                    ...         ...   \n",
       "25829                       College degree       Woman   \n",
       "25830                       College degree       Woman   \n",
       "25831                      Master's degree       Woman   \n",
       "25832                       College degree       Woman   \n",
       "25833                      Master's degree       Woman   \n",
       "\n",
       "                      industry  harmonized_salary  \n",
       "0                    Education            55000.0  \n",
       "1         Technology & Science            68796.0  \n",
       "2          Banking & Insurance            34000.0  \n",
       "3      Non profit Organization            62000.0  \n",
       "4          Banking & Insurance            60000.0  \n",
       "...                        ...                ...  \n",
       "25829             Unidentified            85000.0  \n",
       "25830  Non profit Organization            40000.0  \n",
       "25831     Technology & Science           148000.0  \n",
       "25832              Advertising            65000.0  \n",
       "25833                      Law           146192.0  \n",
       "\n",
       "[22888 rows x 9 columns]"
      ]
     },
     "execution_count": 27,
     "metadata": {},
     "output_type": "execute_result"
    }
   ],
   "source": [
    "new_df = df.loc[df['industry'].isin(counts.index[counts > 500])]\n",
    "new_df"
   ]
  },
  {
   "cell_type": "code",
   "execution_count": 28,
   "metadata": {
    "ExecuteTime": {
     "end_time": "2022-05-27T08:02:46.727669Z",
     "start_time": "2022-05-27T08:02:46.706266Z"
    }
   },
   "outputs": [
    {
     "data": {
      "text/html": [
       "<div>\n",
       "<style scoped>\n",
       "    .dataframe tbody tr th:only-of-type {\n",
       "        vertical-align: middle;\n",
       "    }\n",
       "\n",
       "    .dataframe tbody tr th {\n",
       "        vertical-align: top;\n",
       "    }\n",
       "\n",
       "    .dataframe thead th {\n",
       "        text-align: right;\n",
       "    }\n",
       "</style>\n",
       "<table border=\"1\" class=\"dataframe\">\n",
       "  <thead>\n",
       "    <tr style=\"text-align: right;\">\n",
       "      <th></th>\n",
       "      <th>how_old_are_you</th>\n",
       "      <th>adjusted_annual_salary</th>\n",
       "      <th>annual_salary</th>\n",
       "      <th>overall_years_of_professional_experience</th>\n",
       "      <th>years_of_experience_in_field</th>\n",
       "      <th>highest_level_of_education_completed</th>\n",
       "      <th>gender</th>\n",
       "      <th>industry</th>\n",
       "      <th>harmonized_salary</th>\n",
       "    </tr>\n",
       "  </thead>\n",
       "  <tbody>\n",
       "    <tr>\n",
       "      <th>0</th>\n",
       "      <td>25-34</td>\n",
       "      <td>0.885018</td>\n",
       "      <td>55000.0</td>\n",
       "      <td>5-7 years</td>\n",
       "      <td>5-7 years</td>\n",
       "      <td>Master's degree</td>\n",
       "      <td>Woman</td>\n",
       "      <td>Education</td>\n",
       "      <td>55000.0</td>\n",
       "    </tr>\n",
       "    <tr>\n",
       "      <th>1</th>\n",
       "      <td>25-34</td>\n",
       "      <td>1.793468</td>\n",
       "      <td>54600.0</td>\n",
       "      <td>8 - 10 years</td>\n",
       "      <td>5-7 years</td>\n",
       "      <td>College degree</td>\n",
       "      <td>Non-binary</td>\n",
       "      <td>Technology &amp; Science</td>\n",
       "      <td>68796.0</td>\n",
       "    </tr>\n",
       "    <tr>\n",
       "      <th>2</th>\n",
       "      <td>25-34</td>\n",
       "      <td>0.547102</td>\n",
       "      <td>34000.0</td>\n",
       "      <td>2 - 4 years</td>\n",
       "      <td>2 - 4 years</td>\n",
       "      <td>College degree</td>\n",
       "      <td>Woman</td>\n",
       "      <td>Banking &amp; Insurance</td>\n",
       "      <td>34000.0</td>\n",
       "    </tr>\n",
       "    <tr>\n",
       "      <th>3</th>\n",
       "      <td>25-34</td>\n",
       "      <td>0.997657</td>\n",
       "      <td>62000.0</td>\n",
       "      <td>8 - 10 years</td>\n",
       "      <td>5-7 years</td>\n",
       "      <td>College degree</td>\n",
       "      <td>Woman</td>\n",
       "      <td>Non profit Organization</td>\n",
       "      <td>62000.0</td>\n",
       "    </tr>\n",
       "    <tr>\n",
       "      <th>4</th>\n",
       "      <td>25-34</td>\n",
       "      <td>0.965475</td>\n",
       "      <td>60000.0</td>\n",
       "      <td>8 - 10 years</td>\n",
       "      <td>5-7 years</td>\n",
       "      <td>College degree</td>\n",
       "      <td>Woman</td>\n",
       "      <td>Banking &amp; Insurance</td>\n",
       "      <td>60000.0</td>\n",
       "    </tr>\n",
       "    <tr>\n",
       "      <th>...</th>\n",
       "      <td>...</td>\n",
       "      <td>...</td>\n",
       "      <td>...</td>\n",
       "      <td>...</td>\n",
       "      <td>...</td>\n",
       "      <td>...</td>\n",
       "      <td>...</td>\n",
       "      <td>...</td>\n",
       "      <td>...</td>\n",
       "    </tr>\n",
       "    <tr>\n",
       "      <th>25829</th>\n",
       "      <td>25-34</td>\n",
       "      <td>1.367756</td>\n",
       "      <td>85000.0</td>\n",
       "      <td>5-7 years</td>\n",
       "      <td>5-7 years</td>\n",
       "      <td>College degree</td>\n",
       "      <td>Woman</td>\n",
       "      <td>Unidentified</td>\n",
       "      <td>85000.0</td>\n",
       "    </tr>\n",
       "    <tr>\n",
       "      <th>25830</th>\n",
       "      <td>35-44</td>\n",
       "      <td>0.643650</td>\n",
       "      <td>40000.0</td>\n",
       "      <td>11 - 20 years</td>\n",
       "      <td>2 - 4 years</td>\n",
       "      <td>College degree</td>\n",
       "      <td>Woman</td>\n",
       "      <td>Non profit Organization</td>\n",
       "      <td>40000.0</td>\n",
       "    </tr>\n",
       "    <tr>\n",
       "      <th>25831</th>\n",
       "      <td>25-34</td>\n",
       "      <td>2.381504</td>\n",
       "      <td>148000.0</td>\n",
       "      <td>11 - 20 years</td>\n",
       "      <td>11 - 20 years</td>\n",
       "      <td>Master's degree</td>\n",
       "      <td>Woman</td>\n",
       "      <td>Technology &amp; Science</td>\n",
       "      <td>148000.0</td>\n",
       "    </tr>\n",
       "    <tr>\n",
       "      <th>25832</th>\n",
       "      <td>25-34</td>\n",
       "      <td>1.045931</td>\n",
       "      <td>65000.0</td>\n",
       "      <td>2 - 4 years</td>\n",
       "      <td>2 - 4 years</td>\n",
       "      <td>College degree</td>\n",
       "      <td>Woman</td>\n",
       "      <td>Advertising</td>\n",
       "      <td>65000.0</td>\n",
       "    </tr>\n",
       "    <tr>\n",
       "      <th>25833</th>\n",
       "      <td>35-44</td>\n",
       "      <td>2.352411</td>\n",
       "      <td>146192.0</td>\n",
       "      <td>11 - 20 years</td>\n",
       "      <td>8 - 10 years</td>\n",
       "      <td>Master's degree</td>\n",
       "      <td>Woman</td>\n",
       "      <td>Law</td>\n",
       "      <td>146192.0</td>\n",
       "    </tr>\n",
       "  </tbody>\n",
       "</table>\n",
       "<p>22888 rows × 9 columns</p>\n",
       "</div>"
      ],
      "text/plain": [
       "      how_old_are_you  adjusted_annual_salary  annual_salary  \\\n",
       "0               25-34                0.885018        55000.0   \n",
       "1               25-34                1.793468        54600.0   \n",
       "2               25-34                0.547102        34000.0   \n",
       "3               25-34                0.997657        62000.0   \n",
       "4               25-34                0.965475        60000.0   \n",
       "...               ...                     ...            ...   \n",
       "25829           25-34                1.367756        85000.0   \n",
       "25830           35-44                0.643650        40000.0   \n",
       "25831           25-34                2.381504       148000.0   \n",
       "25832           25-34                1.045931        65000.0   \n",
       "25833           35-44                2.352411       146192.0   \n",
       "\n",
       "      overall_years_of_professional_experience years_of_experience_in_field  \\\n",
       "0                                    5-7 years                    5-7 years   \n",
       "1                                 8 - 10 years                    5-7 years   \n",
       "2                                  2 - 4 years                  2 - 4 years   \n",
       "3                                 8 - 10 years                    5-7 years   \n",
       "4                                 8 - 10 years                    5-7 years   \n",
       "...                                        ...                          ...   \n",
       "25829                                5-7 years                    5-7 years   \n",
       "25830                            11 - 20 years                  2 - 4 years   \n",
       "25831                            11 - 20 years                11 - 20 years   \n",
       "25832                              2 - 4 years                  2 - 4 years   \n",
       "25833                            11 - 20 years                 8 - 10 years   \n",
       "\n",
       "      highest_level_of_education_completed      gender  \\\n",
       "0                          Master's degree       Woman   \n",
       "1                           College degree  Non-binary   \n",
       "2                           College degree       Woman   \n",
       "3                           College degree       Woman   \n",
       "4                           College degree       Woman   \n",
       "...                                    ...         ...   \n",
       "25829                       College degree       Woman   \n",
       "25830                       College degree       Woman   \n",
       "25831                      Master's degree       Woman   \n",
       "25832                       College degree       Woman   \n",
       "25833                      Master's degree       Woman   \n",
       "\n",
       "                      industry  harmonized_salary  \n",
       "0                    Education            55000.0  \n",
       "1         Technology & Science            68796.0  \n",
       "2          Banking & Insurance            34000.0  \n",
       "3      Non profit Organization            62000.0  \n",
       "4          Banking & Insurance            60000.0  \n",
       "...                        ...                ...  \n",
       "25829             Unidentified            85000.0  \n",
       "25830  Non profit Organization            40000.0  \n",
       "25831     Technology & Science           148000.0  \n",
       "25832              Advertising            65000.0  \n",
       "25833                      Law           146192.0  \n",
       "\n",
       "[22888 rows x 9 columns]"
      ]
     },
     "execution_count": 28,
     "metadata": {},
     "output_type": "execute_result"
    }
   ],
   "source": [
    "new_df"
   ]
  },
  {
   "cell_type": "markdown",
   "metadata": {},
   "source": [
    "# Learning K-modes"
   ]
  },
  {
   "cell_type": "code",
   "execution_count": 29,
   "metadata": {
    "ExecuteTime": {
     "end_time": "2022-05-27T08:03:14.487400Z",
     "start_time": "2022-05-27T08:03:14.481907Z"
    }
   },
   "outputs": [],
   "source": [
    "df_kmodes = new_df.copy(deep=True)"
   ]
  },
  {
   "cell_type": "code",
   "execution_count": 30,
   "metadata": {
    "ExecuteTime": {
     "end_time": "2022-05-27T08:03:15.810104Z",
     "start_time": "2022-05-27T08:03:15.805983Z"
    }
   },
   "outputs": [],
   "source": [
    "df_kmodes = new_df.copy(deep=True)"
   ]
  },
  {
   "cell_type": "code",
   "execution_count": 31,
   "metadata": {
    "ExecuteTime": {
     "end_time": "2022-05-27T08:03:16.839970Z",
     "start_time": "2022-05-27T08:03:16.835596Z"
    }
   },
   "outputs": [],
   "source": [
    "df_kmodes = df_kmodes.drop([\"annual_salary\"], axis=1)"
   ]
  },
  {
   "cell_type": "code",
   "execution_count": 32,
   "metadata": {
    "ExecuteTime": {
     "end_time": "2022-05-27T08:03:17.573063Z",
     "start_time": "2022-05-27T08:03:17.548631Z"
    }
   },
   "outputs": [
    {
     "data": {
      "text/html": [
       "<div>\n",
       "<style scoped>\n",
       "    .dataframe tbody tr th:only-of-type {\n",
       "        vertical-align: middle;\n",
       "    }\n",
       "\n",
       "    .dataframe tbody tr th {\n",
       "        vertical-align: top;\n",
       "    }\n",
       "\n",
       "    .dataframe thead th {\n",
       "        text-align: right;\n",
       "    }\n",
       "</style>\n",
       "<table border=\"1\" class=\"dataframe\">\n",
       "  <thead>\n",
       "    <tr style=\"text-align: right;\">\n",
       "      <th></th>\n",
       "      <th>how_old_are_you</th>\n",
       "      <th>adjusted_annual_salary</th>\n",
       "      <th>overall_years_of_professional_experience</th>\n",
       "      <th>years_of_experience_in_field</th>\n",
       "      <th>highest_level_of_education_completed</th>\n",
       "      <th>gender</th>\n",
       "      <th>industry</th>\n",
       "      <th>harmonized_salary</th>\n",
       "    </tr>\n",
       "  </thead>\n",
       "  <tbody>\n",
       "    <tr>\n",
       "      <th>0</th>\n",
       "      <td>25-34</td>\n",
       "      <td>0.885018</td>\n",
       "      <td>5-7 years</td>\n",
       "      <td>5-7 years</td>\n",
       "      <td>Master's degree</td>\n",
       "      <td>Woman</td>\n",
       "      <td>Education</td>\n",
       "      <td>55000.0</td>\n",
       "    </tr>\n",
       "    <tr>\n",
       "      <th>1</th>\n",
       "      <td>25-34</td>\n",
       "      <td>1.793468</td>\n",
       "      <td>8 - 10 years</td>\n",
       "      <td>5-7 years</td>\n",
       "      <td>College degree</td>\n",
       "      <td>Non-binary</td>\n",
       "      <td>Technology &amp; Science</td>\n",
       "      <td>68796.0</td>\n",
       "    </tr>\n",
       "    <tr>\n",
       "      <th>2</th>\n",
       "      <td>25-34</td>\n",
       "      <td>0.547102</td>\n",
       "      <td>2 - 4 years</td>\n",
       "      <td>2 - 4 years</td>\n",
       "      <td>College degree</td>\n",
       "      <td>Woman</td>\n",
       "      <td>Banking &amp; Insurance</td>\n",
       "      <td>34000.0</td>\n",
       "    </tr>\n",
       "    <tr>\n",
       "      <th>3</th>\n",
       "      <td>25-34</td>\n",
       "      <td>0.997657</td>\n",
       "      <td>8 - 10 years</td>\n",
       "      <td>5-7 years</td>\n",
       "      <td>College degree</td>\n",
       "      <td>Woman</td>\n",
       "      <td>Non profit Organization</td>\n",
       "      <td>62000.0</td>\n",
       "    </tr>\n",
       "    <tr>\n",
       "      <th>4</th>\n",
       "      <td>25-34</td>\n",
       "      <td>0.965475</td>\n",
       "      <td>8 - 10 years</td>\n",
       "      <td>5-7 years</td>\n",
       "      <td>College degree</td>\n",
       "      <td>Woman</td>\n",
       "      <td>Banking &amp; Insurance</td>\n",
       "      <td>60000.0</td>\n",
       "    </tr>\n",
       "    <tr>\n",
       "      <th>...</th>\n",
       "      <td>...</td>\n",
       "      <td>...</td>\n",
       "      <td>...</td>\n",
       "      <td>...</td>\n",
       "      <td>...</td>\n",
       "      <td>...</td>\n",
       "      <td>...</td>\n",
       "      <td>...</td>\n",
       "    </tr>\n",
       "    <tr>\n",
       "      <th>25829</th>\n",
       "      <td>25-34</td>\n",
       "      <td>1.367756</td>\n",
       "      <td>5-7 years</td>\n",
       "      <td>5-7 years</td>\n",
       "      <td>College degree</td>\n",
       "      <td>Woman</td>\n",
       "      <td>Unidentified</td>\n",
       "      <td>85000.0</td>\n",
       "    </tr>\n",
       "    <tr>\n",
       "      <th>25830</th>\n",
       "      <td>35-44</td>\n",
       "      <td>0.643650</td>\n",
       "      <td>11 - 20 years</td>\n",
       "      <td>2 - 4 years</td>\n",
       "      <td>College degree</td>\n",
       "      <td>Woman</td>\n",
       "      <td>Non profit Organization</td>\n",
       "      <td>40000.0</td>\n",
       "    </tr>\n",
       "    <tr>\n",
       "      <th>25831</th>\n",
       "      <td>25-34</td>\n",
       "      <td>2.381504</td>\n",
       "      <td>11 - 20 years</td>\n",
       "      <td>11 - 20 years</td>\n",
       "      <td>Master's degree</td>\n",
       "      <td>Woman</td>\n",
       "      <td>Technology &amp; Science</td>\n",
       "      <td>148000.0</td>\n",
       "    </tr>\n",
       "    <tr>\n",
       "      <th>25832</th>\n",
       "      <td>25-34</td>\n",
       "      <td>1.045931</td>\n",
       "      <td>2 - 4 years</td>\n",
       "      <td>2 - 4 years</td>\n",
       "      <td>College degree</td>\n",
       "      <td>Woman</td>\n",
       "      <td>Advertising</td>\n",
       "      <td>65000.0</td>\n",
       "    </tr>\n",
       "    <tr>\n",
       "      <th>25833</th>\n",
       "      <td>35-44</td>\n",
       "      <td>2.352411</td>\n",
       "      <td>11 - 20 years</td>\n",
       "      <td>8 - 10 years</td>\n",
       "      <td>Master's degree</td>\n",
       "      <td>Woman</td>\n",
       "      <td>Law</td>\n",
       "      <td>146192.0</td>\n",
       "    </tr>\n",
       "  </tbody>\n",
       "</table>\n",
       "<p>22888 rows × 8 columns</p>\n",
       "</div>"
      ],
      "text/plain": [
       "      how_old_are_you  adjusted_annual_salary  \\\n",
       "0               25-34                0.885018   \n",
       "1               25-34                1.793468   \n",
       "2               25-34                0.547102   \n",
       "3               25-34                0.997657   \n",
       "4               25-34                0.965475   \n",
       "...               ...                     ...   \n",
       "25829           25-34                1.367756   \n",
       "25830           35-44                0.643650   \n",
       "25831           25-34                2.381504   \n",
       "25832           25-34                1.045931   \n",
       "25833           35-44                2.352411   \n",
       "\n",
       "      overall_years_of_professional_experience years_of_experience_in_field  \\\n",
       "0                                    5-7 years                    5-7 years   \n",
       "1                                 8 - 10 years                    5-7 years   \n",
       "2                                  2 - 4 years                  2 - 4 years   \n",
       "3                                 8 - 10 years                    5-7 years   \n",
       "4                                 8 - 10 years                    5-7 years   \n",
       "...                                        ...                          ...   \n",
       "25829                                5-7 years                    5-7 years   \n",
       "25830                            11 - 20 years                  2 - 4 years   \n",
       "25831                            11 - 20 years                11 - 20 years   \n",
       "25832                              2 - 4 years                  2 - 4 years   \n",
       "25833                            11 - 20 years                 8 - 10 years   \n",
       "\n",
       "      highest_level_of_education_completed      gender  \\\n",
       "0                          Master's degree       Woman   \n",
       "1                           College degree  Non-binary   \n",
       "2                           College degree       Woman   \n",
       "3                           College degree       Woman   \n",
       "4                           College degree       Woman   \n",
       "...                                    ...         ...   \n",
       "25829                       College degree       Woman   \n",
       "25830                       College degree       Woman   \n",
       "25831                      Master's degree       Woman   \n",
       "25832                       College degree       Woman   \n",
       "25833                      Master's degree       Woman   \n",
       "\n",
       "                      industry  harmonized_salary  \n",
       "0                    Education            55000.0  \n",
       "1         Technology & Science            68796.0  \n",
       "2          Banking & Insurance            34000.0  \n",
       "3      Non profit Organization            62000.0  \n",
       "4          Banking & Insurance            60000.0  \n",
       "...                        ...                ...  \n",
       "25829             Unidentified            85000.0  \n",
       "25830  Non profit Organization            40000.0  \n",
       "25831     Technology & Science           148000.0  \n",
       "25832              Advertising            65000.0  \n",
       "25833                      Law           146192.0  \n",
       "\n",
       "[22888 rows x 8 columns]"
      ]
     },
     "execution_count": 32,
     "metadata": {},
     "output_type": "execute_result"
    }
   ],
   "source": [
    "df_kmodes"
   ]
  },
  {
   "cell_type": "code",
   "execution_count": 33,
   "metadata": {
    "ExecuteTime": {
     "end_time": "2022-05-27T08:03:22.510276Z",
     "start_time": "2022-05-27T08:03:22.480736Z"
    }
   },
   "outputs": [
    {
     "data": {
      "text/html": [
       "<div>\n",
       "<style scoped>\n",
       "    .dataframe tbody tr th:only-of-type {\n",
       "        vertical-align: middle;\n",
       "    }\n",
       "\n",
       "    .dataframe tbody tr th {\n",
       "        vertical-align: top;\n",
       "    }\n",
       "\n",
       "    .dataframe thead th {\n",
       "        text-align: right;\n",
       "    }\n",
       "</style>\n",
       "<table border=\"1\" class=\"dataframe\">\n",
       "  <thead>\n",
       "    <tr style=\"text-align: right;\">\n",
       "      <th></th>\n",
       "      <th>how_old_are_you</th>\n",
       "      <th>overall_years_of_professional_experience</th>\n",
       "      <th>years_of_experience_in_field</th>\n",
       "      <th>highest_level_of_education_completed</th>\n",
       "      <th>gender</th>\n",
       "      <th>industry</th>\n",
       "      <th>payed</th>\n",
       "    </tr>\n",
       "  </thead>\n",
       "  <tbody>\n",
       "    <tr>\n",
       "      <th>0</th>\n",
       "      <td>25-34</td>\n",
       "      <td>5-7 years</td>\n",
       "      <td>5-7 years</td>\n",
       "      <td>Master's degree</td>\n",
       "      <td>Woman</td>\n",
       "      <td>Education</td>\n",
       "      <td>bad payed</td>\n",
       "    </tr>\n",
       "    <tr>\n",
       "      <th>1</th>\n",
       "      <td>25-34</td>\n",
       "      <td>8 - 10 years</td>\n",
       "      <td>5-7 years</td>\n",
       "      <td>College degree</td>\n",
       "      <td>Non-binary</td>\n",
       "      <td>Technology &amp; Science</td>\n",
       "      <td>well payed</td>\n",
       "    </tr>\n",
       "    <tr>\n",
       "      <th>2</th>\n",
       "      <td>25-34</td>\n",
       "      <td>2 - 4 years</td>\n",
       "      <td>2 - 4 years</td>\n",
       "      <td>College degree</td>\n",
       "      <td>Woman</td>\n",
       "      <td>Banking &amp; Insurance</td>\n",
       "      <td>bad payed</td>\n",
       "    </tr>\n",
       "    <tr>\n",
       "      <th>3</th>\n",
       "      <td>25-34</td>\n",
       "      <td>8 - 10 years</td>\n",
       "      <td>5-7 years</td>\n",
       "      <td>College degree</td>\n",
       "      <td>Woman</td>\n",
       "      <td>Non profit Organization</td>\n",
       "      <td>bad payed</td>\n",
       "    </tr>\n",
       "    <tr>\n",
       "      <th>4</th>\n",
       "      <td>25-34</td>\n",
       "      <td>8 - 10 years</td>\n",
       "      <td>5-7 years</td>\n",
       "      <td>College degree</td>\n",
       "      <td>Woman</td>\n",
       "      <td>Banking &amp; Insurance</td>\n",
       "      <td>bad payed</td>\n",
       "    </tr>\n",
       "    <tr>\n",
       "      <th>...</th>\n",
       "      <td>...</td>\n",
       "      <td>...</td>\n",
       "      <td>...</td>\n",
       "      <td>...</td>\n",
       "      <td>...</td>\n",
       "      <td>...</td>\n",
       "      <td>...</td>\n",
       "    </tr>\n",
       "    <tr>\n",
       "      <th>25829</th>\n",
       "      <td>25-34</td>\n",
       "      <td>5-7 years</td>\n",
       "      <td>5-7 years</td>\n",
       "      <td>College degree</td>\n",
       "      <td>Woman</td>\n",
       "      <td>Unidentified</td>\n",
       "      <td>well payed</td>\n",
       "    </tr>\n",
       "    <tr>\n",
       "      <th>25830</th>\n",
       "      <td>35-44</td>\n",
       "      <td>11 - 20 years</td>\n",
       "      <td>2 - 4 years</td>\n",
       "      <td>College degree</td>\n",
       "      <td>Woman</td>\n",
       "      <td>Non profit Organization</td>\n",
       "      <td>bad payed</td>\n",
       "    </tr>\n",
       "    <tr>\n",
       "      <th>25831</th>\n",
       "      <td>25-34</td>\n",
       "      <td>11 - 20 years</td>\n",
       "      <td>11 - 20 years</td>\n",
       "      <td>Master's degree</td>\n",
       "      <td>Woman</td>\n",
       "      <td>Technology &amp; Science</td>\n",
       "      <td>well payed</td>\n",
       "    </tr>\n",
       "    <tr>\n",
       "      <th>25832</th>\n",
       "      <td>25-34</td>\n",
       "      <td>2 - 4 years</td>\n",
       "      <td>2 - 4 years</td>\n",
       "      <td>College degree</td>\n",
       "      <td>Woman</td>\n",
       "      <td>Advertising</td>\n",
       "      <td>well payed</td>\n",
       "    </tr>\n",
       "    <tr>\n",
       "      <th>25833</th>\n",
       "      <td>35-44</td>\n",
       "      <td>11 - 20 years</td>\n",
       "      <td>8 - 10 years</td>\n",
       "      <td>Master's degree</td>\n",
       "      <td>Woman</td>\n",
       "      <td>Law</td>\n",
       "      <td>well payed</td>\n",
       "    </tr>\n",
       "  </tbody>\n",
       "</table>\n",
       "<p>22888 rows × 7 columns</p>\n",
       "</div>"
      ],
      "text/plain": [
       "      how_old_are_you overall_years_of_professional_experience  \\\n",
       "0               25-34                                5-7 years   \n",
       "1               25-34                             8 - 10 years   \n",
       "2               25-34                              2 - 4 years   \n",
       "3               25-34                             8 - 10 years   \n",
       "4               25-34                             8 - 10 years   \n",
       "...               ...                                      ...   \n",
       "25829           25-34                                5-7 years   \n",
       "25830           35-44                            11 - 20 years   \n",
       "25831           25-34                            11 - 20 years   \n",
       "25832           25-34                              2 - 4 years   \n",
       "25833           35-44                            11 - 20 years   \n",
       "\n",
       "      years_of_experience_in_field highest_level_of_education_completed  \\\n",
       "0                        5-7 years                      Master's degree   \n",
       "1                        5-7 years                       College degree   \n",
       "2                      2 - 4 years                       College degree   \n",
       "3                        5-7 years                       College degree   \n",
       "4                        5-7 years                       College degree   \n",
       "...                            ...                                  ...   \n",
       "25829                    5-7 years                       College degree   \n",
       "25830                  2 - 4 years                       College degree   \n",
       "25831                11 - 20 years                      Master's degree   \n",
       "25832                  2 - 4 years                       College degree   \n",
       "25833                 8 - 10 years                      Master's degree   \n",
       "\n",
       "           gender                 industry       payed  \n",
       "0           Woman                Education   bad payed  \n",
       "1      Non-binary     Technology & Science  well payed  \n",
       "2           Woman      Banking & Insurance   bad payed  \n",
       "3           Woman  Non profit Organization   bad payed  \n",
       "4           Woman      Banking & Insurance   bad payed  \n",
       "...           ...                      ...         ...  \n",
       "25829       Woman             Unidentified  well payed  \n",
       "25830       Woman  Non profit Organization   bad payed  \n",
       "25831       Woman     Technology & Science  well payed  \n",
       "25832       Woman              Advertising  well payed  \n",
       "25833       Woman                      Law  well payed  \n",
       "\n",
       "[22888 rows x 7 columns]"
      ]
     },
     "execution_count": 33,
     "metadata": {},
     "output_type": "execute_result"
    }
   ],
   "source": [
    "df_kmodes_bis = df_kmodes.copy(deep=True)\n",
    "\n",
    "def get_category(x):\n",
    "    if x>=1:\n",
    "        return \"well payed\"\n",
    "    else:\n",
    "        return \"bad payed\"\n",
    "\n",
    "df_kmodes_bis[\"adjusted_annual_salary\"] = df_kmodes_bis[\"harmonized_salary\"] / 69392\n",
    "df_kmodes_bis[\"payed\"] = df_kmodes[\"adjusted_annual_salary\"].apply(get_category)\n",
    "df_kmodes_bis.drop([\"adjusted_annual_salary\", \"harmonized_salary\"], axis=1, inplace=True)\n",
    "df_kmodes_bis"
   ]
  },
  {
   "cell_type": "code",
   "execution_count": 84,
   "metadata": {
    "ExecuteTime": {
     "end_time": "2022-05-27T15:26:09.647763Z",
     "start_time": "2022-05-27T14:00:07.396703Z"
    },
    "scrolled": true
   },
   "outputs": [],
   "source": [
    "# Elbow curve to find optimal K\n",
    "cost = []\n",
    "K = range(2,10)\n",
    "for num_clusters in list(K):\n",
    "    kmode = KModes(n_clusters=num_clusters, init = \"Huang\", n_init = 10, verbose=0)\n",
    "    kmode.fit_predict(df_kmodes_bis[\n",
    "        [\n",
    "            \"gender\",\n",
    "            \"industry\",\n",
    "            \"highest_level_of_education_completed\",\n",
    "            \"how_old_are_you\",\n",
    "            \"years_of_experience_in_field\"\n",
    "        ]\n",
    "    ])\n",
    "    cost.append(kmode.cost_)"
   ]
  },
  {
   "cell_type": "code",
   "execution_count": 85,
   "metadata": {
    "ExecuteTime": {
     "end_time": "2022-05-27T15:26:09.857336Z",
     "start_time": "2022-05-27T15:26:09.824204Z"
    }
   },
   "outputs": [
    {
     "ename": "TypeError",
     "evalue": "'Figure' object is not callable",
     "output_type": "error",
     "traceback": [
      "\u001b[0;31m---------------------------------------------------------------------------\u001b[0m",
      "\u001b[0;31mTypeError\u001b[0m                                 Traceback (most recent call last)",
      "\u001b[0;32m/var/folders/13/2bs52tzx5vb8jg2f094msm5h0000gn/T/ipykernel_4437/2615491415.py\u001b[0m in \u001b[0;36m<module>\u001b[0;34m\u001b[0m\n\u001b[0;32m----> 1\u001b[0;31m \u001b[0mplt\u001b[0m\u001b[0;34m.\u001b[0m\u001b[0mfigure\u001b[0m\u001b[0;34m(\u001b[0m\u001b[0mfigsize\u001b[0m\u001b[0;34m=\u001b[0m\u001b[0;34m(\u001b[0m\u001b[0;36m10\u001b[0m\u001b[0;34m,\u001b[0m \u001b[0;36m5\u001b[0m\u001b[0;34m)\u001b[0m\u001b[0;34m)\u001b[0m\u001b[0;34m\u001b[0m\u001b[0;34m\u001b[0m\u001b[0m\n\u001b[0m\u001b[1;32m      2\u001b[0m \u001b[0msns\u001b[0m\u001b[0;34m.\u001b[0m\u001b[0mlineplot\u001b[0m\u001b[0;34m(\u001b[0m\u001b[0mx\u001b[0m\u001b[0;34m=\u001b[0m\u001b[0mK\u001b[0m\u001b[0;34m,\u001b[0m \u001b[0my\u001b[0m\u001b[0;34m=\u001b[0m\u001b[0mcost\u001b[0m\u001b[0;34m)\u001b[0m\u001b[0;34m\u001b[0m\u001b[0;34m\u001b[0m\u001b[0m\n\u001b[1;32m      3\u001b[0m \u001b[0mplt\u001b[0m\u001b[0;34m.\u001b[0m\u001b[0mxlabel\u001b[0m\u001b[0;34m(\u001b[0m\u001b[0;34m\"K clusters\"\u001b[0m\u001b[0;34m)\u001b[0m\u001b[0;34m\u001b[0m\u001b[0;34m\u001b[0m\u001b[0m\n\u001b[1;32m      4\u001b[0m \u001b[0mplt\u001b[0m\u001b[0;34m.\u001b[0m\u001b[0mylabel\u001b[0m\u001b[0;34m(\u001b[0m\u001b[0;34m\"Cost\"\u001b[0m\u001b[0;34m)\u001b[0m\u001b[0;34m\u001b[0m\u001b[0;34m\u001b[0m\u001b[0m\n\u001b[1;32m      5\u001b[0m \u001b[0mplt\u001b[0m\u001b[0;34m.\u001b[0m\u001b[0mshow\u001b[0m\u001b[0;34m(\u001b[0m\u001b[0;34m)\u001b[0m\u001b[0;34m\u001b[0m\u001b[0;34m\u001b[0m\u001b[0m\n",
      "\u001b[0;31mTypeError\u001b[0m: 'Figure' object is not callable"
     ]
    }
   ],
   "source": [
    "plt.figure(figsize=(10, 5))\n",
    "sns.lineplot(x=K, y=cost)\n",
    "plt.xlabel(\"K clusters\")\n",
    "plt.ylabel(\"Cost\")\n",
    "plt.show()"
   ]
  },
  {
   "cell_type": "raw",
   "metadata": {},
   "source": [
    "We choose to learn 6 clusters"
   ]
  },
  {
   "cell_type": "code",
   "execution_count": null,
   "metadata": {
    "ExecuteTime": {
     "end_time": "2022-05-27T15:26:09.863583Z",
     "start_time": "2022-05-27T15:26:09.863555Z"
    }
   },
   "outputs": [],
   "source": [
    "# Building the model with 4 clusters\n",
    "kmode = KModes(n_clusters=6, init = \"Huang\", n_init = 10, verbose=1)\n",
    "clusters = kmode.fit_predict(df_kmodes_bis[\n",
    "    [\n",
    "        \"gender\",\n",
    "        \"industry\",\n",
    "        \"highest_level_of_education_completed\",\n",
    "        \"years_of_experience_in_field\",\n",
    "        \"how_old_are_you\",\n",
    "        #\"payed\"\n",
    "    ]\n",
    "])\n",
    "clusters"
   ]
  },
  {
   "cell_type": "code",
   "execution_count": 38,
   "metadata": {
    "ExecuteTime": {
     "end_time": "2022-05-27T08:13:08.829477Z",
     "start_time": "2022-05-27T08:13:08.809249Z"
    }
   },
   "outputs": [
    {
     "data": {
      "text/html": [
       "<div>\n",
       "<style scoped>\n",
       "    .dataframe tbody tr th:only-of-type {\n",
       "        vertical-align: middle;\n",
       "    }\n",
       "\n",
       "    .dataframe tbody tr th {\n",
       "        vertical-align: top;\n",
       "    }\n",
       "\n",
       "    .dataframe thead th {\n",
       "        text-align: right;\n",
       "    }\n",
       "</style>\n",
       "<table border=\"1\" class=\"dataframe\">\n",
       "  <thead>\n",
       "    <tr style=\"text-align: right;\">\n",
       "      <th></th>\n",
       "      <th>cluster</th>\n",
       "      <th>how_old_are_you</th>\n",
       "      <th>overall_years_of_professional_experience</th>\n",
       "      <th>years_of_experience_in_field</th>\n",
       "      <th>highest_level_of_education_completed</th>\n",
       "      <th>gender</th>\n",
       "      <th>industry</th>\n",
       "      <th>payed</th>\n",
       "    </tr>\n",
       "  </thead>\n",
       "  <tbody>\n",
       "    <tr>\n",
       "      <th>0</th>\n",
       "      <td>0</td>\n",
       "      <td>25-34</td>\n",
       "      <td>5-7 years</td>\n",
       "      <td>5-7 years</td>\n",
       "      <td>Master's degree</td>\n",
       "      <td>Woman</td>\n",
       "      <td>Education</td>\n",
       "      <td>bad payed</td>\n",
       "    </tr>\n",
       "    <tr>\n",
       "      <th>1</th>\n",
       "      <td>4</td>\n",
       "      <td>25-34</td>\n",
       "      <td>8 - 10 years</td>\n",
       "      <td>5-7 years</td>\n",
       "      <td>College degree</td>\n",
       "      <td>Non-binary</td>\n",
       "      <td>Technology &amp; Science</td>\n",
       "      <td>well payed</td>\n",
       "    </tr>\n",
       "    <tr>\n",
       "      <th>2</th>\n",
       "      <td>2</td>\n",
       "      <td>25-34</td>\n",
       "      <td>2 - 4 years</td>\n",
       "      <td>2 - 4 years</td>\n",
       "      <td>College degree</td>\n",
       "      <td>Woman</td>\n",
       "      <td>Banking &amp; Insurance</td>\n",
       "      <td>bad payed</td>\n",
       "    </tr>\n",
       "    <tr>\n",
       "      <th>3</th>\n",
       "      <td>5</td>\n",
       "      <td>25-34</td>\n",
       "      <td>8 - 10 years</td>\n",
       "      <td>5-7 years</td>\n",
       "      <td>College degree</td>\n",
       "      <td>Woman</td>\n",
       "      <td>Non profit Organization</td>\n",
       "      <td>bad payed</td>\n",
       "    </tr>\n",
       "    <tr>\n",
       "      <th>4</th>\n",
       "      <td>5</td>\n",
       "      <td>25-34</td>\n",
       "      <td>8 - 10 years</td>\n",
       "      <td>5-7 years</td>\n",
       "      <td>College degree</td>\n",
       "      <td>Woman</td>\n",
       "      <td>Banking &amp; Insurance</td>\n",
       "      <td>bad payed</td>\n",
       "    </tr>\n",
       "    <tr>\n",
       "      <th>...</th>\n",
       "      <td>...</td>\n",
       "      <td>...</td>\n",
       "      <td>...</td>\n",
       "      <td>...</td>\n",
       "      <td>...</td>\n",
       "      <td>...</td>\n",
       "      <td>...</td>\n",
       "      <td>...</td>\n",
       "    </tr>\n",
       "    <tr>\n",
       "      <th>25829</th>\n",
       "      <td>5</td>\n",
       "      <td>25-34</td>\n",
       "      <td>5-7 years</td>\n",
       "      <td>5-7 years</td>\n",
       "      <td>College degree</td>\n",
       "      <td>Woman</td>\n",
       "      <td>Unidentified</td>\n",
       "      <td>well payed</td>\n",
       "    </tr>\n",
       "    <tr>\n",
       "      <th>25830</th>\n",
       "      <td>1</td>\n",
       "      <td>35-44</td>\n",
       "      <td>11 - 20 years</td>\n",
       "      <td>2 - 4 years</td>\n",
       "      <td>College degree</td>\n",
       "      <td>Woman</td>\n",
       "      <td>Non profit Organization</td>\n",
       "      <td>bad payed</td>\n",
       "    </tr>\n",
       "    <tr>\n",
       "      <th>25831</th>\n",
       "      <td>0</td>\n",
       "      <td>25-34</td>\n",
       "      <td>11 - 20 years</td>\n",
       "      <td>11 - 20 years</td>\n",
       "      <td>Master's degree</td>\n",
       "      <td>Woman</td>\n",
       "      <td>Technology &amp; Science</td>\n",
       "      <td>well payed</td>\n",
       "    </tr>\n",
       "    <tr>\n",
       "      <th>25832</th>\n",
       "      <td>2</td>\n",
       "      <td>25-34</td>\n",
       "      <td>2 - 4 years</td>\n",
       "      <td>2 - 4 years</td>\n",
       "      <td>College degree</td>\n",
       "      <td>Woman</td>\n",
       "      <td>Advertising</td>\n",
       "      <td>well payed</td>\n",
       "    </tr>\n",
       "    <tr>\n",
       "      <th>25833</th>\n",
       "      <td>0</td>\n",
       "      <td>35-44</td>\n",
       "      <td>11 - 20 years</td>\n",
       "      <td>8 - 10 years</td>\n",
       "      <td>Master's degree</td>\n",
       "      <td>Woman</td>\n",
       "      <td>Law</td>\n",
       "      <td>well payed</td>\n",
       "    </tr>\n",
       "  </tbody>\n",
       "</table>\n",
       "<p>22888 rows × 8 columns</p>\n",
       "</div>"
      ],
      "text/plain": [
       "       cluster how_old_are_you overall_years_of_professional_experience  \\\n",
       "0            0           25-34                                5-7 years   \n",
       "1            4           25-34                             8 - 10 years   \n",
       "2            2           25-34                              2 - 4 years   \n",
       "3            5           25-34                             8 - 10 years   \n",
       "4            5           25-34                             8 - 10 years   \n",
       "...        ...             ...                                      ...   \n",
       "25829        5           25-34                                5-7 years   \n",
       "25830        1           35-44                            11 - 20 years   \n",
       "25831        0           25-34                            11 - 20 years   \n",
       "25832        2           25-34                              2 - 4 years   \n",
       "25833        0           35-44                            11 - 20 years   \n",
       "\n",
       "      years_of_experience_in_field highest_level_of_education_completed  \\\n",
       "0                        5-7 years                      Master's degree   \n",
       "1                        5-7 years                       College degree   \n",
       "2                      2 - 4 years                       College degree   \n",
       "3                        5-7 years                       College degree   \n",
       "4                        5-7 years                       College degree   \n",
       "...                            ...                                  ...   \n",
       "25829                    5-7 years                       College degree   \n",
       "25830                  2 - 4 years                       College degree   \n",
       "25831                11 - 20 years                      Master's degree   \n",
       "25832                  2 - 4 years                       College degree   \n",
       "25833                 8 - 10 years                      Master's degree   \n",
       "\n",
       "           gender                 industry       payed  \n",
       "0           Woman                Education   bad payed  \n",
       "1      Non-binary     Technology & Science  well payed  \n",
       "2           Woman      Banking & Insurance   bad payed  \n",
       "3           Woman  Non profit Organization   bad payed  \n",
       "4           Woman      Banking & Insurance   bad payed  \n",
       "...           ...                      ...         ...  \n",
       "25829       Woman             Unidentified  well payed  \n",
       "25830       Woman  Non profit Organization   bad payed  \n",
       "25831       Woman     Technology & Science  well payed  \n",
       "25832       Woman              Advertising  well payed  \n",
       "25833       Woman                      Law  well payed  \n",
       "\n",
       "[22888 rows x 8 columns]"
      ]
     },
     "execution_count": 38,
     "metadata": {},
     "output_type": "execute_result"
    }
   ],
   "source": [
    "df_kmodes_bis.insert(0, \"cluster\", clusters, True)\n",
    "\n",
    "df_kmodes_bis"
   ]
  },
  {
   "cell_type": "code",
   "execution_count": 39,
   "metadata": {
    "ExecuteTime": {
     "end_time": "2022-05-27T08:13:12.704931Z",
     "start_time": "2022-05-27T08:13:12.678698Z"
    }
   },
   "outputs": [
    {
     "name": "stdout",
     "output_type": "stream",
     "text": [
      "<class 'pandas.core.frame.DataFrame'>\n",
      "Int64Index: 22888 entries, 0 to 25833\n",
      "Data columns (total 10 columns):\n",
      " #   Column                                    Non-Null Count  Dtype   \n",
      "---  ------                                    --------------  -----   \n",
      " 0   cluster                                   22888 non-null  uint16  \n",
      " 1   how_old_are_you                           22888 non-null  category\n",
      " 2   overall_years_of_professional_experience  22888 non-null  category\n",
      " 3   years_of_experience_in_field              22888 non-null  category\n",
      " 4   highest_level_of_education_completed      22888 non-null  category\n",
      " 5   gender                                    22888 non-null  category\n",
      " 6   industry                                  22888 non-null  category\n",
      " 7   payed                                     22888 non-null  object  \n",
      " 8   harmonized_salary                         22888 non-null  float64 \n",
      " 9   adjusted_annual_salary                    22888 non-null  float64 \n",
      "dtypes: category(6), float64(2), object(1), uint16(1)\n",
      "memory usage: 896.2+ KB\n"
     ]
    }
   ],
   "source": [
    "df_kmodes_bis[\"harmonized_salary\"] = df[\"harmonized_salary\"]\n",
    "df_kmodes_bis[\"adjusted_annual_salary\"] = df[\"adjusted_annual_salary\"]\n",
    "df_kmodes_bis.info()"
   ]
  },
  {
   "cell_type": "code",
   "execution_count": 40,
   "metadata": {
    "ExecuteTime": {
     "end_time": "2022-05-27T08:13:15.922425Z",
     "start_time": "2022-05-27T08:13:15.739180Z"
    }
   },
   "outputs": [
    {
     "data": {
      "image/png": "[encoded data removed]",
      "text/plain": [
       "<Figure size 432x288 with 1 Axes>"
      ]
     },
     "metadata": {
      "needs_background": "light"
     },
     "output_type": "display_data"
    }
   ],
   "source": [
    "plt = sns.boxplot(\n",
    "    x='cluster',\n",
    "    y='harmonized_salary',\n",
    "    data=df_kmodes_bis\n",
    ")\n"
   ]
  },
  {
   "cell_type": "code",
   "execution_count": 55,
   "metadata": {
    "ExecuteTime": {
     "end_time": "2022-05-27T08:18:04.044467Z",
     "start_time": "2022-05-27T08:18:03.809880Z"
    }
   },
   "outputs": [
    {
     "data": {
      "text/plain": [
       "<AxesSubplot:xlabel='cluster', ylabel='count'>"
      ]
     },
     "execution_count": 55,
     "metadata": {},
     "output_type": "execute_result"
    },
    {
     "data": {
      "image/png": "[encoded data removed]",
      "text/plain": [
       "<Figure size 432x288 with 1 Axes>"
      ]
     },
     "metadata": {
      "needs_background": "light"
     },
     "output_type": "display_data"
    }
   ],
   "source": [
    "sns.countplot(data=df_kmodes_bis, hue=\"payed\", x=\"cluster\")"
   ]
  },
  {
   "cell_type": "code",
   "execution_count": 73,
   "metadata": {
    "ExecuteTime": {
     "end_time": "2022-05-27T13:21:23.528417Z",
     "start_time": "2022-05-27T13:21:22.982177Z"
    }
   },
   "outputs": [
    {
     "name": "stdout",
     "output_type": "stream",
     "text": [
      "              precision    recall  f1-score   support\n",
      "\n",
      "   bad payed       0.66      0.44      0.53      1404\n",
      "  well payed       0.78      0.90      0.84      3174\n",
      "\n",
      "    accuracy                           0.76      4578\n",
      "   macro avg       0.72      0.67      0.68      4578\n",
      "weighted avg       0.75      0.76      0.74      4578\n",
      "\n"
     ]
    },
    {
     "data": {
      "text/plain": [
       "<sklearn.metrics._plot.confusion_matrix.ConfusionMatrixDisplay at 0x13bb5dd90>"
      ]
     },
     "execution_count": 73,
     "metadata": {},
     "output_type": "execute_result"
    },
    {
     "data": {
      "image/png": "[encoded data removed]",
      "text/plain": [
       "<Figure size 432x288 with 2 Axes>"
      ]
     },
     "metadata": {
      "needs_background": "light"
     },
     "output_type": "display_data"
    }
   ],
   "source": [
    "from sklearn.linear_model import LogisticRegression\n",
    "from sklearn.ensemble import RandomForestClassifier\n",
    "from sklearn.tree import DecisionTreeClassifier\n",
    "from sklearn.metrics import classification_report, confusion_matrix, ConfusionMatrixDisplay\n",
    "from sklearn.svm import SVC\n",
    "from sklearn.model_selection import train_test_split\n",
    "from sklearn.preprocessing import OrdinalEncoder\n",
    "\n",
    "X_train, X_test, y_train, y_test = train_test_split(\n",
    "    df_kmodes_bis[[\"cluster\", \"industry\", \"gender\", \"years_of_experience_in_field\", \"highest_level_of_education_completed\", \"payed\"]],\n",
    "    df_kmodes_bis[[\"payed\", \"harmonized_salary\"]],\n",
    "    train_size=0.8,\n",
    "    random_state=29\n",
    ")\n",
    "\n",
    "X_train_used = pd.get_dummies(X_train.drop([\"payed\"], axis=1))\n",
    "X_test_used = pd.get_dummies(X_test.drop([\"payed\"], axis=1))\n",
    "lr = LogisticRegression(max_iter=200)\n",
    "lr.fit(X_train_used, y_train[\"payed\"])\n",
    "predictions = lr.predict(X_test_used)\n",
    "print(classification_report(y_true=y_test[\"payed\"], y_pred=predictions))\n",
    "cm = confusion_matrix(y_true=y_test[\"payed\"], y_pred=predictions, labels=lr.classes_)\n",
    "disp = ConfusionMatrixDisplay(cm, display_labels=lr.classes_)\n",
    "disp.plot()"
   ]
  },
  {
   "cell_type": "code",
   "execution_count": 74,
   "metadata": {
    "ExecuteTime": {
     "end_time": "2022-05-27T13:21:25.423610Z",
     "start_time": "2022-05-27T13:21:25.358726Z"
    }
   },
   "outputs": [
    {
     "name": "stdout",
     "output_type": "stream",
     "text": [
      "32830.11596746776\n"
     ]
    }
   ],
   "source": [
    "from sklearn.linear_model import LinearRegression\n",
    "from sklearn.metrics import mean_squared_error\n",
    "\n",
    "X_test[\"payed\"] = predictions\n",
    "X_train_used = pd.get_dummies(X_train)\n",
    "X_test_used = pd.get_dummies(X_test)\n",
    "linear = LinearRegression(fit_intercept=False)\n",
    "linear.fit(X_train_used, y_train[\"harmonized_salary\"])\n",
    "predictions = linear.predict(X_test_used)\n",
    "rmse = np.sqrt(mean_squared_error(y_true=y_test[\"harmonized_salary\"], y_pred=predictions))\n",
    "print(rmse)"
   ]
  },
  {
   "cell_type": "code",
   "execution_count": 44,
   "metadata": {
    "ExecuteTime": {
     "end_time": "2022-05-27T08:13:56.239102Z",
     "start_time": "2022-05-27T08:13:55.370181Z"
    }
   },
   "outputs": [
    {
     "data": {
      "text/plain": [
       "<AxesSubplot:xlabel='adjusted_annual_salary', ylabel='cluster'>"
      ]
     },
     "execution_count": 44,
     "metadata": {},
     "output_type": "execute_result"
    },
    {
     "data": {
      "image/png": "[encoded data removed]",
      "text/plain": [
       "<Figure size 432x288 with 1 Axes>"
      ]
     },
     "metadata": {
      "needs_background": "light"
     },
     "output_type": "display_data"
    }
   ],
   "source": [
    "sns.scatterplot(y=\"cluster\", x=\"adjusted_annual_salary\", hue=\"cluster\",data=df_kmodes_bis)\n"
   ]
  },
  {
   "cell_type": "code",
   "execution_count": 45,
   "metadata": {
    "ExecuteTime": {
     "end_time": "2022-05-27T08:13:58.340288Z",
     "start_time": "2022-05-27T08:13:58.334321Z"
    }
   },
   "outputs": [
    {
     "data": {
      "text/plain": [
       "array([['Woman', 'Technology & Science', \"Master's degree\",\n",
       "        '8 - 10 years', '25-34'],\n",
       "       ['Woman', 'Banking & Insurance', 'College degree',\n",
       "        '11 - 20 years', '35-44'],\n",
       "       ['Woman', 'Health', 'College degree', '2 - 4 years', '25-34'],\n",
       "       ['Woman', 'Education', \"Master's degree\", '11 - 20 years',\n",
       "        '35-44'],\n",
       "       ['Woman', 'Technology & Science', 'College degree', '2 - 4 years',\n",
       "        '25-34'],\n",
       "       ['Woman', 'Non profit Organization', 'College degree',\n",
       "        '5-7 years', '25-34']], dtype='<U23')"
      ]
     },
     "execution_count": 45,
     "metadata": {},
     "output_type": "execute_result"
    }
   ],
   "source": [
    "kmode.cluster_centroids_"
   ]
  },
  {
   "cell_type": "code",
   "execution_count": 46,
   "metadata": {
    "ExecuteTime": {
     "end_time": "2022-05-27T08:14:00.107191Z",
     "start_time": "2022-05-27T08:14:00.101209Z"
    }
   },
   "outputs": [
    {
     "data": {
      "text/plain": [
       "array([['Woman', 'Technology & Science', \"Master's degree\",\n",
       "        '8 - 10 years', '25-34'],\n",
       "       ['Woman', 'Banking & Insurance', 'College degree',\n",
       "        '11 - 20 years', '35-44'],\n",
       "       ['Woman', 'Health', 'College degree', '2 - 4 years', '25-34'],\n",
       "       ['Woman', 'Education', \"Master's degree\", '11 - 20 years',\n",
       "        '35-44'],\n",
       "       ['Woman', 'Technology & Science', 'College degree', '2 - 4 years',\n",
       "        '25-34'],\n",
       "       ['Woman', 'Non profit Organization', 'College degree',\n",
       "        '5-7 years', '25-34']], dtype='<U23')"
      ]
     },
     "execution_count": 46,
     "metadata": {},
     "output_type": "execute_result"
    }
   ],
   "source": [
    "kmode.cluster_centroids_"
   ]
  },
  {
   "cell_type": "code",
   "execution_count": 47,
   "metadata": {
    "ExecuteTime": {
     "end_time": "2022-05-27T08:14:21.664729Z",
     "start_time": "2022-05-27T08:14:12.964127Z"
    }
   },
   "outputs": [],
   "source": [
    "df_kmodes_bis.to_csv(\"data/clean_data_final.csv\")"
   ]
  },
  {
   "cell_type": "code",
   "execution_count": 48,
   "metadata": {
    "ExecuteTime": {
     "end_time": "2022-05-27T08:14:41.073156Z",
     "start_time": "2022-05-27T08:14:41.066729Z"
    }
   },
   "outputs": [],
   "source": [
    "centroids = pd.DataFrame(kmode.cluster_centroids_)\n",
    "centroids.columns=[\"gender\", \"industry\", \"highest_diploma\", \"age\", \"experience\"]\n",
    "centroids.to_csv(\"data/centroids_final.csv\")"
   ]
  },
  {
   "cell_type": "markdown",
   "metadata": {},
   "source": [
    "# Learning K-prototypes"
   ]
  },
  {
   "cell_type": "code",
   "execution_count": 117,
   "metadata": {
    "ExecuteTime": {
     "end_time": "2022-05-10T20:48:36.006684Z",
     "start_time": "2022-05-10T20:48:36.001002Z"
    }
   },
   "outputs": [],
   "source": [
    "df_kproto = df.copy(deep=True)"
   ]
  },
  {
   "cell_type": "code",
   "execution_count": 118,
   "metadata": {
    "ExecuteTime": {
     "end_time": "2022-05-10T20:48:53.900306Z",
     "start_time": "2022-05-10T20:48:53.894582Z"
    }
   },
   "outputs": [],
   "source": [
    "df_kproto = df_kproto.drop([\"how_old_are_you\", \"currency\", \"gender\", \"race\", \"country\", \"annual_salary\"], axis=1)"
   ]
  },
  {
   "cell_type": "code",
   "execution_count": 119,
   "metadata": {
    "ExecuteTime": {
     "end_time": "2022-05-10T20:48:56.544190Z",
     "start_time": "2022-05-10T20:48:56.528073Z"
    }
   },
   "outputs": [
    {
     "data": {
      "text/html": [
       "<div>\n",
       "<style scoped>\n",
       "    .dataframe tbody tr th:only-of-type {\n",
       "        vertical-align: middle;\n",
       "    }\n",
       "\n",
       "    .dataframe tbody tr th {\n",
       "        vertical-align: top;\n",
       "    }\n",
       "\n",
       "    .dataframe thead th {\n",
       "        text-align: right;\n",
       "    }\n",
       "</style>\n",
       "<table border=\"1\" class=\"dataframe\">\n",
       "  <thead>\n",
       "    <tr style=\"text-align: right;\">\n",
       "      <th></th>\n",
       "      <th>adjusted_annual_salary</th>\n",
       "      <th>overall_years_of_professional_experience</th>\n",
       "      <th>years_of_experience_in_field</th>\n",
       "      <th>highest_level_of_education_completed</th>\n",
       "      <th>industry</th>\n",
       "      <th>harmonized_salary</th>\n",
       "    </tr>\n",
       "  </thead>\n",
       "  <tbody>\n",
       "    <tr>\n",
       "      <th>0</th>\n",
       "      <td>0.885018</td>\n",
       "      <td>5-7 years</td>\n",
       "      <td>5-7 years</td>\n",
       "      <td>Master's degree</td>\n",
       "      <td>Education</td>\n",
       "      <td>55000.0</td>\n",
       "    </tr>\n",
       "    <tr>\n",
       "      <th>1</th>\n",
       "      <td>1.897746</td>\n",
       "      <td>8 - 10 years</td>\n",
       "      <td>5-7 years</td>\n",
       "      <td>College degree</td>\n",
       "      <td>Technology &amp; Science</td>\n",
       "      <td>68796.0</td>\n",
       "    </tr>\n",
       "    <tr>\n",
       "      <th>2</th>\n",
       "      <td>0.547102</td>\n",
       "      <td>2 - 4 years</td>\n",
       "      <td>2 - 4 years</td>\n",
       "      <td>College degree</td>\n",
       "      <td>Banking &amp; Insurance</td>\n",
       "      <td>34000.0</td>\n",
       "    </tr>\n",
       "    <tr>\n",
       "      <th>3</th>\n",
       "      <td>1.045931</td>\n",
       "      <td>8 - 10 years</td>\n",
       "      <td>5-7 years</td>\n",
       "      <td>College degree</td>\n",
       "      <td>Non profit Organization</td>\n",
       "      <td>62000.0</td>\n",
       "    </tr>\n",
       "    <tr>\n",
       "      <th>4</th>\n",
       "      <td>1.078113</td>\n",
       "      <td>8 - 10 years</td>\n",
       "      <td>5-7 years</td>\n",
       "      <td>College degree</td>\n",
       "      <td>Banking &amp; Insurance</td>\n",
       "      <td>60000.0</td>\n",
       "    </tr>\n",
       "    <tr>\n",
       "      <th>...</th>\n",
       "      <td>...</td>\n",
       "      <td>...</td>\n",
       "      <td>...</td>\n",
       "      <td>...</td>\n",
       "      <td>...</td>\n",
       "      <td>...</td>\n",
       "    </tr>\n",
       "    <tr>\n",
       "      <th>25829</th>\n",
       "      <td>1.399938</td>\n",
       "      <td>5-7 years</td>\n",
       "      <td>5-7 years</td>\n",
       "      <td>College degree</td>\n",
       "      <td>Unidentified</td>\n",
       "      <td>85000.0</td>\n",
       "    </tr>\n",
       "    <tr>\n",
       "      <th>25830</th>\n",
       "      <td>0.643650</td>\n",
       "      <td>11 - 20 years</td>\n",
       "      <td>2 - 4 years</td>\n",
       "      <td>College degree</td>\n",
       "      <td>Non profit Organization</td>\n",
       "      <td>40000.0</td>\n",
       "    </tr>\n",
       "    <tr>\n",
       "      <th>25831</th>\n",
       "      <td>2.848150</td>\n",
       "      <td>11 - 20 years</td>\n",
       "      <td>11 - 20 years</td>\n",
       "      <td>Master's degree</td>\n",
       "      <td>Technology &amp; Science</td>\n",
       "      <td>148000.0</td>\n",
       "    </tr>\n",
       "    <tr>\n",
       "      <th>25832</th>\n",
       "      <td>1.126387</td>\n",
       "      <td>2 - 4 years</td>\n",
       "      <td>2 - 4 years</td>\n",
       "      <td>College degree</td>\n",
       "      <td>Advertising</td>\n",
       "      <td>65000.0</td>\n",
       "    </tr>\n",
       "    <tr>\n",
       "      <th>25833</th>\n",
       "      <td>2.414362</td>\n",
       "      <td>11 - 20 years</td>\n",
       "      <td>8 - 10 years</td>\n",
       "      <td>Master's degree</td>\n",
       "      <td>Law</td>\n",
       "      <td>146192.0</td>\n",
       "    </tr>\n",
       "  </tbody>\n",
       "</table>\n",
       "<p>25834 rows × 6 columns</p>\n",
       "</div>"
      ],
      "text/plain": [
       "       adjusted_annual_salary overall_years_of_professional_experience  \\\n",
       "0                    0.885018                                5-7 years   \n",
       "1                    1.897746                             8 - 10 years   \n",
       "2                    0.547102                              2 - 4 years   \n",
       "3                    1.045931                             8 - 10 years   \n",
       "4                    1.078113                             8 - 10 years   \n",
       "...                       ...                                      ...   \n",
       "25829                1.399938                                5-7 years   \n",
       "25830                0.643650                            11 - 20 years   \n",
       "25831                2.848150                            11 - 20 years   \n",
       "25832                1.126387                              2 - 4 years   \n",
       "25833                2.414362                            11 - 20 years   \n",
       "\n",
       "      years_of_experience_in_field highest_level_of_education_completed  \\\n",
       "0                        5-7 years                      Master's degree   \n",
       "1                        5-7 years                       College degree   \n",
       "2                      2 - 4 years                       College degree   \n",
       "3                        5-7 years                       College degree   \n",
       "4                        5-7 years                       College degree   \n",
       "...                            ...                                  ...   \n",
       "25829                    5-7 years                       College degree   \n",
       "25830                  2 - 4 years                       College degree   \n",
       "25831                11 - 20 years                      Master's degree   \n",
       "25832                  2 - 4 years                       College degree   \n",
       "25833                 8 - 10 years                      Master's degree   \n",
       "\n",
       "                      industry  harmonized_salary  \n",
       "0                    Education            55000.0  \n",
       "1         Technology & Science            68796.0  \n",
       "2          Banking & Insurance            34000.0  \n",
       "3      Non profit Organization            62000.0  \n",
       "4          Banking & Insurance            60000.0  \n",
       "...                        ...                ...  \n",
       "25829             Unidentified            85000.0  \n",
       "25830  Non profit Organization            40000.0  \n",
       "25831     Technology & Science           148000.0  \n",
       "25832              Advertising            65000.0  \n",
       "25833                      Law           146192.0  \n",
       "\n",
       "[25834 rows x 6 columns]"
      ]
     },
     "execution_count": 119,
     "metadata": {},
     "output_type": "execute_result"
    }
   ],
   "source": [
    "df_kproto"
   ]
  },
  {
   "cell_type": "code",
   "execution_count": 120,
   "metadata": {
    "ExecuteTime": {
     "end_time": "2022-05-10T20:49:32.633884Z",
     "start_time": "2022-05-10T20:49:32.620775Z"
    }
   },
   "outputs": [
    {
     "name": "stdout",
     "output_type": "stream",
     "text": [
      "Categorical columns           : ['overall_years_of_professional_experience', 'years_of_experience_in_field', 'highest_level_of_education_completed', 'industry']\n",
      "Categorical columns position  : [1, 2, 3, 4]\n"
     ]
    }
   ],
   "source": [
    "# Get the position of categorical columns\n",
    "catColumnsPos = [df_kproto.columns.get_loc(col) for col in list(df_kproto.select_dtypes('category').columns)]\n",
    "print('Categorical columns           : {}'.format(list(df_kproto.select_dtypes('category').columns)))\n",
    "print('Categorical columns position  : {}'.format(catColumnsPos))"
   ]
  },
  {
   "cell_type": "code",
   "execution_count": 121,
   "metadata": {
    "ExecuteTime": {
     "end_time": "2022-05-10T20:49:34.750969Z",
     "start_time": "2022-05-10T20:49:34.739415Z"
    }
   },
   "outputs": [
    {
     "data": {
      "text/plain": [
       "array([[0.8850184083828944, '5-7 years', '5-7 years', \"Master's degree\",\n",
       "        'Education', 55000.0],\n",
       "       [1.89774552128303, '8 - 10 years', '5-7 years', 'College degree',\n",
       "        'Technology & Science', 68796.0],\n",
       "       [0.5471022888185165, '2 - 4 years', '2 - 4 years',\n",
       "        'College degree', 'Banking & Insurance', 34000.0],\n",
       "       ...,\n",
       "       [2.848150150614042, '11 - 20 years', '11 - 20 years',\n",
       "        \"Master's degree\", 'Technology & Science', 148000.0],\n",
       "       [1.1263870652145929, '2 - 4 years', '2 - 4 years',\n",
       "        'College degree', 'Advertising', 65000.0],\n",
       "       [2.4143624005561133, '11 - 20 years', '8 - 10 years',\n",
       "        \"Master's degree\", 'Law', 146192.0]], dtype=object)"
      ]
     },
     "execution_count": 121,
     "metadata": {},
     "output_type": "execute_result"
    }
   ],
   "source": [
    "# Convert dataframe to matrix\n",
    "dfMatrix = df_kproto.to_numpy()\n",
    "dfMatrix"
   ]
  },
  {
   "cell_type": "code",
   "execution_count": 122,
   "metadata": {
    "ExecuteTime": {
     "end_time": "2022-05-10T21:31:26.385826Z",
     "start_time": "2022-05-10T20:49:36.928528Z"
    }
   },
   "outputs": [],
   "source": [
    "# Choose optimal K using Elbow method\n",
    "cost = []\n",
    "K = range(2,10)\n",
    "for num_clusters in list(K):\n",
    "    kprototype = KPrototypes(n_jobs = -1, n_clusters = num_clusters, init = 'Huang', random_state = 0)\n",
    "    kprototype.fit_predict(dfMatrix, categorical = catColumnsPos)\n",
    "    cost.append(kprototype.cost_)"
   ]
  },
  {
   "cell_type": "code",
   "execution_count": 125,
   "metadata": {
    "ExecuteTime": {
     "end_time": "2022-05-10T21:52:08.859400Z",
     "start_time": "2022-05-10T21:52:08.291591Z"
    }
   },
   "outputs": [
    {
     "name": "stderr",
     "output_type": "stream",
     "text": [
      "/usr/local/lib/python3.9/site-packages/seaborn/_decorators.py:36: FutureWarning: Pass the following variables as keyword args: x, y. From version 0.12, the only valid positional argument will be `data`, and passing other arguments without an explicit keyword will result in an error or misinterpretation.\n",
      "  warnings.warn(\n"
     ]
    },
    {
     "ename": "AttributeError",
     "evalue": "'AxesSubplot' object has no attribute 'xlabel'",
     "output_type": "error",
     "traceback": [
      "\u001b[0;31m---------------------------------------------------------------------------\u001b[0m",
      "\u001b[0;31mAttributeError\u001b[0m                            Traceback (most recent call last)",
      "\u001b[0;32m/var/folders/13/2bs52tzx5vb8jg2f094msm5h0000gn/T/ipykernel_53380/1711533709.py\u001b[0m in \u001b[0;36m<module>\u001b[0;34m\u001b[0m\n\u001b[1;32m      1\u001b[0m \u001b[0msns\u001b[0m\u001b[0;34m.\u001b[0m\u001b[0mlineplot\u001b[0m\u001b[0;34m(\u001b[0m\u001b[0mK\u001b[0m\u001b[0;34m,\u001b[0m \u001b[0mcost\u001b[0m\u001b[0;34m)\u001b[0m\u001b[0;34m\u001b[0m\u001b[0;34m\u001b[0m\u001b[0m\n\u001b[0;32m----> 2\u001b[0;31m \u001b[0mplt\u001b[0m\u001b[0;34m.\u001b[0m\u001b[0mxlabel\u001b[0m\u001b[0;34m(\u001b[0m\u001b[0;34m'No. of clusters'\u001b[0m\u001b[0;34m)\u001b[0m\u001b[0;34m\u001b[0m\u001b[0;34m\u001b[0m\u001b[0m\n\u001b[0m\u001b[1;32m      3\u001b[0m \u001b[0mplt\u001b[0m\u001b[0;34m.\u001b[0m\u001b[0mylabel\u001b[0m\u001b[0;34m(\u001b[0m\u001b[0;34m'Cost'\u001b[0m\u001b[0;34m)\u001b[0m\u001b[0;34m\u001b[0m\u001b[0;34m\u001b[0m\u001b[0m\n\u001b[1;32m      4\u001b[0m \u001b[0mplt\u001b[0m\u001b[0;34m.\u001b[0m\u001b[0mtitle\u001b[0m\u001b[0;34m(\u001b[0m\u001b[0;34m'Elbow Method For Optimal k'\u001b[0m\u001b[0;34m)\u001b[0m\u001b[0;34m\u001b[0m\u001b[0;34m\u001b[0m\u001b[0m\n\u001b[1;32m      5\u001b[0m \u001b[0mplt\u001b[0m\u001b[0;34m.\u001b[0m\u001b[0mshow\u001b[0m\u001b[0;34m(\u001b[0m\u001b[0;34m)\u001b[0m\u001b[0;34m\u001b[0m\u001b[0;34m\u001b[0m\u001b[0m\n",
      "\u001b[0;31mAttributeError\u001b[0m: 'AxesSubplot' object has no attribute 'xlabel'"
     ]
    },
    {
     "data": {
      "image/png": "[encoded data removed]",
      "text/plain": [
       "<Figure size 432x288 with 1 Axes>"
      ]
     },
     "metadata": {
      "needs_background": "light"
     },
     "output_type": "display_data"
    }
   ],
   "source": [
    "sns.lineplot(K, cost)\n",
    "plt.xlabel('No. of clusters')\n",
    "plt.ylabel('Cost')\n",
    "plt.title('Elbow Method For Optimal k')\n",
    "plt.show()\n",
    "plt.show()"
   ]
  },
  {
   "cell_type": "raw",
   "metadata": {},
   "source": [
    "We choose to learn 5 clusters"
   ]
  },
  {
   "cell_type": "code",
   "execution_count": 126,
   "metadata": {
    "ExecuteTime": {
     "end_time": "2022-05-10T21:57:07.865562Z",
     "start_time": "2022-05-10T21:52:19.109521Z"
    },
    "scrolled": true
   },
   "outputs": [
    {
     "data": {
      "text/plain": [
       "array([3, 2, 3, ..., 0, 3, 0], dtype=uint16)"
      ]
     },
     "execution_count": 126,
     "metadata": {},
     "output_type": "execute_result"
    }
   ],
   "source": [
    "# Fit the cluster\n",
    "kprototype = KPrototypes(n_jobs = -1, n_clusters = 5, init = 'Huang', random_state = 0)\n",
    "kprototype.fit_predict(dfMatrix, categorical = catColumnsPos)"
   ]
  },
  {
   "cell_type": "code",
   "execution_count": 127,
   "metadata": {
    "ExecuteTime": {
     "end_time": "2022-05-10T21:57:17.735233Z",
     "start_time": "2022-05-10T21:57:17.715236Z"
    }
   },
   "outputs": [
    {
     "data": {
      "text/html": [
       "<div>\n",
       "<style scoped>\n",
       "    .dataframe tbody tr th:only-of-type {\n",
       "        vertical-align: middle;\n",
       "    }\n",
       "\n",
       "    .dataframe tbody tr th {\n",
       "        vertical-align: top;\n",
       "    }\n",
       "\n",
       "    .dataframe thead th {\n",
       "        text-align: right;\n",
       "    }\n",
       "</style>\n",
       "<table border=\"1\" class=\"dataframe\">\n",
       "  <thead>\n",
       "    <tr style=\"text-align: right;\">\n",
       "      <th></th>\n",
       "      <th>adjusted_annual_salary</th>\n",
       "      <th>overall_years_of_professional_experience</th>\n",
       "      <th>years_of_experience_in_field</th>\n",
       "      <th>highest_level_of_education_completed</th>\n",
       "      <th>industry</th>\n",
       "      <th>harmonized_salary</th>\n",
       "      <th>cluster</th>\n",
       "    </tr>\n",
       "  </thead>\n",
       "  <tbody>\n",
       "    <tr>\n",
       "      <th>0</th>\n",
       "      <td>0.885018</td>\n",
       "      <td>5-7 years</td>\n",
       "      <td>5-7 years</td>\n",
       "      <td>Master's degree</td>\n",
       "      <td>Education</td>\n",
       "      <td>55000.0</td>\n",
       "      <td>3</td>\n",
       "    </tr>\n",
       "    <tr>\n",
       "      <th>1</th>\n",
       "      <td>1.897746</td>\n",
       "      <td>8 - 10 years</td>\n",
       "      <td>5-7 years</td>\n",
       "      <td>College degree</td>\n",
       "      <td>Technology &amp; Science</td>\n",
       "      <td>68796.0</td>\n",
       "      <td>2</td>\n",
       "    </tr>\n",
       "    <tr>\n",
       "      <th>2</th>\n",
       "      <td>0.547102</td>\n",
       "      <td>2 - 4 years</td>\n",
       "      <td>2 - 4 years</td>\n",
       "      <td>College degree</td>\n",
       "      <td>Banking &amp; Insurance</td>\n",
       "      <td>34000.0</td>\n",
       "      <td>3</td>\n",
       "    </tr>\n",
       "    <tr>\n",
       "      <th>3</th>\n",
       "      <td>1.045931</td>\n",
       "      <td>8 - 10 years</td>\n",
       "      <td>5-7 years</td>\n",
       "      <td>College degree</td>\n",
       "      <td>Non profit Organization</td>\n",
       "      <td>62000.0</td>\n",
       "      <td>3</td>\n",
       "    </tr>\n",
       "    <tr>\n",
       "      <th>4</th>\n",
       "      <td>1.078113</td>\n",
       "      <td>8 - 10 years</td>\n",
       "      <td>5-7 years</td>\n",
       "      <td>College degree</td>\n",
       "      <td>Banking &amp; Insurance</td>\n",
       "      <td>60000.0</td>\n",
       "      <td>3</td>\n",
       "    </tr>\n",
       "    <tr>\n",
       "      <th>...</th>\n",
       "      <td>...</td>\n",
       "      <td>...</td>\n",
       "      <td>...</td>\n",
       "      <td>...</td>\n",
       "      <td>...</td>\n",
       "      <td>...</td>\n",
       "      <td>...</td>\n",
       "    </tr>\n",
       "    <tr>\n",
       "      <th>25829</th>\n",
       "      <td>1.399938</td>\n",
       "      <td>5-7 years</td>\n",
       "      <td>5-7 years</td>\n",
       "      <td>College degree</td>\n",
       "      <td>Unidentified</td>\n",
       "      <td>85000.0</td>\n",
       "      <td>2</td>\n",
       "    </tr>\n",
       "    <tr>\n",
       "      <th>25830</th>\n",
       "      <td>0.643650</td>\n",
       "      <td>11 - 20 years</td>\n",
       "      <td>2 - 4 years</td>\n",
       "      <td>College degree</td>\n",
       "      <td>Non profit Organization</td>\n",
       "      <td>40000.0</td>\n",
       "      <td>3</td>\n",
       "    </tr>\n",
       "    <tr>\n",
       "      <th>25831</th>\n",
       "      <td>2.848150</td>\n",
       "      <td>11 - 20 years</td>\n",
       "      <td>11 - 20 years</td>\n",
       "      <td>Master's degree</td>\n",
       "      <td>Technology &amp; Science</td>\n",
       "      <td>148000.0</td>\n",
       "      <td>0</td>\n",
       "    </tr>\n",
       "    <tr>\n",
       "      <th>25832</th>\n",
       "      <td>1.126387</td>\n",
       "      <td>2 - 4 years</td>\n",
       "      <td>2 - 4 years</td>\n",
       "      <td>College degree</td>\n",
       "      <td>Advertising</td>\n",
       "      <td>65000.0</td>\n",
       "      <td>3</td>\n",
       "    </tr>\n",
       "    <tr>\n",
       "      <th>25833</th>\n",
       "      <td>2.414362</td>\n",
       "      <td>11 - 20 years</td>\n",
       "      <td>8 - 10 years</td>\n",
       "      <td>Master's degree</td>\n",
       "      <td>Law</td>\n",
       "      <td>146192.0</td>\n",
       "      <td>0</td>\n",
       "    </tr>\n",
       "  </tbody>\n",
       "</table>\n",
       "<p>25834 rows × 7 columns</p>\n",
       "</div>"
      ],
      "text/plain": [
       "       adjusted_annual_salary overall_years_of_professional_experience  \\\n",
       "0                    0.885018                                5-7 years   \n",
       "1                    1.897746                             8 - 10 years   \n",
       "2                    0.547102                              2 - 4 years   \n",
       "3                    1.045931                             8 - 10 years   \n",
       "4                    1.078113                             8 - 10 years   \n",
       "...                       ...                                      ...   \n",
       "25829                1.399938                                5-7 years   \n",
       "25830                0.643650                            11 - 20 years   \n",
       "25831                2.848150                            11 - 20 years   \n",
       "25832                1.126387                              2 - 4 years   \n",
       "25833                2.414362                            11 - 20 years   \n",
       "\n",
       "      years_of_experience_in_field highest_level_of_education_completed  \\\n",
       "0                        5-7 years                      Master's degree   \n",
       "1                        5-7 years                       College degree   \n",
       "2                      2 - 4 years                       College degree   \n",
       "3                        5-7 years                       College degree   \n",
       "4                        5-7 years                       College degree   \n",
       "...                            ...                                  ...   \n",
       "25829                    5-7 years                       College degree   \n",
       "25830                  2 - 4 years                       College degree   \n",
       "25831                11 - 20 years                      Master's degree   \n",
       "25832                  2 - 4 years                       College degree   \n",
       "25833                 8 - 10 years                      Master's degree   \n",
       "\n",
       "                      industry  harmonized_salary  cluster  \n",
       "0                    Education            55000.0        3  \n",
       "1         Technology & Science            68796.0        2  \n",
       "2          Banking & Insurance            34000.0        3  \n",
       "3      Non profit Organization            62000.0        3  \n",
       "4          Banking & Insurance            60000.0        3  \n",
       "...                        ...                ...      ...  \n",
       "25829             Unidentified            85000.0        2  \n",
       "25830  Non profit Organization            40000.0        3  \n",
       "25831     Technology & Science           148000.0        0  \n",
       "25832              Advertising            65000.0        3  \n",
       "25833                      Law           146192.0        0  \n",
       "\n",
       "[25834 rows x 7 columns]"
      ]
     },
     "execution_count": 127,
     "metadata": {},
     "output_type": "execute_result"
    }
   ],
   "source": [
    "df_kproto['cluster'] = kprototype.labels_\n",
    "df_kproto"
   ]
  },
  {
   "cell_type": "code",
   "execution_count": 128,
   "metadata": {
    "ExecuteTime": {
     "end_time": "2022-05-10T21:57:22.843740Z",
     "start_time": "2022-05-10T21:57:22.833753Z"
    }
   },
   "outputs": [
    {
     "data": {
      "text/plain": [
       "array([['3.3761018119426023', '169893.24963959635', '11 - 20 years',\n",
       "        '11 - 20 years', 'College degree', 'Technology & Science'],\n",
       "       ['5.69310790418902', '244529.26545454544', '11 - 20 years',\n",
       "        '11 - 20 years', 'College degree', 'Technology & Science'],\n",
       "       ['1.5266407118154788', '81768.86719668248', '11 - 20 years',\n",
       "        '11 - 20 years', 'College degree', 'Technology & Science'],\n",
       "       ['0.9495410836845368', '48440.77150908719', '11 - 20 years',\n",
       "        '2 - 4 years', 'College degree', 'Education'],\n",
       "       ['2.2381666179250996', '120663.52284679793', '11 - 20 years',\n",
       "        '11 - 20 years', 'College degree', 'Technology & Science']],\n",
       "      dtype='<U32')"
      ]
     },
     "execution_count": 128,
     "metadata": {},
     "output_type": "execute_result"
    }
   ],
   "source": [
    "kprototype.cluster_centroids_"
   ]
  },
  {
   "cell_type": "code",
   "execution_count": null,
   "metadata": {},
   "outputs": [],
   "source": []
  }
 ],
 "metadata": {
  "hide_input": false,
  "kernelspec": {
   "display_name": "Python 3 (ipykernel)",
   "language": "python",
   "name": "python3"
  },
  "language_info": {
   "codemirror_mode": {
    "name": "ipython",
    "version": 3
   },
   "file_extension": ".py",
   "mimetype": "text/x-python",
   "name": "python",
   "nbconvert_exporter": "python",
   "pygments_lexer": "ipython3",
   "version": "3.9.8"
  },
  "latex_envs": {
   "LaTeX_envs_menu_present": true,
   "autoclose": false,
   "autocomplete": true,
   "bibliofile": "biblio.bib",
   "cite_by": "apalike",
   "current_citInitial": 1,
   "eqLabelWithNumbers": true,
   "eqNumInitial": 1,
   "hotkeys": {
    "equation": "Ctrl-E",
    "itemize": "Ctrl-I"
   },
   "labels_anchors": false,
   "latex_user_defs": false,
   "report_style_numbering": false,
   "user_envs_cfg": false
  },
  "toc": {
   "base_numbering": 1,
   "nav_menu": {},
   "number_sections": true,
   "sideBar": true,
   "skip_h1_title": false,
   "title_cell": "Table of Contents",
   "title_sidebar": "Contents",
   "toc_cell": false,
   "toc_position": {},
   "toc_section_display": true,
   "toc_window_display": false
  },
  "varInspector": {
   "cols": {
    "lenName": 16,
    "lenType": 16,
    "lenVar": 40
   },
   "kernels_config": {
    "python": {
     "delete_cmd_postfix": "",
     "delete_cmd_prefix": "del ",
     "library": "var_list.py",
     "varRefreshCmd": "print(var_dic_list())"
    },
    "r": {
     "delete_cmd_postfix": ") ",
     "delete_cmd_prefix": "rm(",
     "library": "var_list.r",
     "varRefreshCmd": "cat(var_dic_list()) "
    }
   },
   "types_to_exclude": [
    "module",
    "function",
    "builtin_function_or_method",
    "instance",
    "_Feature"
   ],
   "window_display": false
  }
 },
 "nbformat": 4,
 "nbformat_minor": 4
}
