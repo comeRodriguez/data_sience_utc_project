{
 "cells": [
  {
   "cell_type": "code",
   "execution_count": 1,
   "metadata": {
    "ExecuteTime": {
     "end_time": "2022-05-04T19:49:55.234060Z",
     "start_time": "2022-05-04T19:49:53.190106Z"
    }
   },
   "outputs": [
    {
     "name": "stdout",
     "output_type": "stream",
     "text": [
      "As the xlwt package is no longer maintained, the xlwt engine will be removed in a future version of pandas. This is the only engine in pandas that supports writing in the xls format. Install openpyxl and write to an xlsx file instead.\n",
      "\n",
      ": boolean\n",
      "    use_inf_as_null had been deprecated and will be removed in a future\n",
      "    version. Use `use_inf_as_na` instead.\n",
      "\n"
     ]
    },
    {
     "name": "stderr",
     "output_type": "stream",
     "text": [
      "/usr/local/lib/python3.9/site-packages/pandas/_config/config.py:630: FutureWarning: As the xlwt package is no longer maintained, the xlwt engine will be removed in a future version of pandas. This is the only engine in pandas that supports writing in the xls format. Install openpyxl and write to an xlsx file instead.\n",
      "  warnings.warn(d.msg, FutureWarning)\n",
      "/usr/local/lib/python3.9/site-packages/pandas/_config/config.py:630: FutureWarning: \n",
      ": boolean\n",
      "    use_inf_as_null had been deprecated and will be removed in a future\n",
      "    version. Use `use_inf_as_na` instead.\n",
      "\n",
      "  warnings.warn(d.msg, FutureWarning)\n"
     ]
    }
   ],
   "source": [
    "import seaborn as sns\n",
    "import matplotlib.pyplot as plt\n",
    "import pandas as pd\n",
    "import numpy as np\n",
    "pd.reset_option('all')"
   ]
  },
  {
   "cell_type": "code",
   "execution_count": 3,
   "metadata": {},
   "outputs": [],
   "source": [
    "# pip install seaborn --upgrade"
   ]
  },
  {
   "cell_type": "code",
   "execution_count": 2,
   "metadata": {
    "ExecuteTime": {
     "end_time": "2022-05-04T19:50:02.049689Z",
     "start_time": "2022-05-04T19:50:01.739285Z"
    }
   },
   "outputs": [],
   "source": [
    "df = pd.read_csv(\"../data/survey.csv\")"
   ]
  },
  {
   "cell_type": "code",
   "execution_count": 3,
   "metadata": {
    "ExecuteTime": {
     "end_time": "2022-05-04T19:50:14.580571Z",
     "start_time": "2022-05-04T19:50:09.562268Z"
    }
   },
   "outputs": [],
   "source": [
    "# Formatted data from : https://www.donneesmondiales.com/cout-vie.php#:~:text=Co%C3%BBt%20de%20la%20vie%20et,%C3%A0%20ceux%20de%20la%20France.\n",
    "wage_data = pd.read_csv(\"../data/avg_wage.csv\", sep =';')"
   ]
  },
  {
   "cell_type": "code",
   "execution_count": 4,
   "metadata": {
    "ExecuteTime": {
     "end_time": "2022-05-04T19:50:16.488854Z",
     "start_time": "2022-05-04T19:50:16.470958Z"
    }
   },
   "outputs": [
    {
     "data": {
      "text/html": [
       "<div>\n",
       "<style scoped>\n",
       "    .dataframe tbody tr th:only-of-type {\n",
       "        vertical-align: middle;\n",
       "    }\n",
       "\n",
       "    .dataframe tbody tr th {\n",
       "        vertical-align: top;\n",
       "    }\n",
       "\n",
       "    .dataframe thead th {\n",
       "        text-align: right;\n",
       "    }\n",
       "</style>\n",
       "<table border=\"1\" class=\"dataframe\">\n",
       "  <thead>\n",
       "    <tr style=\"text-align: right;\">\n",
       "      <th></th>\n",
       "      <th>country</th>\n",
       "      <th>costs_idx</th>\n",
       "      <th>avg_annual_wage</th>\n",
       "      <th>avg_month_wage_</th>\n",
       "      <th>purchasing_power_idx</th>\n",
       "    </tr>\n",
       "  </thead>\n",
       "  <tbody>\n",
       "    <tr>\n",
       "      <th>0</th>\n",
       "      <td>Bermuda</td>\n",
       "      <td>167.5</td>\n",
       "      <td>108094.8</td>\n",
       "      <td>8189</td>\n",
       "      <td>169.8</td>\n",
       "    </tr>\n",
       "    <tr>\n",
       "      <th>1</th>\n",
       "      <td>Switzerland</td>\n",
       "      <td>149.9</td>\n",
       "      <td>79569.6</td>\n",
       "      <td>6028</td>\n",
       "      <td>139.6</td>\n",
       "    </tr>\n",
       "    <tr>\n",
       "      <th>2</th>\n",
       "      <td>Cayman Islands</td>\n",
       "      <td>146.6</td>\n",
       "      <td>61630.8</td>\n",
       "      <td>4669</td>\n",
       "      <td>110.6</td>\n",
       "    </tr>\n",
       "    <tr>\n",
       "      <th>3</th>\n",
       "      <td>Israel</td>\n",
       "      <td>132.4</td>\n",
       "      <td>41025.6</td>\n",
       "      <td>3108</td>\n",
       "      <td>81.5</td>\n",
       "    </tr>\n",
       "    <tr>\n",
       "      <th>4</th>\n",
       "      <td>Turks and Caicos Islands</td>\n",
       "      <td>132.4</td>\n",
       "      <td>29726.4</td>\n",
       "      <td>2252</td>\n",
       "      <td>59.0</td>\n",
       "    </tr>\n",
       "    <tr>\n",
       "      <th>...</th>\n",
       "      <td>...</td>\n",
       "      <td>...</td>\n",
       "      <td>...</td>\n",
       "      <td>...</td>\n",
       "      <td>...</td>\n",
       "    </tr>\n",
       "    <tr>\n",
       "      <th>111</th>\n",
       "      <td>Kyrgyzstan</td>\n",
       "      <td>27.5</td>\n",
       "      <td>1122.0</td>\n",
       "      <td>85</td>\n",
       "      <td>10.7</td>\n",
       "    </tr>\n",
       "    <tr>\n",
       "      <th>112</th>\n",
       "      <td>Tajikistan</td>\n",
       "      <td>26.7</td>\n",
       "      <td>1016.4</td>\n",
       "      <td>77</td>\n",
       "      <td>10.1</td>\n",
       "    </tr>\n",
       "    <tr>\n",
       "      <th>113</th>\n",
       "      <td>Pakistan</td>\n",
       "      <td>26.4</td>\n",
       "      <td>1227.6</td>\n",
       "      <td>93</td>\n",
       "      <td>12.2</td>\n",
       "    </tr>\n",
       "    <tr>\n",
       "      <th>114</th>\n",
       "      <td>Angola</td>\n",
       "      <td>26.3</td>\n",
       "      <td>2059.2</td>\n",
       "      <td>156</td>\n",
       "      <td>20.6</td>\n",
       "    </tr>\n",
       "    <tr>\n",
       "      <th>115</th>\n",
       "      <td>Afghanistan</td>\n",
       "      <td>23.7</td>\n",
       "      <td>475.2</td>\n",
       "      <td>36</td>\n",
       "      <td>5.3</td>\n",
       "    </tr>\n",
       "  </tbody>\n",
       "</table>\n",
       "<p>116 rows × 5 columns</p>\n",
       "</div>"
      ],
      "text/plain": [
       "                      country  costs_idx  avg_annual_wage  avg_month_wage_  \\\n",
       "0                     Bermuda      167.5         108094.8             8189   \n",
       "1                 Switzerland      149.9          79569.6             6028   \n",
       "2              Cayman Islands      146.6          61630.8             4669   \n",
       "3                      Israel      132.4          41025.6             3108   \n",
       "4    Turks and Caicos Islands      132.4          29726.4             2252   \n",
       "..                        ...        ...              ...              ...   \n",
       "111                Kyrgyzstan       27.5           1122.0               85   \n",
       "112                Tajikistan       26.7           1016.4               77   \n",
       "113                  Pakistan       26.4           1227.6               93   \n",
       "114                    Angola       26.3           2059.2              156   \n",
       "115               Afghanistan       23.7            475.2               36   \n",
       "\n",
       "     purchasing_power_idx  \n",
       "0                   169.8  \n",
       "1                   139.6  \n",
       "2                   110.6  \n",
       "3                    81.5  \n",
       "4                    59.0  \n",
       "..                    ...  \n",
       "111                  10.7  \n",
       "112                  10.1  \n",
       "113                  12.2  \n",
       "114                  20.6  \n",
       "115                   5.3  \n",
       "\n",
       "[116 rows x 5 columns]"
      ]
     },
     "execution_count": 4,
     "metadata": {},
     "output_type": "execute_result"
    }
   ],
   "source": [
    "wage_data"
   ]
  },
  {
   "cell_type": "code",
   "execution_count": 5,
   "metadata": {
    "ExecuteTime": {
     "end_time": "2022-05-04T19:50:32.905337Z",
     "start_time": "2022-05-04T19:50:32.859424Z"
    }
   },
   "outputs": [
    {
     "data": {
      "text/html": [
       "<div>\n",
       "<style scoped>\n",
       "    .dataframe tbody tr th:only-of-type {\n",
       "        vertical-align: middle;\n",
       "    }\n",
       "\n",
       "    .dataframe tbody tr th {\n",
       "        vertical-align: top;\n",
       "    }\n",
       "\n",
       "    .dataframe thead th {\n",
       "        text-align: right;\n",
       "    }\n",
       "</style>\n",
       "<table border=\"1\" class=\"dataframe\">\n",
       "  <thead>\n",
       "    <tr style=\"text-align: right;\">\n",
       "      <th></th>\n",
       "      <th>Unnamed: 0</th>\n",
       "      <th>timestamp</th>\n",
       "      <th>how_old_are_you</th>\n",
       "      <th>industry</th>\n",
       "      <th>job_title</th>\n",
       "      <th>additional_context_on_job_title</th>\n",
       "      <th>annual_salary</th>\n",
       "      <th>other_monetary_comp</th>\n",
       "      <th>currency</th>\n",
       "      <th>currency_other</th>\n",
       "      <th>...</th>\n",
       "      <th>state</th>\n",
       "      <th>city</th>\n",
       "      <th>overall_years_of_professional_experience</th>\n",
       "      <th>years_of_experience_in_field</th>\n",
       "      <th>highest_level_of_education_completed</th>\n",
       "      <th>gender</th>\n",
       "      <th>race</th>\n",
       "      <th>industry cluster</th>\n",
       "      <th>industry cluster tf_idf</th>\n",
       "      <th>industry cluster tf_idf_bigrams</th>\n",
       "    </tr>\n",
       "  </thead>\n",
       "  <tbody>\n",
       "    <tr>\n",
       "      <th>0</th>\n",
       "      <td>0</td>\n",
       "      <td>4/27/2021 11:02:10</td>\n",
       "      <td>25-34</td>\n",
       "      <td>Education (Higher Education)</td>\n",
       "      <td>Research and Instruction Librarian</td>\n",
       "      <td>NaN</td>\n",
       "      <td>55000</td>\n",
       "      <td>0.0</td>\n",
       "      <td>USD</td>\n",
       "      <td>NaN</td>\n",
       "      <td>...</td>\n",
       "      <td>Massachusetts</td>\n",
       "      <td>Boston</td>\n",
       "      <td>5-7 years</td>\n",
       "      <td>5-7 years</td>\n",
       "      <td>Master's degree</td>\n",
       "      <td>Woman</td>\n",
       "      <td>White</td>\n",
       "      <td>Education</td>\n",
       "      <td>Education</td>\n",
       "      <td>Education</td>\n",
       "    </tr>\n",
       "    <tr>\n",
       "      <th>1</th>\n",
       "      <td>1</td>\n",
       "      <td>4/27/2021 11:02:22</td>\n",
       "      <td>25-34</td>\n",
       "      <td>Computing or Tech</td>\n",
       "      <td>Change &amp; Internal Communications Manager</td>\n",
       "      <td>NaN</td>\n",
       "      <td>54600</td>\n",
       "      <td>4000.0</td>\n",
       "      <td>GBP</td>\n",
       "      <td>NaN</td>\n",
       "      <td>...</td>\n",
       "      <td>NaN</td>\n",
       "      <td>Cambridge</td>\n",
       "      <td>8 - 10 years</td>\n",
       "      <td>5-7 years</td>\n",
       "      <td>College degree</td>\n",
       "      <td>Non-binary</td>\n",
       "      <td>White</td>\n",
       "      <td>Technology &amp; Science</td>\n",
       "      <td>Technology &amp; Science</td>\n",
       "      <td>Technology &amp; Science</td>\n",
       "    </tr>\n",
       "    <tr>\n",
       "      <th>2</th>\n",
       "      <td>2</td>\n",
       "      <td>4/27/2021 11:02:38</td>\n",
       "      <td>25-34</td>\n",
       "      <td>Accounting, Banking &amp; Finance</td>\n",
       "      <td>Marketing Specialist</td>\n",
       "      <td>NaN</td>\n",
       "      <td>34000</td>\n",
       "      <td>NaN</td>\n",
       "      <td>USD</td>\n",
       "      <td>NaN</td>\n",
       "      <td>...</td>\n",
       "      <td>Tennessee</td>\n",
       "      <td>Chattanooga</td>\n",
       "      <td>2 - 4 years</td>\n",
       "      <td>2 - 4 years</td>\n",
       "      <td>College degree</td>\n",
       "      <td>Woman</td>\n",
       "      <td>White</td>\n",
       "      <td>Banking &amp; Insurance</td>\n",
       "      <td>Banking &amp; Insurance</td>\n",
       "      <td>Banking &amp; Insurance</td>\n",
       "    </tr>\n",
       "    <tr>\n",
       "      <th>3</th>\n",
       "      <td>3</td>\n",
       "      <td>4/27/2021 11:02:41</td>\n",
       "      <td>25-34</td>\n",
       "      <td>Nonprofits</td>\n",
       "      <td>Program Manager</td>\n",
       "      <td>NaN</td>\n",
       "      <td>62000</td>\n",
       "      <td>3000.0</td>\n",
       "      <td>USD</td>\n",
       "      <td>NaN</td>\n",
       "      <td>...</td>\n",
       "      <td>Wisconsin</td>\n",
       "      <td>Milwaukee</td>\n",
       "      <td>8 - 10 years</td>\n",
       "      <td>5-7 years</td>\n",
       "      <td>College degree</td>\n",
       "      <td>Woman</td>\n",
       "      <td>White</td>\n",
       "      <td>Non Profit Organization</td>\n",
       "      <td>Non profit Organization</td>\n",
       "      <td>Non profit Organization</td>\n",
       "    </tr>\n",
       "    <tr>\n",
       "      <th>4</th>\n",
       "      <td>4</td>\n",
       "      <td>4/27/2021 11:02:42</td>\n",
       "      <td>25-34</td>\n",
       "      <td>Accounting, Banking &amp; Finance</td>\n",
       "      <td>Accounting Manager</td>\n",
       "      <td>NaN</td>\n",
       "      <td>60000</td>\n",
       "      <td>7000.0</td>\n",
       "      <td>USD</td>\n",
       "      <td>NaN</td>\n",
       "      <td>...</td>\n",
       "      <td>South Carolina</td>\n",
       "      <td>Greenville</td>\n",
       "      <td>8 - 10 years</td>\n",
       "      <td>5-7 years</td>\n",
       "      <td>College degree</td>\n",
       "      <td>Woman</td>\n",
       "      <td>White</td>\n",
       "      <td>Banking &amp; Insurance</td>\n",
       "      <td>Banking &amp; Insurance</td>\n",
       "      <td>Banking &amp; Insurance</td>\n",
       "    </tr>\n",
       "    <tr>\n",
       "      <th>...</th>\n",
       "      <td>...</td>\n",
       "      <td>...</td>\n",
       "      <td>...</td>\n",
       "      <td>...</td>\n",
       "      <td>...</td>\n",
       "      <td>...</td>\n",
       "      <td>...</td>\n",
       "      <td>...</td>\n",
       "      <td>...</td>\n",
       "      <td>...</td>\n",
       "      <td>...</td>\n",
       "      <td>...</td>\n",
       "      <td>...</td>\n",
       "      <td>...</td>\n",
       "      <td>...</td>\n",
       "      <td>...</td>\n",
       "      <td>...</td>\n",
       "      <td>...</td>\n",
       "      <td>...</td>\n",
       "      <td>...</td>\n",
       "      <td>...</td>\n",
       "    </tr>\n",
       "    <tr>\n",
       "      <th>26227</th>\n",
       "      <td>26227</td>\n",
       "      <td>5/17/2021 17:42:33</td>\n",
       "      <td>25-34</td>\n",
       "      <td>Media &amp; Digital</td>\n",
       "      <td>Senior Reporter</td>\n",
       "      <td>Trade publication</td>\n",
       "      <td>85000</td>\n",
       "      <td>2000.0</td>\n",
       "      <td>USD</td>\n",
       "      <td>NaN</td>\n",
       "      <td>...</td>\n",
       "      <td>New York</td>\n",
       "      <td>New York City</td>\n",
       "      <td>5-7 years</td>\n",
       "      <td>5-7 years</td>\n",
       "      <td>College degree</td>\n",
       "      <td>Woman</td>\n",
       "      <td>White</td>\n",
       "      <td>Unidentified</td>\n",
       "      <td>Unidentified</td>\n",
       "      <td>Unidentified</td>\n",
       "    </tr>\n",
       "    <tr>\n",
       "      <th>26228</th>\n",
       "      <td>26228</td>\n",
       "      <td>5/17/2021 17:46:38</td>\n",
       "      <td>35-44</td>\n",
       "      <td>Nonprofits</td>\n",
       "      <td>Production and Workflow Manager</td>\n",
       "      <td>NaN</td>\n",
       "      <td>40000</td>\n",
       "      <td>NaN</td>\n",
       "      <td>USD</td>\n",
       "      <td>NaN</td>\n",
       "      <td>...</td>\n",
       "      <td>Pennsylvania</td>\n",
       "      <td>Pittsburgh</td>\n",
       "      <td>11 - 20 years</td>\n",
       "      <td>2 - 4 years</td>\n",
       "      <td>College degree</td>\n",
       "      <td>Woman</td>\n",
       "      <td>Asian</td>\n",
       "      <td>Non Profit Organization</td>\n",
       "      <td>Non profit Organization</td>\n",
       "      <td>Non profit Organization</td>\n",
       "    </tr>\n",
       "    <tr>\n",
       "      <th>26229</th>\n",
       "      <td>26229</td>\n",
       "      <td>5/17/2021 17:47:30</td>\n",
       "      <td>25-34</td>\n",
       "      <td>Computing or Tech</td>\n",
       "      <td>Chief of Staff</td>\n",
       "      <td>NaN</td>\n",
       "      <td>148000</td>\n",
       "      <td>29000.0</td>\n",
       "      <td>USD</td>\n",
       "      <td>NaN</td>\n",
       "      <td>...</td>\n",
       "      <td>California</td>\n",
       "      <td>Bay Area</td>\n",
       "      <td>11 - 20 years</td>\n",
       "      <td>11 - 20 years</td>\n",
       "      <td>Master's degree</td>\n",
       "      <td>Woman</td>\n",
       "      <td>White</td>\n",
       "      <td>Technology &amp; Science</td>\n",
       "      <td>Technology &amp; Science</td>\n",
       "      <td>Technology &amp; Science</td>\n",
       "    </tr>\n",
       "    <tr>\n",
       "      <th>26230</th>\n",
       "      <td>26230</td>\n",
       "      <td>5/17/2021 18:20:07</td>\n",
       "      <td>25-34</td>\n",
       "      <td>Marketing, Advertising &amp; PR</td>\n",
       "      <td>Digital Marketing Manager</td>\n",
       "      <td>Small agency. I manage a team of ~15 people, b...</td>\n",
       "      <td>65000</td>\n",
       "      <td>5000.0</td>\n",
       "      <td>USD</td>\n",
       "      <td>NaN</td>\n",
       "      <td>...</td>\n",
       "      <td>Washington</td>\n",
       "      <td>Seattle</td>\n",
       "      <td>2 - 4 years</td>\n",
       "      <td>2 - 4 years</td>\n",
       "      <td>College degree</td>\n",
       "      <td>Woman</td>\n",
       "      <td>White</td>\n",
       "      <td>Advertising</td>\n",
       "      <td>Advertising</td>\n",
       "      <td>Advertising</td>\n",
       "    </tr>\n",
       "    <tr>\n",
       "      <th>26231</th>\n",
       "      <td>26231</td>\n",
       "      <td>5/17/2021 19:48:52</td>\n",
       "      <td>35-44</td>\n",
       "      <td>Law</td>\n",
       "      <td>Knowledge Management Manager</td>\n",
       "      <td>NaN</td>\n",
       "      <td>146192</td>\n",
       "      <td>3850.0</td>\n",
       "      <td>USD</td>\n",
       "      <td>NaN</td>\n",
       "      <td>...</td>\n",
       "      <td>Michigan</td>\n",
       "      <td>Troy</td>\n",
       "      <td>11 - 20 years</td>\n",
       "      <td>8 - 10 years</td>\n",
       "      <td>Master's degree</td>\n",
       "      <td>Woman</td>\n",
       "      <td>White</td>\n",
       "      <td>Law</td>\n",
       "      <td>Law</td>\n",
       "      <td>Law</td>\n",
       "    </tr>\n",
       "  </tbody>\n",
       "</table>\n",
       "<p>26232 rows × 22 columns</p>\n",
       "</div>"
      ],
      "text/plain": [
       "       Unnamed: 0           timestamp how_old_are_you  \\\n",
       "0               0  4/27/2021 11:02:10           25-34   \n",
       "1               1  4/27/2021 11:02:22           25-34   \n",
       "2               2  4/27/2021 11:02:38           25-34   \n",
       "3               3  4/27/2021 11:02:41           25-34   \n",
       "4               4  4/27/2021 11:02:42           25-34   \n",
       "...           ...                 ...             ...   \n",
       "26227       26227  5/17/2021 17:42:33           25-34   \n",
       "26228       26228  5/17/2021 17:46:38           35-44   \n",
       "26229       26229  5/17/2021 17:47:30           25-34   \n",
       "26230       26230  5/17/2021 18:20:07           25-34   \n",
       "26231       26231  5/17/2021 19:48:52           35-44   \n",
       "\n",
       "                            industry  \\\n",
       "0       Education (Higher Education)   \n",
       "1                  Computing or Tech   \n",
       "2      Accounting, Banking & Finance   \n",
       "3                         Nonprofits   \n",
       "4      Accounting, Banking & Finance   \n",
       "...                              ...   \n",
       "26227                Media & Digital   \n",
       "26228                     Nonprofits   \n",
       "26229              Computing or Tech   \n",
       "26230    Marketing, Advertising & PR   \n",
       "26231                            Law   \n",
       "\n",
       "                                      job_title  \\\n",
       "0            Research and Instruction Librarian   \n",
       "1      Change & Internal Communications Manager   \n",
       "2                          Marketing Specialist   \n",
       "3                               Program Manager   \n",
       "4                            Accounting Manager   \n",
       "...                                         ...   \n",
       "26227                           Senior Reporter   \n",
       "26228           Production and Workflow Manager   \n",
       "26229                            Chief of Staff   \n",
       "26230                 Digital Marketing Manager   \n",
       "26231              Knowledge Management Manager   \n",
       "\n",
       "                         additional_context_on_job_title  annual_salary  \\\n",
       "0                                                    NaN          55000   \n",
       "1                                                    NaN          54600   \n",
       "2                                                    NaN          34000   \n",
       "3                                                    NaN          62000   \n",
       "4                                                    NaN          60000   \n",
       "...                                                  ...            ...   \n",
       "26227                                  Trade publication          85000   \n",
       "26228                                                NaN          40000   \n",
       "26229                                                NaN         148000   \n",
       "26230  Small agency. I manage a team of ~15 people, b...          65000   \n",
       "26231                                                NaN         146192   \n",
       "\n",
       "       other_monetary_comp currency currency_other  ...           state  \\\n",
       "0                      0.0      USD            NaN  ...   Massachusetts   \n",
       "1                   4000.0      GBP            NaN  ...             NaN   \n",
       "2                      NaN      USD            NaN  ...       Tennessee   \n",
       "3                   3000.0      USD            NaN  ...       Wisconsin   \n",
       "4                   7000.0      USD            NaN  ...  South Carolina   \n",
       "...                    ...      ...            ...  ...             ...   \n",
       "26227               2000.0      USD            NaN  ...        New York   \n",
       "26228                  NaN      USD            NaN  ...    Pennsylvania   \n",
       "26229              29000.0      USD            NaN  ...      California   \n",
       "26230               5000.0      USD            NaN  ...      Washington   \n",
       "26231               3850.0      USD            NaN  ...        Michigan   \n",
       "\n",
       "                city overall_years_of_professional_experience  \\\n",
       "0             Boston                                5-7 years   \n",
       "1          Cambridge                             8 - 10 years   \n",
       "2        Chattanooga                              2 - 4 years   \n",
       "3          Milwaukee                             8 - 10 years   \n",
       "4         Greenville                             8 - 10 years   \n",
       "...              ...                                      ...   \n",
       "26227  New York City                                5-7 years   \n",
       "26228     Pittsburgh                            11 - 20 years   \n",
       "26229       Bay Area                            11 - 20 years   \n",
       "26230        Seattle                              2 - 4 years   \n",
       "26231           Troy                            11 - 20 years   \n",
       "\n",
       "      years_of_experience_in_field highest_level_of_education_completed  \\\n",
       "0                        5-7 years                      Master's degree   \n",
       "1                        5-7 years                       College degree   \n",
       "2                      2 - 4 years                       College degree   \n",
       "3                        5-7 years                       College degree   \n",
       "4                        5-7 years                       College degree   \n",
       "...                            ...                                  ...   \n",
       "26227                    5-7 years                       College degree   \n",
       "26228                  2 - 4 years                       College degree   \n",
       "26229                11 - 20 years                      Master's degree   \n",
       "26230                  2 - 4 years                       College degree   \n",
       "26231                 8 - 10 years                      Master's degree   \n",
       "\n",
       "           gender   race         industry cluster  industry cluster tf_idf  \\\n",
       "0           Woman  White                Education                Education   \n",
       "1      Non-binary  White     Technology & Science     Technology & Science   \n",
       "2           Woman  White      Banking & Insurance      Banking & Insurance   \n",
       "3           Woman  White  Non Profit Organization  Non profit Organization   \n",
       "4           Woman  White      Banking & Insurance      Banking & Insurance   \n",
       "...           ...    ...                      ...                      ...   \n",
       "26227       Woman  White             Unidentified             Unidentified   \n",
       "26228       Woman  Asian  Non Profit Organization  Non profit Organization   \n",
       "26229       Woman  White     Technology & Science     Technology & Science   \n",
       "26230       Woman  White              Advertising              Advertising   \n",
       "26231       Woman  White                      Law                      Law   \n",
       "\n",
       "      industry cluster tf_idf_bigrams  \n",
       "0                           Education  \n",
       "1                Technology & Science  \n",
       "2                 Banking & Insurance  \n",
       "3             Non profit Organization  \n",
       "4                 Banking & Insurance  \n",
       "...                               ...  \n",
       "26227                    Unidentified  \n",
       "26228         Non profit Organization  \n",
       "26229            Technology & Science  \n",
       "26230                     Advertising  \n",
       "26231                             Law  \n",
       "\n",
       "[26232 rows x 22 columns]"
      ]
     },
     "execution_count": 5,
     "metadata": {},
     "output_type": "execute_result"
    }
   ],
   "source": [
    "df"
   ]
  },
  {
   "cell_type": "code",
   "execution_count": 6,
   "metadata": {
    "ExecuteTime": {
     "end_time": "2022-05-04T19:51:40.311758Z",
     "start_time": "2022-05-04T19:51:40.227192Z"
    }
   },
   "outputs": [
    {
     "name": "stdout",
     "output_type": "stream",
     "text": [
      "<class 'pandas.core.frame.DataFrame'>\n",
      "RangeIndex: 26232 entries, 0 to 26231\n",
      "Data columns (total 22 columns):\n",
      " #   Column                                    Non-Null Count  Dtype  \n",
      "---  ------                                    --------------  -----  \n",
      " 0   Unnamed: 0                                26232 non-null  int64  \n",
      " 1   timestamp                                 26232 non-null  object \n",
      " 2   how_old_are_you                           26232 non-null  object \n",
      " 3   industry                                  26232 non-null  object \n",
      " 4   job_title                                 26232 non-null  object \n",
      " 5   additional_context_on_job_title           6763 non-null   object \n",
      " 6   annual_salary                             26232 non-null  int64  \n",
      " 7   other_monetary_comp                       19447 non-null  float64\n",
      " 8   currency                                  26232 non-null  object \n",
      " 9   currency_other                            166 non-null    object \n",
      " 10  additional_context_on_income              2872 non-null   object \n",
      " 11  country                                   26232 non-null  object \n",
      " 12  state                                     21545 non-null  object \n",
      " 13  city                                      26154 non-null  object \n",
      " 14  overall_years_of_professional_experience  26232 non-null  object \n",
      " 15  years_of_experience_in_field              26232 non-null  object \n",
      " 16  highest_level_of_education_completed      26036 non-null  object \n",
      " 17  gender                                    26232 non-null  object \n",
      " 18  race                                      26232 non-null  object \n",
      " 19  industry cluster                          26232 non-null  object \n",
      " 20  industry cluster tf_idf                   26232 non-null  object \n",
      " 21  industry cluster tf_idf_bigrams           26232 non-null  object \n",
      "dtypes: float64(1), int64(2), object(19)\n",
      "memory usage: 4.4+ MB\n"
     ]
    }
   ],
   "source": [
    "df.info()"
   ]
  },
  {
   "cell_type": "raw",
   "metadata": {},
   "source": [
    "Create a new variable : \"adjusted_annual_salary\" = (annual_salary + other_monetary_comp) - avg_annual_wage"
   ]
  },
  {
   "cell_type": "code",
   "execution_count": 9,
   "metadata": {},
   "outputs": [],
   "source": [
    "empty = np.zeros(df.shape[0])"
   ]
  },
  {
   "cell_type": "code",
   "execution_count": 10,
   "metadata": {},
   "outputs": [],
   "source": [
    "df.insert(5, \"adjusted_annual_salary\",empty)"
   ]
  },
  {
   "cell_type": "code",
   "execution_count": 11,
   "metadata": {},
   "outputs": [],
   "source": [
    "def adjust_wage (df, wage_data):\n",
    "    for i in range(wage_data.shape[0]) :\n",
    "        for j in range (df.shape[0]) :\n",
    "            if (wage_data['Country'].iloc[i] == df['country'].iloc[j]):\n",
    "                df['adjusted_annual_salary'].iloc[j] = df['annual_salary'].iloc[j] + df['other_monetary_comp'].iloc[j] - wage_data['Avg_annual_wage'].iloc[i]\n",
    "    return df\n",
    "\n",
    "# Utiliser un dictionnaire pour réduire la compléxité"
   ]
  },
  {
   "cell_type": "code",
   "execution_count": 11,
   "metadata": {},
   "outputs": [
    {
     "name": "stderr",
     "output_type": "stream",
     "text": [
      "C:\\Users\\assil\\anaconda3\\lib\\site-packages\\pandas\\core\\indexing.py:670: SettingWithCopyWarning: \n",
      "A value is trying to be set on a copy of a slice from a DataFrame\n",
      "\n",
      "See the caveats in the documentation: https://pandas.pydata.org/pandas-docs/stable/user_guide/indexing.html#returning-a-view-versus-a-copy\n",
      "  self._setitem_with_indexer(indexer, value)\n"
     ]
    },
    {
     "data": {
      "text/html": [
       "<div>\n",
       "<style scoped>\n",
       "    .dataframe tbody tr th:only-of-type {\n",
       "        vertical-align: middle;\n",
       "    }\n",
       "\n",
       "    .dataframe tbody tr th {\n",
       "        vertical-align: top;\n",
       "    }\n",
       "\n",
       "    .dataframe thead th {\n",
       "        text-align: right;\n",
       "    }\n",
       "</style>\n",
       "<table border=\"1\" class=\"dataframe\">\n",
       "  <thead>\n",
       "    <tr style=\"text-align: right;\">\n",
       "      <th></th>\n",
       "      <th>timestamp</th>\n",
       "      <th>how_old_are_you</th>\n",
       "      <th>industry</th>\n",
       "      <th>job_title</th>\n",
       "      <th>additional_context_on_job_title</th>\n",
       "      <th>adjusted_annual_salary</th>\n",
       "      <th>annual_salary</th>\n",
       "      <th>other_monetary_comp</th>\n",
       "      <th>currency</th>\n",
       "      <th>currency_other</th>\n",
       "      <th>additional_context_on_income</th>\n",
       "      <th>country</th>\n",
       "      <th>state</th>\n",
       "      <th>city</th>\n",
       "      <th>overall_years_of_professional_experience</th>\n",
       "      <th>years_of_experience_in_field</th>\n",
       "      <th>highest_level_of_education_completed</th>\n",
       "      <th>gender</th>\n",
       "      <th>race</th>\n",
       "    </tr>\n",
       "  </thead>\n",
       "  <tbody>\n",
       "    <tr>\n",
       "      <th>0</th>\n",
       "      <td>4/27/2021 11:02:10</td>\n",
       "      <td>25-34</td>\n",
       "      <td>Education (Higher Education)</td>\n",
       "      <td>Research and Instruction Librarian</td>\n",
       "      <td>NaN</td>\n",
       "      <td>0.0</td>\n",
       "      <td>55000</td>\n",
       "      <td>0.0</td>\n",
       "      <td>USD</td>\n",
       "      <td>NaN</td>\n",
       "      <td>NaN</td>\n",
       "      <td>United States</td>\n",
       "      <td>Massachusetts</td>\n",
       "      <td>Boston</td>\n",
       "      <td>5-7 years</td>\n",
       "      <td>5-7 years</td>\n",
       "      <td>Master's degree</td>\n",
       "      <td>Woman</td>\n",
       "      <td>White</td>\n",
       "    </tr>\n",
       "    <tr>\n",
       "      <th>1</th>\n",
       "      <td>4/27/2021 11:02:22</td>\n",
       "      <td>25-34</td>\n",
       "      <td>Computing or Tech</td>\n",
       "      <td>Change &amp; Internal Communications Manager</td>\n",
       "      <td>NaN</td>\n",
       "      <td>16240.8</td>\n",
       "      <td>54600</td>\n",
       "      <td>4000.0</td>\n",
       "      <td>GBP</td>\n",
       "      <td>NaN</td>\n",
       "      <td>NaN</td>\n",
       "      <td>United Kingdom</td>\n",
       "      <td>NaN</td>\n",
       "      <td>Cambridge</td>\n",
       "      <td>8 - 10 years</td>\n",
       "      <td>5-7 years</td>\n",
       "      <td>College degree</td>\n",
       "      <td>Non-binary</td>\n",
       "      <td>White</td>\n",
       "    </tr>\n",
       "    <tr>\n",
       "      <th>2</th>\n",
       "      <td>4/27/2021 11:02:38</td>\n",
       "      <td>25-34</td>\n",
       "      <td>Accounting, Banking &amp; Finance</td>\n",
       "      <td>Marketing Specialist</td>\n",
       "      <td>NaN</td>\n",
       "      <td>0.0</td>\n",
       "      <td>34000</td>\n",
       "      <td>NaN</td>\n",
       "      <td>USD</td>\n",
       "      <td>NaN</td>\n",
       "      <td>NaN</td>\n",
       "      <td>US</td>\n",
       "      <td>Tennessee</td>\n",
       "      <td>Chattanooga</td>\n",
       "      <td>2 - 4 years</td>\n",
       "      <td>2 - 4 years</td>\n",
       "      <td>College degree</td>\n",
       "      <td>Woman</td>\n",
       "      <td>White</td>\n",
       "    </tr>\n",
       "    <tr>\n",
       "      <th>3</th>\n",
       "      <td>4/27/2021 11:02:41</td>\n",
       "      <td>25-34</td>\n",
       "      <td>Nonprofits</td>\n",
       "      <td>Program Manager</td>\n",
       "      <td>NaN</td>\n",
       "      <td>-145.6</td>\n",
       "      <td>62000</td>\n",
       "      <td>3000.0</td>\n",
       "      <td>USD</td>\n",
       "      <td>NaN</td>\n",
       "      <td>NaN</td>\n",
       "      <td>USA</td>\n",
       "      <td>Wisconsin</td>\n",
       "      <td>Milwaukee</td>\n",
       "      <td>8 - 10 years</td>\n",
       "      <td>5-7 years</td>\n",
       "      <td>College degree</td>\n",
       "      <td>Woman</td>\n",
       "      <td>White</td>\n",
       "    </tr>\n",
       "    <tr>\n",
       "      <th>4</th>\n",
       "      <td>4/27/2021 11:02:42</td>\n",
       "      <td>25-34</td>\n",
       "      <td>Accounting, Banking &amp; Finance</td>\n",
       "      <td>Accounting Manager</td>\n",
       "      <td>NaN</td>\n",
       "      <td>0.0</td>\n",
       "      <td>60000</td>\n",
       "      <td>7000.0</td>\n",
       "      <td>USD</td>\n",
       "      <td>NaN</td>\n",
       "      <td>NaN</td>\n",
       "      <td>US</td>\n",
       "      <td>South Carolina</td>\n",
       "      <td>Greenville</td>\n",
       "      <td>8 - 10 years</td>\n",
       "      <td>5-7 years</td>\n",
       "      <td>College degree</td>\n",
       "      <td>Woman</td>\n",
       "      <td>White</td>\n",
       "    </tr>\n",
       "    <tr>\n",
       "      <th>...</th>\n",
       "      <td>...</td>\n",
       "      <td>...</td>\n",
       "      <td>...</td>\n",
       "      <td>...</td>\n",
       "      <td>...</td>\n",
       "      <td>...</td>\n",
       "      <td>...</td>\n",
       "      <td>...</td>\n",
       "      <td>...</td>\n",
       "      <td>...</td>\n",
       "      <td>...</td>\n",
       "      <td>...</td>\n",
       "      <td>...</td>\n",
       "      <td>...</td>\n",
       "      <td>...</td>\n",
       "      <td>...</td>\n",
       "      <td>...</td>\n",
       "      <td>...</td>\n",
       "      <td>...</td>\n",
       "    </tr>\n",
       "    <tr>\n",
       "      <th>26227</th>\n",
       "      <td>5/17/2021 17:42:33</td>\n",
       "      <td>25-34</td>\n",
       "      <td>Media &amp; Digital</td>\n",
       "      <td>Senior Reporter</td>\n",
       "      <td>Trade publication</td>\n",
       "      <td>22854.4</td>\n",
       "      <td>85000</td>\n",
       "      <td>2000.0</td>\n",
       "      <td>USD</td>\n",
       "      <td>NaN</td>\n",
       "      <td>NaN</td>\n",
       "      <td>USA</td>\n",
       "      <td>New York</td>\n",
       "      <td>New York City</td>\n",
       "      <td>5-7 years</td>\n",
       "      <td>5-7 years</td>\n",
       "      <td>College degree</td>\n",
       "      <td>Woman</td>\n",
       "      <td>White</td>\n",
       "    </tr>\n",
       "    <tr>\n",
       "      <th>26228</th>\n",
       "      <td>5/17/2021 17:46:38</td>\n",
       "      <td>35-44</td>\n",
       "      <td>Nonprofits</td>\n",
       "      <td>Production and Workflow Manager</td>\n",
       "      <td>NaN</td>\n",
       "      <td>-22145.6</td>\n",
       "      <td>40000</td>\n",
       "      <td>NaN</td>\n",
       "      <td>USD</td>\n",
       "      <td>NaN</td>\n",
       "      <td>NaN</td>\n",
       "      <td>USA</td>\n",
       "      <td>Pennsylvania</td>\n",
       "      <td>Pittsburgh</td>\n",
       "      <td>11 - 20 years</td>\n",
       "      <td>2 - 4 years</td>\n",
       "      <td>College degree</td>\n",
       "      <td>Woman</td>\n",
       "      <td>Asian or Asian American</td>\n",
       "    </tr>\n",
       "    <tr>\n",
       "      <th>26229</th>\n",
       "      <td>5/17/2021 17:47:30</td>\n",
       "      <td>25-34</td>\n",
       "      <td>Computing or Tech</td>\n",
       "      <td>Chief of Staff</td>\n",
       "      <td>NaN</td>\n",
       "      <td>85854.4</td>\n",
       "      <td>148000</td>\n",
       "      <td>29000.0</td>\n",
       "      <td>USD</td>\n",
       "      <td>NaN</td>\n",
       "      <td>NaN</td>\n",
       "      <td>USA</td>\n",
       "      <td>California</td>\n",
       "      <td>Bay Area</td>\n",
       "      <td>11 - 20 years</td>\n",
       "      <td>11 - 20 years</td>\n",
       "      <td>Master's degree</td>\n",
       "      <td>Woman</td>\n",
       "      <td>White</td>\n",
       "    </tr>\n",
       "    <tr>\n",
       "      <th>26230</th>\n",
       "      <td>5/17/2021 18:20:07</td>\n",
       "      <td>25-34</td>\n",
       "      <td>Marketing, Advertising &amp; PR</td>\n",
       "      <td>Digital Marketing Manager</td>\n",
       "      <td>Small agency. I manage a team of ~15 people, b...</td>\n",
       "      <td>0.0</td>\n",
       "      <td>65000</td>\n",
       "      <td>5000.0</td>\n",
       "      <td>USD</td>\n",
       "      <td>NaN</td>\n",
       "      <td>NaN</td>\n",
       "      <td>United States</td>\n",
       "      <td>Washington</td>\n",
       "      <td>Seattle</td>\n",
       "      <td>2 - 4 years</td>\n",
       "      <td>2 - 4 years</td>\n",
       "      <td>College degree</td>\n",
       "      <td>Woman</td>\n",
       "      <td>White</td>\n",
       "    </tr>\n",
       "    <tr>\n",
       "      <th>26231</th>\n",
       "      <td>5/17/2021 19:48:52</td>\n",
       "      <td>35-44</td>\n",
       "      <td>Law</td>\n",
       "      <td>Knowledge Management Manager</td>\n",
       "      <td>NaN</td>\n",
       "      <td>0.0</td>\n",
       "      <td>146192</td>\n",
       "      <td>3850.0</td>\n",
       "      <td>USD</td>\n",
       "      <td>NaN</td>\n",
       "      <td>NaN</td>\n",
       "      <td>United States</td>\n",
       "      <td>Michigan</td>\n",
       "      <td>Troy</td>\n",
       "      <td>11 - 20 years</td>\n",
       "      <td>8 - 10 years</td>\n",
       "      <td>Master's degree</td>\n",
       "      <td>Woman</td>\n",
       "      <td>White</td>\n",
       "    </tr>\n",
       "  </tbody>\n",
       "</table>\n",
       "<p>26232 rows × 19 columns</p>\n",
       "</div>"
      ],
      "text/plain": [
       "                timestamp how_old_are_you                       industry  \\\n",
       "0      4/27/2021 11:02:10           25-34   Education (Higher Education)   \n",
       "1      4/27/2021 11:02:22           25-34              Computing or Tech   \n",
       "2      4/27/2021 11:02:38           25-34  Accounting, Banking & Finance   \n",
       "3      4/27/2021 11:02:41           25-34                     Nonprofits   \n",
       "4      4/27/2021 11:02:42           25-34  Accounting, Banking & Finance   \n",
       "...                   ...             ...                            ...   \n",
       "26227  5/17/2021 17:42:33           25-34                Media & Digital   \n",
       "26228  5/17/2021 17:46:38           35-44                     Nonprofits   \n",
       "26229  5/17/2021 17:47:30           25-34              Computing or Tech   \n",
       "26230  5/17/2021 18:20:07           25-34    Marketing, Advertising & PR   \n",
       "26231  5/17/2021 19:48:52           35-44                            Law   \n",
       "\n",
       "                                      job_title  \\\n",
       "0            Research and Instruction Librarian   \n",
       "1      Change & Internal Communications Manager   \n",
       "2                          Marketing Specialist   \n",
       "3                               Program Manager   \n",
       "4                            Accounting Manager   \n",
       "...                                         ...   \n",
       "26227                           Senior Reporter   \n",
       "26228           Production and Workflow Manager   \n",
       "26229                            Chief of Staff   \n",
       "26230                 Digital Marketing Manager   \n",
       "26231              Knowledge Management Manager   \n",
       "\n",
       "                         additional_context_on_job_title  \\\n",
       "0                                                    NaN   \n",
       "1                                                    NaN   \n",
       "2                                                    NaN   \n",
       "3                                                    NaN   \n",
       "4                                                    NaN   \n",
       "...                                                  ...   \n",
       "26227                                  Trade publication   \n",
       "26228                                                NaN   \n",
       "26229                                                NaN   \n",
       "26230  Small agency. I manage a team of ~15 people, b...   \n",
       "26231                                                NaN   \n",
       "\n",
       "       adjusted_annual_salary  annual_salary  other_monetary_comp currency  \\\n",
       "0                         0.0          55000                  0.0      USD   \n",
       "1                     16240.8          54600               4000.0      GBP   \n",
       "2                         0.0          34000                  NaN      USD   \n",
       "3                      -145.6          62000               3000.0      USD   \n",
       "4                         0.0          60000               7000.0      USD   \n",
       "...                       ...            ...                  ...      ...   \n",
       "26227                 22854.4          85000               2000.0      USD   \n",
       "26228                -22145.6          40000                  NaN      USD   \n",
       "26229                 85854.4         148000              29000.0      USD   \n",
       "26230                     0.0          65000               5000.0      USD   \n",
       "26231                     0.0         146192               3850.0      USD   \n",
       "\n",
       "      currency_other additional_context_on_income         country  \\\n",
       "0                NaN                          NaN   United States   \n",
       "1                NaN                          NaN  United Kingdom   \n",
       "2                NaN                          NaN              US   \n",
       "3                NaN                          NaN             USA   \n",
       "4                NaN                          NaN              US   \n",
       "...              ...                          ...             ...   \n",
       "26227            NaN                          NaN             USA   \n",
       "26228            NaN                          NaN             USA   \n",
       "26229            NaN                          NaN             USA   \n",
       "26230            NaN                          NaN   United States   \n",
       "26231            NaN                          NaN   United States   \n",
       "\n",
       "                state           city overall_years_of_professional_experience  \\\n",
       "0       Massachusetts         Boston                                5-7 years   \n",
       "1                 NaN      Cambridge                             8 - 10 years   \n",
       "2           Tennessee    Chattanooga                              2 - 4 years   \n",
       "3           Wisconsin      Milwaukee                             8 - 10 years   \n",
       "4      South Carolina     Greenville                             8 - 10 years   \n",
       "...               ...            ...                                      ...   \n",
       "26227        New York  New York City                                5-7 years   \n",
       "26228    Pennsylvania     Pittsburgh                            11 - 20 years   \n",
       "26229      California       Bay Area                            11 - 20 years   \n",
       "26230      Washington        Seattle                              2 - 4 years   \n",
       "26231        Michigan           Troy                            11 - 20 years   \n",
       "\n",
       "      years_of_experience_in_field highest_level_of_education_completed  \\\n",
       "0                        5-7 years                      Master's degree   \n",
       "1                        5-7 years                       College degree   \n",
       "2                      2 - 4 years                       College degree   \n",
       "3                        5-7 years                       College degree   \n",
       "4                        5-7 years                       College degree   \n",
       "...                            ...                                  ...   \n",
       "26227                    5-7 years                       College degree   \n",
       "26228                  2 - 4 years                       College degree   \n",
       "26229                11 - 20 years                      Master's degree   \n",
       "26230                  2 - 4 years                       College degree   \n",
       "26231                 8 - 10 years                      Master's degree   \n",
       "\n",
       "           gender                     race  \n",
       "0           Woman                    White  \n",
       "1      Non-binary                    White  \n",
       "2           Woman                    White  \n",
       "3           Woman                    White  \n",
       "4           Woman                    White  \n",
       "...           ...                      ...  \n",
       "26227       Woman                    White  \n",
       "26228       Woman  Asian or Asian American  \n",
       "26229       Woman                    White  \n",
       "26230       Woman                    White  \n",
       "26231       Woman                    White  \n",
       "\n",
       "[26232 rows x 19 columns]"
      ]
     },
     "execution_count": 11,
     "metadata": {},
     "output_type": "execute_result"
    }
   ],
   "source": [
    "adjust_wage (df, wage_data)"
   ]
  },
  {
   "cell_type": "raw",
   "metadata": {},
   "source": [
    "Drop outliers"
   ]
  },
  {
   "cell_type": "code",
   "execution_count": 12,
   "metadata": {},
   "outputs": [],
   "source": [
    "for x in ['annual_salary']:\n",
    "    q75,q25 = np.percentile(df.loc[:,x],[75,25])\n",
    "    intr_qr = q75-q25\n",
    " \n",
    "    max = q75+(1.5*intr_qr)\n",
    "    min = q25-(1.5*intr_qr)\n",
    " \n",
    "    df.loc[df[x] < min,x] = np.nan\n",
    "    df.loc[df[x] > max,x] = np.nan"
   ]
  },
  {
   "cell_type": "code",
   "execution_count": 13,
   "metadata": {},
   "outputs": [
    {
     "data": {
      "text/plain": [
       "timestamp                                       0\n",
       "how_old_are_you                                 0\n",
       "industry                                       59\n",
       "job_title                                       0\n",
       "additional_context_on_job_title             19469\n",
       "adjusted_annual_salary                          0\n",
       "annual_salary                                1112\n",
       "other_monetary_comp                          6785\n",
       "currency                                        0\n",
       "currency_other                              26066\n",
       "additional_context_on_income                23360\n",
       "country                                         0\n",
       "state                                        4687\n",
       "city                                           78\n",
       "overall_years_of_professional_experience        0\n",
       "years_of_experience_in_field                    0\n",
       "highest_level_of_education_completed          196\n",
       "gender                                        148\n",
       "race                                          146\n",
       "dtype: int64"
      ]
     },
     "execution_count": 13,
     "metadata": {},
     "output_type": "execute_result"
    }
   ],
   "source": [
    "df.isnull().sum()"
   ]
  },
  {
   "cell_type": "code",
   "execution_count": 14,
   "metadata": {},
   "outputs": [],
   "source": [
    "df = df.dropna(axis = 0, subset=['annual_salary'])"
   ]
  },
  {
   "cell_type": "code",
   "execution_count": 15,
   "metadata": {},
   "outputs": [
    {
     "data": {
      "text/plain": [
       "timestamp                                       0\n",
       "how_old_are_you                                 0\n",
       "industry                                       58\n",
       "job_title                                       0\n",
       "additional_context_on_job_title             18600\n",
       "adjusted_annual_salary                          0\n",
       "annual_salary                                   0\n",
       "other_monetary_comp                          6561\n",
       "currency                                        0\n",
       "currency_other                              25034\n",
       "additional_context_on_income                22485\n",
       "country                                         0\n",
       "state                                        4457\n",
       "city                                           74\n",
       "overall_years_of_professional_experience        0\n",
       "years_of_experience_in_field                    0\n",
       "highest_level_of_education_completed          182\n",
       "gender                                        140\n",
       "race                                          138\n",
       "dtype: int64"
      ]
     },
     "execution_count": 15,
     "metadata": {},
     "output_type": "execute_result"
    }
   ],
   "source": [
    "df.isnull().sum()"
   ]
  },
  {
   "cell_type": "raw",
   "metadata": {},
   "source": [
    "Exploration"
   ]
  },
  {
   "cell_type": "code",
   "execution_count": 16,
   "metadata": {},
   "outputs": [
    {
     "data": {
      "text/plain": [
       "<matplotlib.axes._subplots.AxesSubplot at 0x20cb930c508>"
      ]
     },
     "execution_count": 16,
     "metadata": {},
     "output_type": "execute_result"
    },
    {
     "data": {
      "image/png": "[encoded data removed]",
      "text/plain": [
       "<Figure size 432x288 with 2 Axes>"
      ]
     },
     "metadata": {
      "needs_background": "light"
     },
     "output_type": "display_data"
    }
   ],
   "source": [
    "corr = df.corr()\n",
    "sns.heatmap(corr, annot=True)"
   ]
  },
  {
   "cell_type": "code",
   "execution_count": 17,
   "metadata": {},
   "outputs": [
    {
     "data": {
      "text/plain": [
       "<matplotlib.axes._subplots.AxesSubplot at 0x20cb96e8588>"
      ]
     },
     "execution_count": 17,
     "metadata": {},
     "output_type": "execute_result"
    },
    {
     "data": {
      "image/png": "[encoded data removed]",
      "text/plain": [
       "<Figure size 432x288 with 1 Axes>"
      ]
     },
     "metadata": {
      "needs_background": "light"
     },
     "output_type": "display_data"
    }
   ],
   "source": [
    "sns.histplot(data=df, x=df.how_old_are_you)"
   ]
  },
  {
   "cell_type": "code",
   "execution_count": 18,
   "metadata": {},
   "outputs": [],
   "source": [
    " # TODO ordonner les categories"
   ]
  },
  {
   "cell_type": "code",
   "execution_count": 19,
   "metadata": {},
   "outputs": [
    {
     "data": {
      "text/plain": [
       "25-34         11401\n",
       "35-44          8896\n",
       "45-54          2852\n",
       "18-24          1006\n",
       "55-64           873\n",
       "65 or over       83\n",
       "under 18          9\n",
       "Name: how_old_are_you, dtype: int64"
      ]
     },
     "execution_count": 19,
     "metadata": {},
     "output_type": "execute_result"
    }
   ],
   "source": [
    "df['how_old_are_you'].value_counts()"
   ]
  },
  {
   "cell_type": "code",
   "execution_count": 20,
   "metadata": {},
   "outputs": [],
   "source": [
    "#df.how_old_are_you = pd.Categorical(df.how_old_are_you,\n",
    "#                                    categories=\n",
    "#                                    ['under 18',\n",
    "#                                     '18-24',\n",
    "#                                     '25-34',\n",
    "#                                     '35-44',\n",
    "#                                     '45-54',\n",
    "#                                     '55-64',\n",
    "#                                     '65 or over'], ordered=True)"
   ]
  },
  {
   "cell_type": "code",
   "execution_count": 21,
   "metadata": {},
   "outputs": [
    {
     "name": "stderr",
     "output_type": "stream",
     "text": [
      "C:\\Users\\assil\\anaconda3\\lib\\site-packages\\pandas\\core\\frame.py:4133: SettingWithCopyWarning: \n",
      "A value is trying to be set on a copy of a slice from a DataFrame\n",
      "\n",
      "See the caveats in the documentation: https://pandas.pydata.org/pandas-docs/stable/user_guide/indexing.html#returning-a-view-versus-a-copy\n",
      "  errors=errors,\n"
     ]
    }
   ],
   "source": [
    "df.rename(columns={'how_old_are_you': 'age'}, inplace=True)"
   ]
  },
  {
   "cell_type": "code",
   "execution_count": 22,
   "metadata": {},
   "outputs": [
    {
     "data": {
      "text/plain": [
       "<matplotlib.axes._subplots.AxesSubplot at 0x20cb97dad08>"
      ]
     },
     "execution_count": 22,
     "metadata": {},
     "output_type": "execute_result"
    },
    {
     "data": {
      "image/png": "[encoded data removed]",
      "text/plain": [
       "<Figure size 432x288 with 1 Axes>"
      ]
     },
     "metadata": {
      "needs_background": "light"
     },
     "output_type": "display_data"
    }
   ],
   "source": [
    "sns.histplot(data=df, x=df.age.astype('object'))"
   ]
  },
  {
   "cell_type": "code",
   "execution_count": 23,
   "metadata": {},
   "outputs": [
    {
     "data": {
      "text/plain": [
       "White                                                                                                                            21052\n",
       "Asian or Asian American                                                                                                           1123\n",
       "Black or African American                                                                                                          594\n",
       "Another option not listed here or prefer not to answer                                                                             520\n",
       "Hispanic, Latino, or Spanish origin                                                                                                492\n",
       "Hispanic, Latino, or Spanish origin, White                                                                                         342\n",
       "Asian or Asian American, White                                                                                                     311\n",
       "Black or African American, White                                                                                                   117\n",
       "Middle Eastern or Northern African, White                                                                                           66\n",
       "Native American or Alaska Native, White                                                                                             65\n",
       "White, Another option not listed here or prefer not to answer                                                                       60\n",
       "Middle Eastern or Northern African                                                                                                  56\n",
       "Native American or Alaska Native                                                                                                    38\n",
       "Black or African American, Hispanic, Latino, or Spanish origin                                                                      26\n",
       "Asian or Asian American, Hispanic, Latino, or Spanish origin, White                                                                 11\n",
       "Asian or Asian American, Hispanic, Latino, or Spanish origin                                                                        10\n",
       "Hispanic, Latino, or Spanish origin, Native American or Alaska Native                                                                9\n",
       "Hispanic, Latino, or Spanish origin, Native American or Alaska Native, White                                                         8\n",
       "Black or African American, Hispanic, Latino, or Spanish origin, White                                                                8\n",
       "Asian or Asian American, Another option not listed here or prefer not to answer                                                      8\n",
       "Asian or Asian American, Black or African American                                                                                   7\n",
       "Asian or Asian American, White, Another option not listed here or prefer not to answer                                               6\n",
       "Hispanic, Latino, or Spanish origin, Another option not listed here or prefer not to answer                                          6\n",
       "Asian or Asian American, Middle Eastern or Northern African                                                                          5\n",
       "Asian or Asian American, Black or African American, White                                                                            5\n",
       "Black or African American, Native American or Alaska Native, White                                                                   5\n",
       "Black or African American, Middle Eastern or Northern African, White                                                                 4\n",
       "Hispanic, Latino, or Spanish origin, Middle Eastern or Northern African, White                                                       4\n",
       "Black or African American, Hispanic, Latino, or Spanish origin, Native American or Alaska Native, White                              3\n",
       "Black or African American, Middle Eastern or Northern African                                                                        2\n",
       "Asian or Asian American, Native American or Alaska Native, White                                                                     2\n",
       "Black or African American, Another option not listed here or prefer not to answer                                                    2\n",
       "Middle Eastern or Northern African, White, Another option not listed here or prefer not to answer                                    2\n",
       "Hispanic, Latino, or Spanish origin, Native American or Alaska Native, Another option not listed here or prefer not to answer        1\n",
       "Asian or Asian American, Middle Eastern or Northern African, White                                                                   1\n",
       "Asian or Asian American, Hispanic, Latino, or Spanish origin, Native American or Alaska Native, White                                1\n",
       "Asian or Asian American, Hispanic, Latino, or Spanish origin, Another option not listed here or prefer not to answer                 1\n",
       "Native American or Alaska Native, White, Another option not listed here or prefer not to answer                                      1\n",
       "Hispanic, Latino, or Spanish origin, White, Another option not listed here or prefer not to answer                                   1\n",
       "Asian or Asian American, Black or African American, Hispanic, Latino, or Spanish origin                                              1\n",
       "Middle Eastern or Northern African, Native American or Alaska Native, White                                                          1\n",
       "Middle Eastern or Northern African, Native American or Alaska Native                                                                 1\n",
       "Black or African American, Middle Eastern or Northern African, Native American or Alaska Native, White                               1\n",
       "Hispanic, Latino, or Spanish origin, Middle Eastern or Northern African                                                              1\n",
       "Asian or Asian American, Black or African American, Native American or Alaska Native, White                                          1\n",
       "Native American or Alaska Native, Another option not listed here or prefer not to answer                                             1\n",
       "Name: race, dtype: int64"
      ]
     },
     "execution_count": 23,
     "metadata": {},
     "output_type": "execute_result"
    }
   ],
   "source": [
    "df['race'].value_counts()"
   ]
  },
  {
   "cell_type": "code",
   "execution_count": 24,
   "metadata": {},
   "outputs": [
    {
     "name": "stderr",
     "output_type": "stream",
     "text": [
      "C:\\Users\\assil\\anaconda3\\lib\\site-packages\\pandas\\core\\indexing.py:965: SettingWithCopyWarning: \n",
      "A value is trying to be set on a copy of a slice from a DataFrame.\n",
      "Try using .loc[row_indexer,col_indexer] = value instead\n",
      "\n",
      "See the caveats in the documentation: https://pandas.pydata.org/pandas-docs/stable/user_guide/indexing.html#returning-a-view-versus-a-copy\n",
      "  self.obj[item] = s\n"
     ]
    }
   ],
   "source": [
    "mask = df.race == 'White'\n",
    "df.loc[mask, 'race'] = \"White\"\n",
    "df.loc[~mask, 'race'] = \"Non White\""
   ]
  },
  {
   "cell_type": "code",
   "execution_count": 25,
   "metadata": {},
   "outputs": [
    {
     "data": {
      "text/plain": [
       "White        21052\n",
       "Non White     4068\n",
       "Name: race, dtype: int64"
      ]
     },
     "execution_count": 25,
     "metadata": {},
     "output_type": "execute_result"
    }
   ],
   "source": [
    "df['race'].value_counts()"
   ]
  },
  {
   "cell_type": "code",
   "execution_count": 26,
   "metadata": {},
   "outputs": [
    {
     "data": {
      "text/plain": [
       "<matplotlib.axes._subplots.AxesSubplot at 0x20cb941e048>"
      ]
     },
     "execution_count": 26,
     "metadata": {},
     "output_type": "execute_result"
    },
    {
     "data": {
      "image/png": "[encoded data removed]",
      "text/plain": [
       "<Figure size 432x288 with 1 Axes>"
      ]
     },
     "metadata": {
      "needs_background": "light"
     },
     "output_type": "display_data"
    }
   ],
   "source": [
    "sns.histplot(data=df, x=df.race)"
   ]
  },
  {
   "cell_type": "code",
   "execution_count": 27,
   "metadata": {},
   "outputs": [
    {
     "data": {
      "image/png": "[encoded data removed]",
      "text/plain": [
       "<Figure size 432x288 with 1 Axes>"
      ]
     },
     "metadata": {
      "needs_background": "light"
     },
     "output_type": "display_data"
    }
   ],
   "source": [
    "plt = sns.boxplot(\n",
    "    x='race',\n",
    "    y='annual_salary',\n",
    "    data=df\n",
    ")\n",
    "#plt.set(ylim=(100, 500000))"
   ]
  },
  {
   "cell_type": "code",
   "execution_count": 29,
   "metadata": {},
   "outputs": [
    {
     "data": {
      "text/plain": [
       "Computing or Tech                       3912\n",
       "Education (Higher Education)            2327\n",
       "Nonprofits                              2309\n",
       "Government and Public Administration    1808\n",
       "Health care                             1658\n",
       "                                        ... \n",
       "Music                                      1\n",
       "Sign Language Interpreter, Community       1\n",
       "labour/professional organization           1\n",
       "political campaign                         1\n",
       "Fundraising for a university               1\n",
       "Name: industry, Length: 1043, dtype: int64"
      ]
     },
     "execution_count": 29,
     "metadata": {},
     "output_type": "execute_result"
    }
   ],
   "source": [
    "df['industry'].value_counts()"
   ]
  },
  {
   "cell_type": "code",
   "execution_count": 32,
   "metadata": {},
   "outputs": [
    {
     "data": {
      "text/plain": [
       "White        21052\n",
       "Non White     4068\n",
       "Name: race, dtype: int64"
      ]
     },
     "execution_count": 32,
     "metadata": {},
     "output_type": "execute_result"
    }
   ],
   "source": [
    "df['race'].value_counts()"
   ]
  },
  {
   "cell_type": "code",
   "execution_count": 33,
   "metadata": {},
   "outputs": [
    {
     "data": {
      "text/plain": [
       "Software Engineer                260\n",
       "Project Manager                  237\n",
       "Director                         187\n",
       "Senior Software Engineer         176\n",
       "Executive Assistant              169\n",
       "                                ... \n",
       "Lead Project Analyst/Engineer      1\n",
       "Change Management Consultant       1\n",
       "VP, Creative Director              1\n",
       "Podcast Supervising Editor         1\n",
       "Events                             1\n",
       "Name: job_title, Length: 12232, dtype: int64"
      ]
     },
     "execution_count": 33,
     "metadata": {},
     "output_type": "execute_result"
    }
   ],
   "source": [
    "df['job_title'].value_counts()"
   ]
  },
  {
   "cell_type": "code",
   "execution_count": 34,
   "metadata": {},
   "outputs": [
    {
     "data": {
      "text/plain": [
       "USD        20952\n",
       "CAD         1542\n",
       "GBP         1511\n",
       "EUR          576\n",
       "AUD/NZD      447\n",
       "Other         58\n",
       "CHF           32\n",
       "SEK            1\n",
       "JPY            1\n",
       "Name: currency, dtype: int64"
      ]
     },
     "execution_count": 34,
     "metadata": {},
     "output_type": "execute_result"
    }
   ],
   "source": [
    "df['currency'].value_counts()"
   ]
  },
  {
   "cell_type": "code",
   "execution_count": 35,
   "metadata": {},
   "outputs": [
    {
     "data": {
      "text/plain": [
       "United States                                                8658\n",
       "USA                                                          7577\n",
       "US                                                           2367\n",
       "Canada                                                       1522\n",
       "United Kingdom                                                579\n",
       "                                                             ... \n",
       "SWITZERLAND                                                     1\n",
       "Jersey, Channel islands                                         1\n",
       "Brasil                                                          1\n",
       "I am located in Canada but I work for a company in the US       1\n",
       "The netherlands                                                 1\n",
       "Name: country, Length: 277, dtype: int64"
      ]
     },
     "execution_count": 35,
     "metadata": {},
     "output_type": "execute_result"
    }
   ],
   "source": [
    "df['country'].value_counts()"
   ]
  },
  {
   "cell_type": "code",
   "execution_count": 36,
   "metadata": {},
   "outputs": [
    {
     "data": {
      "text/plain": [
       "Woman                            19729\n",
       "Man                               4305\n",
       "Non-binary                         694\n",
       "Other or prefer not to answer      251\n",
       "Prefer not to answer                 1\n",
       "Name: gender, dtype: int64"
      ]
     },
     "execution_count": 36,
     "metadata": {},
     "output_type": "execute_result"
    }
   ],
   "source": [
    "df['gender'].value_counts()"
   ]
  },
  {
   "cell_type": "code",
   "execution_count": 37,
   "metadata": {},
   "outputs": [
    {
     "name": "stderr",
     "output_type": "stream",
     "text": [
      "C:\\Users\\assil\\anaconda3\\lib\\site-packages\\pandas\\core\\computation\\expressions.py:178: UserWarning: evaluating in Python space because the '+' operator is not supported by numexpr for the bool dtype, use '|' instead\n",
      "  f\"evaluating in Python space because the {repr(op_str)} \"\n",
      "C:\\Users\\assil\\anaconda3\\lib\\site-packages\\pandas\\core\\indexing.py:965: SettingWithCopyWarning: \n",
      "A value is trying to be set on a copy of a slice from a DataFrame.\n",
      "Try using .loc[row_indexer,col_indexer] = value instead\n",
      "\n",
      "See the caveats in the documentation: https://pandas.pydata.org/pandas-docs/stable/user_guide/indexing.html#returning-a-view-versus-a-copy\n",
      "  self.obj[item] = s\n"
     ]
    }
   ],
   "source": [
    "mask_w = df.gender == 'Woman'\n",
    "mask_m = df.gender == 'Man'\n",
    "mask_n = df.gender == 'Non-binary'\n",
    "mask = mask_w + mask_m + mask_n\n",
    "df.loc[~mask, 'gender'] = \"Unknown\""
   ]
  },
  {
   "cell_type": "code",
   "execution_count": 38,
   "metadata": {},
   "outputs": [
    {
     "data": {
      "text/plain": [
       "Woman         19729\n",
       "Man            4305\n",
       "Non-binary      694\n",
       "Unknown         392\n",
       "Name: gender, dtype: int64"
      ]
     },
     "execution_count": 38,
     "metadata": {},
     "output_type": "execute_result"
    }
   ],
   "source": [
    "df['gender'].value_counts()"
   ]
  },
  {
   "cell_type": "code",
   "execution_count": 39,
   "metadata": {},
   "outputs": [
    {
     "data": {
      "image/png": "[encoded data removed]",
      "text/plain": [
       "<Figure size 432x288 with 1 Axes>"
      ]
     },
     "metadata": {
      "needs_background": "light"
     },
     "output_type": "display_data"
    }
   ],
   "source": [
    "plt = sns.boxplot(\n",
    "    x='gender',\n",
    "    y='annual_salary',\n",
    "    data=df\n",
    ")\n",
    "#plt.set(ylim=(100, 400000))"
   ]
  },
  {
   "cell_type": "code",
   "execution_count": 40,
   "metadata": {},
   "outputs": [
    {
     "data": {
      "image/png": "[encoded data removed]",
      "text/plain": [
       "<Figure size 432x288 with 1 Axes>"
      ]
     },
     "metadata": {
      "needs_background": "light"
     },
     "output_type": "display_data"
    }
   ],
   "source": [
    "plt = sns.boxplot(\n",
    "    x='age',\n",
    "    y='annual_salary',\n",
    "    data=df\n",
    ")"
   ]
  },
  {
   "cell_type": "code",
   "execution_count": 41,
   "metadata": {},
   "outputs": [
    {
     "data": {
      "image/png": "[encoded data removed]",
      "text/plain": [
       "<Figure size 432x288 with 1 Axes>"
      ]
     },
     "metadata": {
      "needs_background": "light"
     },
     "output_type": "display_data"
    }
   ],
   "source": [
    "plt = sns.boxplot(\n",
    "    x='overall_years_of_professional_experience',\n",
    "    y='annual_salary',\n",
    "    data=df\n",
    ")"
   ]
  },
  {
   "cell_type": "code",
   "execution_count": 43,
   "metadata": {},
   "outputs": [
    {
     "data": {
      "image/png": "[encoded data removed]",
      "text/plain": [
       "<Figure size 432x288 with 1 Axes>"
      ]
     },
     "metadata": {
      "needs_background": "light"
     },
     "output_type": "display_data"
    }
   ],
   "source": [
    "plt = sns.boxplot(\n",
    "    x='highest_level_of_education_completed',\n",
    "    y='annual_salary',\n",
    "    data=df\n",
    ")"
   ]
  },
  {
   "cell_type": "code",
   "execution_count": null,
   "metadata": {},
   "outputs": [],
   "source": []
  }
 ],
 "metadata": {
  "hide_input": false,
  "kernelspec": {
   "display_name": "Python 3 (ipykernel)",
   "language": "python",
   "name": "python3"
  },
  "language_info": {
   "codemirror_mode": {
    "name": "ipython",
    "version": 3
   },
   "file_extension": ".py",
   "mimetype": "text/x-python",
   "name": "python",
   "nbconvert_exporter": "python",
   "pygments_lexer": "ipython3",
   "version": "3.9.8"
  },
  "latex_envs": {
   "LaTeX_envs_menu_present": true,
   "autoclose": false,
   "autocomplete": true,
   "bibliofile": "biblio.bib",
   "cite_by": "apalike",
   "current_citInitial": 1,
   "eqLabelWithNumbers": true,
   "eqNumInitial": 1,
   "hotkeys": {
    "equation": "Ctrl-E",
    "itemize": "Ctrl-I"
   },
   "labels_anchors": false,
   "latex_user_defs": false,
   "report_style_numbering": false,
   "user_envs_cfg": false
  },
  "toc": {
   "base_numbering": 1,
   "nav_menu": {},
   "number_sections": true,
   "sideBar": true,
   "skip_h1_title": false,
   "title_cell": "Table of Contents",
   "title_sidebar": "Contents",
   "toc_cell": false,
   "toc_position": {},
   "toc_section_display": true,
   "toc_window_display": false
  },
  "varInspector": {
   "cols": {
    "lenName": 16,
    "lenType": 16,
    "lenVar": 40
   },
   "kernels_config": {
    "python": {
     "delete_cmd_postfix": "",
     "delete_cmd_prefix": "del ",
     "library": "var_list.py",
     "varRefreshCmd": "print(var_dic_list())"
    },
    "r": {
     "delete_cmd_postfix": ") ",
     "delete_cmd_prefix": "rm(",
     "library": "var_list.r",
     "varRefreshCmd": "cat(var_dic_list()) "
    }
   },
   "types_to_exclude": [
    "module",
    "function",
    "builtin_function_or_method",
    "instance",
    "_Feature"
   ],
   "window_display": false
  }
 },
 "nbformat": 4,
 "nbformat_minor": 4
}
