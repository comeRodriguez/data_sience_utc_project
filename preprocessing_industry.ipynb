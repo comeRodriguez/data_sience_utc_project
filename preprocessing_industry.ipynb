{
 "cells": [
  {
   "cell_type": "code",
   "execution_count": 3,
   "id": "a3bad63d",
   "metadata": {
    "ExecuteTime": {
     "end_time": "2022-04-16T16:44:30.745302Z",
     "start_time": "2022-04-16T16:44:30.733338Z"
    }
   },
   "outputs": [],
   "source": [
    "import pandas as pd\n",
    "import numpy as np\n",
    "from matplotlib import pyplot as plt\n",
    "%matplotlib inline\n",
    "import plotly.express as px\n",
    "\n",
    "#Libraries for preprocessing\n",
    "from gensim.parsing.preprocessing import remove_stopwords\n",
    "import string\n",
    "from nltk.stem import PorterStemmer\n",
    "from nltk.tokenize import word_tokenize\n",
    "import webcolors\n",
    "\n",
    "#Download once if using NLTK for preprocessing\n",
    "import nltk\n",
    "\n",
    "#Libraries for vectorisation\n",
    "from sklearn.feature_extraction.text import CountVectorizer, TfidfVectorizer\n",
    "from sklearn.decomposition import LatentDirichletAllocation\n",
    "from sklearn.model_selection import GridSearchCV\n",
    "from fuzzywuzzy import fuzz\n",
    "\n",
    "#Libraries for clustering\n",
    "from sklearn.cluster import KMeans"
   ]
  },
  {
   "cell_type": "markdown",
   "id": "990ee5b2",
   "metadata": {},
   "source": [
    "# Pre processing"
   ]
  },
  {
   "cell_type": "code",
   "execution_count": 7,
   "id": "fd776493",
   "metadata": {
    "ExecuteTime": {
     "end_time": "2022-04-16T16:45:59.385204Z",
     "start_time": "2022-04-16T16:45:59.232210Z"
    }
   },
   "outputs": [],
   "source": [
    "df = pd.read_csv(\"survey.csv\")\n",
    "df[\"industry\"].fillna(\"Prefer not to answer\", inplace=True)"
   ]
  },
  {
   "cell_type": "code",
   "execution_count": 8,
   "id": "548fd8d5",
   "metadata": {
    "ExecuteTime": {
     "end_time": "2022-04-16T16:46:00.309048Z",
     "start_time": "2022-04-16T16:46:00.300302Z"
    }
   },
   "outputs": [
    {
     "data": {
      "text/plain": [
       "0         Education (Higher Education)\n",
       "1                    Computing or Tech\n",
       "2        Accounting, Banking & Finance\n",
       "3                           Nonprofits\n",
       "4        Accounting, Banking & Finance\n",
       "                     ...              \n",
       "26227                  Media & Digital\n",
       "26228                       Nonprofits\n",
       "26229                Computing or Tech\n",
       "26230      Marketing, Advertising & PR\n",
       "26231                              Law\n",
       "Name: industry, Length: 26232, dtype: object"
      ]
     },
     "execution_count": 8,
     "metadata": {},
     "output_type": "execute_result"
    }
   ],
   "source": [
    "text1 = df['industry']\n",
    "text1"
   ]
  },
  {
   "cell_type": "markdown",
   "id": "cd17e06e",
   "metadata": {},
   "source": [
    "## Removing stopwords, punctuation and numbers"
   ]
  },
  {
   "cell_type": "code",
   "execution_count": 9,
   "id": "4668e32e",
   "metadata": {
    "ExecuteTime": {
     "end_time": "2022-04-16T16:46:02.837676Z",
     "start_time": "2022-04-16T16:46:02.648538Z"
    }
   },
   "outputs": [
    {
     "data": {
      "text/plain": [
       "['Education Higher Education',\n",
       " 'Computing Tech',\n",
       " 'Accounting Banking  Finance',\n",
       " 'Nonprofits',\n",
       " 'Accounting Banking  Finance',\n",
       " 'Education Higher Education',\n",
       " 'Publishing',\n",
       " 'Education PrimarySecondary',\n",
       " 'Computing Tech',\n",
       " 'Accounting Banking  Finance',\n",
       " 'Nonprofits',\n",
       " 'Education Higher Education',\n",
       " 'Accounting Banking  Finance',\n",
       " 'Law',\n",
       " 'Health care',\n",
       " 'Utilities  Telecommunications',\n",
       " 'Business Consulting',\n",
       " 'Art  Design',\n",
       " 'Business Consulting',\n",
       " 'Education Higher Education',\n",
       " 'Health care',\n",
       " 'Nonprofits',\n",
       " 'Nonprofits',\n",
       " 'Government Public Administration',\n",
       " 'Public Library',\n",
       " 'Education Higher Education',\n",
       " 'Nonprofits',\n",
       " 'Law',\n",
       " 'Government Public Administration',\n",
       " 'Engineering Manufacturing',\n",
       " 'Nonprofits',\n",
       " 'Media  Digital',\n",
       " 'Accounting Banking  Finance',\n",
       " 'Accounting Banking  Finance',\n",
       " 'Nonprofits',\n",
       " 'Education Higher Education',\n",
       " 'Media  Digital',\n",
       " 'Accounting Banking  Finance',\n",
       " 'Government Public Administration',\n",
       " 'Accounting Banking  Finance',\n",
       " 'Engineering Manufacturing',\n",
       " 'Marketing Advertising  PR',\n",
       " 'Government Public Administration',\n",
       " 'Computing Tech',\n",
       " 'Computing Tech',\n",
       " 'Nonprofits',\n",
       " 'Computing Tech',\n",
       " 'Computing Tech',\n",
       " 'Engineering Manufacturing',\n",
       " 'Retail',\n",
       " 'Education Higher Education',\n",
       " 'Education PrimarySecondary',\n",
       " 'Marketing Advertising  PR',\n",
       " 'Computing Tech',\n",
       " 'Media  Digital',\n",
       " 'Engineering Manufacturing',\n",
       " 'Government Public Administration',\n",
       " 'Business Consulting',\n",
       " 'Law',\n",
       " 'Government Public Administration',\n",
       " 'Education Higher Education',\n",
       " 'Government Public Administration',\n",
       " 'Property Construction',\n",
       " 'Education PrimarySecondary',\n",
       " 'Biotechnology',\n",
       " 'Education Higher Education',\n",
       " 'Nonprofits',\n",
       " 'Health care',\n",
       " 'Computing Tech',\n",
       " 'Nonprofits',\n",
       " 'Government Public Administration',\n",
       " 'Aerospace contracting',\n",
       " 'Insurance',\n",
       " 'Engineering Manufacturing',\n",
       " 'Computing Tech',\n",
       " 'Nonprofits',\n",
       " 'Education Higher Education',\n",
       " 'Education PrimarySecondary',\n",
       " 'Education Higher Education',\n",
       " 'Computing Tech',\n",
       " 'Education Higher Education',\n",
       " 'Education PrimarySecondary',\n",
       " 'Nonprofits',\n",
       " 'Art  Design',\n",
       " 'Engineering Manufacturing',\n",
       " 'Nonprofits',\n",
       " 'Education Higher Education',\n",
       " 'Business Consulting',\n",
       " 'Sales',\n",
       " 'Computing Tech',\n",
       " 'Energy',\n",
       " 'Business Consulting',\n",
       " 'Accounting Banking  Finance',\n",
       " 'Government Public Administration',\n",
       " 'Business Consulting',\n",
       " 'Computing Tech',\n",
       " 'Education PrimarySecondary',\n",
       " 'Environmental regulation',\n",
       " 'Nonprofits',\n",
       " 'Computing Tech',\n",
       " 'Media  Digital',\n",
       " 'Education Higher Education',\n",
       " 'Government Public Administration',\n",
       " 'Education PrimarySecondary',\n",
       " 'Property Construction',\n",
       " 'Health care',\n",
       " 'Engineering Manufacturing',\n",
       " 'Hospitality  Events',\n",
       " 'Education Higher Education',\n",
       " 'Computing Tech',\n",
       " 'Government Public Administration',\n",
       " 'Education Higher Education',\n",
       " 'Sales',\n",
       " 'Accounting Banking  Finance',\n",
       " 'Computing Tech',\n",
       " 'Education Higher Education',\n",
       " 'Accounting Banking  Finance',\n",
       " 'Transport Logistics',\n",
       " 'Education Higher Education',\n",
       " 'Education Higher Education',\n",
       " 'Accounting Banking  Finance',\n",
       " 'Marketing Advertising  PR',\n",
       " 'Accounting Banking  Finance',\n",
       " 'Media  Digital',\n",
       " 'Nonprofits',\n",
       " 'Education Higher Education',\n",
       " 'Government Public Administration',\n",
       " 'Medical Devices',\n",
       " 'Nonprofits',\n",
       " 'Academic research Psychology',\n",
       " 'Media  Digital',\n",
       " 'Education Higher Education',\n",
       " 'Computing Tech',\n",
       " 'Education Higher Education',\n",
       " 'Government Public Administration',\n",
       " 'Business Consulting',\n",
       " 'Social Work',\n",
       " 'public library',\n",
       " 'Engineering Manufacturing',\n",
       " 'Surveying',\n",
       " 'Nonprofits',\n",
       " 'Hospitality  Events',\n",
       " 'Accounting Banking  Finance',\n",
       " 'Education Higher Education',\n",
       " 'Education Higher Education',\n",
       " 'Law',\n",
       " 'Nonprofits',\n",
       " 'Recruitment HR',\n",
       " 'Education Higher Education',\n",
       " 'Nonprofits',\n",
       " 'PhD',\n",
       " 'Education Higher Education',\n",
       " 'Biopharma',\n",
       " 'Insurance',\n",
       " 'Nonprofits',\n",
       " 'Health care',\n",
       " 'Publishing',\n",
       " 'Government Public Administration',\n",
       " 'STEM research',\n",
       " 'Computing Tech',\n",
       " 'Libraries',\n",
       " 'Accounting Banking  Finance',\n",
       " 'Nonprofits',\n",
       " 'Engineering Manufacturing',\n",
       " 'Media  Digital',\n",
       " 'Nonprofits',\n",
       " 'Health care',\n",
       " 'Engineering Manufacturing',\n",
       " 'Marketing Advertising  PR',\n",
       " 'Accounting Banking  Finance',\n",
       " 'Engineering Manufacturing',\n",
       " 'Government Public Administration',\n",
       " 'Nonprofits',\n",
       " 'Computing Tech',\n",
       " 'Architecture',\n",
       " 'Marketing Advertising  PR',\n",
       " 'Nonprofits',\n",
       " 'Marketing Advertising  PR',\n",
       " 'Recruitment HR',\n",
       " 'Computing Tech',\n",
       " 'Education Higher Education',\n",
       " 'Property Construction',\n",
       " 'Marketing Advertising  PR',\n",
       " 'Nonprofits',\n",
       " 'Marketing Advertising  PR',\n",
       " 'Retail',\n",
       " 'Health care',\n",
       " 'Marketing Advertising  PR',\n",
       " 'Academic Medicine',\n",
       " 'Law',\n",
       " 'Retail',\n",
       " 'Computing Tech',\n",
       " 'Education Higher Education',\n",
       " 'Education Higher Education',\n",
       " 'Media  Digital',\n",
       " 'Accounting Banking  Finance',\n",
       " 'Engineering Manufacturing',\n",
       " 'Computing Tech',\n",
       " 'Nonprofits',\n",
       " 'Hospitality  Events',\n",
       " 'Government Public Administration',\n",
       " 'Engineering Manufacturing',\n",
       " 'Nonprofits',\n",
       " 'Education Higher Education',\n",
       " 'Engineering Manufacturing',\n",
       " 'Nonprofits',\n",
       " 'Education Higher Education',\n",
       " 'Computing Tech',\n",
       " 'Education Higher Education',\n",
       " 'Hospitality  Events',\n",
       " 'Retail',\n",
       " 'Law',\n",
       " 'Commercial Real Estate',\n",
       " 'Law',\n",
       " 'Pet care industry dog trainingwalking',\n",
       " 'Engineering Manufacturing',\n",
       " 'Law',\n",
       " 'Insurance',\n",
       " 'Marketing Advertising  PR',\n",
       " 'Education PrimarySecondary',\n",
       " 'Nonprofits',\n",
       " 'Health care',\n",
       " 'Recruitment HR',\n",
       " 'Engineering Manufacturing',\n",
       " 'Politics',\n",
       " 'Education Higher Education',\n",
       " 'Health care',\n",
       " 'University administration',\n",
       " 'Government Public Administration',\n",
       " 'Government Public Administration',\n",
       " 'Business Consulting',\n",
       " 'Animal Health Product Manufacturing',\n",
       " 'Education PrimarySecondary',\n",
       " 'Computing Tech',\n",
       " 'Property Construction',\n",
       " 'Health care',\n",
       " 'Health care',\n",
       " 'Accounting Banking  Finance',\n",
       " 'Marketing Advertising  PR',\n",
       " 'Engineering Manufacturing',\n",
       " 'Education Higher Education',\n",
       " 'Sales',\n",
       " 'Educational Technology  hybrid book publishing technology',\n",
       " 'Law',\n",
       " 'Property Construction',\n",
       " 'Computing Tech',\n",
       " 'Health care',\n",
       " 'Law',\n",
       " 'Utilities  Telecommunications',\n",
       " 'Pharmaceuticals',\n",
       " 'Education PrimarySecondary',\n",
       " 'Health care',\n",
       " 'Government Public Administration',\n",
       " 'Nonprofits',\n",
       " 'Education Higher Education',\n",
       " 'Recruitment HR',\n",
       " 'Education Higher Education',\n",
       " 'Nonprofits',\n",
       " 'Marketing Advertising  PR',\n",
       " 'Government Public Administration',\n",
       " 'Computing Tech',\n",
       " 'Agriculture Forestry',\n",
       " 'Marketing Advertising  PR',\n",
       " 'Nonprofits',\n",
       " 'Engineering Manufacturing',\n",
       " 'Computing Tech',\n",
       " 'Nonprofits',\n",
       " 'Philanthropy',\n",
       " 'Government Public Administration',\n",
       " 'Accounting Banking  Finance',\n",
       " 'Computing Tech',\n",
       " 'Marketing Advertising  PR',\n",
       " 'Accounting Banking  Finance',\n",
       " 'Education Higher Education',\n",
       " 'Engineering Manufacturing',\n",
       " 'Education Higher Education',\n",
       " 'Government Public Administration',\n",
       " 'Engineering Manufacturing',\n",
       " 'Insurance',\n",
       " 'Education Higher Education',\n",
       " 'Real Estate',\n",
       " 'Education Higher Education',\n",
       " 'Education Higher Education',\n",
       " 'Property Construction',\n",
       " 'Transport Logistics',\n",
       " 'Transport Logistics',\n",
       " 'Engineering Manufacturing',\n",
       " 'Consulting',\n",
       " 'Computing Tech',\n",
       " 'Environmental Consulting',\n",
       " 'Accounting Banking  Finance',\n",
       " 'Engineering Manufacturing',\n",
       " 'Accounting Banking  Finance',\n",
       " 'Health care',\n",
       " 'Government Public Administration',\n",
       " 'Sales',\n",
       " 'Archaeology  Cultural Resource Management',\n",
       " 'Museum',\n",
       " 'Government Public Administration',\n",
       " 'Education Higher Education',\n",
       " 'Media  Digital',\n",
       " 'Education Higher Education',\n",
       " 'Public library',\n",
       " 'Biotech',\n",
       " 'Education Higher Education',\n",
       " 'Government Public Administration',\n",
       " 'Accounting Banking  Finance',\n",
       " 'Government Public Administration',\n",
       " 'Recruitment HR',\n",
       " 'Transport Logistics',\n",
       " 'Agriculture Forestry',\n",
       " 'Government Public Administration',\n",
       " 'Property Construction',\n",
       " 'Engineering Manufacturing',\n",
       " 'Government Public Administration',\n",
       " 'Law',\n",
       " 'Health care',\n",
       " 'Accounting Banking  Finance',\n",
       " 'Recruitment HR',\n",
       " 'Education Higher Education',\n",
       " 'Nonprofits',\n",
       " 'Computing Tech',\n",
       " 'Computing Tech',\n",
       " 'Public Library',\n",
       " 'Education Higher Education',\n",
       " 'Computing Tech',\n",
       " 'Engineering Manufacturing',\n",
       " 'Nonprofits',\n",
       " 'Education Higher Education',\n",
       " 'Nonprofits',\n",
       " 'Nonprofits',\n",
       " 'Marketing Advertising  PR',\n",
       " 'Government Public Administration',\n",
       " 'Nonprofits',\n",
       " 'Accounting Banking  Finance',\n",
       " 'Social Work',\n",
       " 'Nonprofits',\n",
       " 'Health care',\n",
       " 'Transport Logistics',\n",
       " 'Education PrimarySecondary',\n",
       " 'Nonprofits',\n",
       " 'Engineering Manufacturing',\n",
       " 'Government Public Administration',\n",
       " 'Education PrimarySecondary',\n",
       " 'Nonprofits',\n",
       " 'Marketing Advertising  PR',\n",
       " 'Agriculture Forestry',\n",
       " 'Property Construction',\n",
       " 'Media  Digital',\n",
       " 'Social Work',\n",
       " 'Public Library',\n",
       " 'Education Higher Education',\n",
       " 'Property Construction',\n",
       " 'Computing Tech',\n",
       " 'Marketing Advertising  PR',\n",
       " 'Media  Digital',\n",
       " 'Computing Tech',\n",
       " 'Health care',\n",
       " 'Engineering Manufacturing',\n",
       " 'Government Public Administration',\n",
       " 'Prefer answer',\n",
       " 'Health care',\n",
       " 'Computing Tech',\n",
       " 'Accounting Banking  Finance',\n",
       " 'Sales',\n",
       " 'Media  Digital',\n",
       " 'Accounting Banking  Finance',\n",
       " 'Accounting Banking  Finance',\n",
       " 'Art  Design',\n",
       " 'Education Higher Education',\n",
       " 'Engineering Manufacturing',\n",
       " 'Business Consulting',\n",
       " 'Computing Tech',\n",
       " 'Government Relations Lobbying',\n",
       " 'Nonprofits',\n",
       " 'Business Consulting',\n",
       " 'Nonprofits',\n",
       " 'Computing Tech',\n",
       " 'Computing Tech',\n",
       " 'Education PrimarySecondary',\n",
       " 'Computing Tech',\n",
       " 'Computing Tech',\n",
       " 'Government Public Administration',\n",
       " 'Computing Tech',\n",
       " 'Computing Tech',\n",
       " 'Business Consulting',\n",
       " 'Hospitality  Events',\n",
       " 'Health care',\n",
       " 'Nonprofits',\n",
       " 'Computing Tech',\n",
       " 'Politics',\n",
       " 'Health care',\n",
       " 'Law',\n",
       " 'Government Public Administration',\n",
       " 'Government Public Administration',\n",
       " 'Accounting Banking  Finance',\n",
       " 'Accounting Banking  Finance',\n",
       " 'Education Higher Education',\n",
       " 'Education Higher Education',\n",
       " 'Nonprofits',\n",
       " 'Accounting Banking  Finance',\n",
       " 'Law',\n",
       " 'Software Service SaaS',\n",
       " 'Accounting Banking  Finance',\n",
       " 'Public health higher education',\n",
       " 'Government Public Administration',\n",
       " 'Business Consulting',\n",
       " 'Business Services',\n",
       " 'Health care',\n",
       " 'Engineering Manufacturing',\n",
       " 'Property Construction',\n",
       " 'Accounting Banking  Finance',\n",
       " 'Computing Tech',\n",
       " 'Media  Digital',\n",
       " 'Business Consulting',\n",
       " 'Law Enforcement  Security',\n",
       " 'Manufacturing distributing',\n",
       " 'Leisure Sport  Tourism',\n",
       " 'Nonprofits',\n",
       " 'Computing Tech',\n",
       " 'Government Public Administration',\n",
       " 'Government Public Administration',\n",
       " 'Government Public Administration',\n",
       " 'Retail',\n",
       " 'Sales',\n",
       " 'Law',\n",
       " 'Government Public Administration',\n",
       " 'Business Consulting',\n",
       " 'Law',\n",
       " 'Education PrimarySecondary',\n",
       " 'Sales',\n",
       " 'Computing Tech',\n",
       " 'Computing Tech',\n",
       " 'Utilities  Telecommunications',\n",
       " 'Computing Tech',\n",
       " 'Computing Tech',\n",
       " 'Computing Tech',\n",
       " 'Computing Tech',\n",
       " 'Accounting Banking  Finance',\n",
       " 'Engineering Manufacturing',\n",
       " 'Computing Tech',\n",
       " 'Nonprofits',\n",
       " 'Food manufacturing',\n",
       " 'Nonprofits',\n",
       " 'Government Public Administration',\n",
       " 'Property Construction',\n",
       " 'Utilities  Telecommunications',\n",
       " 'Marketing Advertising  PR',\n",
       " 'Education Higher Education',\n",
       " 'Computing Tech',\n",
       " 'Marketing Advertising  PR',\n",
       " 'Government Public Administration',\n",
       " 'Computing Tech',\n",
       " 'Computing Tech',\n",
       " 'Computing Tech',\n",
       " 'Computing Tech',\n",
       " 'Education Higher Education',\n",
       " 'Government Public Administration',\n",
       " 'Government Public Administration',\n",
       " 'Computing Tech',\n",
       " 'Education Higher Education',\n",
       " 'Nonprofits',\n",
       " 'Government Public Administration',\n",
       " 'Recruitment HR',\n",
       " 'Business Consulting',\n",
       " 'Social Work',\n",
       " 'Education Higher Education',\n",
       " 'Nonprofits',\n",
       " 'Art  Design',\n",
       " 'Research development',\n",
       " 'Health care',\n",
       " 'Pharmaceuticals',\n",
       " 'Engineering Manufacturing',\n",
       " 'Accounting Banking  Finance',\n",
       " 'Consumer packaged goods',\n",
       " 'Engineering Manufacturing',\n",
       " 'Nonprofits',\n",
       " 'Nonprofits',\n",
       " 'Property Construction',\n",
       " 'Education Higher Education',\n",
       " 'Recruitment HR',\n",
       " 'Entertainment',\n",
       " 'Business Consulting',\n",
       " 'Entertainment',\n",
       " 'Health care',\n",
       " 'Engineering Manufacturing',\n",
       " 'Business Consulting',\n",
       " 'Education Higher Education',\n",
       " 'Agriculture Forestry',\n",
       " 'Engineering Manufacturing',\n",
       " 'Hospitality  Events',\n",
       " 'Retail',\n",
       " 'Media  Digital',\n",
       " 'Media  Digital',\n",
       " 'Retail',\n",
       " 'Nonprofits',\n",
       " 'Government Public Administration',\n",
       " 'Law',\n",
       " 'Education PrimarySecondary',\n",
       " 'Nonprofits',\n",
       " 'Engineering Manufacturing',\n",
       " 'Government Public Administration',\n",
       " 'Health care',\n",
       " 'Engineering Manufacturing',\n",
       " 'Computing Tech',\n",
       " 'BB Services',\n",
       " 'Education Higher Education',\n",
       " 'Computing Tech',\n",
       " 'Sales',\n",
       " 'Accounting Banking  Finance',\n",
       " 'Nonprofits',\n",
       " 'Oil Gas',\n",
       " 'Marketing Advertising  PR',\n",
       " 'Government Public Administration',\n",
       " 'Government Public Administration',\n",
       " 'Nonprofits',\n",
       " 'Entertainment',\n",
       " 'Law',\n",
       " 'Accounting Banking  Finance',\n",
       " 'Health care',\n",
       " 'Media  Digital',\n",
       " 'Engineering Manufacturing',\n",
       " 'Recruitment HR',\n",
       " 'Business Consulting',\n",
       " 'Government Public Administration',\n",
       " 'HeritagePublic History',\n",
       " 'Nonprofits',\n",
       " 'Nonprofits',\n",
       " 'Law',\n",
       " 'Engineering Manufacturing',\n",
       " 'Computing Tech',\n",
       " 'Engineering Manufacturing',\n",
       " 'Social Work',\n",
       " 'Education Higher Education',\n",
       " 'Accounting Banking  Finance',\n",
       " 'Accounting Banking  Finance',\n",
       " 'Health care',\n",
       " 'Education Higher Education',\n",
       " 'Education Higher Education',\n",
       " 'Education Higher Education',\n",
       " 'Education Higher Education',\n",
       " 'Accounting Banking  Finance',\n",
       " 'Engineering Manufacturing',\n",
       " 'Law',\n",
       " 'Computing Tech',\n",
       " 'Government Public Administration',\n",
       " 'Media  Digital',\n",
       " 'Law',\n",
       " 'Insurance',\n",
       " 'Nonprofits',\n",
       " 'Media  Digital',\n",
       " 'Engineering Manufacturing',\n",
       " 'Nonprofits',\n",
       " 'Computing Tech',\n",
       " 'Business Consulting',\n",
       " 'Accounting Banking  Finance',\n",
       " 'Government Public Administration',\n",
       " 'Computing Tech',\n",
       " 'Education Higher Education',\n",
       " 'Nonprofits',\n",
       " 'Education PrimarySecondary',\n",
       " 'Marketing Advertising  PR',\n",
       " 'Education PrimarySecondary',\n",
       " 'Business Consulting',\n",
       " 'Manufacturing',\n",
       " 'Accounting Banking  Finance',\n",
       " 'Education Higher Education',\n",
       " 'Health care',\n",
       " 'Education Higher Education',\n",
       " 'Accounting Banking  Finance',\n",
       " 'Engineering Manufacturing',\n",
       " 'Education Higher Education',\n",
       " 'Health care',\n",
       " 'Insurance',\n",
       " 'Media  Digital',\n",
       " 'Computing Tech',\n",
       " 'Nonprofits',\n",
       " 'Leisure Sport  Tourism',\n",
       " 'Transport Logistics',\n",
       " 'Engineering Manufacturing',\n",
       " 'Accounting Banking  Finance',\n",
       " 'Health care',\n",
       " 'Media  Digital',\n",
       " 'Veterinary medicine',\n",
       " 'Accounting Banking  Finance',\n",
       " 'Insurance',\n",
       " 'Computing Tech',\n",
       " 'Government Public Administration',\n",
       " 'Government Public Administration',\n",
       " 'Nonprofits',\n",
       " 'Health care',\n",
       " 'Engineering Manufacturing',\n",
       " 'Transport Logistics',\n",
       " 'Nonprofits',\n",
       " 'Education Higher Education',\n",
       " 'Computing Tech',\n",
       " 'Media  Digital',\n",
       " 'Engineering Manufacturing',\n",
       " 'Health care',\n",
       " 'Accounting Banking  Finance',\n",
       " 'Education Higher Education',\n",
       " 'Education Higher Education',\n",
       " 'Education Higher Education',\n",
       " 'Health care',\n",
       " 'Nonprofits',\n",
       " 'Food ProductionProcessing',\n",
       " 'Nonprofits',\n",
       " 'Media  Digital',\n",
       " 'Nonprofits',\n",
       " 'Nonprofits',\n",
       " 'Nonprofits',\n",
       " 'Government Public Administration',\n",
       " 'Education Higher Education',\n",
       " 'Law',\n",
       " 'Libraries',\n",
       " 'Computing Tech',\n",
       " 'Retail',\n",
       " 'Education Higher Education',\n",
       " 'Recruitment HR',\n",
       " 'Insurance',\n",
       " 'Government Public Administration',\n",
       " 'Engineering Manufacturing',\n",
       " 'Nonprofits',\n",
       " 'Marketing Advertising  PR',\n",
       " 'Accounting Banking  Finance',\n",
       " 'Engineering Manufacturing',\n",
       " 'Education Higher Education',\n",
       " 'Accounting Banking  Finance',\n",
       " 'Health care',\n",
       " 'Health care',\n",
       " 'Government Public Administration',\n",
       " 'Education PrimarySecondary',\n",
       " 'Health Insurance',\n",
       " 'Education PrimarySecondary',\n",
       " 'Media  Digital',\n",
       " 'Leisure Sport  Tourism',\n",
       " 'Computing Tech',\n",
       " 'Government contractor',\n",
       " 'Education Higher Education',\n",
       " 'Art  Design',\n",
       " 'Property Construction',\n",
       " 'Engineering Manufacturing',\n",
       " 'Education Higher Education',\n",
       " 'Health care',\n",
       " 'Retail',\n",
       " 'Prefer answer',\n",
       " 'Public health',\n",
       " 'Media  Digital',\n",
       " 'Government Public Administration',\n",
       " 'Nonprofits',\n",
       " 'Social Work',\n",
       " 'Nonprofits',\n",
       " 'Renewable energy',\n",
       " 'Recruitment HR',\n",
       " 'Health care',\n",
       " 'Engineering Manufacturing',\n",
       " 'Media  Digital',\n",
       " 'Engineering Manufacturing',\n",
       " 'Nonprofits',\n",
       " 'Utilities  Telecommunications',\n",
       " 'Social Work',\n",
       " 'Law',\n",
       " 'Education Higher Education',\n",
       " 'Marketing Advertising  PR',\n",
       " 'Business Consulting',\n",
       " 'Art  Design',\n",
       " 'Hospitality  Events',\n",
       " 'Marketing Advertising  PR',\n",
       " 'Insurance',\n",
       " 'Insurance',\n",
       " 'Accounting Banking  Finance',\n",
       " 'Nonprofits',\n",
       " 'Engineering Manufacturing',\n",
       " 'Accounting Banking  Finance',\n",
       " 'Nonprofits',\n",
       " 'Utilities  Telecommunications',\n",
       " 'Accounting Banking  Finance',\n",
       " 'Education Higher Education',\n",
       " 'Transport Logistics',\n",
       " 'publishing',\n",
       " 'Accounting Banking  Finance',\n",
       " 'Nonprofits',\n",
       " 'Government Public Administration',\n",
       " 'Aerospace',\n",
       " 'Education Higher Education',\n",
       " 'Government Public Administration',\n",
       " 'Government Public Administration',\n",
       " 'Government Public Administration',\n",
       " 'Utilities  Telecommunications',\n",
       " 'Education Higher Education',\n",
       " 'Accounting Banking  Finance',\n",
       " 'Recruitment HR',\n",
       " 'Government Public Administration',\n",
       " 'Marketing Advertising  PR',\n",
       " 'Law',\n",
       " 'Computing Tech',\n",
       " 'Business Consulting',\n",
       " 'Government Public Administration',\n",
       " 'Government Public Administration',\n",
       " 'Computing Tech',\n",
       " 'Libraries',\n",
       " 'Business Consulting',\n",
       " 'Accounting Banking  Finance',\n",
       " 'Marketing Advertising  PR',\n",
       " 'Government Public Administration',\n",
       " 'Nonprofits',\n",
       " 'Health care',\n",
       " 'Education Higher Education',\n",
       " 'Government Public Administration',\n",
       " 'Hospitality  Events',\n",
       " 'Government Public Administration',\n",
       " 'Nonprofits',\n",
       " 'Nonprofits',\n",
       " 'Sales',\n",
       " 'Transport Logistics',\n",
       " 'Computing Tech',\n",
       " 'Law',\n",
       " 'Education Higher Education',\n",
       " 'Nonprofits',\n",
       " 'Government Public Administration',\n",
       " 'Manufacturing',\n",
       " 'Business Consulting',\n",
       " 'Government Public Administration',\n",
       " 'Marketing Advertising  PR',\n",
       " 'Education PrimarySecondary',\n",
       " 'Law',\n",
       " 'Engineering Manufacturing',\n",
       " 'Health care',\n",
       " 'Computing Tech',\n",
       " 'Computing Tech',\n",
       " 'Hospitality  Events',\n",
       " 'Education Higher Education',\n",
       " 'Education Higher Education',\n",
       " 'Engineering Manufacturing',\n",
       " 'Property Construction',\n",
       " 'Health care',\n",
       " 'Health care',\n",
       " 'Nonprofits',\n",
       " 'Nonprofits',\n",
       " 'Government Public Administration',\n",
       " 'Media  Digital',\n",
       " 'Computing Tech',\n",
       " 'Marketing Advertising  PR',\n",
       " 'Computing Tech',\n",
       " 'Accounting Banking  Finance',\n",
       " 'Health care',\n",
       " 'Computing Tech',\n",
       " 'Law',\n",
       " 'Health care',\n",
       " 'Government Public Administration',\n",
       " 'Computing Tech',\n",
       " 'Health care',\n",
       " 'Public Library technically City Govt',\n",
       " 'Law',\n",
       " 'Government Public Administration',\n",
       " 'Engineering Manufacturing',\n",
       " 'Marketing Advertising  PR',\n",
       " 'Computing Tech',\n",
       " 'Education Higher Education',\n",
       " 'Health care',\n",
       " 'Nonprofits',\n",
       " 'Engineering Manufacturing',\n",
       " 'Government Public Administration',\n",
       " 'Art  Design',\n",
       " 'Accounting Banking  Finance',\n",
       " 'Nonprofits',\n",
       " 'Recruitment HR',\n",
       " 'Law',\n",
       " 'Education Higher Education',\n",
       " 'Education Higher Education',\n",
       " 'Nonprofits',\n",
       " 'Education Higher Education',\n",
       " 'Marketing Advertising  PR',\n",
       " 'Education Higher Education',\n",
       " 'Utilities  Telecommunications',\n",
       " 'Nonprofits',\n",
       " 'Education Higher Education',\n",
       " 'Computing Tech',\n",
       " 'Education Higher Education',\n",
       " 'Space',\n",
       " 'Business Consulting',\n",
       " 'Nonprofits',\n",
       " 'Nonprofits',\n",
       " 'Nonprofits',\n",
       " 'Business Consulting',\n",
       " 'Media  Digital',\n",
       " 'Marketing Advertising  PR',\n",
       " 'Law',\n",
       " 'Accounting Banking  Finance',\n",
       " 'Education Higher Education',\n",
       " 'Law',\n",
       " 'Engineering Manufacturing',\n",
       " 'Law',\n",
       " 'Accounting Banking  Finance',\n",
       " 'Nonprofits',\n",
       " 'Marketing Advertising  PR',\n",
       " 'Computing Tech',\n",
       " 'Nonprofits',\n",
       " 'Business Consulting',\n",
       " 'Utilities  Telecommunications',\n",
       " 'Librarian',\n",
       " 'Education Higher Education',\n",
       " 'Government Public Administration',\n",
       " 'Education Higher Education',\n",
       " 'Nonprofits',\n",
       " 'Nonprofits',\n",
       " 'Education PrimarySecondary',\n",
       " 'Accounting Banking  Finance',\n",
       " 'Sales',\n",
       " 'Computing Tech',\n",
       " 'Law',\n",
       " 'Education Higher Education',\n",
       " 'Sales',\n",
       " 'Computing Tech',\n",
       " 'Business Consulting',\n",
       " 'Media  Digital',\n",
       " 'Media  Digital',\n",
       " 'Art  Design',\n",
       " 'Accounting Banking  Finance',\n",
       " 'Education Higher Education',\n",
       " 'Business Consulting',\n",
       " 'Education Higher Education',\n",
       " 'Marketing Advertising  PR',\n",
       " 'Engineering Manufacturing',\n",
       " 'Government Public Administration',\n",
       " 'Engineering Manufacturing',\n",
       " 'Accounting Banking  Finance',\n",
       " 'Government Public Administration',\n",
       " 'Transport Logistics',\n",
       " 'Nonprofits',\n",
       " 'Retail',\n",
       " 'Computing Tech',\n",
       " 'Nonprofits',\n",
       " 'Business Consulting',\n",
       " 'Engineering Manufacturing',\n",
       " 'Art  Design',\n",
       " 'Government Public Administration',\n",
       " 'Business Consulting',\n",
       " 'Government Public Administration',\n",
       " 'Government Public Administration',\n",
       " 'Utilities  Telecommunications',\n",
       " 'Media  Digital',\n",
       " 'Hospitality  Events',\n",
       " 'Government Public Administration',\n",
       " 'Business Consulting',\n",
       " 'Insurance',\n",
       " 'Business Consulting',\n",
       " 'Insurance',\n",
       " 'Recruitment HR',\n",
       " 'Recruitment HR',\n",
       " 'Business Consulting',\n",
       " 'Education Higher Education',\n",
       " 'Utilities  Telecommunications',\n",
       " 'Education Higher Education',\n",
       " 'Accounting Banking  Finance',\n",
       " 'Government Public Administration',\n",
       " 'Media  Digital',\n",
       " 'Media  Digital',\n",
       " 'Art  Design',\n",
       " 'Government Public Administration',\n",
       " 'Government Public Administration',\n",
       " 'Education Higher Education',\n",
       " 'Engineering Manufacturing',\n",
       " 'Government Public Administration',\n",
       " 'Government Public Administration',\n",
       " 'Nonprofits',\n",
       " 'Health care',\n",
       " 'Education Higher Education',\n",
       " 'Education Higher Education',\n",
       " 'Accounting Banking  Finance',\n",
       " 'Media  Digital',\n",
       " 'Business Consulting',\n",
       " 'Computing Tech',\n",
       " 'Media  Digital',\n",
       " 'Education PrimarySecondary',\n",
       " 'Marketing Advertising  PR',\n",
       " 'Engineering Manufacturing',\n",
       " 'Marketing Advertising  PR',\n",
       " 'Food Service',\n",
       " 'Education PrimarySecondary',\n",
       " 'Computing Tech',\n",
       " 'Media  Digital',\n",
       " 'Nonprofits',\n",
       " 'Government Public Administration',\n",
       " 'Transport Logistics',\n",
       " 'Government Public Administration',\n",
       " 'Nonprofits',\n",
       " 'Nonprofits',\n",
       " 'Education PrimarySecondary',\n",
       " 'Accounting Banking  Finance',\n",
       " 'Pharma',\n",
       " 'Nonprofits',\n",
       " 'Accounting Banking  Finance',\n",
       " 'Computing Tech',\n",
       " 'Law',\n",
       " 'Education PrimarySecondary',\n",
       " 'Government Public Administration',\n",
       " 'Accounting Banking  Finance',\n",
       " 'Government Public Administration',\n",
       " 'Government Public Administration',\n",
       " 'AerospaceDefense',\n",
       " 'Engineering Manufacturing',\n",
       " 'Computing Tech',\n",
       " 'Government Public Administration',\n",
       " 'Computing Tech',\n",
       " 'Art  Design',\n",
       " 'Computing Tech',\n",
       " 'Nonprofits',\n",
       " 'Computing Tech',\n",
       " 'Government Public Administration',\n",
       " 'Education PrimarySecondary',\n",
       " 'Government Public Administration',\n",
       " 'Media  Digital',\n",
       " 'Health care',\n",
       " 'Education Higher Education',\n",
       " 'Leisure Sport  Tourism',\n",
       " 'Management Consulting',\n",
       " 'Engineering Manufacturing',\n",
       " 'Pharmaceutical',\n",
       " 'Pharmaceuticals',\n",
       " 'Education Higher Education',\n",
       " 'Accounting Banking  Finance',\n",
       " 'Pharmaceutical',\n",
       " 'Law',\n",
       " 'Government Public Administration',\n",
       " 'Accounting Banking  Finance',\n",
       " 'Nonprofits',\n",
       " 'Computing Tech',\n",
       " 'Education Higher Education',\n",
       " 'Academic publishing',\n",
       " 'Health care',\n",
       " 'Gas  Oil',\n",
       " 'Computing Tech',\n",
       " 'Education Higher Education',\n",
       " 'Leisure Sport  Tourism',\n",
       " 'Engineering Manufacturing',\n",
       " 'Defense contracting',\n",
       " 'Marketing Advertising  PR',\n",
       " 'Government Public Administration',\n",
       " 'Education PrimarySecondary',\n",
       " 'Education Higher Education',\n",
       " 'Engineering Manufacturing',\n",
       " 'Education PrimarySecondary',\n",
       " 'Education PrimarySecondary',\n",
       " 'Government Public Administration',\n",
       " 'Nonprofits',\n",
       " 'Nonprofits',\n",
       " 'Education Higher Education',\n",
       " 'Health care',\n",
       " 'Law',\n",
       " 'Computing Tech',\n",
       " 'Education PrimarySecondary',\n",
       " 'Computing Tech',\n",
       " 'Nonprofits',\n",
       " 'Agriculture Forestry',\n",
       " 'Government Public Administration',\n",
       " 'Accounting Banking  Finance',\n",
       " 'Computing Tech',\n",
       " 'Accounting Banking  Finance',\n",
       " 'Government Public Administration',\n",
       " 'Nonprofits',\n",
       " 'Marketing Advertising  PR',\n",
       " 'Government Public Administration',\n",
       " 'Accounting Banking  Finance',\n",
       " 'Education Higher Education',\n",
       " 'Sales',\n",
       " 'Education Higher Education',\n",
       " 'Nonprofits',\n",
       " 'Media  Digital',\n",
       " 'Computing Tech',\n",
       " 'Computing Tech',\n",
       " 'Education PrimarySecondary',\n",
       " 'International development multilateral donor',\n",
       " 'Government Public Administration',\n",
       " 'Computing Tech',\n",
       " 'Nonprofits',\n",
       " 'Nonprofits',\n",
       " 'Education PrimarySecondary',\n",
       " 'Libraries',\n",
       " 'Computing Tech',\n",
       " 'Engineering Manufacturing',\n",
       " 'Education Higher Education',\n",
       " 'Government Public Administration',\n",
       " 'Engineering Manufacturing',\n",
       " 'Health care',\n",
       " 'Nonprofits',\n",
       " 'project management',\n",
       " 'Education Higher Education',\n",
       " 'Media  Digital',\n",
       " 'Education Higher Education',\n",
       " 'Education Higher Education',\n",
       " 'Nonprofits',\n",
       " 'Media  Digital',\n",
       " 'Nonprofits',\n",
       " 'Transport Logistics',\n",
       " 'Nonprofits',\n",
       " 'Accounting Banking  Finance',\n",
       " 'Engineering Manufacturing',\n",
       " 'Media  Digital',\n",
       " 'Apparel manufacture',\n",
       " ...]"
      ]
     },
     "execution_count": 9,
     "metadata": {},
     "output_type": "execute_result"
    }
   ],
   "source": [
    "text2 = [remove_stopwords(x)\\\n",
    "        .translate(str.maketrans('','',string.punctuation))\\\n",
    "        .translate(str.maketrans('','',string.digits))\\\n",
    "        for x in text1]\n",
    "text2"
   ]
  },
  {
   "cell_type": "markdown",
   "id": "2b7e9288",
   "metadata": {},
   "source": [
    "## Stemming and making words lower case"
   ]
  },
  {
   "cell_type": "code",
   "execution_count": 10,
   "id": "2b9a1aef",
   "metadata": {
    "ExecuteTime": {
     "end_time": "2022-04-16T16:46:35.461108Z",
     "start_time": "2022-04-16T16:46:35.452422Z"
    }
   },
   "outputs": [],
   "source": [
    "def stemSentence(sentence):\n",
    "    porter = PorterStemmer()\n",
    "    token_words = word_tokenize(sentence)\n",
    "    stem_sentence = [porter.stem(word) for word in token_words]\n",
    "    return ' '.join(stem_sentence)"
   ]
  },
  {
   "cell_type": "code",
   "execution_count": 11,
   "id": "0e625b68",
   "metadata": {
    "ExecuteTime": {
     "end_time": "2022-04-16T16:46:46.215362Z",
     "start_time": "2022-04-16T16:46:43.206731Z"
    }
   },
   "outputs": [],
   "source": [
    "text3 = pd.Series([stemSentence(x) for x in text2])"
   ]
  },
  {
   "cell_type": "markdown",
   "id": "26bf7d91",
   "metadata": {},
   "source": [
    "# Vectorization"
   ]
  },
  {
   "cell_type": "markdown",
   "id": "a0a0baea",
   "metadata": {},
   "source": [
    "##  Bag of words (counts the occurrences of words in a document)"
   ]
  },
  {
   "cell_type": "code",
   "execution_count": 12,
   "id": "cbd9ed7b",
   "metadata": {
    "ExecuteTime": {
     "end_time": "2022-04-16T16:47:33.484970Z",
     "start_time": "2022-04-16T16:47:33.377676Z"
    }
   },
   "outputs": [],
   "source": [
    "vectorizer_cv = CountVectorizer(analyzer='word')\n",
    "X_cv = vectorizer_cv.fit_transform(text3)"
   ]
  },
  {
   "cell_type": "code",
   "execution_count": 15,
   "id": "b7f49b50",
   "metadata": {
    "ExecuteTime": {
     "end_time": "2022-04-16T16:47:56.543435Z",
     "start_time": "2022-04-16T16:47:56.191551Z"
    }
   },
   "outputs": [
    {
     "data": {
      "text/html": [
       "<div>\n",
       "<style scoped>\n",
       "    .dataframe tbody tr th:only-of-type {\n",
       "        vertical-align: middle;\n",
       "    }\n",
       "\n",
       "    .dataframe tbody tr th {\n",
       "        vertical-align: top;\n",
       "    }\n",
       "\n",
       "    .dataframe thead th {\n",
       "        text-align: right;\n",
       "    }\n",
       "</style>\n",
       "<table border=\"1\" class=\"dataframe\">\n",
       "  <thead>\n",
       "    <tr style=\"text-align: right;\">\n",
       "      <th></th>\n",
       "      <th>industry</th>\n",
       "      <th>academ</th>\n",
       "      <th>academia</th>\n",
       "      <th>academiacel</th>\n",
       "      <th>academicnonprofit</th>\n",
       "      <th>access</th>\n",
       "      <th>account</th>\n",
       "      <th>actuari</th>\n",
       "      <th>adjac</th>\n",
       "      <th>admin</th>\n",
       "      <th>...</th>\n",
       "      <th>wineri</th>\n",
       "      <th>work</th>\n",
       "      <th>workforc</th>\n",
       "      <th>workstudi</th>\n",
       "      <th>world</th>\n",
       "      <th>worth</th>\n",
       "      <th>write</th>\n",
       "      <th>year</th>\n",
       "      <th>yout</th>\n",
       "      <th>zoo</th>\n",
       "    </tr>\n",
       "  </thead>\n",
       "  <tbody>\n",
       "    <tr>\n",
       "      <th>0</th>\n",
       "      <td>Education (Higher Education)</td>\n",
       "      <td>0</td>\n",
       "      <td>0</td>\n",
       "      <td>0</td>\n",
       "      <td>0</td>\n",
       "      <td>0</td>\n",
       "      <td>0</td>\n",
       "      <td>0</td>\n",
       "      <td>0</td>\n",
       "      <td>0</td>\n",
       "      <td>...</td>\n",
       "      <td>0</td>\n",
       "      <td>0</td>\n",
       "      <td>0</td>\n",
       "      <td>0</td>\n",
       "      <td>0</td>\n",
       "      <td>0</td>\n",
       "      <td>0</td>\n",
       "      <td>0</td>\n",
       "      <td>0</td>\n",
       "      <td>0</td>\n",
       "    </tr>\n",
       "    <tr>\n",
       "      <th>1</th>\n",
       "      <td>Computing or Tech</td>\n",
       "      <td>0</td>\n",
       "      <td>0</td>\n",
       "      <td>0</td>\n",
       "      <td>0</td>\n",
       "      <td>0</td>\n",
       "      <td>0</td>\n",
       "      <td>0</td>\n",
       "      <td>0</td>\n",
       "      <td>0</td>\n",
       "      <td>...</td>\n",
       "      <td>0</td>\n",
       "      <td>0</td>\n",
       "      <td>0</td>\n",
       "      <td>0</td>\n",
       "      <td>0</td>\n",
       "      <td>0</td>\n",
       "      <td>0</td>\n",
       "      <td>0</td>\n",
       "      <td>0</td>\n",
       "      <td>0</td>\n",
       "    </tr>\n",
       "    <tr>\n",
       "      <th>2</th>\n",
       "      <td>Accounting, Banking &amp; Finance</td>\n",
       "      <td>0</td>\n",
       "      <td>0</td>\n",
       "      <td>0</td>\n",
       "      <td>0</td>\n",
       "      <td>0</td>\n",
       "      <td>1</td>\n",
       "      <td>0</td>\n",
       "      <td>0</td>\n",
       "      <td>0</td>\n",
       "      <td>...</td>\n",
       "      <td>0</td>\n",
       "      <td>0</td>\n",
       "      <td>0</td>\n",
       "      <td>0</td>\n",
       "      <td>0</td>\n",
       "      <td>0</td>\n",
       "      <td>0</td>\n",
       "      <td>0</td>\n",
       "      <td>0</td>\n",
       "      <td>0</td>\n",
       "    </tr>\n",
       "    <tr>\n",
       "      <th>3</th>\n",
       "      <td>Nonprofits</td>\n",
       "      <td>0</td>\n",
       "      <td>0</td>\n",
       "      <td>0</td>\n",
       "      <td>0</td>\n",
       "      <td>0</td>\n",
       "      <td>0</td>\n",
       "      <td>0</td>\n",
       "      <td>0</td>\n",
       "      <td>0</td>\n",
       "      <td>...</td>\n",
       "      <td>0</td>\n",
       "      <td>0</td>\n",
       "      <td>0</td>\n",
       "      <td>0</td>\n",
       "      <td>0</td>\n",
       "      <td>0</td>\n",
       "      <td>0</td>\n",
       "      <td>0</td>\n",
       "      <td>0</td>\n",
       "      <td>0</td>\n",
       "    </tr>\n",
       "    <tr>\n",
       "      <th>4</th>\n",
       "      <td>Accounting, Banking &amp; Finance</td>\n",
       "      <td>0</td>\n",
       "      <td>0</td>\n",
       "      <td>0</td>\n",
       "      <td>0</td>\n",
       "      <td>0</td>\n",
       "      <td>1</td>\n",
       "      <td>0</td>\n",
       "      <td>0</td>\n",
       "      <td>0</td>\n",
       "      <td>...</td>\n",
       "      <td>0</td>\n",
       "      <td>0</td>\n",
       "      <td>0</td>\n",
       "      <td>0</td>\n",
       "      <td>0</td>\n",
       "      <td>0</td>\n",
       "      <td>0</td>\n",
       "      <td>0</td>\n",
       "      <td>0</td>\n",
       "      <td>0</td>\n",
       "    </tr>\n",
       "    <tr>\n",
       "      <th>5</th>\n",
       "      <td>Education (Higher Education)</td>\n",
       "      <td>0</td>\n",
       "      <td>0</td>\n",
       "      <td>0</td>\n",
       "      <td>0</td>\n",
       "      <td>0</td>\n",
       "      <td>0</td>\n",
       "      <td>0</td>\n",
       "      <td>0</td>\n",
       "      <td>0</td>\n",
       "      <td>...</td>\n",
       "      <td>0</td>\n",
       "      <td>0</td>\n",
       "      <td>0</td>\n",
       "      <td>0</td>\n",
       "      <td>0</td>\n",
       "      <td>0</td>\n",
       "      <td>0</td>\n",
       "      <td>0</td>\n",
       "      <td>0</td>\n",
       "      <td>0</td>\n",
       "    </tr>\n",
       "    <tr>\n",
       "      <th>6</th>\n",
       "      <td>Publishing</td>\n",
       "      <td>0</td>\n",
       "      <td>0</td>\n",
       "      <td>0</td>\n",
       "      <td>0</td>\n",
       "      <td>0</td>\n",
       "      <td>0</td>\n",
       "      <td>0</td>\n",
       "      <td>0</td>\n",
       "      <td>0</td>\n",
       "      <td>...</td>\n",
       "      <td>0</td>\n",
       "      <td>0</td>\n",
       "      <td>0</td>\n",
       "      <td>0</td>\n",
       "      <td>0</td>\n",
       "      <td>0</td>\n",
       "      <td>0</td>\n",
       "      <td>0</td>\n",
       "      <td>0</td>\n",
       "      <td>0</td>\n",
       "    </tr>\n",
       "    <tr>\n",
       "      <th>7</th>\n",
       "      <td>Education (Primary/Secondary)</td>\n",
       "      <td>0</td>\n",
       "      <td>0</td>\n",
       "      <td>0</td>\n",
       "      <td>0</td>\n",
       "      <td>0</td>\n",
       "      <td>0</td>\n",
       "      <td>0</td>\n",
       "      <td>0</td>\n",
       "      <td>0</td>\n",
       "      <td>...</td>\n",
       "      <td>0</td>\n",
       "      <td>0</td>\n",
       "      <td>0</td>\n",
       "      <td>0</td>\n",
       "      <td>0</td>\n",
       "      <td>0</td>\n",
       "      <td>0</td>\n",
       "      <td>0</td>\n",
       "      <td>0</td>\n",
       "      <td>0</td>\n",
       "    </tr>\n",
       "    <tr>\n",
       "      <th>8</th>\n",
       "      <td>Computing or Tech</td>\n",
       "      <td>0</td>\n",
       "      <td>0</td>\n",
       "      <td>0</td>\n",
       "      <td>0</td>\n",
       "      <td>0</td>\n",
       "      <td>0</td>\n",
       "      <td>0</td>\n",
       "      <td>0</td>\n",
       "      <td>0</td>\n",
       "      <td>...</td>\n",
       "      <td>0</td>\n",
       "      <td>0</td>\n",
       "      <td>0</td>\n",
       "      <td>0</td>\n",
       "      <td>0</td>\n",
       "      <td>0</td>\n",
       "      <td>0</td>\n",
       "      <td>0</td>\n",
       "      <td>0</td>\n",
       "      <td>0</td>\n",
       "    </tr>\n",
       "    <tr>\n",
       "      <th>9</th>\n",
       "      <td>Accounting, Banking &amp; Finance</td>\n",
       "      <td>0</td>\n",
       "      <td>0</td>\n",
       "      <td>0</td>\n",
       "      <td>0</td>\n",
       "      <td>0</td>\n",
       "      <td>1</td>\n",
       "      <td>0</td>\n",
       "      <td>0</td>\n",
       "      <td>0</td>\n",
       "      <td>...</td>\n",
       "      <td>0</td>\n",
       "      <td>0</td>\n",
       "      <td>0</td>\n",
       "      <td>0</td>\n",
       "      <td>0</td>\n",
       "      <td>0</td>\n",
       "      <td>0</td>\n",
       "      <td>0</td>\n",
       "      <td>0</td>\n",
       "      <td>0</td>\n",
       "    </tr>\n",
       "    <tr>\n",
       "      <th>10</th>\n",
       "      <td>Nonprofits</td>\n",
       "      <td>0</td>\n",
       "      <td>0</td>\n",
       "      <td>0</td>\n",
       "      <td>0</td>\n",
       "      <td>0</td>\n",
       "      <td>0</td>\n",
       "      <td>0</td>\n",
       "      <td>0</td>\n",
       "      <td>0</td>\n",
       "      <td>...</td>\n",
       "      <td>0</td>\n",
       "      <td>0</td>\n",
       "      <td>0</td>\n",
       "      <td>0</td>\n",
       "      <td>0</td>\n",
       "      <td>0</td>\n",
       "      <td>0</td>\n",
       "      <td>0</td>\n",
       "      <td>0</td>\n",
       "      <td>0</td>\n",
       "    </tr>\n",
       "    <tr>\n",
       "      <th>11</th>\n",
       "      <td>Education (Higher Education)</td>\n",
       "      <td>0</td>\n",
       "      <td>0</td>\n",
       "      <td>0</td>\n",
       "      <td>0</td>\n",
       "      <td>0</td>\n",
       "      <td>0</td>\n",
       "      <td>0</td>\n",
       "      <td>0</td>\n",
       "      <td>0</td>\n",
       "      <td>...</td>\n",
       "      <td>0</td>\n",
       "      <td>0</td>\n",
       "      <td>0</td>\n",
       "      <td>0</td>\n",
       "      <td>0</td>\n",
       "      <td>0</td>\n",
       "      <td>0</td>\n",
       "      <td>0</td>\n",
       "      <td>0</td>\n",
       "      <td>0</td>\n",
       "    </tr>\n",
       "    <tr>\n",
       "      <th>12</th>\n",
       "      <td>Accounting, Banking &amp; Finance</td>\n",
       "      <td>0</td>\n",
       "      <td>0</td>\n",
       "      <td>0</td>\n",
       "      <td>0</td>\n",
       "      <td>0</td>\n",
       "      <td>1</td>\n",
       "      <td>0</td>\n",
       "      <td>0</td>\n",
       "      <td>0</td>\n",
       "      <td>...</td>\n",
       "      <td>0</td>\n",
       "      <td>0</td>\n",
       "      <td>0</td>\n",
       "      <td>0</td>\n",
       "      <td>0</td>\n",
       "      <td>0</td>\n",
       "      <td>0</td>\n",
       "      <td>0</td>\n",
       "      <td>0</td>\n",
       "      <td>0</td>\n",
       "    </tr>\n",
       "    <tr>\n",
       "      <th>13</th>\n",
       "      <td>Law</td>\n",
       "      <td>0</td>\n",
       "      <td>0</td>\n",
       "      <td>0</td>\n",
       "      <td>0</td>\n",
       "      <td>0</td>\n",
       "      <td>0</td>\n",
       "      <td>0</td>\n",
       "      <td>0</td>\n",
       "      <td>0</td>\n",
       "      <td>...</td>\n",
       "      <td>0</td>\n",
       "      <td>0</td>\n",
       "      <td>0</td>\n",
       "      <td>0</td>\n",
       "      <td>0</td>\n",
       "      <td>0</td>\n",
       "      <td>0</td>\n",
       "      <td>0</td>\n",
       "      <td>0</td>\n",
       "      <td>0</td>\n",
       "    </tr>\n",
       "    <tr>\n",
       "      <th>14</th>\n",
       "      <td>Health care</td>\n",
       "      <td>0</td>\n",
       "      <td>0</td>\n",
       "      <td>0</td>\n",
       "      <td>0</td>\n",
       "      <td>0</td>\n",
       "      <td>0</td>\n",
       "      <td>0</td>\n",
       "      <td>0</td>\n",
       "      <td>0</td>\n",
       "      <td>...</td>\n",
       "      <td>0</td>\n",
       "      <td>0</td>\n",
       "      <td>0</td>\n",
       "      <td>0</td>\n",
       "      <td>0</td>\n",
       "      <td>0</td>\n",
       "      <td>0</td>\n",
       "      <td>0</td>\n",
       "      <td>0</td>\n",
       "      <td>0</td>\n",
       "    </tr>\n",
       "    <tr>\n",
       "      <th>15</th>\n",
       "      <td>Utilities &amp; Telecommunications</td>\n",
       "      <td>0</td>\n",
       "      <td>0</td>\n",
       "      <td>0</td>\n",
       "      <td>0</td>\n",
       "      <td>0</td>\n",
       "      <td>0</td>\n",
       "      <td>0</td>\n",
       "      <td>0</td>\n",
       "      <td>0</td>\n",
       "      <td>...</td>\n",
       "      <td>0</td>\n",
       "      <td>0</td>\n",
       "      <td>0</td>\n",
       "      <td>0</td>\n",
       "      <td>0</td>\n",
       "      <td>0</td>\n",
       "      <td>0</td>\n",
       "      <td>0</td>\n",
       "      <td>0</td>\n",
       "      <td>0</td>\n",
       "    </tr>\n",
       "    <tr>\n",
       "      <th>16</th>\n",
       "      <td>Business or Consulting</td>\n",
       "      <td>0</td>\n",
       "      <td>0</td>\n",
       "      <td>0</td>\n",
       "      <td>0</td>\n",
       "      <td>0</td>\n",
       "      <td>0</td>\n",
       "      <td>0</td>\n",
       "      <td>0</td>\n",
       "      <td>0</td>\n",
       "      <td>...</td>\n",
       "      <td>0</td>\n",
       "      <td>0</td>\n",
       "      <td>0</td>\n",
       "      <td>0</td>\n",
       "      <td>0</td>\n",
       "      <td>0</td>\n",
       "      <td>0</td>\n",
       "      <td>0</td>\n",
       "      <td>0</td>\n",
       "      <td>0</td>\n",
       "    </tr>\n",
       "    <tr>\n",
       "      <th>17</th>\n",
       "      <td>Art &amp; Design</td>\n",
       "      <td>0</td>\n",
       "      <td>0</td>\n",
       "      <td>0</td>\n",
       "      <td>0</td>\n",
       "      <td>0</td>\n",
       "      <td>0</td>\n",
       "      <td>0</td>\n",
       "      <td>0</td>\n",
       "      <td>0</td>\n",
       "      <td>...</td>\n",
       "      <td>0</td>\n",
       "      <td>0</td>\n",
       "      <td>0</td>\n",
       "      <td>0</td>\n",
       "      <td>0</td>\n",
       "      <td>0</td>\n",
       "      <td>0</td>\n",
       "      <td>0</td>\n",
       "      <td>0</td>\n",
       "      <td>0</td>\n",
       "    </tr>\n",
       "    <tr>\n",
       "      <th>18</th>\n",
       "      <td>Business or Consulting</td>\n",
       "      <td>0</td>\n",
       "      <td>0</td>\n",
       "      <td>0</td>\n",
       "      <td>0</td>\n",
       "      <td>0</td>\n",
       "      <td>0</td>\n",
       "      <td>0</td>\n",
       "      <td>0</td>\n",
       "      <td>0</td>\n",
       "      <td>...</td>\n",
       "      <td>0</td>\n",
       "      <td>0</td>\n",
       "      <td>0</td>\n",
       "      <td>0</td>\n",
       "      <td>0</td>\n",
       "      <td>0</td>\n",
       "      <td>0</td>\n",
       "      <td>0</td>\n",
       "      <td>0</td>\n",
       "      <td>0</td>\n",
       "    </tr>\n",
       "    <tr>\n",
       "      <th>19</th>\n",
       "      <td>Education (Higher Education)</td>\n",
       "      <td>0</td>\n",
       "      <td>0</td>\n",
       "      <td>0</td>\n",
       "      <td>0</td>\n",
       "      <td>0</td>\n",
       "      <td>0</td>\n",
       "      <td>0</td>\n",
       "      <td>0</td>\n",
       "      <td>0</td>\n",
       "      <td>...</td>\n",
       "      <td>0</td>\n",
       "      <td>0</td>\n",
       "      <td>0</td>\n",
       "      <td>0</td>\n",
       "      <td>0</td>\n",
       "      <td>0</td>\n",
       "      <td>0</td>\n",
       "      <td>0</td>\n",
       "      <td>0</td>\n",
       "      <td>0</td>\n",
       "    </tr>\n",
       "  </tbody>\n",
       "</table>\n",
       "<p>20 rows × 743 columns</p>\n",
       "</div>"
      ],
      "text/plain": [
       "                          industry  academ  academia  academiacel  \\\n",
       "0     Education (Higher Education)       0         0            0   \n",
       "1                Computing or Tech       0         0            0   \n",
       "2    Accounting, Banking & Finance       0         0            0   \n",
       "3                       Nonprofits       0         0            0   \n",
       "4    Accounting, Banking & Finance       0         0            0   \n",
       "5     Education (Higher Education)       0         0            0   \n",
       "6                       Publishing       0         0            0   \n",
       "7    Education (Primary/Secondary)       0         0            0   \n",
       "8                Computing or Tech       0         0            0   \n",
       "9    Accounting, Banking & Finance       0         0            0   \n",
       "10                      Nonprofits       0         0            0   \n",
       "11    Education (Higher Education)       0         0            0   \n",
       "12   Accounting, Banking & Finance       0         0            0   \n",
       "13                             Law       0         0            0   \n",
       "14                     Health care       0         0            0   \n",
       "15  Utilities & Telecommunications       0         0            0   \n",
       "16          Business or Consulting       0         0            0   \n",
       "17                    Art & Design       0         0            0   \n",
       "18          Business or Consulting       0         0            0   \n",
       "19    Education (Higher Education)       0         0            0   \n",
       "\n",
       "    academicnonprofit  access  account  actuari  adjac  admin  ...  wineri  \\\n",
       "0                   0       0        0        0      0      0  ...       0   \n",
       "1                   0       0        0        0      0      0  ...       0   \n",
       "2                   0       0        1        0      0      0  ...       0   \n",
       "3                   0       0        0        0      0      0  ...       0   \n",
       "4                   0       0        1        0      0      0  ...       0   \n",
       "5                   0       0        0        0      0      0  ...       0   \n",
       "6                   0       0        0        0      0      0  ...       0   \n",
       "7                   0       0        0        0      0      0  ...       0   \n",
       "8                   0       0        0        0      0      0  ...       0   \n",
       "9                   0       0        1        0      0      0  ...       0   \n",
       "10                  0       0        0        0      0      0  ...       0   \n",
       "11                  0       0        0        0      0      0  ...       0   \n",
       "12                  0       0        1        0      0      0  ...       0   \n",
       "13                  0       0        0        0      0      0  ...       0   \n",
       "14                  0       0        0        0      0      0  ...       0   \n",
       "15                  0       0        0        0      0      0  ...       0   \n",
       "16                  0       0        0        0      0      0  ...       0   \n",
       "17                  0       0        0        0      0      0  ...       0   \n",
       "18                  0       0        0        0      0      0  ...       0   \n",
       "19                  0       0        0        0      0      0  ...       0   \n",
       "\n",
       "    work  workforc  workstudi  world  worth  write  year  yout  zoo  \n",
       "0      0         0          0      0      0      0     0     0    0  \n",
       "1      0         0          0      0      0      0     0     0    0  \n",
       "2      0         0          0      0      0      0     0     0    0  \n",
       "3      0         0          0      0      0      0     0     0    0  \n",
       "4      0         0          0      0      0      0     0     0    0  \n",
       "5      0         0          0      0      0      0     0     0    0  \n",
       "6      0         0          0      0      0      0     0     0    0  \n",
       "7      0         0          0      0      0      0     0     0    0  \n",
       "8      0         0          0      0      0      0     0     0    0  \n",
       "9      0         0          0      0      0      0     0     0    0  \n",
       "10     0         0          0      0      0      0     0     0    0  \n",
       "11     0         0          0      0      0      0     0     0    0  \n",
       "12     0         0          0      0      0      0     0     0    0  \n",
       "13     0         0          0      0      0      0     0     0    0  \n",
       "14     0         0          0      0      0      0     0     0    0  \n",
       "15     0         0          0      0      0      0     0     0    0  \n",
       "16     0         0          0      0      0      0     0     0    0  \n",
       "17     0         0          0      0      0      0     0     0    0  \n",
       "18     0         0          0      0      0      0     0     0    0  \n",
       "19     0         0          0      0      0      0     0     0    0  \n",
       "\n",
       "[20 rows x 743 columns]"
      ]
     },
     "execution_count": 15,
     "metadata": {},
     "output_type": "execute_result"
    }
   ],
   "source": [
    "matrix = pd.concat([text1, pd.DataFrame(X_cv.toarray(), columns=vectorizer_cv.get_feature_names_out())], axis=1)\n",
    "matrix.head(20)"
   ]
  },
  {
   "cell_type": "markdown",
   "id": "59384b71",
   "metadata": {},
   "source": [
    "# KMeans"
   ]
  },
  {
   "cell_type": "code",
   "execution_count": 65,
   "id": "d781af20",
   "metadata": {
    "ExecuteTime": {
     "end_time": "2022-04-17T22:59:44.203298Z",
     "start_time": "2022-04-17T22:59:29.880568Z"
    }
   },
   "outputs": [
    {
     "data": {
      "application/vnd.plotly.v1+json": {
       "config": {
        "plotlyServerURL": "https://plot.ly"
       },
       "data": [
        {
         "hovertemplate": "x=%{x}<br>y=%{y}<extra></extra>",
         "legendgroup": "",
         "line": {
          "color": "#636efa",
          "dash": "solid"
         },
         "marker": {
          "symbol": "circle"
         },
         "mode": "lines",
         "name": "",
         "orientation": "v",
         "showlegend": false,
         "type": "scatter",
         "x": [
          10,
          20,
          30,
          40,
          50,
          60,
          70,
          80,
          90
         ],
         "xaxis": "x",
         "y": [
          13618.07781169877,
          5662.62653253781,
          3295.6977710597407,
          2559.360385543632,
          2279.5061958732267,
          2044.6185103986936,
          1911.0696116769795,
          1796.044682406717,
          1686.2342052313397
         ],
         "yaxis": "y"
        }
       ],
       "layout": {
        "legend": {
         "tracegroupgap": 0
        },
        "margin": {
         "t": 60
        },
        "template": {
         "data": {
          "bar": [
           {
            "error_x": {
             "color": "#2a3f5f"
            },
            "error_y": {
             "color": "#2a3f5f"
            },
            "marker": {
             "line": {
              "color": "#E5ECF6",
              "width": 0.5
             },
             "pattern": {
              "fillmode": "overlay",
              "size": 10,
              "solidity": 0.2
             }
            },
            "type": "bar"
           }
          ],
          "barpolar": [
           {
            "marker": {
             "line": {
              "color": "#E5ECF6",
              "width": 0.5
             },
             "pattern": {
              "fillmode": "overlay",
              "size": 10,
              "solidity": 0.2
             }
            },
            "type": "barpolar"
           }
          ],
          "carpet": [
           {
            "aaxis": {
             "endlinecolor": "#2a3f5f",
             "gridcolor": "white",
             "linecolor": "white",
             "minorgridcolor": "white",
             "startlinecolor": "#2a3f5f"
            },
            "baxis": {
             "endlinecolor": "#2a3f5f",
             "gridcolor": "white",
             "linecolor": "white",
             "minorgridcolor": "white",
             "startlinecolor": "#2a3f5f"
            },
            "type": "carpet"
           }
          ],
          "choropleth": [
           {
            "colorbar": {
             "outlinewidth": 0,
             "ticks": ""
            },
            "type": "choropleth"
           }
          ],
          "contour": [
           {
            "colorbar": {
             "outlinewidth": 0,
             "ticks": ""
            },
            "colorscale": [
             [
              0,
              "#0d0887"
             ],
             [
              0.1111111111111111,
              "#46039f"
             ],
             [
              0.2222222222222222,
              "#7201a8"
             ],
             [
              0.3333333333333333,
              "#9c179e"
             ],
             [
              0.4444444444444444,
              "#bd3786"
             ],
             [
              0.5555555555555556,
              "#d8576b"
             ],
             [
              0.6666666666666666,
              "#ed7953"
             ],
             [
              0.7777777777777778,
              "#fb9f3a"
             ],
             [
              0.8888888888888888,
              "#fdca26"
             ],
             [
              1,
              "#f0f921"
             ]
            ],
            "type": "contour"
           }
          ],
          "contourcarpet": [
           {
            "colorbar": {
             "outlinewidth": 0,
             "ticks": ""
            },
            "type": "contourcarpet"
           }
          ],
          "heatmap": [
           {
            "colorbar": {
             "outlinewidth": 0,
             "ticks": ""
            },
            "colorscale": [
             [
              0,
              "#0d0887"
             ],
             [
              0.1111111111111111,
              "#46039f"
             ],
             [
              0.2222222222222222,
              "#7201a8"
             ],
             [
              0.3333333333333333,
              "#9c179e"
             ],
             [
              0.4444444444444444,
              "#bd3786"
             ],
             [
              0.5555555555555556,
              "#d8576b"
             ],
             [
              0.6666666666666666,
              "#ed7953"
             ],
             [
              0.7777777777777778,
              "#fb9f3a"
             ],
             [
              0.8888888888888888,
              "#fdca26"
             ],
             [
              1,
              "#f0f921"
             ]
            ],
            "type": "heatmap"
           }
          ],
          "heatmapgl": [
           {
            "colorbar": {
             "outlinewidth": 0,
             "ticks": ""
            },
            "colorscale": [
             [
              0,
              "#0d0887"
             ],
             [
              0.1111111111111111,
              "#46039f"
             ],
             [
              0.2222222222222222,
              "#7201a8"
             ],
             [
              0.3333333333333333,
              "#9c179e"
             ],
             [
              0.4444444444444444,
              "#bd3786"
             ],
             [
              0.5555555555555556,
              "#d8576b"
             ],
             [
              0.6666666666666666,
              "#ed7953"
             ],
             [
              0.7777777777777778,
              "#fb9f3a"
             ],
             [
              0.8888888888888888,
              "#fdca26"
             ],
             [
              1,
              "#f0f921"
             ]
            ],
            "type": "heatmapgl"
           }
          ],
          "histogram": [
           {
            "marker": {
             "pattern": {
              "fillmode": "overlay",
              "size": 10,
              "solidity": 0.2
             }
            },
            "type": "histogram"
           }
          ],
          "histogram2d": [
           {
            "colorbar": {
             "outlinewidth": 0,
             "ticks": ""
            },
            "colorscale": [
             [
              0,
              "#0d0887"
             ],
             [
              0.1111111111111111,
              "#46039f"
             ],
             [
              0.2222222222222222,
              "#7201a8"
             ],
             [
              0.3333333333333333,
              "#9c179e"
             ],
             [
              0.4444444444444444,
              "#bd3786"
             ],
             [
              0.5555555555555556,
              "#d8576b"
             ],
             [
              0.6666666666666666,
              "#ed7953"
             ],
             [
              0.7777777777777778,
              "#fb9f3a"
             ],
             [
              0.8888888888888888,
              "#fdca26"
             ],
             [
              1,
              "#f0f921"
             ]
            ],
            "type": "histogram2d"
           }
          ],
          "histogram2dcontour": [
           {
            "colorbar": {
             "outlinewidth": 0,
             "ticks": ""
            },
            "colorscale": [
             [
              0,
              "#0d0887"
             ],
             [
              0.1111111111111111,
              "#46039f"
             ],
             [
              0.2222222222222222,
              "#7201a8"
             ],
             [
              0.3333333333333333,
              "#9c179e"
             ],
             [
              0.4444444444444444,
              "#bd3786"
             ],
             [
              0.5555555555555556,
              "#d8576b"
             ],
             [
              0.6666666666666666,
              "#ed7953"
             ],
             [
              0.7777777777777778,
              "#fb9f3a"
             ],
             [
              0.8888888888888888,
              "#fdca26"
             ],
             [
              1,
              "#f0f921"
             ]
            ],
            "type": "histogram2dcontour"
           }
          ],
          "mesh3d": [
           {
            "colorbar": {
             "outlinewidth": 0,
             "ticks": ""
            },
            "type": "mesh3d"
           }
          ],
          "parcoords": [
           {
            "line": {
             "colorbar": {
              "outlinewidth": 0,
              "ticks": ""
             }
            },
            "type": "parcoords"
           }
          ],
          "pie": [
           {
            "automargin": true,
            "type": "pie"
           }
          ],
          "scatter": [
           {
            "marker": {
             "colorbar": {
              "outlinewidth": 0,
              "ticks": ""
             }
            },
            "type": "scatter"
           }
          ],
          "scatter3d": [
           {
            "line": {
             "colorbar": {
              "outlinewidth": 0,
              "ticks": ""
             }
            },
            "marker": {
             "colorbar": {
              "outlinewidth": 0,
              "ticks": ""
             }
            },
            "type": "scatter3d"
           }
          ],
          "scattercarpet": [
           {
            "marker": {
             "colorbar": {
              "outlinewidth": 0,
              "ticks": ""
             }
            },
            "type": "scattercarpet"
           }
          ],
          "scattergeo": [
           {
            "marker": {
             "colorbar": {
              "outlinewidth": 0,
              "ticks": ""
             }
            },
            "type": "scattergeo"
           }
          ],
          "scattergl": [
           {
            "marker": {
             "colorbar": {
              "outlinewidth": 0,
              "ticks": ""
             }
            },
            "type": "scattergl"
           }
          ],
          "scattermapbox": [
           {
            "marker": {
             "colorbar": {
              "outlinewidth": 0,
              "ticks": ""
             }
            },
            "type": "scattermapbox"
           }
          ],
          "scatterpolar": [
           {
            "marker": {
             "colorbar": {
              "outlinewidth": 0,
              "ticks": ""
             }
            },
            "type": "scatterpolar"
           }
          ],
          "scatterpolargl": [
           {
            "marker": {
             "colorbar": {
              "outlinewidth": 0,
              "ticks": ""
             }
            },
            "type": "scatterpolargl"
           }
          ],
          "scatterternary": [
           {
            "marker": {
             "colorbar": {
              "outlinewidth": 0,
              "ticks": ""
             }
            },
            "type": "scatterternary"
           }
          ],
          "surface": [
           {
            "colorbar": {
             "outlinewidth": 0,
             "ticks": ""
            },
            "colorscale": [
             [
              0,
              "#0d0887"
             ],
             [
              0.1111111111111111,
              "#46039f"
             ],
             [
              0.2222222222222222,
              "#7201a8"
             ],
             [
              0.3333333333333333,
              "#9c179e"
             ],
             [
              0.4444444444444444,
              "#bd3786"
             ],
             [
              0.5555555555555556,
              "#d8576b"
             ],
             [
              0.6666666666666666,
              "#ed7953"
             ],
             [
              0.7777777777777778,
              "#fb9f3a"
             ],
             [
              0.8888888888888888,
              "#fdca26"
             ],
             [
              1,
              "#f0f921"
             ]
            ],
            "type": "surface"
           }
          ],
          "table": [
           {
            "cells": {
             "fill": {
              "color": "#EBF0F8"
             },
             "line": {
              "color": "white"
             }
            },
            "header": {
             "fill": {
              "color": "#C8D4E3"
             },
             "line": {
              "color": "white"
             }
            },
            "type": "table"
           }
          ]
         },
         "layout": {
          "annotationdefaults": {
           "arrowcolor": "#2a3f5f",
           "arrowhead": 0,
           "arrowwidth": 1
          },
          "autotypenumbers": "strict",
          "coloraxis": {
           "colorbar": {
            "outlinewidth": 0,
            "ticks": ""
           }
          },
          "colorscale": {
           "diverging": [
            [
             0,
             "#8e0152"
            ],
            [
             0.1,
             "#c51b7d"
            ],
            [
             0.2,
             "#de77ae"
            ],
            [
             0.3,
             "#f1b6da"
            ],
            [
             0.4,
             "#fde0ef"
            ],
            [
             0.5,
             "#f7f7f7"
            ],
            [
             0.6,
             "#e6f5d0"
            ],
            [
             0.7,
             "#b8e186"
            ],
            [
             0.8,
             "#7fbc41"
            ],
            [
             0.9,
             "#4d9221"
            ],
            [
             1,
             "#276419"
            ]
           ],
           "sequential": [
            [
             0,
             "#0d0887"
            ],
            [
             0.1111111111111111,
             "#46039f"
            ],
            [
             0.2222222222222222,
             "#7201a8"
            ],
            [
             0.3333333333333333,
             "#9c179e"
            ],
            [
             0.4444444444444444,
             "#bd3786"
            ],
            [
             0.5555555555555556,
             "#d8576b"
            ],
            [
             0.6666666666666666,
             "#ed7953"
            ],
            [
             0.7777777777777778,
             "#fb9f3a"
            ],
            [
             0.8888888888888888,
             "#fdca26"
            ],
            [
             1,
             "#f0f921"
            ]
           ],
           "sequentialminus": [
            [
             0,
             "#0d0887"
            ],
            [
             0.1111111111111111,
             "#46039f"
            ],
            [
             0.2222222222222222,
             "#7201a8"
            ],
            [
             0.3333333333333333,
             "#9c179e"
            ],
            [
             0.4444444444444444,
             "#bd3786"
            ],
            [
             0.5555555555555556,
             "#d8576b"
            ],
            [
             0.6666666666666666,
             "#ed7953"
            ],
            [
             0.7777777777777778,
             "#fb9f3a"
            ],
            [
             0.8888888888888888,
             "#fdca26"
            ],
            [
             1,
             "#f0f921"
            ]
           ]
          },
          "colorway": [
           "#636efa",
           "#EF553B",
           "#00cc96",
           "#ab63fa",
           "#FFA15A",
           "#19d3f3",
           "#FF6692",
           "#B6E880",
           "#FF97FF",
           "#FECB52"
          ],
          "font": {
           "color": "#2a3f5f"
          },
          "geo": {
           "bgcolor": "white",
           "lakecolor": "white",
           "landcolor": "#E5ECF6",
           "showlakes": true,
           "showland": true,
           "subunitcolor": "white"
          },
          "hoverlabel": {
           "align": "left"
          },
          "hovermode": "closest",
          "mapbox": {
           "style": "light"
          },
          "paper_bgcolor": "white",
          "plot_bgcolor": "#E5ECF6",
          "polar": {
           "angularaxis": {
            "gridcolor": "white",
            "linecolor": "white",
            "ticks": ""
           },
           "bgcolor": "#E5ECF6",
           "radialaxis": {
            "gridcolor": "white",
            "linecolor": "white",
            "ticks": ""
           }
          },
          "scene": {
           "xaxis": {
            "backgroundcolor": "#E5ECF6",
            "gridcolor": "white",
            "gridwidth": 2,
            "linecolor": "white",
            "showbackground": true,
            "ticks": "",
            "zerolinecolor": "white"
           },
           "yaxis": {
            "backgroundcolor": "#E5ECF6",
            "gridcolor": "white",
            "gridwidth": 2,
            "linecolor": "white",
            "showbackground": true,
            "ticks": "",
            "zerolinecolor": "white"
           },
           "zaxis": {
            "backgroundcolor": "#E5ECF6",
            "gridcolor": "white",
            "gridwidth": 2,
            "linecolor": "white",
            "showbackground": true,
            "ticks": "",
            "zerolinecolor": "white"
           }
          },
          "shapedefaults": {
           "line": {
            "color": "#2a3f5f"
           }
          },
          "ternary": {
           "aaxis": {
            "gridcolor": "white",
            "linecolor": "white",
            "ticks": ""
           },
           "baxis": {
            "gridcolor": "white",
            "linecolor": "white",
            "ticks": ""
           },
           "bgcolor": "#E5ECF6",
           "caxis": {
            "gridcolor": "white",
            "linecolor": "white",
            "ticks": ""
           }
          },
          "title": {
           "x": 0.05
          },
          "xaxis": {
           "automargin": true,
           "gridcolor": "white",
           "linecolor": "white",
           "ticks": "",
           "title": {
            "standoff": 15
           },
           "zerolinecolor": "white",
           "zerolinewidth": 2
          },
          "yaxis": {
           "automargin": true,
           "gridcolor": "white",
           "linecolor": "white",
           "ticks": "",
           "title": {
            "standoff": 15
           },
           "zerolinecolor": "white",
           "zerolinewidth": 2
          }
         }
        },
        "xaxis": {
         "anchor": "y",
         "domain": [
          0,
          1
         ],
         "title": {
          "text": "x"
         }
        },
        "yaxis": {
         "anchor": "x",
         "domain": [
          0,
          1
         ],
         "title": {
          "text": "y"
         }
        }
       }
      },
      "text/html": [
       "<div>                            <div id=\"d08507c6-7cb2-46cd-b2b6-b82669311326\" class=\"plotly-graph-div\" style=\"height:525px; width:100%;\"></div>            <script type=\"text/javascript\">                require([\"plotly\"], function(Plotly) {                    window.PLOTLYENV=window.PLOTLYENV || {};                                    if (document.getElementById(\"d08507c6-7cb2-46cd-b2b6-b82669311326\")) {                    Plotly.newPlot(                        \"d08507c6-7cb2-46cd-b2b6-b82669311326\",                        [{\"hovertemplate\":\"x=%{x}<br>y=%{y}<extra></extra>\",\"legendgroup\":\"\",\"line\":{\"color\":\"#636efa\",\"dash\":\"solid\"},\"marker\":{\"symbol\":\"circle\"},\"mode\":\"lines\",\"name\":\"\",\"orientation\":\"v\",\"showlegend\":false,\"type\":\"scatter\",\"x\":[10,20,30,40,50,60,70,80,90],\"xaxis\":\"x\",\"y\":[13618.07781169877,5662.62653253781,3295.6977710597407,2559.360385543632,2279.5061958732267,2044.6185103986936,1911.0696116769795,1796.044682406717,1686.2342052313397],\"yaxis\":\"y\"}],                        {\"legend\":{\"tracegroupgap\":0},\"margin\":{\"t\":60},\"template\":{\"data\":{\"bar\":[{\"error_x\":{\"color\":\"#2a3f5f\"},\"error_y\":{\"color\":\"#2a3f5f\"},\"marker\":{\"line\":{\"color\":\"#E5ECF6\",\"width\":0.5},\"pattern\":{\"fillmode\":\"overlay\",\"size\":10,\"solidity\":0.2}},\"type\":\"bar\"}],\"barpolar\":[{\"marker\":{\"line\":{\"color\":\"#E5ECF6\",\"width\":0.5},\"pattern\":{\"fillmode\":\"overlay\",\"size\":10,\"solidity\":0.2}},\"type\":\"barpolar\"}],\"carpet\":[{\"aaxis\":{\"endlinecolor\":\"#2a3f5f\",\"gridcolor\":\"white\",\"linecolor\":\"white\",\"minorgridcolor\":\"white\",\"startlinecolor\":\"#2a3f5f\"},\"baxis\":{\"endlinecolor\":\"#2a3f5f\",\"gridcolor\":\"white\",\"linecolor\":\"white\",\"minorgridcolor\":\"white\",\"startlinecolor\":\"#2a3f5f\"},\"type\":\"carpet\"}],\"choropleth\":[{\"colorbar\":{\"outlinewidth\":0,\"ticks\":\"\"},\"type\":\"choropleth\"}],\"contour\":[{\"colorbar\":{\"outlinewidth\":0,\"ticks\":\"\"},\"colorscale\":[[0.0,\"#0d0887\"],[0.1111111111111111,\"#46039f\"],[0.2222222222222222,\"#7201a8\"],[0.3333333333333333,\"#9c179e\"],[0.4444444444444444,\"#bd3786\"],[0.5555555555555556,\"#d8576b\"],[0.6666666666666666,\"#ed7953\"],[0.7777777777777778,\"#fb9f3a\"],[0.8888888888888888,\"#fdca26\"],[1.0,\"#f0f921\"]],\"type\":\"contour\"}],\"contourcarpet\":[{\"colorbar\":{\"outlinewidth\":0,\"ticks\":\"\"},\"type\":\"contourcarpet\"}],\"heatmap\":[{\"colorbar\":{\"outlinewidth\":0,\"ticks\":\"\"},\"colorscale\":[[0.0,\"#0d0887\"],[0.1111111111111111,\"#46039f\"],[0.2222222222222222,\"#7201a8\"],[0.3333333333333333,\"#9c179e\"],[0.4444444444444444,\"#bd3786\"],[0.5555555555555556,\"#d8576b\"],[0.6666666666666666,\"#ed7953\"],[0.7777777777777778,\"#fb9f3a\"],[0.8888888888888888,\"#fdca26\"],[1.0,\"#f0f921\"]],\"type\":\"heatmap\"}],\"heatmapgl\":[{\"colorbar\":{\"outlinewidth\":0,\"ticks\":\"\"},\"colorscale\":[[0.0,\"#0d0887\"],[0.1111111111111111,\"#46039f\"],[0.2222222222222222,\"#7201a8\"],[0.3333333333333333,\"#9c179e\"],[0.4444444444444444,\"#bd3786\"],[0.5555555555555556,\"#d8576b\"],[0.6666666666666666,\"#ed7953\"],[0.7777777777777778,\"#fb9f3a\"],[0.8888888888888888,\"#fdca26\"],[1.0,\"#f0f921\"]],\"type\":\"heatmapgl\"}],\"histogram\":[{\"marker\":{\"pattern\":{\"fillmode\":\"overlay\",\"size\":10,\"solidity\":0.2}},\"type\":\"histogram\"}],\"histogram2d\":[{\"colorbar\":{\"outlinewidth\":0,\"ticks\":\"\"},\"colorscale\":[[0.0,\"#0d0887\"],[0.1111111111111111,\"#46039f\"],[0.2222222222222222,\"#7201a8\"],[0.3333333333333333,\"#9c179e\"],[0.4444444444444444,\"#bd3786\"],[0.5555555555555556,\"#d8576b\"],[0.6666666666666666,\"#ed7953\"],[0.7777777777777778,\"#fb9f3a\"],[0.8888888888888888,\"#fdca26\"],[1.0,\"#f0f921\"]],\"type\":\"histogram2d\"}],\"histogram2dcontour\":[{\"colorbar\":{\"outlinewidth\":0,\"ticks\":\"\"},\"colorscale\":[[0.0,\"#0d0887\"],[0.1111111111111111,\"#46039f\"],[0.2222222222222222,\"#7201a8\"],[0.3333333333333333,\"#9c179e\"],[0.4444444444444444,\"#bd3786\"],[0.5555555555555556,\"#d8576b\"],[0.6666666666666666,\"#ed7953\"],[0.7777777777777778,\"#fb9f3a\"],[0.8888888888888888,\"#fdca26\"],[1.0,\"#f0f921\"]],\"type\":\"histogram2dcontour\"}],\"mesh3d\":[{\"colorbar\":{\"outlinewidth\":0,\"ticks\":\"\"},\"type\":\"mesh3d\"}],\"parcoords\":[{\"line\":{\"colorbar\":{\"outlinewidth\":0,\"ticks\":\"\"}},\"type\":\"parcoords\"}],\"pie\":[{\"automargin\":true,\"type\":\"pie\"}],\"scatter\":[{\"marker\":{\"colorbar\":{\"outlinewidth\":0,\"ticks\":\"\"}},\"type\":\"scatter\"}],\"scatter3d\":[{\"line\":{\"colorbar\":{\"outlinewidth\":0,\"ticks\":\"\"}},\"marker\":{\"colorbar\":{\"outlinewidth\":0,\"ticks\":\"\"}},\"type\":\"scatter3d\"}],\"scattercarpet\":[{\"marker\":{\"colorbar\":{\"outlinewidth\":0,\"ticks\":\"\"}},\"type\":\"scattercarpet\"}],\"scattergeo\":[{\"marker\":{\"colorbar\":{\"outlinewidth\":0,\"ticks\":\"\"}},\"type\":\"scattergeo\"}],\"scattergl\":[{\"marker\":{\"colorbar\":{\"outlinewidth\":0,\"ticks\":\"\"}},\"type\":\"scattergl\"}],\"scattermapbox\":[{\"marker\":{\"colorbar\":{\"outlinewidth\":0,\"ticks\":\"\"}},\"type\":\"scattermapbox\"}],\"scatterpolar\":[{\"marker\":{\"colorbar\":{\"outlinewidth\":0,\"ticks\":\"\"}},\"type\":\"scatterpolar\"}],\"scatterpolargl\":[{\"marker\":{\"colorbar\":{\"outlinewidth\":0,\"ticks\":\"\"}},\"type\":\"scatterpolargl\"}],\"scatterternary\":[{\"marker\":{\"colorbar\":{\"outlinewidth\":0,\"ticks\":\"\"}},\"type\":\"scatterternary\"}],\"surface\":[{\"colorbar\":{\"outlinewidth\":0,\"ticks\":\"\"},\"colorscale\":[[0.0,\"#0d0887\"],[0.1111111111111111,\"#46039f\"],[0.2222222222222222,\"#7201a8\"],[0.3333333333333333,\"#9c179e\"],[0.4444444444444444,\"#bd3786\"],[0.5555555555555556,\"#d8576b\"],[0.6666666666666666,\"#ed7953\"],[0.7777777777777778,\"#fb9f3a\"],[0.8888888888888888,\"#fdca26\"],[1.0,\"#f0f921\"]],\"type\":\"surface\"}],\"table\":[{\"cells\":{\"fill\":{\"color\":\"#EBF0F8\"},\"line\":{\"color\":\"white\"}},\"header\":{\"fill\":{\"color\":\"#C8D4E3\"},\"line\":{\"color\":\"white\"}},\"type\":\"table\"}]},\"layout\":{\"annotationdefaults\":{\"arrowcolor\":\"#2a3f5f\",\"arrowhead\":0,\"arrowwidth\":1},\"autotypenumbers\":\"strict\",\"coloraxis\":{\"colorbar\":{\"outlinewidth\":0,\"ticks\":\"\"}},\"colorscale\":{\"diverging\":[[0,\"#8e0152\"],[0.1,\"#c51b7d\"],[0.2,\"#de77ae\"],[0.3,\"#f1b6da\"],[0.4,\"#fde0ef\"],[0.5,\"#f7f7f7\"],[0.6,\"#e6f5d0\"],[0.7,\"#b8e186\"],[0.8,\"#7fbc41\"],[0.9,\"#4d9221\"],[1,\"#276419\"]],\"sequential\":[[0.0,\"#0d0887\"],[0.1111111111111111,\"#46039f\"],[0.2222222222222222,\"#7201a8\"],[0.3333333333333333,\"#9c179e\"],[0.4444444444444444,\"#bd3786\"],[0.5555555555555556,\"#d8576b\"],[0.6666666666666666,\"#ed7953\"],[0.7777777777777778,\"#fb9f3a\"],[0.8888888888888888,\"#fdca26\"],[1.0,\"#f0f921\"]],\"sequentialminus\":[[0.0,\"#0d0887\"],[0.1111111111111111,\"#46039f\"],[0.2222222222222222,\"#7201a8\"],[0.3333333333333333,\"#9c179e\"],[0.4444444444444444,\"#bd3786\"],[0.5555555555555556,\"#d8576b\"],[0.6666666666666666,\"#ed7953\"],[0.7777777777777778,\"#fb9f3a\"],[0.8888888888888888,\"#fdca26\"],[1.0,\"#f0f921\"]]},\"colorway\":[\"#636efa\",\"#EF553B\",\"#00cc96\",\"#ab63fa\",\"#FFA15A\",\"#19d3f3\",\"#FF6692\",\"#B6E880\",\"#FF97FF\",\"#FECB52\"],\"font\":{\"color\":\"#2a3f5f\"},\"geo\":{\"bgcolor\":\"white\",\"lakecolor\":\"white\",\"landcolor\":\"#E5ECF6\",\"showlakes\":true,\"showland\":true,\"subunitcolor\":\"white\"},\"hoverlabel\":{\"align\":\"left\"},\"hovermode\":\"closest\",\"mapbox\":{\"style\":\"light\"},\"paper_bgcolor\":\"white\",\"plot_bgcolor\":\"#E5ECF6\",\"polar\":{\"angularaxis\":{\"gridcolor\":\"white\",\"linecolor\":\"white\",\"ticks\":\"\"},\"bgcolor\":\"#E5ECF6\",\"radialaxis\":{\"gridcolor\":\"white\",\"linecolor\":\"white\",\"ticks\":\"\"}},\"scene\":{\"xaxis\":{\"backgroundcolor\":\"#E5ECF6\",\"gridcolor\":\"white\",\"gridwidth\":2,\"linecolor\":\"white\",\"showbackground\":true,\"ticks\":\"\",\"zerolinecolor\":\"white\"},\"yaxis\":{\"backgroundcolor\":\"#E5ECF6\",\"gridcolor\":\"white\",\"gridwidth\":2,\"linecolor\":\"white\",\"showbackground\":true,\"ticks\":\"\",\"zerolinecolor\":\"white\"},\"zaxis\":{\"backgroundcolor\":\"#E5ECF6\",\"gridcolor\":\"white\",\"gridwidth\":2,\"linecolor\":\"white\",\"showbackground\":true,\"ticks\":\"\",\"zerolinecolor\":\"white\"}},\"shapedefaults\":{\"line\":{\"color\":\"#2a3f5f\"}},\"ternary\":{\"aaxis\":{\"gridcolor\":\"white\",\"linecolor\":\"white\",\"ticks\":\"\"},\"baxis\":{\"gridcolor\":\"white\",\"linecolor\":\"white\",\"ticks\":\"\"},\"bgcolor\":\"#E5ECF6\",\"caxis\":{\"gridcolor\":\"white\",\"linecolor\":\"white\",\"ticks\":\"\"}},\"title\":{\"x\":0.05},\"xaxis\":{\"automargin\":true,\"gridcolor\":\"white\",\"linecolor\":\"white\",\"ticks\":\"\",\"title\":{\"standoff\":15},\"zerolinecolor\":\"white\",\"zerolinewidth\":2},\"yaxis\":{\"automargin\":true,\"gridcolor\":\"white\",\"linecolor\":\"white\",\"ticks\":\"\",\"title\":{\"standoff\":15},\"zerolinecolor\":\"white\",\"zerolinewidth\":2}}},\"xaxis\":{\"anchor\":\"y\",\"domain\":[0.0,1.0],\"title\":{\"text\":\"x\"}},\"yaxis\":{\"anchor\":\"x\",\"domain\":[0.0,1.0],\"title\":{\"text\":\"y\"}}},                        {\"responsive\": true}                    ).then(function(){\n",
       "                            \n",
       "var gd = document.getElementById('d08507c6-7cb2-46cd-b2b6-b82669311326');\n",
       "var x = new MutationObserver(function (mutations, observer) {{\n",
       "        var display = window.getComputedStyle(gd).display;\n",
       "        if (!display || display === 'none') {{\n",
       "            console.log([gd, 'removed!']);\n",
       "            Plotly.purge(gd);\n",
       "            observer.disconnect();\n",
       "        }}\n",
       "}});\n",
       "\n",
       "// Listen for the removal of the full notebook cells\n",
       "var notebookContainer = gd.closest('#notebook-container');\n",
       "if (notebookContainer) {{\n",
       "    x.observe(notebookContainer, {childList: true});\n",
       "}}\n",
       "\n",
       "// Listen for the clearing of the current output cell\n",
       "var outputEl = gd.closest('.output');\n",
       "if (outputEl) {{\n",
       "    x.observe(outputEl, {childList: true});\n",
       "}}\n",
       "\n",
       "                        })                };                });            </script>        </div>"
      ]
     },
     "metadata": {},
     "output_type": "display_data"
    }
   ],
   "source": [
    "sse={}\n",
    "for k in np.arange(10,100,10):\n",
    "    kmeans = KMeans(n_clusters=k, max_iter=1000).fit(X_cv)\n",
    "    sse[k] = kmeans.inertia_\n",
    "fig = px.line(x=list(sse.keys()),y=list(sse.values()))\n",
    "fig.show()"
   ]
  },
  {
   "cell_type": "code",
   "execution_count": 78,
   "id": "12f02d91",
   "metadata": {
    "ExecuteTime": {
     "end_time": "2022-04-17T23:02:42.379409Z",
     "start_time": "2022-04-17T23:02:39.170028Z"
    }
   },
   "outputs": [
    {
     "data": {
      "text/plain": [
       "(                            industry  cluster\n",
       " 0       Education (Higher Education)        1\n",
       " 1                  Computing or Tech        0\n",
       " 2      Accounting, Banking & Finance        3\n",
       " 3                         Nonprofits        2\n",
       " 4      Accounting, Banking & Finance        3\n",
       " ...                              ...      ...\n",
       " 26227                Media & Digital       11\n",
       " 26228                     Nonprofits        2\n",
       " 26229              Computing or Tech        0\n",
       " 26230    Marketing, Advertising & PR        9\n",
       " 26231                            Law        5\n",
       " \n",
       " [26232 rows x 2 columns],\n",
       " 1585.2259534146133)"
      ]
     },
     "execution_count": 78,
     "metadata": {},
     "output_type": "execute_result"
    }
   ],
   "source": [
    "kmeans = KMeans(n_clusters=100)\n",
    "kmeans.fit(X_cv)\n",
    "result = pd.concat([text1,pd.DataFrame(X_cv.toarray(),columns=vectorizer_cv.get_feature_names_out())],axis=1)\n",
    "result['cluster'] = kmeans.predict(X_cv)\n",
    "result[[\"industry\", \"cluster\"]], kmeans.inertia_"
   ]
  },
  {
   "cell_type": "code",
   "execution_count": 79,
   "id": "2c5f9750",
   "metadata": {
    "ExecuteTime": {
     "end_time": "2022-04-17T23:02:44.263554Z",
     "start_time": "2022-04-17T23:02:43.689259Z"
    },
    "cell_style": "split"
   },
   "outputs": [
    {
     "data": {
      "text/html": [
       "<div>\n",
       "<style scoped>\n",
       "    .dataframe tbody tr th:only-of-type {\n",
       "        vertical-align: middle;\n",
       "    }\n",
       "\n",
       "    .dataframe tbody tr th {\n",
       "        vertical-align: top;\n",
       "    }\n",
       "\n",
       "    .dataframe thead th {\n",
       "        text-align: right;\n",
       "    }\n",
       "</style>\n",
       "<table border=\"1\" class=\"dataframe\">\n",
       "  <thead>\n",
       "    <tr style=\"text-align: right;\">\n",
       "      <th></th>\n",
       "      <th>industry</th>\n",
       "      <th>cluster</th>\n",
       "      <th>label</th>\n",
       "    </tr>\n",
       "  </thead>\n",
       "  <tbody>\n",
       "    <tr>\n",
       "      <th>0</th>\n",
       "      <td>Education (Higher Education)</td>\n",
       "      <td>1</td>\n",
       "      <td>educ higher</td>\n",
       "    </tr>\n",
       "    <tr>\n",
       "      <th>1</th>\n",
       "      <td>Computing or Tech</td>\n",
       "      <td>0</td>\n",
       "      <td>tech</td>\n",
       "    </tr>\n",
       "    <tr>\n",
       "      <th>2</th>\n",
       "      <td>Accounting, Banking &amp; Finance</td>\n",
       "      <td>3</td>\n",
       "      <td>account bank financ</td>\n",
       "    </tr>\n",
       "    <tr>\n",
       "      <th>3</th>\n",
       "      <td>Nonprofits</td>\n",
       "      <td>2</td>\n",
       "      <td>nonprofit</td>\n",
       "    </tr>\n",
       "    <tr>\n",
       "      <th>4</th>\n",
       "      <td>Accounting, Banking &amp; Finance</td>\n",
       "      <td>3</td>\n",
       "      <td>account bank financ</td>\n",
       "    </tr>\n",
       "    <tr>\n",
       "      <th>...</th>\n",
       "      <td>...</td>\n",
       "      <td>...</td>\n",
       "      <td>...</td>\n",
       "    </tr>\n",
       "    <tr>\n",
       "      <th>26227</th>\n",
       "      <td>Media &amp; Digital</td>\n",
       "      <td>11</td>\n",
       "      <td>digit</td>\n",
       "    </tr>\n",
       "    <tr>\n",
       "      <th>26228</th>\n",
       "      <td>Nonprofits</td>\n",
       "      <td>2</td>\n",
       "      <td>nonprofit</td>\n",
       "    </tr>\n",
       "    <tr>\n",
       "      <th>26229</th>\n",
       "      <td>Computing or Tech</td>\n",
       "      <td>0</td>\n",
       "      <td>tech</td>\n",
       "    </tr>\n",
       "    <tr>\n",
       "      <th>26230</th>\n",
       "      <td>Marketing, Advertising &amp; PR</td>\n",
       "      <td>9</td>\n",
       "      <td>advertis market pr</td>\n",
       "    </tr>\n",
       "    <tr>\n",
       "      <th>26231</th>\n",
       "      <td>Law</td>\n",
       "      <td>5</td>\n",
       "      <td>law</td>\n",
       "    </tr>\n",
       "  </tbody>\n",
       "</table>\n",
       "<p>26232 rows × 3 columns</p>\n",
       "</div>"
      ],
      "text/plain": [
       "                            industry  cluster                label\n",
       "0       Education (Higher Education)        1          educ higher\n",
       "1                  Computing or Tech        0                 tech\n",
       "2      Accounting, Banking & Finance        3  account bank financ\n",
       "3                         Nonprofits        2            nonprofit\n",
       "4      Accounting, Banking & Finance        3  account bank financ\n",
       "...                              ...      ...                  ...\n",
       "26227                Media & Digital       11                digit\n",
       "26228                     Nonprofits        2            nonprofit\n",
       "26229              Computing or Tech        0                 tech\n",
       "26230    Marketing, Advertising & PR        9   advertis market pr\n",
       "26231                            Law        5                  law\n",
       "\n",
       "[26232 rows x 3 columns]"
      ]
     },
     "execution_count": 79,
     "metadata": {},
     "output_type": "execute_result"
    }
   ],
   "source": [
    "clusters = result['cluster'].unique()\n",
    "labels = []\n",
    "for i in range(len(clusters)):\n",
    "    subset = result[result['cluster'] == clusters[i]]\n",
    "    words = ' '.join([x for x in np.where(subset.all()!=0,subset.columns,None) if x and x!='industry' and x!='cluster' and len(x.split()) == 1])\n",
    "    labels.append(words)\n",
    "labels_table = pd.DataFrame(zip(clusters,labels),columns=['cluster','label'])\n",
    "result_labelled = pd.merge(result,labels_table,on='cluster',how='left')\n",
    "result_labelled[[\"industry\", \"cluster\", \"label\"]]"
   ]
  },
  {
   "cell_type": "code",
   "execution_count": 150,
   "id": "fdb48549",
   "metadata": {
    "ExecuteTime": {
     "end_time": "2022-04-17T23:51:59.456339Z",
     "start_time": "2022-04-17T23:51:59.438489Z"
    },
    "cell_style": "split"
   },
   "outputs": [
    {
     "data": {
      "text/html": [
       "<div>\n",
       "<style scoped>\n",
       "    .dataframe tbody tr th:only-of-type {\n",
       "        vertical-align: middle;\n",
       "    }\n",
       "\n",
       "    .dataframe tbody tr th {\n",
       "        vertical-align: top;\n",
       "    }\n",
       "\n",
       "    .dataframe thead th {\n",
       "        text-align: right;\n",
       "    }\n",
       "</style>\n",
       "<table border=\"1\" class=\"dataframe\">\n",
       "  <thead>\n",
       "    <tr style=\"text-align: right;\">\n",
       "      <th></th>\n",
       "      <th>industry</th>\n",
       "    </tr>\n",
       "    <tr>\n",
       "      <th>label</th>\n",
       "      <th></th>\n",
       "    </tr>\n",
       "  </thead>\n",
       "  <tbody>\n",
       "    <tr>\n",
       "      <th>tech</th>\n",
       "      <td>4366</td>\n",
       "    </tr>\n",
       "    <tr>\n",
       "      <th></th>\n",
       "      <td>2817</td>\n",
       "    </tr>\n",
       "    <tr>\n",
       "      <th>educ higher</th>\n",
       "      <td>2362</td>\n",
       "    </tr>\n",
       "    <tr>\n",
       "      <th>nonprofit</th>\n",
       "      <td>2339</td>\n",
       "    </tr>\n",
       "    <tr>\n",
       "      <th>administr govern public</th>\n",
       "      <td>1821</td>\n",
       "    </tr>\n",
       "    <tr>\n",
       "      <th>account bank financ</th>\n",
       "      <td>1688</td>\n",
       "    </tr>\n",
       "    <tr>\n",
       "      <th>engin</th>\n",
       "      <td>1520</td>\n",
       "    </tr>\n",
       "    <tr>\n",
       "      <th>advertis market pr</th>\n",
       "      <td>1064</td>\n",
       "    </tr>\n",
       "    <tr>\n",
       "      <th>law</th>\n",
       "      <td>1051</td>\n",
       "    </tr>\n",
       "    <tr>\n",
       "      <th>educ</th>\n",
       "      <td>822</td>\n",
       "    </tr>\n",
       "  </tbody>\n",
       "</table>\n",
       "</div>"
      ],
      "text/plain": [
       "                         industry\n",
       "label                            \n",
       "tech                         4366\n",
       "                             2817\n",
       "educ higher                  2362\n",
       "nonprofit                    2339\n",
       "administr govern public      1821\n",
       "account bank financ          1688\n",
       "engin                        1520\n",
       "advertis market pr           1064\n",
       "law                          1051\n",
       "educ                          822"
      ]
     },
     "execution_count": 150,
     "metadata": {},
     "output_type": "execute_result"
    }
   ],
   "source": [
    "pd.pivot_table(\n",
    "    result_labelled,\n",
    "    index=[\"label\"],\n",
    "    values=[\"industry\"],\n",
    "    aggfunc = \"count\"\n",
    ").sort_values(\n",
    "    \"industry\",\n",
    "    ascending=False\n",
    ").head(10)"
   ]
  },
  {
   "cell_type": "code",
   "execution_count": 84,
   "id": "7da9888d",
   "metadata": {
    "ExecuteTime": {
     "end_time": "2022-04-17T23:04:28.683622Z",
     "start_time": "2022-04-17T23:04:28.675717Z"
    }
   },
   "outputs": [
    {
     "data": {
      "text/plain": [
       "89"
      ]
     },
     "execution_count": 84,
     "metadata": {},
     "output_type": "execute_result"
    }
   ],
   "source": [
    "result_labelled[\"label\"].nunique()"
   ]
  },
  {
   "cell_type": "code",
   "execution_count": 138,
   "id": "bc7d6aa9",
   "metadata": {
    "ExecuteTime": {
     "end_time": "2022-04-17T23:45:53.418668Z",
     "start_time": "2022-04-17T23:45:53.407996Z"
    }
   },
   "outputs": [],
   "source": [
    "def harmonize_industries(x):\n",
    "    industries = {\n",
    "        \"educ higher\": \"Education\",\n",
    "        \"tech\": \"Technology\",\n",
    "        \"account bank financ\": \"Banking & Insurance\",\n",
    "        \"nonprofit\": \"Non Profit Organization\",\n",
    "        \"publish\": \"Litterature\",\n",
    "        \"educ\": \"Education\",\n",
    "        \"law\": \"Law\",\n",
    "        \"\": \"Other\",\n",
    "        \"telecommun\": \"Technology\",\n",
    "        \"busi\": \"Business & Consulting\",\n",
    "        \"administr govern public\": \"Public & Government\",\n",
    "        \"public\": \"Public & Government\",\n",
    "        \"engin\": \"Technology\",\n",
    "        \"digit\": \"Marketing\",\n",
    "        \"advertis market pr\": \"Marketing\",\n",
    "        \"retail\": \"Business & Consulting\",\n",
    "        \"construct\": \"Construction\",\n",
    "        \"biotechnolog\": \"Technology\",\n",
    "        \"insur\": \"Banking & Insurance\",\n",
    "        \"sale\": \"Business & Consulting\",\n",
    "        \"energi\": \"Energy & Environment\",\n",
    "        \"environment\": \"Energy & Environment\",\n",
    "        \"logist\": \"Transports & Logistic\",\n",
    "        \"medic\": \"Health\",\n",
    "        \"research\": \"Research & Development\",\n",
    "        \"hr recruit\": \"Human Ressources\",\n",
    "        \"work\": \"Other\",\n",
    "        \"librari\": \"Litterature\",\n",
    "        \"architectur\": \"Construction\",\n",
    "        \"industri\": \"Industry\",\n",
    "        \"polit\": \"Politics\",\n",
    "        \"administr\": \"Public & Government\",\n",
    "        \"manufactur\": \"Industry\",\n",
    "        \"technolog\": \"Technology\",\n",
    "        \"pharmaceut\": \"Health\",\n",
    "        \"agricultur forestri\": \"Agriculture & Food\",\n",
    "        \"philanthropi\": \"Other\",\n",
    "        \"consult\": \"Business & Consulting\",\n",
    "        \"consult environment\": \"Business & Consulting\",\n",
    "        \"cultur\": \"Culture\",\n",
    "        \"museum\": \"Culture\",\n",
    "        \"biotech\": \"Technology\",\n",
    "        \"answer prefer\": \"Other\",\n",
    "        \"servic\": \"Other\",\n",
    "        \"health public\": \"Health\",\n",
    "        \"enforc law secur\": \"Law\",\n",
    "        \"leisur sport tourism\": \"Culture\",\n",
    "        \"consum\": \"Marketing\",\n",
    "        \"entertain\": \"Culture\",\n",
    "        \"oil\": \"Industry\",\n",
    "        \"veterinari\": \"Health\",\n",
    "        \"food\": \"Agriculture & Food\",\n",
    "        \"contractor\": \"Public & Government\",\n",
    "        \"renew\": \"Energy & Environment\",\n",
    "        \"librarian\": \"Litterature\",\n",
    "        \"pharma\": \"Health\",\n",
    "        \"defens\": \"Public & Government\",\n",
    "        \"intern\": \"Other\",\n",
    "        \"manag\": \"Other\",\n",
    "        \"life scienc\": \"Sciences\",\n",
    "        \"scienc\": \"Sciences\",\n",
    "        \"develop\": \"Research & Development\",\n",
    "        \"train\": \"Transports & Logistic\",\n",
    "        \"distribut\": \"Industry\",\n",
    "        \"scientif\": \"Sciences\",\n",
    "        \"it\": \"Technology\",\n",
    "        \"earli educ\": \"Education\",\n",
    "        \"environment scienc\": \"Energy & Environment\",\n",
    "        \"govt it job librari list nonprofit not that\": \"Other\",\n",
    "        \"scientist\": \"Sciences\",\n",
    "        \"commun\": 'Technology',\n",
    "        \"game\": \"Technology\",\n",
    "        \"clinic\": \"Health\",\n",
    "        \"market\": \"Marketing\",\n",
    "        \"manufactur pharmaceut\": \"Health\",\n",
    "        \"biotechpharma\": \"Health\",\n",
    "        \"chain suppli\": \"Industry\",\n",
    "        \"contract govern\": \"Public & Government\",\n",
    "        \"resourc\": \"Human Ressources\",\n",
    "        \"contractor govt pay\": \"Public & Government\",\n",
    "        \"funer\": \"Other\",\n",
    "        \"translat\": \"Litterature\",\n",
    "        \"automot\": \"Other\",\n",
    "        \"mine\": \"Other\",\n",
    "        \"research scienc\": \"Research & Development\",\n",
    "        \"academia\": \"Education\",\n",
    "        \"oceanographi research\": \"Research & Development\",\n",
    "        \"chemic\": \"Sciences\",\n",
    "        \"agenc alway brand broad but categori client compani frequent languag our pharmaceut servic unsur use\": \"Other\"\n",
    "    }\n",
    "\n",
    "    return industries[x]"
   ]
  },
  {
   "cell_type": "code",
   "execution_count": 140,
   "id": "d50a6465",
   "metadata": {
    "ExecuteTime": {
     "end_time": "2022-04-17T23:45:58.535998Z",
     "start_time": "2022-04-17T23:45:58.451553Z"
    }
   },
   "outputs": [
    {
     "data": {
      "text/plain": [
       "21"
      ]
     },
     "execution_count": 140,
     "metadata": {},
     "output_type": "execute_result"
    }
   ],
   "source": [
    "test = result_labelled[\"label\"].apply(harmonize_industries)\n",
    "test.nunique()"
   ]
  },
  {
   "cell_type": "code",
   "execution_count": 141,
   "id": "d820d773",
   "metadata": {
    "ExecuteTime": {
     "end_time": "2022-04-17T23:46:12.457422Z",
     "start_time": "2022-04-17T23:46:12.433727Z"
    }
   },
   "outputs": [
    {
     "data": {
      "text/html": [
       "<div>\n",
       "<style scoped>\n",
       "    .dataframe tbody tr th:only-of-type {\n",
       "        vertical-align: middle;\n",
       "    }\n",
       "\n",
       "    .dataframe tbody tr th {\n",
       "        vertical-align: top;\n",
       "    }\n",
       "\n",
       "    .dataframe thead th {\n",
       "        text-align: right;\n",
       "    }\n",
       "</style>\n",
       "<table border=\"1\" class=\"dataframe\">\n",
       "  <thead>\n",
       "    <tr style=\"text-align: right;\">\n",
       "      <th></th>\n",
       "      <th>timestamp</th>\n",
       "      <th>how_old_are_you</th>\n",
       "      <th>industry</th>\n",
       "      <th>job_title</th>\n",
       "      <th>additional_context_on_job_title</th>\n",
       "      <th>annual_salary</th>\n",
       "      <th>other_monetary_comp</th>\n",
       "      <th>currency</th>\n",
       "      <th>currency_other</th>\n",
       "      <th>additional_context_on_income</th>\n",
       "      <th>country</th>\n",
       "      <th>state</th>\n",
       "      <th>city</th>\n",
       "      <th>overall_years_of_professional_experience</th>\n",
       "      <th>years_of_experience_in_field</th>\n",
       "      <th>highest_level_of_education_completed</th>\n",
       "      <th>gender</th>\n",
       "      <th>race</th>\n",
       "      <th>industry cluster</th>\n",
       "    </tr>\n",
       "  </thead>\n",
       "  <tbody>\n",
       "    <tr>\n",
       "      <th>0</th>\n",
       "      <td>4/27/2021 11:02:10</td>\n",
       "      <td>25-34</td>\n",
       "      <td>Education (Higher Education)</td>\n",
       "      <td>Research and Instruction Librarian</td>\n",
       "      <td>NaN</td>\n",
       "      <td>55000</td>\n",
       "      <td>0.0</td>\n",
       "      <td>USD</td>\n",
       "      <td>NaN</td>\n",
       "      <td>NaN</td>\n",
       "      <td>USA</td>\n",
       "      <td>Massachusetts</td>\n",
       "      <td>Boston</td>\n",
       "      <td>5-7 years</td>\n",
       "      <td>5-7 years</td>\n",
       "      <td>Master's degree</td>\n",
       "      <td>Woman</td>\n",
       "      <td>White</td>\n",
       "      <td>Education</td>\n",
       "    </tr>\n",
       "    <tr>\n",
       "      <th>1</th>\n",
       "      <td>4/27/2021 11:02:22</td>\n",
       "      <td>25-34</td>\n",
       "      <td>Computing or Tech</td>\n",
       "      <td>Change &amp; Internal Communications Manager</td>\n",
       "      <td>NaN</td>\n",
       "      <td>54600</td>\n",
       "      <td>4000.0</td>\n",
       "      <td>GBP</td>\n",
       "      <td>NaN</td>\n",
       "      <td>NaN</td>\n",
       "      <td>United Kingdom</td>\n",
       "      <td>NaN</td>\n",
       "      <td>Cambridge</td>\n",
       "      <td>8 - 10 years</td>\n",
       "      <td>5-7 years</td>\n",
       "      <td>College degree</td>\n",
       "      <td>Non-binary</td>\n",
       "      <td>White</td>\n",
       "      <td>Technology</td>\n",
       "    </tr>\n",
       "    <tr>\n",
       "      <th>2</th>\n",
       "      <td>4/27/2021 11:02:38</td>\n",
       "      <td>25-34</td>\n",
       "      <td>Accounting, Banking &amp; Finance</td>\n",
       "      <td>Marketing Specialist</td>\n",
       "      <td>NaN</td>\n",
       "      <td>34000</td>\n",
       "      <td>NaN</td>\n",
       "      <td>USD</td>\n",
       "      <td>NaN</td>\n",
       "      <td>NaN</td>\n",
       "      <td>USA</td>\n",
       "      <td>Tennessee</td>\n",
       "      <td>Chattanooga</td>\n",
       "      <td>2 - 4 years</td>\n",
       "      <td>2 - 4 years</td>\n",
       "      <td>College degree</td>\n",
       "      <td>Woman</td>\n",
       "      <td>White</td>\n",
       "      <td>Banking &amp; Insurance</td>\n",
       "    </tr>\n",
       "    <tr>\n",
       "      <th>3</th>\n",
       "      <td>4/27/2021 11:02:41</td>\n",
       "      <td>25-34</td>\n",
       "      <td>Nonprofits</td>\n",
       "      <td>Program Manager</td>\n",
       "      <td>NaN</td>\n",
       "      <td>62000</td>\n",
       "      <td>3000.0</td>\n",
       "      <td>USD</td>\n",
       "      <td>NaN</td>\n",
       "      <td>NaN</td>\n",
       "      <td>USA</td>\n",
       "      <td>Wisconsin</td>\n",
       "      <td>Milwaukee</td>\n",
       "      <td>8 - 10 years</td>\n",
       "      <td>5-7 years</td>\n",
       "      <td>College degree</td>\n",
       "      <td>Woman</td>\n",
       "      <td>White</td>\n",
       "      <td>Non Profit Organization</td>\n",
       "    </tr>\n",
       "    <tr>\n",
       "      <th>4</th>\n",
       "      <td>4/27/2021 11:02:42</td>\n",
       "      <td>25-34</td>\n",
       "      <td>Accounting, Banking &amp; Finance</td>\n",
       "      <td>Accounting Manager</td>\n",
       "      <td>NaN</td>\n",
       "      <td>60000</td>\n",
       "      <td>7000.0</td>\n",
       "      <td>USD</td>\n",
       "      <td>NaN</td>\n",
       "      <td>NaN</td>\n",
       "      <td>USA</td>\n",
       "      <td>South Carolina</td>\n",
       "      <td>Greenville</td>\n",
       "      <td>8 - 10 years</td>\n",
       "      <td>5-7 years</td>\n",
       "      <td>College degree</td>\n",
       "      <td>Woman</td>\n",
       "      <td>White</td>\n",
       "      <td>Banking &amp; Insurance</td>\n",
       "    </tr>\n",
       "    <tr>\n",
       "      <th>...</th>\n",
       "      <td>...</td>\n",
       "      <td>...</td>\n",
       "      <td>...</td>\n",
       "      <td>...</td>\n",
       "      <td>...</td>\n",
       "      <td>...</td>\n",
       "      <td>...</td>\n",
       "      <td>...</td>\n",
       "      <td>...</td>\n",
       "      <td>...</td>\n",
       "      <td>...</td>\n",
       "      <td>...</td>\n",
       "      <td>...</td>\n",
       "      <td>...</td>\n",
       "      <td>...</td>\n",
       "      <td>...</td>\n",
       "      <td>...</td>\n",
       "      <td>...</td>\n",
       "      <td>...</td>\n",
       "    </tr>\n",
       "    <tr>\n",
       "      <th>26227</th>\n",
       "      <td>5/17/2021 17:42:33</td>\n",
       "      <td>25-34</td>\n",
       "      <td>Media &amp; Digital</td>\n",
       "      <td>Senior Reporter</td>\n",
       "      <td>Trade publication</td>\n",
       "      <td>85000</td>\n",
       "      <td>2000.0</td>\n",
       "      <td>USD</td>\n",
       "      <td>NaN</td>\n",
       "      <td>NaN</td>\n",
       "      <td>USA</td>\n",
       "      <td>New York</td>\n",
       "      <td>New York City</td>\n",
       "      <td>5-7 years</td>\n",
       "      <td>5-7 years</td>\n",
       "      <td>College degree</td>\n",
       "      <td>Woman</td>\n",
       "      <td>White</td>\n",
       "      <td>Marketing</td>\n",
       "    </tr>\n",
       "    <tr>\n",
       "      <th>26228</th>\n",
       "      <td>5/17/2021 17:46:38</td>\n",
       "      <td>35-44</td>\n",
       "      <td>Nonprofits</td>\n",
       "      <td>Production and Workflow Manager</td>\n",
       "      <td>NaN</td>\n",
       "      <td>40000</td>\n",
       "      <td>NaN</td>\n",
       "      <td>USD</td>\n",
       "      <td>NaN</td>\n",
       "      <td>NaN</td>\n",
       "      <td>USA</td>\n",
       "      <td>Pennsylvania</td>\n",
       "      <td>Pittsburgh</td>\n",
       "      <td>11 - 20 years</td>\n",
       "      <td>2 - 4 years</td>\n",
       "      <td>College degree</td>\n",
       "      <td>Woman</td>\n",
       "      <td>Asian or Asian American</td>\n",
       "      <td>Non Profit Organization</td>\n",
       "    </tr>\n",
       "    <tr>\n",
       "      <th>26229</th>\n",
       "      <td>5/17/2021 17:47:30</td>\n",
       "      <td>25-34</td>\n",
       "      <td>Computing or Tech</td>\n",
       "      <td>Chief of Staff</td>\n",
       "      <td>NaN</td>\n",
       "      <td>148000</td>\n",
       "      <td>29000.0</td>\n",
       "      <td>USD</td>\n",
       "      <td>NaN</td>\n",
       "      <td>NaN</td>\n",
       "      <td>USA</td>\n",
       "      <td>California</td>\n",
       "      <td>Bay Area</td>\n",
       "      <td>11 - 20 years</td>\n",
       "      <td>11 - 20 years</td>\n",
       "      <td>Master's degree</td>\n",
       "      <td>Woman</td>\n",
       "      <td>White</td>\n",
       "      <td>Technology</td>\n",
       "    </tr>\n",
       "    <tr>\n",
       "      <th>26230</th>\n",
       "      <td>5/17/2021 18:20:07</td>\n",
       "      <td>25-34</td>\n",
       "      <td>Marketing, Advertising &amp; PR</td>\n",
       "      <td>Digital Marketing Manager</td>\n",
       "      <td>Small agency. I manage a team of ~15 people, b...</td>\n",
       "      <td>65000</td>\n",
       "      <td>5000.0</td>\n",
       "      <td>USD</td>\n",
       "      <td>NaN</td>\n",
       "      <td>NaN</td>\n",
       "      <td>USA</td>\n",
       "      <td>Washington</td>\n",
       "      <td>Seattle</td>\n",
       "      <td>2 - 4 years</td>\n",
       "      <td>2 - 4 years</td>\n",
       "      <td>College degree</td>\n",
       "      <td>Woman</td>\n",
       "      <td>White</td>\n",
       "      <td>Marketing</td>\n",
       "    </tr>\n",
       "    <tr>\n",
       "      <th>26231</th>\n",
       "      <td>5/17/2021 19:48:52</td>\n",
       "      <td>35-44</td>\n",
       "      <td>Law</td>\n",
       "      <td>Knowledge Management Manager</td>\n",
       "      <td>NaN</td>\n",
       "      <td>146192</td>\n",
       "      <td>3850.0</td>\n",
       "      <td>USD</td>\n",
       "      <td>NaN</td>\n",
       "      <td>NaN</td>\n",
       "      <td>USA</td>\n",
       "      <td>Michigan</td>\n",
       "      <td>Troy</td>\n",
       "      <td>11 - 20 years</td>\n",
       "      <td>8 - 10 years</td>\n",
       "      <td>Master's degree</td>\n",
       "      <td>Woman</td>\n",
       "      <td>White</td>\n",
       "      <td>Law</td>\n",
       "    </tr>\n",
       "  </tbody>\n",
       "</table>\n",
       "<p>26232 rows × 19 columns</p>\n",
       "</div>"
      ],
      "text/plain": [
       "                timestamp how_old_are_you                       industry  \\\n",
       "0      4/27/2021 11:02:10           25-34   Education (Higher Education)   \n",
       "1      4/27/2021 11:02:22           25-34              Computing or Tech   \n",
       "2      4/27/2021 11:02:38           25-34  Accounting, Banking & Finance   \n",
       "3      4/27/2021 11:02:41           25-34                     Nonprofits   \n",
       "4      4/27/2021 11:02:42           25-34  Accounting, Banking & Finance   \n",
       "...                   ...             ...                            ...   \n",
       "26227  5/17/2021 17:42:33           25-34                Media & Digital   \n",
       "26228  5/17/2021 17:46:38           35-44                     Nonprofits   \n",
       "26229  5/17/2021 17:47:30           25-34              Computing or Tech   \n",
       "26230  5/17/2021 18:20:07           25-34    Marketing, Advertising & PR   \n",
       "26231  5/17/2021 19:48:52           35-44                            Law   \n",
       "\n",
       "                                      job_title  \\\n",
       "0            Research and Instruction Librarian   \n",
       "1      Change & Internal Communications Manager   \n",
       "2                          Marketing Specialist   \n",
       "3                               Program Manager   \n",
       "4                            Accounting Manager   \n",
       "...                                         ...   \n",
       "26227                           Senior Reporter   \n",
       "26228           Production and Workflow Manager   \n",
       "26229                            Chief of Staff   \n",
       "26230                 Digital Marketing Manager   \n",
       "26231              Knowledge Management Manager   \n",
       "\n",
       "                         additional_context_on_job_title  annual_salary  \\\n",
       "0                                                    NaN          55000   \n",
       "1                                                    NaN          54600   \n",
       "2                                                    NaN          34000   \n",
       "3                                                    NaN          62000   \n",
       "4                                                    NaN          60000   \n",
       "...                                                  ...            ...   \n",
       "26227                                  Trade publication          85000   \n",
       "26228                                                NaN          40000   \n",
       "26229                                                NaN         148000   \n",
       "26230  Small agency. I manage a team of ~15 people, b...          65000   \n",
       "26231                                                NaN         146192   \n",
       "\n",
       "       other_monetary_comp currency currency_other  \\\n",
       "0                      0.0      USD            NaN   \n",
       "1                   4000.0      GBP            NaN   \n",
       "2                      NaN      USD            NaN   \n",
       "3                   3000.0      USD            NaN   \n",
       "4                   7000.0      USD            NaN   \n",
       "...                    ...      ...            ...   \n",
       "26227               2000.0      USD            NaN   \n",
       "26228                  NaN      USD            NaN   \n",
       "26229              29000.0      USD            NaN   \n",
       "26230               5000.0      USD            NaN   \n",
       "26231               3850.0      USD            NaN   \n",
       "\n",
       "      additional_context_on_income         country           state  \\\n",
       "0                              NaN             USA   Massachusetts   \n",
       "1                              NaN  United Kingdom             NaN   \n",
       "2                              NaN             USA       Tennessee   \n",
       "3                              NaN             USA       Wisconsin   \n",
       "4                              NaN             USA  South Carolina   \n",
       "...                            ...             ...             ...   \n",
       "26227                          NaN             USA        New York   \n",
       "26228                          NaN             USA    Pennsylvania   \n",
       "26229                          NaN             USA      California   \n",
       "26230                          NaN             USA      Washington   \n",
       "26231                          NaN             USA        Michigan   \n",
       "\n",
       "                city overall_years_of_professional_experience  \\\n",
       "0             Boston                                5-7 years   \n",
       "1          Cambridge                             8 - 10 years   \n",
       "2        Chattanooga                              2 - 4 years   \n",
       "3          Milwaukee                             8 - 10 years   \n",
       "4         Greenville                             8 - 10 years   \n",
       "...              ...                                      ...   \n",
       "26227  New York City                                5-7 years   \n",
       "26228     Pittsburgh                            11 - 20 years   \n",
       "26229       Bay Area                            11 - 20 years   \n",
       "26230        Seattle                              2 - 4 years   \n",
       "26231           Troy                            11 - 20 years   \n",
       "\n",
       "      years_of_experience_in_field highest_level_of_education_completed  \\\n",
       "0                        5-7 years                      Master's degree   \n",
       "1                        5-7 years                       College degree   \n",
       "2                      2 - 4 years                       College degree   \n",
       "3                        5-7 years                       College degree   \n",
       "4                        5-7 years                       College degree   \n",
       "...                            ...                                  ...   \n",
       "26227                    5-7 years                       College degree   \n",
       "26228                  2 - 4 years                       College degree   \n",
       "26229                11 - 20 years                      Master's degree   \n",
       "26230                  2 - 4 years                       College degree   \n",
       "26231                 8 - 10 years                      Master's degree   \n",
       "\n",
       "           gender                     race         industry cluster  \n",
       "0           Woman                    White                Education  \n",
       "1      Non-binary                    White               Technology  \n",
       "2           Woman                    White      Banking & Insurance  \n",
       "3           Woman                    White  Non Profit Organization  \n",
       "4           Woman                    White      Banking & Insurance  \n",
       "...           ...                      ...                      ...  \n",
       "26227       Woman                    White                Marketing  \n",
       "26228       Woman  Asian or Asian American  Non Profit Organization  \n",
       "26229       Woman                    White               Technology  \n",
       "26230       Woman                    White                Marketing  \n",
       "26231       Woman                    White                      Law  \n",
       "\n",
       "[26232 rows x 19 columns]"
      ]
     },
     "execution_count": 141,
     "metadata": {},
     "output_type": "execute_result"
    }
   ],
   "source": [
    "df[\"industry cluster\"] = test"
   ]
  },
  {
   "cell_type": "code",
   "execution_count": 142,
   "id": "301bfe57",
   "metadata": {
    "ExecuteTime": {
     "end_time": "2022-04-17T23:46:14.866784Z",
     "start_time": "2022-04-17T23:46:14.621696Z"
    }
   },
   "outputs": [
    {
     "data": {
      "text/plain": [
       "<AxesSubplot:xlabel='industry cluster', ylabel='count'>"
      ]
     },
     "execution_count": 142,
     "metadata": {},
     "output_type": "execute_result"
    },
    {
     "data": {
      "image/png": "[encoded data removed]",
      "text/plain": [
       "<Figure size 432x288 with 1 Axes>"
      ]
     },
     "metadata": {
      "needs_background": "light"
     },
     "output_type": "display_data"
    }
   ],
   "source": [
    "import seaborn as sns\n",
    "\n",
    "sns.countplot(data=df, x=\"industry cluster\")"
   ]
  },
  {
   "cell_type": "code",
   "execution_count": 143,
   "id": "c9f8ab59",
   "metadata": {
    "ExecuteTime": {
     "end_time": "2022-04-17T23:46:32.845896Z",
     "start_time": "2022-04-17T23:46:32.827419Z"
    }
   },
   "outputs": [
    {
     "data": {
      "text/plain": [
       "Technology                 6341\n",
       "Other                      3253\n",
       "Education                  3198\n",
       "Non Profit Organization    2339\n",
       "Banking & Insurance        2190\n",
       "Public & Government        1961\n",
       "Marketing                  1835\n",
       "Business & Consulting      1539\n",
       "Law                        1089\n",
       "Human Ressources            438\n",
       "Construction                394\n",
       "Culture                     361\n",
       "Transports & Logistic       281\n",
       "Litterature                 251\n",
       "Health                      159\n",
       "Agriculture & Food          158\n",
       "Research & Development      157\n",
       "Industry                    138\n",
       "Sciences                     77\n",
       "Energy & Environment         58\n",
       "Politics                     15\n",
       "Name: industry cluster, dtype: int64"
      ]
     },
     "execution_count": 143,
     "metadata": {},
     "output_type": "execute_result"
    }
   ],
   "source": [
    "df[\"industry cluster\"].value_counts()"
   ]
  },
  {
   "cell_type": "markdown",
   "id": "3d142f8d",
   "metadata": {},
   "source": [
    "On a 3253 Other, ce qui peut correspondre à 3253 réalisations de base qu'on a pas pu assigner à un cluster, du coup si on ramène ceci au nombre total, on a théoriquement une \"précision\" de 87,6%.  \n",
    "Maintenant on pourrait regarder plus en profondeur pour voir si on n'a pas des abbérations"
   ]
  },
  {
   "cell_type": "code",
   "execution_count": 148,
   "id": "c2f5bf45",
   "metadata": {
    "ExecuteTime": {
     "end_time": "2022-04-17T23:50:41.041177Z",
     "start_time": "2022-04-17T23:50:41.019134Z"
    }
   },
   "outputs": [
    {
     "data": {
      "text/plain": [
       "industry                                industry cluster       \n",
       "Nonprofits                              Non Profit Organization    2331\n",
       "Computing/Tech + Higher Ed + Nonprofit  Non Profit Organization       1\n",
       "Museum - Nonprofit                      Non Profit Organization       1\n",
       "Museums: Nonprofit                      Non Profit Organization       1\n",
       "Non-profit Theatre                      Non Profit Organization       1\n",
       "Nonprofit - LORT D Theater              Non Profit Organization       1\n",
       "Nonprofit - legal department            Non Profit Organization       1\n",
       "Nonprofit association                   Non Profit Organization       1\n",
       "Nonprofit scholarly society publisher   Non Profit Organization       1\n",
       "dtype: int64"
      ]
     },
     "execution_count": 148,
     "metadata": {},
     "output_type": "execute_result"
    }
   ],
   "source": [
    "df[df[\"industry cluster\"]==\"Non Profit Organization\"][[\"industry\", \"industry cluster\"]].value_counts()"
   ]
  },
  {
   "cell_type": "code",
   "execution_count": 164,
   "id": "364dcea6",
   "metadata": {
    "ExecuteTime": {
     "end_time": "2022-04-17T23:58:33.885455Z",
     "start_time": "2022-04-17T23:58:33.752989Z"
    }
   },
   "outputs": [
    {
     "data": {
      "application/vnd.plotly.v1+json": {
       "config": {
        "plotlyServerURL": "https://plot.ly"
       },
       "data": [
        {
         "alignmentgroup": "True",
         "hovertemplate": "x=%{x}<br>y=%{y}<extra></extra>",
         "legendgroup": "",
         "marker": {
          "color": "#636efa",
          "pattern": {
           "shape": ""
          }
         },
         "name": "",
         "offsetgroup": "",
         "orientation": "v",
         "showlegend": false,
         "textposition": "auto",
         "type": "bar",
         "x": [
          "Agriculture & Food",
          "Banking & Insurance",
          "Business & Consulting",
          "Construction",
          "Culture",
          "Education",
          "Energy & Environment",
          "Health",
          "Human Ressources",
          "Industry",
          "Law",
          "Litterature",
          "Marketing",
          "Non Profit Organization",
          "Other",
          "Politics",
          "Public & Government",
          "Research & Development",
          "Sciences",
          "Technology",
          "Transports & Logistic"
         ],
         "xaxis": "x",
         "y": [
          158,
          2190,
          1539,
          394,
          361,
          3198,
          58,
          159,
          438,
          138,
          1089,
          251,
          1835,
          2339,
          3253,
          15,
          1961,
          157,
          77,
          6341,
          281
         ],
         "yaxis": "y"
        }
       ],
       "layout": {
        "barmode": "relative",
        "legend": {
         "tracegroupgap": 0
        },
        "margin": {
         "t": 60
        },
        "template": {
         "data": {
          "bar": [
           {
            "error_x": {
             "color": "#2a3f5f"
            },
            "error_y": {
             "color": "#2a3f5f"
            },
            "marker": {
             "line": {
              "color": "#E5ECF6",
              "width": 0.5
             },
             "pattern": {
              "fillmode": "overlay",
              "size": 10,
              "solidity": 0.2
             }
            },
            "type": "bar"
           }
          ],
          "barpolar": [
           {
            "marker": {
             "line": {
              "color": "#E5ECF6",
              "width": 0.5
             },
             "pattern": {
              "fillmode": "overlay",
              "size": 10,
              "solidity": 0.2
             }
            },
            "type": "barpolar"
           }
          ],
          "carpet": [
           {
            "aaxis": {
             "endlinecolor": "#2a3f5f",
             "gridcolor": "white",
             "linecolor": "white",
             "minorgridcolor": "white",
             "startlinecolor": "#2a3f5f"
            },
            "baxis": {
             "endlinecolor": "#2a3f5f",
             "gridcolor": "white",
             "linecolor": "white",
             "minorgridcolor": "white",
             "startlinecolor": "#2a3f5f"
            },
            "type": "carpet"
           }
          ],
          "choropleth": [
           {
            "colorbar": {
             "outlinewidth": 0,
             "ticks": ""
            },
            "type": "choropleth"
           }
          ],
          "contour": [
           {
            "colorbar": {
             "outlinewidth": 0,
             "ticks": ""
            },
            "colorscale": [
             [
              0,
              "#0d0887"
             ],
             [
              0.1111111111111111,
              "#46039f"
             ],
             [
              0.2222222222222222,
              "#7201a8"
             ],
             [
              0.3333333333333333,
              "#9c179e"
             ],
             [
              0.4444444444444444,
              "#bd3786"
             ],
             [
              0.5555555555555556,
              "#d8576b"
             ],
             [
              0.6666666666666666,
              "#ed7953"
             ],
             [
              0.7777777777777778,
              "#fb9f3a"
             ],
             [
              0.8888888888888888,
              "#fdca26"
             ],
             [
              1,
              "#f0f921"
             ]
            ],
            "type": "contour"
           }
          ],
          "contourcarpet": [
           {
            "colorbar": {
             "outlinewidth": 0,
             "ticks": ""
            },
            "type": "contourcarpet"
           }
          ],
          "heatmap": [
           {
            "colorbar": {
             "outlinewidth": 0,
             "ticks": ""
            },
            "colorscale": [
             [
              0,
              "#0d0887"
             ],
             [
              0.1111111111111111,
              "#46039f"
             ],
             [
              0.2222222222222222,
              "#7201a8"
             ],
             [
              0.3333333333333333,
              "#9c179e"
             ],
             [
              0.4444444444444444,
              "#bd3786"
             ],
             [
              0.5555555555555556,
              "#d8576b"
             ],
             [
              0.6666666666666666,
              "#ed7953"
             ],
             [
              0.7777777777777778,
              "#fb9f3a"
             ],
             [
              0.8888888888888888,
              "#fdca26"
             ],
             [
              1,
              "#f0f921"
             ]
            ],
            "type": "heatmap"
           }
          ],
          "heatmapgl": [
           {
            "colorbar": {
             "outlinewidth": 0,
             "ticks": ""
            },
            "colorscale": [
             [
              0,
              "#0d0887"
             ],
             [
              0.1111111111111111,
              "#46039f"
             ],
             [
              0.2222222222222222,
              "#7201a8"
             ],
             [
              0.3333333333333333,
              "#9c179e"
             ],
             [
              0.4444444444444444,
              "#bd3786"
             ],
             [
              0.5555555555555556,
              "#d8576b"
             ],
             [
              0.6666666666666666,
              "#ed7953"
             ],
             [
              0.7777777777777778,
              "#fb9f3a"
             ],
             [
              0.8888888888888888,
              "#fdca26"
             ],
             [
              1,
              "#f0f921"
             ]
            ],
            "type": "heatmapgl"
           }
          ],
          "histogram": [
           {
            "marker": {
             "pattern": {
              "fillmode": "overlay",
              "size": 10,
              "solidity": 0.2
             }
            },
            "type": "histogram"
           }
          ],
          "histogram2d": [
           {
            "colorbar": {
             "outlinewidth": 0,
             "ticks": ""
            },
            "colorscale": [
             [
              0,
              "#0d0887"
             ],
             [
              0.1111111111111111,
              "#46039f"
             ],
             [
              0.2222222222222222,
              "#7201a8"
             ],
             [
              0.3333333333333333,
              "#9c179e"
             ],
             [
              0.4444444444444444,
              "#bd3786"
             ],
             [
              0.5555555555555556,
              "#d8576b"
             ],
             [
              0.6666666666666666,
              "#ed7953"
             ],
             [
              0.7777777777777778,
              "#fb9f3a"
             ],
             [
              0.8888888888888888,
              "#fdca26"
             ],
             [
              1,
              "#f0f921"
             ]
            ],
            "type": "histogram2d"
           }
          ],
          "histogram2dcontour": [
           {
            "colorbar": {
             "outlinewidth": 0,
             "ticks": ""
            },
            "colorscale": [
             [
              0,
              "#0d0887"
             ],
             [
              0.1111111111111111,
              "#46039f"
             ],
             [
              0.2222222222222222,
              "#7201a8"
             ],
             [
              0.3333333333333333,
              "#9c179e"
             ],
             [
              0.4444444444444444,
              "#bd3786"
             ],
             [
              0.5555555555555556,
              "#d8576b"
             ],
             [
              0.6666666666666666,
              "#ed7953"
             ],
             [
              0.7777777777777778,
              "#fb9f3a"
             ],
             [
              0.8888888888888888,
              "#fdca26"
             ],
             [
              1,
              "#f0f921"
             ]
            ],
            "type": "histogram2dcontour"
           }
          ],
          "mesh3d": [
           {
            "colorbar": {
             "outlinewidth": 0,
             "ticks": ""
            },
            "type": "mesh3d"
           }
          ],
          "parcoords": [
           {
            "line": {
             "colorbar": {
              "outlinewidth": 0,
              "ticks": ""
             }
            },
            "type": "parcoords"
           }
          ],
          "pie": [
           {
            "automargin": true,
            "type": "pie"
           }
          ],
          "scatter": [
           {
            "marker": {
             "colorbar": {
              "outlinewidth": 0,
              "ticks": ""
             }
            },
            "type": "scatter"
           }
          ],
          "scatter3d": [
           {
            "line": {
             "colorbar": {
              "outlinewidth": 0,
              "ticks": ""
             }
            },
            "marker": {
             "colorbar": {
              "outlinewidth": 0,
              "ticks": ""
             }
            },
            "type": "scatter3d"
           }
          ],
          "scattercarpet": [
           {
            "marker": {
             "colorbar": {
              "outlinewidth": 0,
              "ticks": ""
             }
            },
            "type": "scattercarpet"
           }
          ],
          "scattergeo": [
           {
            "marker": {
             "colorbar": {
              "outlinewidth": 0,
              "ticks": ""
             }
            },
            "type": "scattergeo"
           }
          ],
          "scattergl": [
           {
            "marker": {
             "colorbar": {
              "outlinewidth": 0,
              "ticks": ""
             }
            },
            "type": "scattergl"
           }
          ],
          "scattermapbox": [
           {
            "marker": {
             "colorbar": {
              "outlinewidth": 0,
              "ticks": ""
             }
            },
            "type": "scattermapbox"
           }
          ],
          "scatterpolar": [
           {
            "marker": {
             "colorbar": {
              "outlinewidth": 0,
              "ticks": ""
             }
            },
            "type": "scatterpolar"
           }
          ],
          "scatterpolargl": [
           {
            "marker": {
             "colorbar": {
              "outlinewidth": 0,
              "ticks": ""
             }
            },
            "type": "scatterpolargl"
           }
          ],
          "scatterternary": [
           {
            "marker": {
             "colorbar": {
              "outlinewidth": 0,
              "ticks": ""
             }
            },
            "type": "scatterternary"
           }
          ],
          "surface": [
           {
            "colorbar": {
             "outlinewidth": 0,
             "ticks": ""
            },
            "colorscale": [
             [
              0,
              "#0d0887"
             ],
             [
              0.1111111111111111,
              "#46039f"
             ],
             [
              0.2222222222222222,
              "#7201a8"
             ],
             [
              0.3333333333333333,
              "#9c179e"
             ],
             [
              0.4444444444444444,
              "#bd3786"
             ],
             [
              0.5555555555555556,
              "#d8576b"
             ],
             [
              0.6666666666666666,
              "#ed7953"
             ],
             [
              0.7777777777777778,
              "#fb9f3a"
             ],
             [
              0.8888888888888888,
              "#fdca26"
             ],
             [
              1,
              "#f0f921"
             ]
            ],
            "type": "surface"
           }
          ],
          "table": [
           {
            "cells": {
             "fill": {
              "color": "#EBF0F8"
             },
             "line": {
              "color": "white"
             }
            },
            "header": {
             "fill": {
              "color": "#C8D4E3"
             },
             "line": {
              "color": "white"
             }
            },
            "type": "table"
           }
          ]
         },
         "layout": {
          "annotationdefaults": {
           "arrowcolor": "#2a3f5f",
           "arrowhead": 0,
           "arrowwidth": 1
          },
          "autotypenumbers": "strict",
          "coloraxis": {
           "colorbar": {
            "outlinewidth": 0,
            "ticks": ""
           }
          },
          "colorscale": {
           "diverging": [
            [
             0,
             "#8e0152"
            ],
            [
             0.1,
             "#c51b7d"
            ],
            [
             0.2,
             "#de77ae"
            ],
            [
             0.3,
             "#f1b6da"
            ],
            [
             0.4,
             "#fde0ef"
            ],
            [
             0.5,
             "#f7f7f7"
            ],
            [
             0.6,
             "#e6f5d0"
            ],
            [
             0.7,
             "#b8e186"
            ],
            [
             0.8,
             "#7fbc41"
            ],
            [
             0.9,
             "#4d9221"
            ],
            [
             1,
             "#276419"
            ]
           ],
           "sequential": [
            [
             0,
             "#0d0887"
            ],
            [
             0.1111111111111111,
             "#46039f"
            ],
            [
             0.2222222222222222,
             "#7201a8"
            ],
            [
             0.3333333333333333,
             "#9c179e"
            ],
            [
             0.4444444444444444,
             "#bd3786"
            ],
            [
             0.5555555555555556,
             "#d8576b"
            ],
            [
             0.6666666666666666,
             "#ed7953"
            ],
            [
             0.7777777777777778,
             "#fb9f3a"
            ],
            [
             0.8888888888888888,
             "#fdca26"
            ],
            [
             1,
             "#f0f921"
            ]
           ],
           "sequentialminus": [
            [
             0,
             "#0d0887"
            ],
            [
             0.1111111111111111,
             "#46039f"
            ],
            [
             0.2222222222222222,
             "#7201a8"
            ],
            [
             0.3333333333333333,
             "#9c179e"
            ],
            [
             0.4444444444444444,
             "#bd3786"
            ],
            [
             0.5555555555555556,
             "#d8576b"
            ],
            [
             0.6666666666666666,
             "#ed7953"
            ],
            [
             0.7777777777777778,
             "#fb9f3a"
            ],
            [
             0.8888888888888888,
             "#fdca26"
            ],
            [
             1,
             "#f0f921"
            ]
           ]
          },
          "colorway": [
           "#636efa",
           "#EF553B",
           "#00cc96",
           "#ab63fa",
           "#FFA15A",
           "#19d3f3",
           "#FF6692",
           "#B6E880",
           "#FF97FF",
           "#FECB52"
          ],
          "font": {
           "color": "#2a3f5f"
          },
          "geo": {
           "bgcolor": "white",
           "lakecolor": "white",
           "landcolor": "#E5ECF6",
           "showlakes": true,
           "showland": true,
           "subunitcolor": "white"
          },
          "hoverlabel": {
           "align": "left"
          },
          "hovermode": "closest",
          "mapbox": {
           "style": "light"
          },
          "paper_bgcolor": "white",
          "plot_bgcolor": "#E5ECF6",
          "polar": {
           "angularaxis": {
            "gridcolor": "white",
            "linecolor": "white",
            "ticks": ""
           },
           "bgcolor": "#E5ECF6",
           "radialaxis": {
            "gridcolor": "white",
            "linecolor": "white",
            "ticks": ""
           }
          },
          "scene": {
           "xaxis": {
            "backgroundcolor": "#E5ECF6",
            "gridcolor": "white",
            "gridwidth": 2,
            "linecolor": "white",
            "showbackground": true,
            "ticks": "",
            "zerolinecolor": "white"
           },
           "yaxis": {
            "backgroundcolor": "#E5ECF6",
            "gridcolor": "white",
            "gridwidth": 2,
            "linecolor": "white",
            "showbackground": true,
            "ticks": "",
            "zerolinecolor": "white"
           },
           "zaxis": {
            "backgroundcolor": "#E5ECF6",
            "gridcolor": "white",
            "gridwidth": 2,
            "linecolor": "white",
            "showbackground": true,
            "ticks": "",
            "zerolinecolor": "white"
           }
          },
          "shapedefaults": {
           "line": {
            "color": "#2a3f5f"
           }
          },
          "ternary": {
           "aaxis": {
            "gridcolor": "white",
            "linecolor": "white",
            "ticks": ""
           },
           "baxis": {
            "gridcolor": "white",
            "linecolor": "white",
            "ticks": ""
           },
           "bgcolor": "#E5ECF6",
           "caxis": {
            "gridcolor": "white",
            "linecolor": "white",
            "ticks": ""
           }
          },
          "title": {
           "x": 0.05
          },
          "xaxis": {
           "automargin": true,
           "gridcolor": "white",
           "linecolor": "white",
           "ticks": "",
           "title": {
            "standoff": 15
           },
           "zerolinecolor": "white",
           "zerolinewidth": 2
          },
          "yaxis": {
           "automargin": true,
           "gridcolor": "white",
           "linecolor": "white",
           "ticks": "",
           "title": {
            "standoff": 15
           },
           "zerolinecolor": "white",
           "zerolinewidth": 2
          }
         }
        },
        "xaxis": {
         "anchor": "y",
         "domain": [
          0,
          1
         ],
         "title": {
          "text": "x"
         }
        },
        "yaxis": {
         "anchor": "x",
         "domain": [
          0,
          1
         ],
         "title": {
          "text": "y"
         }
        }
       }
      },
      "text/html": [
       "<div>                            <div id=\"038c5d72-72a6-4991-9378-be2c6b86d50d\" class=\"plotly-graph-div\" style=\"height:525px; width:100%;\"></div>            <script type=\"text/javascript\">                require([\"plotly\"], function(Plotly) {                    window.PLOTLYENV=window.PLOTLYENV || {};                                    if (document.getElementById(\"038c5d72-72a6-4991-9378-be2c6b86d50d\")) {                    Plotly.newPlot(                        \"038c5d72-72a6-4991-9378-be2c6b86d50d\",                        [{\"alignmentgroup\":\"True\",\"hovertemplate\":\"x=%{x}<br>y=%{y}<extra></extra>\",\"legendgroup\":\"\",\"marker\":{\"color\":\"#636efa\",\"pattern\":{\"shape\":\"\"}},\"name\":\"\",\"offsetgroup\":\"\",\"orientation\":\"v\",\"showlegend\":false,\"textposition\":\"auto\",\"type\":\"bar\",\"x\":[\"Agriculture & Food\",\"Banking & Insurance\",\"Business & Consulting\",\"Construction\",\"Culture\",\"Education\",\"Energy & Environment\",\"Health\",\"Human Ressources\",\"Industry\",\"Law\",\"Litterature\",\"Marketing\",\"Non Profit Organization\",\"Other\",\"Politics\",\"Public & Government\",\"Research & Development\",\"Sciences\",\"Technology\",\"Transports & Logistic\"],\"xaxis\":\"x\",\"y\":[158,2190,1539,394,361,3198,58,159,438,138,1089,251,1835,2339,3253,15,1961,157,77,6341,281],\"yaxis\":\"y\"}],                        {\"barmode\":\"relative\",\"legend\":{\"tracegroupgap\":0},\"margin\":{\"t\":60},\"template\":{\"data\":{\"bar\":[{\"error_x\":{\"color\":\"#2a3f5f\"},\"error_y\":{\"color\":\"#2a3f5f\"},\"marker\":{\"line\":{\"color\":\"#E5ECF6\",\"width\":0.5},\"pattern\":{\"fillmode\":\"overlay\",\"size\":10,\"solidity\":0.2}},\"type\":\"bar\"}],\"barpolar\":[{\"marker\":{\"line\":{\"color\":\"#E5ECF6\",\"width\":0.5},\"pattern\":{\"fillmode\":\"overlay\",\"size\":10,\"solidity\":0.2}},\"type\":\"barpolar\"}],\"carpet\":[{\"aaxis\":{\"endlinecolor\":\"#2a3f5f\",\"gridcolor\":\"white\",\"linecolor\":\"white\",\"minorgridcolor\":\"white\",\"startlinecolor\":\"#2a3f5f\"},\"baxis\":{\"endlinecolor\":\"#2a3f5f\",\"gridcolor\":\"white\",\"linecolor\":\"white\",\"minorgridcolor\":\"white\",\"startlinecolor\":\"#2a3f5f\"},\"type\":\"carpet\"}],\"choropleth\":[{\"colorbar\":{\"outlinewidth\":0,\"ticks\":\"\"},\"type\":\"choropleth\"}],\"contour\":[{\"colorbar\":{\"outlinewidth\":0,\"ticks\":\"\"},\"colorscale\":[[0.0,\"#0d0887\"],[0.1111111111111111,\"#46039f\"],[0.2222222222222222,\"#7201a8\"],[0.3333333333333333,\"#9c179e\"],[0.4444444444444444,\"#bd3786\"],[0.5555555555555556,\"#d8576b\"],[0.6666666666666666,\"#ed7953\"],[0.7777777777777778,\"#fb9f3a\"],[0.8888888888888888,\"#fdca26\"],[1.0,\"#f0f921\"]],\"type\":\"contour\"}],\"contourcarpet\":[{\"colorbar\":{\"outlinewidth\":0,\"ticks\":\"\"},\"type\":\"contourcarpet\"}],\"heatmap\":[{\"colorbar\":{\"outlinewidth\":0,\"ticks\":\"\"},\"colorscale\":[[0.0,\"#0d0887\"],[0.1111111111111111,\"#46039f\"],[0.2222222222222222,\"#7201a8\"],[0.3333333333333333,\"#9c179e\"],[0.4444444444444444,\"#bd3786\"],[0.5555555555555556,\"#d8576b\"],[0.6666666666666666,\"#ed7953\"],[0.7777777777777778,\"#fb9f3a\"],[0.8888888888888888,\"#fdca26\"],[1.0,\"#f0f921\"]],\"type\":\"heatmap\"}],\"heatmapgl\":[{\"colorbar\":{\"outlinewidth\":0,\"ticks\":\"\"},\"colorscale\":[[0.0,\"#0d0887\"],[0.1111111111111111,\"#46039f\"],[0.2222222222222222,\"#7201a8\"],[0.3333333333333333,\"#9c179e\"],[0.4444444444444444,\"#bd3786\"],[0.5555555555555556,\"#d8576b\"],[0.6666666666666666,\"#ed7953\"],[0.7777777777777778,\"#fb9f3a\"],[0.8888888888888888,\"#fdca26\"],[1.0,\"#f0f921\"]],\"type\":\"heatmapgl\"}],\"histogram\":[{\"marker\":{\"pattern\":{\"fillmode\":\"overlay\",\"size\":10,\"solidity\":0.2}},\"type\":\"histogram\"}],\"histogram2d\":[{\"colorbar\":{\"outlinewidth\":0,\"ticks\":\"\"},\"colorscale\":[[0.0,\"#0d0887\"],[0.1111111111111111,\"#46039f\"],[0.2222222222222222,\"#7201a8\"],[0.3333333333333333,\"#9c179e\"],[0.4444444444444444,\"#bd3786\"],[0.5555555555555556,\"#d8576b\"],[0.6666666666666666,\"#ed7953\"],[0.7777777777777778,\"#fb9f3a\"],[0.8888888888888888,\"#fdca26\"],[1.0,\"#f0f921\"]],\"type\":\"histogram2d\"}],\"histogram2dcontour\":[{\"colorbar\":{\"outlinewidth\":0,\"ticks\":\"\"},\"colorscale\":[[0.0,\"#0d0887\"],[0.1111111111111111,\"#46039f\"],[0.2222222222222222,\"#7201a8\"],[0.3333333333333333,\"#9c179e\"],[0.4444444444444444,\"#bd3786\"],[0.5555555555555556,\"#d8576b\"],[0.6666666666666666,\"#ed7953\"],[0.7777777777777778,\"#fb9f3a\"],[0.8888888888888888,\"#fdca26\"],[1.0,\"#f0f921\"]],\"type\":\"histogram2dcontour\"}],\"mesh3d\":[{\"colorbar\":{\"outlinewidth\":0,\"ticks\":\"\"},\"type\":\"mesh3d\"}],\"parcoords\":[{\"line\":{\"colorbar\":{\"outlinewidth\":0,\"ticks\":\"\"}},\"type\":\"parcoords\"}],\"pie\":[{\"automargin\":true,\"type\":\"pie\"}],\"scatter\":[{\"marker\":{\"colorbar\":{\"outlinewidth\":0,\"ticks\":\"\"}},\"type\":\"scatter\"}],\"scatter3d\":[{\"line\":{\"colorbar\":{\"outlinewidth\":0,\"ticks\":\"\"}},\"marker\":{\"colorbar\":{\"outlinewidth\":0,\"ticks\":\"\"}},\"type\":\"scatter3d\"}],\"scattercarpet\":[{\"marker\":{\"colorbar\":{\"outlinewidth\":0,\"ticks\":\"\"}},\"type\":\"scattercarpet\"}],\"scattergeo\":[{\"marker\":{\"colorbar\":{\"outlinewidth\":0,\"ticks\":\"\"}},\"type\":\"scattergeo\"}],\"scattergl\":[{\"marker\":{\"colorbar\":{\"outlinewidth\":0,\"ticks\":\"\"}},\"type\":\"scattergl\"}],\"scattermapbox\":[{\"marker\":{\"colorbar\":{\"outlinewidth\":0,\"ticks\":\"\"}},\"type\":\"scattermapbox\"}],\"scatterpolar\":[{\"marker\":{\"colorbar\":{\"outlinewidth\":0,\"ticks\":\"\"}},\"type\":\"scatterpolar\"}],\"scatterpolargl\":[{\"marker\":{\"colorbar\":{\"outlinewidth\":0,\"ticks\":\"\"}},\"type\":\"scatterpolargl\"}],\"scatterternary\":[{\"marker\":{\"colorbar\":{\"outlinewidth\":0,\"ticks\":\"\"}},\"type\":\"scatterternary\"}],\"surface\":[{\"colorbar\":{\"outlinewidth\":0,\"ticks\":\"\"},\"colorscale\":[[0.0,\"#0d0887\"],[0.1111111111111111,\"#46039f\"],[0.2222222222222222,\"#7201a8\"],[0.3333333333333333,\"#9c179e\"],[0.4444444444444444,\"#bd3786\"],[0.5555555555555556,\"#d8576b\"],[0.6666666666666666,\"#ed7953\"],[0.7777777777777778,\"#fb9f3a\"],[0.8888888888888888,\"#fdca26\"],[1.0,\"#f0f921\"]],\"type\":\"surface\"}],\"table\":[{\"cells\":{\"fill\":{\"color\":\"#EBF0F8\"},\"line\":{\"color\":\"white\"}},\"header\":{\"fill\":{\"color\":\"#C8D4E3\"},\"line\":{\"color\":\"white\"}},\"type\":\"table\"}]},\"layout\":{\"annotationdefaults\":{\"arrowcolor\":\"#2a3f5f\",\"arrowhead\":0,\"arrowwidth\":1},\"autotypenumbers\":\"strict\",\"coloraxis\":{\"colorbar\":{\"outlinewidth\":0,\"ticks\":\"\"}},\"colorscale\":{\"diverging\":[[0,\"#8e0152\"],[0.1,\"#c51b7d\"],[0.2,\"#de77ae\"],[0.3,\"#f1b6da\"],[0.4,\"#fde0ef\"],[0.5,\"#f7f7f7\"],[0.6,\"#e6f5d0\"],[0.7,\"#b8e186\"],[0.8,\"#7fbc41\"],[0.9,\"#4d9221\"],[1,\"#276419\"]],\"sequential\":[[0.0,\"#0d0887\"],[0.1111111111111111,\"#46039f\"],[0.2222222222222222,\"#7201a8\"],[0.3333333333333333,\"#9c179e\"],[0.4444444444444444,\"#bd3786\"],[0.5555555555555556,\"#d8576b\"],[0.6666666666666666,\"#ed7953\"],[0.7777777777777778,\"#fb9f3a\"],[0.8888888888888888,\"#fdca26\"],[1.0,\"#f0f921\"]],\"sequentialminus\":[[0.0,\"#0d0887\"],[0.1111111111111111,\"#46039f\"],[0.2222222222222222,\"#7201a8\"],[0.3333333333333333,\"#9c179e\"],[0.4444444444444444,\"#bd3786\"],[0.5555555555555556,\"#d8576b\"],[0.6666666666666666,\"#ed7953\"],[0.7777777777777778,\"#fb9f3a\"],[0.8888888888888888,\"#fdca26\"],[1.0,\"#f0f921\"]]},\"colorway\":[\"#636efa\",\"#EF553B\",\"#00cc96\",\"#ab63fa\",\"#FFA15A\",\"#19d3f3\",\"#FF6692\",\"#B6E880\",\"#FF97FF\",\"#FECB52\"],\"font\":{\"color\":\"#2a3f5f\"},\"geo\":{\"bgcolor\":\"white\",\"lakecolor\":\"white\",\"landcolor\":\"#E5ECF6\",\"showlakes\":true,\"showland\":true,\"subunitcolor\":\"white\"},\"hoverlabel\":{\"align\":\"left\"},\"hovermode\":\"closest\",\"mapbox\":{\"style\":\"light\"},\"paper_bgcolor\":\"white\",\"plot_bgcolor\":\"#E5ECF6\",\"polar\":{\"angularaxis\":{\"gridcolor\":\"white\",\"linecolor\":\"white\",\"ticks\":\"\"},\"bgcolor\":\"#E5ECF6\",\"radialaxis\":{\"gridcolor\":\"white\",\"linecolor\":\"white\",\"ticks\":\"\"}},\"scene\":{\"xaxis\":{\"backgroundcolor\":\"#E5ECF6\",\"gridcolor\":\"white\",\"gridwidth\":2,\"linecolor\":\"white\",\"showbackground\":true,\"ticks\":\"\",\"zerolinecolor\":\"white\"},\"yaxis\":{\"backgroundcolor\":\"#E5ECF6\",\"gridcolor\":\"white\",\"gridwidth\":2,\"linecolor\":\"white\",\"showbackground\":true,\"ticks\":\"\",\"zerolinecolor\":\"white\"},\"zaxis\":{\"backgroundcolor\":\"#E5ECF6\",\"gridcolor\":\"white\",\"gridwidth\":2,\"linecolor\":\"white\",\"showbackground\":true,\"ticks\":\"\",\"zerolinecolor\":\"white\"}},\"shapedefaults\":{\"line\":{\"color\":\"#2a3f5f\"}},\"ternary\":{\"aaxis\":{\"gridcolor\":\"white\",\"linecolor\":\"white\",\"ticks\":\"\"},\"baxis\":{\"gridcolor\":\"white\",\"linecolor\":\"white\",\"ticks\":\"\"},\"bgcolor\":\"#E5ECF6\",\"caxis\":{\"gridcolor\":\"white\",\"linecolor\":\"white\",\"ticks\":\"\"}},\"title\":{\"x\":0.05},\"xaxis\":{\"automargin\":true,\"gridcolor\":\"white\",\"linecolor\":\"white\",\"ticks\":\"\",\"title\":{\"standoff\":15},\"zerolinecolor\":\"white\",\"zerolinewidth\":2},\"yaxis\":{\"automargin\":true,\"gridcolor\":\"white\",\"linecolor\":\"white\",\"ticks\":\"\",\"title\":{\"standoff\":15},\"zerolinecolor\":\"white\",\"zerolinewidth\":2}}},\"xaxis\":{\"anchor\":\"y\",\"domain\":[0.0,1.0],\"title\":{\"text\":\"x\"}},\"yaxis\":{\"anchor\":\"x\",\"domain\":[0.0,1.0],\"title\":{\"text\":\"y\"}}},                        {\"responsive\": true}                    ).then(function(){\n",
       "                            \n",
       "var gd = document.getElementById('038c5d72-72a6-4991-9378-be2c6b86d50d');\n",
       "var x = new MutationObserver(function (mutations, observer) {{\n",
       "        var display = window.getComputedStyle(gd).display;\n",
       "        if (!display || display === 'none') {{\n",
       "            console.log([gd, 'removed!']);\n",
       "            Plotly.purge(gd);\n",
       "            observer.disconnect();\n",
       "        }}\n",
       "}});\n",
       "\n",
       "// Listen for the removal of the full notebook cells\n",
       "var notebookContainer = gd.closest('#notebook-container');\n",
       "if (notebookContainer) {{\n",
       "    x.observe(notebookContainer, {childList: true});\n",
       "}}\n",
       "\n",
       "// Listen for the clearing of the current output cell\n",
       "var outputEl = gd.closest('.output');\n",
       "if (outputEl) {{\n",
       "    x.observe(outputEl, {childList: true});\n",
       "}}\n",
       "\n",
       "                        })                };                });            </script>        </div>"
      ]
     },
     "metadata": {},
     "output_type": "display_data"
    }
   ],
   "source": [
    "fig = px.bar(x=df.groupby(\"industry cluster\").count().reset_index()[\"industry cluster\"], y=df.groupby(\"industry cluster\").count()[\"timestamp\"])\n",
    "fig.show()"
   ]
  },
  {
   "cell_type": "code",
   "execution_count": 165,
   "id": "ed78c3db",
   "metadata": {
    "ExecuteTime": {
     "end_time": "2022-04-18T00:06:07.194238Z",
     "start_time": "2022-04-18T00:06:06.891521Z"
    }
   },
   "outputs": [],
   "source": [
    "df.to_csv(\"survey.csv\")"
   ]
  },
  {
   "cell_type": "code",
   "execution_count": null,
   "id": "9c57f337",
   "metadata": {},
   "outputs": [],
   "source": []
  }
 ],
 "metadata": {
  "hide_input": false,
  "kernelspec": {
   "display_name": "Python 3 (ipykernel)",
   "language": "python",
   "name": "python3"
  },
  "language_info": {
   "codemirror_mode": {
    "name": "ipython",
    "version": 3
   },
   "file_extension": ".py",
   "mimetype": "text/x-python",
   "name": "python",
   "nbconvert_exporter": "python",
   "pygments_lexer": "ipython3",
   "version": "3.9.8"
  },
  "latex_envs": {
   "LaTeX_envs_menu_present": true,
   "autoclose": false,
   "autocomplete": true,
   "bibliofile": "biblio.bib",
   "cite_by": "apalike",
   "current_citInitial": 1,
   "eqLabelWithNumbers": true,
   "eqNumInitial": 1,
   "hotkeys": {
    "equation": "Ctrl-E",
    "itemize": "Ctrl-I"
   },
   "labels_anchors": false,
   "latex_user_defs": false,
   "report_style_numbering": false,
   "user_envs_cfg": false
  },
  "toc": {
   "base_numbering": 1,
   "nav_menu": {},
   "number_sections": true,
   "sideBar": true,
   "skip_h1_title": false,
   "title_cell": "Table of Contents",
   "title_sidebar": "Contents",
   "toc_cell": false,
   "toc_position": {},
   "toc_section_display": true,
   "toc_window_display": false
  },
  "varInspector": {
   "cols": {
    "lenName": 16,
    "lenType": 16,
    "lenVar": 40
   },
   "kernels_config": {
    "python": {
     "delete_cmd_postfix": "",
     "delete_cmd_prefix": "del ",
     "library": "var_list.py",
     "varRefreshCmd": "print(var_dic_list())"
    },
    "r": {
     "delete_cmd_postfix": ") ",
     "delete_cmd_prefix": "rm(",
     "library": "var_list.r",
     "varRefreshCmd": "cat(var_dic_list()) "
    }
   },
   "types_to_exclude": [
    "module",
    "function",
    "builtin_function_or_method",
    "instance",
    "_Feature"
   ],
   "window_display": false
  }
 },
 "nbformat": 4,
 "nbformat_minor": 5
}
